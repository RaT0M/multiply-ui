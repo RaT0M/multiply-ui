{
 "cells": [
  {
   "cell_type": "markdown",
   "metadata": {},
   "source": [
    "# multiply-uimock\n",
    "\n",
    "A GUI mock for the [Multiply](https://github.com/multiply-org) project based on\n",
    "[Jupyter Widgets](https://ipywidgets.readthedocs.io) and [Bokeh](https://bokeh.pydata.org).\n",
    "\n",
    "**Note**, you'll have to start the server first:\n",
    "        \n",
    "```\n",
    "$ source activate muimock\n",
    "$ python muimock/server.py\n",
    "```\n"
   ]
  },
  {
   "cell_type": "markdown",
   "metadata": {},
   "source": [
    "Import the Multiply user interface components, called *mui* from now on"
   ]
  },
  {
   "cell_type": "code",
   "execution_count": 1,
   "metadata": {},
   "outputs": [],
   "source": [
    "from muimock import ui as mui"
   ]
  },
  {
   "cell_type": "markdown",
   "metadata": {},
   "source": [
    "A data UI may be used to search for data and to collect *file sets* to be processed."
   ]
  },
  {
   "cell_type": "code",
   "execution_count": 2,
   "metadata": {},
   "outputs": [
    {
     "data": {
      "application/vnd.jupyter.widget-view+json": {
       "model_id": "5f010e4a579c4bd8b62a85052fc21f92",
       "version_major": 2,
       "version_minor": 0
      },
      "text/plain": [
       "Box(children=(Box(children=(Label(value='Dataset name'), Text(value='')), layout=Layout(display='flex', flex_f…"
      ]
     },
     "metadata": {},
     "output_type": "display_data"
    }
   ],
   "source": [
    "mui.data_ui()"
   ]
  },
  {
   "cell_type": "markdown",
   "metadata": {},
   "source": [
    "Bring up the job execution UI that is used to submit processing jobs. In the example below, `duration` is just an example for a processing parameter. Instead, we would pass workflow-specific parameters here plus the list of input files to be processed."
   ]
  },
  {
   "cell_type": "code",
   "execution_count": 3,
   "metadata": {},
   "outputs": [
    {
     "data": {
      "application/vnd.jupyter.widget-view+json": {
       "model_id": "925d7dba63134f1fa928794841dc4dd2",
       "version_major": 2,
       "version_minor": 0
      },
      "text/plain": [
       "interactive(children=(IntSlider(value=60, description='duration', max=1000, min=10, step=10), Button(descripti…"
      ]
     },
     "metadata": {},
     "output_type": "display_data"
    }
   ],
   "source": [
    "mui.exec_ui()"
   ]
  },
  {
   "cell_type": "markdown",
   "metadata": {},
   "source": [
    "Now show all submitted jobs:"
   ]
  },
  {
   "cell_type": "code",
   "execution_count": 4,
   "metadata": {},
   "outputs": [
    {
     "data": {
      "text/html": [
       "<table>  <tr><th>Job ID</th><th>Duration</th><th>Progress</th><th>Status</th></tr>  <tr><td>0</td><td>60</td><td><div style=\"width:200px;height:1em;background-color:Aquamarine;\"></div></td><td>success</td></tr><tr><td>1</td><td>60</td><td><div style=\"width:200px;height:1em;background-color:Aquamarine;\"></div></td><td>success</td></tr><tr><td>2</td><td>60</td><td><div style=\"width:200px;height:1em;background-color:Aquamarine;\"></div></td><td>success</td></tr><tr><td>3</td><td>60</td><td><div style=\"width:200px;height:1em;background-color:Aquamarine;\"></div></td><td>success</td></tr><tr><td>4</td><td>60</td><td><div style=\"width:200px;height:1em;background-color:Aquamarine;\"></div></td><td>success</td></tr><tr><td>5</td><td>60</td><td><div style=\"width:200px;height:1em;background-color:Aquamarine;\"></div></td><td>success</td></tr><tr><td>6</td><td>60</td><td><div style=\"width:200px;height:1em;background-color:Aquamarine;\"></div></td><td>success</td></tr><tr><td>7</td><td>60</td><td><div style=\"width:200px;height:1em;background-color:Aquamarine;\"></div></td><td>success</td></tr></table>"
      ],
      "text/plain": [
       "<muimock.ui.exec.JobStatusList at 0x1fe89bd4748>"
      ]
     },
     "execution_count": 4,
     "metadata": {},
     "output_type": "execute_result"
    }
   ],
   "source": [
    "mui.Job.get_all()"
   ]
  },
  {
   "cell_type": "markdown",
   "metadata": {},
   "source": [
    "Pick a certain job and interact with it:"
   ]
  },
  {
   "cell_type": "code",
   "execution_count": 5,
   "metadata": {},
   "outputs": [
    {
     "data": {
      "text/html": [
       "<h4>Job #2</h4>"
      ],
      "text/plain": [
       "<muimock.ui.exec.Job at 0x1fe89ab17b8>"
      ]
     },
     "execution_count": 5,
     "metadata": {},
     "output_type": "execute_result"
    }
   ],
   "source": [
    "job = mui.Job(2)\n",
    "job"
   ]
  },
  {
   "cell_type": "code",
   "execution_count": 6,
   "metadata": {},
   "outputs": [
    {
     "data": {
      "text/html": [
       "<table>  <tr><th>Job ID</th><th>Duration</th><th>Progress</th><th>Status</th></tr>  <tr><td>2</td><td>60</td><td><div style=\"width:200px;height:1em;background-color:Aquamarine;\"></div></td><td>success</td></tr></table>"
      ],
      "text/plain": [
       "<muimock.ui.exec.JobStatus at 0x1fe89c32160>"
      ]
     },
     "execution_count": 6,
     "metadata": {},
     "output_type": "execute_result"
    }
   ],
   "source": [
    "job.status"
   ]
  },
  {
   "cell_type": "code",
   "execution_count": 7,
   "metadata": {},
   "outputs": [
    {
     "data": {
      "text/html": [
       "<table>  <tr><th>Job ID</th><th>Duration</th><th>Progress</th><th>Status</th></tr>  <tr><td>2</td><td>60</td><td><div style=\"width:200px;height:1em;background-color:Aquamarine;\"></div></td><td>cancelled</td></tr></table>"
      ],
      "text/plain": [
       "<muimock.ui.exec.JobStatus at 0x1fe89c32048>"
      ]
     },
     "execution_count": 7,
     "metadata": {},
     "output_type": "execute_result"
    }
   ],
   "source": [
    "job.cancel()"
   ]
  },
  {
   "cell_type": "code",
   "execution_count": 8,
   "metadata": {},
   "outputs": [
    {
     "data": {
      "text/html": [
       "<table>  <tr><th>Job ID</th><th>Duration</th><th>Progress</th><th>Status</th></tr>  <tr><td>2</td><td>60</td><td><div style=\"width:200px;height:1em;background-color:Aquamarine;\"></div></td><td>cancelled</td></tr></table>"
      ],
      "text/plain": [
       "<muimock.ui.exec.JobStatus at 0x1fe89c324a8>"
      ]
     },
     "execution_count": 8,
     "metadata": {},
     "output_type": "execute_result"
    }
   ],
   "source": [
    "mui.Job(2).status"
   ]
  },
  {
   "cell_type": "markdown",
   "metadata": {},
   "source": [
    "Let's pick another job and look at it's results (if processing has finished):"
   ]
  },
  {
   "cell_type": "code",
   "execution_count": null,
   "metadata": {},
   "outputs": [],
   "source": [
    "job = mui.Job(0)\n",
    "job_results = job.results\n",
    "job_results"
   ]
  },
  {
   "cell_type": "markdown",
   "metadata": {},
   "source": [
    "We might also examine one of these in more detail"
   ]
  },
  {
   "cell_type": "code",
   "execution_count": null,
   "metadata": {},
   "outputs": [],
   "source": [
    "job_results.result('car')"
   ]
  },
  {
   "cell_type": "markdown",
   "metadata": {},
   "source": [
    "# Updating Widgets\n",
    "\n",
    "see https://ipywidgets.readthedocs.io/en/stable/examples/Widget%20Asynchronous.html#Updating-a-widget-in-the-background"
   ]
  },
  {
   "cell_type": "code",
   "execution_count": null,
   "metadata": {},
   "outputs": [],
   "source": [
    "import threading\n",
    "from IPython.display import display\n",
    "import ipywidgets as widgets\n",
    "import time\n",
    "progress = widgets.FloatProgress(value=0.0, min=0.0, max=1.0)\n",
    "\n",
    "def work(progress):\n",
    "    total = 20\n",
    "    mui.Job.execute_job(20)\n",
    "    job = mui.Job(mui.Job.num_jobs() - 1)\n",
    "    while progress.value < 1.0:\n",
    "        time.sleep(0.4)\n",
    "        progress.value = job.progress\n",
    "\n",
    "thread = threading.Thread(target=work, args=(progress,))\n",
    "display(progress)\n",
    "thread.start()"
   ]
  },
  {
   "cell_type": "markdown",
   "metadata": {},
   "source": [
    "This can be extended into an external component that monitors all processes:"
   ]
  },
  {
   "cell_type": "code",
   "execution_count": 10,
   "metadata": {},
   "outputs": [
    {
     "data": {
      "application/vnd.jupyter.widget-view+json": {
       "model_id": "511a18a8559b42848c494a9b4a1b24af",
       "version_major": 2,
       "version_minor": 0
      },
      "text/plain": [
       "VBox(children=(HBox(children=(Label(value='Job ID'), Label(value='Duration'), Label(value='Progress'), Label(v…"
      ]
     },
     "metadata": {},
     "output_type": "display_data"
    }
   ],
   "source": [
    "mui.job_monitor()"
   ]
  },
  {
   "cell_type": "markdown",
   "metadata": {},
   "source": [
    "# Custom Widgets\n",
    "\n",
    "See https://ipywidgets.readthedocs.io/en/stable/examples/Widget%20Custom.html"
   ]
  },
  {
   "cell_type": "code",
   "execution_count": null,
   "metadata": {},
   "outputs": [],
   "source": [
    "import ipywidgets as widgets\n",
    "from traitlets import Unicode, validate\n",
    "\n",
    "class HelloWidget(widgets.DOMWidget):\n",
    "    _view_name = Unicode('HelloView').tag(sync=True)\n",
    "    _view_module = Unicode('hello').tag(sync=True)\n",
    "    _view_module_version = Unicode('0.1.0').tag(sync=True)"
   ]
  },
  {
   "cell_type": "code",
   "execution_count": null,
   "metadata": {},
   "outputs": [],
   "source": [
    "%%javascript\n",
    "require.undef('hello');\n",
    "\n",
    "define('hello', [\"@jupyter-widgets/base\"], function(widgets) {\n",
    "\n",
    "    var HelloView = widgets.DOMWidgetView.extend({\n",
    "\n",
    "        // Render the view.\n",
    "        render: function() {\n",
    "            this.el.textContent = 'Hello World!';\n",
    "        },\n",
    "    });\n",
    "\n",
    "    return {\n",
    "        HelloView: HelloView\n",
    "    };\n",
    "});"
   ]
  },
  {
   "cell_type": "code",
   "execution_count": null,
   "metadata": {},
   "outputs": [],
   "source": []
  },
  {
   "cell_type": "code",
   "execution_count": null,
   "metadata": {},
   "outputs": [],
   "source": []
  },
  {
   "cell_type": "code",
   "execution_count": null,
   "metadata": {},
   "outputs": [],
   "source": []
  }
 ],
 "metadata": {
  "kernelspec": {
   "display_name": "Python 3",
   "language": "python",
   "name": "python3"
  },
  "language_info": {
   "codemirror_mode": {
    "name": "ipython",
    "version": 3
   },
   "file_extension": ".py",
   "mimetype": "text/x-python",
   "name": "python",
   "nbconvert_exporter": "python",
   "pygments_lexer": "ipython3",
   "version": "3.7.2"
  }
 },
 "nbformat": 4,
 "nbformat_minor": 2
}
