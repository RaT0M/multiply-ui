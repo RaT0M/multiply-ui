{
 "cells": [
  {
   "cell_type": "markdown",
   "metadata": {},
   "source": [
    "# Authentication\n",
    "\n",
    "This notebook helps to set the authentication that is required to run the MULTIPLY platform. There are two types of authentication that need to be set: First, you need to specify your credentials for Earth Data. These are required to retrieve MODIS data. If you don't have an account, you can register here: https://urs.earthdata.nasa.gov/users/new . It is free of charge.\n",
    "Second, you need to specify your Access Key ID and Secret Access Key that you have received when you set up your DIAS account. If you don't have these, contact your DIAS administrator."
   ]
  },
  {
   "cell_type": "code",
   "execution_count": 1,
   "metadata": {},
   "outputs": [
    {
     "data": {
      "application/vnd.jupyter.widget-view+json": {
       "model_id": "1d4f19f7debb40a5b82c8ca22e5dfcda",
       "version_major": 2,
       "version_minor": 0
      },
      "text/plain": [
       "Box(children=(Box(children=(HTML(value='<h2>Earth Data Authentication</h2>'),), layout=Layout(display='flex', …"
      ]
     },
     "metadata": {},
     "output_type": "display_data"
    }
   ],
   "source": [
    "from multiply_ui.ui import mui\n",
    "mui.set_auth()"
   ]
  }
 ],
 "metadata": {
  "kernelspec": {
   "display_name": "Python 3",
   "language": "python",
   "name": "python3"
  },
  "language_info": {
   "codemirror_mode": {
    "name": "ipython",
    "version": 3
   },
   "file_extension": ".py",
   "mimetype": "text/x-python",
   "name": "python",
   "nbconvert_exporter": "python",
   "pygments_lexer": "ipython3",
   "version": "3.6.7"
  }
 },
 "nbformat": 4,
 "nbformat_minor": 2
}
