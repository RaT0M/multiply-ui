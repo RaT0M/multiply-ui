{
 "cells": [
  {
   "cell_type": "markdown",
   "metadata": {},
   "source": [
    "# Information\n",
    "\n",
    "This notebook shows the capabilities of the MULTIPLY platform."
   ]
  },
  {
   "cell_type": "code",
   "execution_count": 1,
   "metadata": {},
   "outputs": [],
   "source": [
    "from multiply_ui.ui import mui"
   ]
  },
  {
   "cell_type": "code",
   "execution_count": 2,
   "metadata": {},
   "outputs": [
    {
     "data": {
      "text/html": [
       "<div><h4>Variables</h4><table><tr><th>Id</th><th>Name</th><th>Units</th><th>Description</th></tr><tr><td>lai</td><td>Effective Leaf Area Index</td><td>m2/m2</td><td>Effective Leaf Area Index</td></tr><tr><td>cab</td><td>Leaf Chlorophyll Content</td><td>ug/cm2</td><td>Leaf Chlorophyll Content</td></tr><tr><td>cb</td><td>Leaf Senescent material</td><td></td><td>Leaf Senescent material</td></tr><tr><td>car</td><td>Leaf Carotonoid Content</td><td>ug/cm2</td><td>Leaf Carotonoid Content</td></tr><tr><td>cw</td><td>Leaf Water Content</td><td>cm</td><td>Leaf Water Content</td></tr><tr><td>cdm</td><td>Leaf Dry Mass</td><td>g/cm2</td><td>Leaf Dry Mass</td></tr><tr><td>n</td><td>Structural Parameter</td><td></td><td>Structural Parameter</td></tr><tr><td>ala</td><td>Average Leaf Angle</td><td>degrees</td><td>Average Leaf Angle</td></tr><tr><td>bsoil</td><td>Soil Brightness parameter</td><td></td><td>Soil Brightness parameter</td></tr><tr><td>psoil</td><td>Soil Wetness parameter</td><td></td><td>Soil Wetness parameter</td></tr><tr><td>sm</td><td>Soil Moisture</td><td></td><td>Soil Moisture</td></tr><tr><td>sr</td><td>Soil Roughness</td><td></td><td>Soil Roughness</td></tr></table></div>"
      ],
      "text/plain": [
       "<multiply_ui.ui.params.model.Variables at 0x7f2da738d198>"
      ]
     },
     "execution_count": 2,
     "metadata": {},
     "output_type": "execute_result"
    }
   ],
   "source": [
    "mui.vars"
   ]
  },
  {
   "cell_type": "code",
   "execution_count": 3,
   "metadata": {},
   "outputs": [
    {
     "data": {
      "text/html": [
       "<div><h4>Forward Models</h4><table><tr><th>Id</th><th>Name</th><th>Description</th><th>Author(s)</th><th></th></tr><tr><td>s2_prosail</td><td>PROSAIL for Sentinel-2</td><td>Coupling of PROSPECT leaf optical properties model and SAIL canopy bidirectional reflectance model. It links the spectral variation of canopy reflectance, which is mainly related to leaf biochemical contents, with its directional variation, which is primarily related to canopy architecture and soil/vegetation contrast.</td><td></td><td><a href=\"\">More...</a></td></tr><tr><td>s1_kaska</td><td>Water Cloud Model for Sentinel-1</td><td>Water Cloud model to retrieve soil moisture with priors from optical satellite data to enhance retrieval results</td><td></td><td><a href=\"\">More...</a></td></tr><tr><td>s2_prosail_kaska</td><td>PROSAIL for Sentinel-2 (Kaska)</td><td>The PROSPECT+SAIL models for continuous vegetation canopies</td><td>Verhoef & Jacquemoud</td><td><a href=\"https://github.com/jgomezdans/prosail\">More...</a></td></tr></table></div>"
      ],
      "text/plain": [
       "<multiply_ui.ui.params.model.ForwardModels at 0x7f2da760ddd8>"
      ]
     },
     "execution_count": 3,
     "metadata": {},
     "output_type": "execute_result"
    }
   ],
   "source": [
    "mui.models"
   ]
  },
  {
   "cell_type": "code",
   "execution_count": 4,
   "metadata": {},
   "outputs": [
    {
     "data": {
      "text/html": [
       "<div><h4>Input Types</h4><table><tr><th>Id</th><th>Name</th><th>Time Range</th></tr><tr><td>Sentinel-1</td><td>Sentinel-1 Single Look Complex (SLC)</td><td>('04-03-2014', '')</td></tr><tr><td>Sentinel-2</td><td>Sentinel-2 MSI L1C</td><td>('06-23-2015', '')</td></tr></table></div>"
      ],
      "text/plain": [
       "<multiply_ui.ui.params.model.InputTypes at 0x7f2da760dd30>"
      ]
     },
     "execution_count": 4,
     "metadata": {},
     "output_type": "execute_result"
    }
   ],
   "source": [
    "mui.itypes"
   ]
  },
  {
   "cell_type": "code",
   "execution_count": 5,
   "metadata": {},
   "outputs": [
    {
     "data": {
      "text/html": [
       "<div><h4>Post Processors</h4><table><tr><th>Name</th><th>Description</th></tr><tr><td>BurnedSeverity</td><td>This post processor creates a burned area mask and as a second step it determines its severity using RBR.</td></tr><tr><td>FunctionalDiversityMetrics</td><td>This post Processor calculates Functional Diversity from multiple plant trait variables. Functional Diversity metrics are calculated over plots of adjecent pixels considering the N-dimensional combination of traits found in these pixels.</td></tr></table></div>"
      ],
      "text/plain": [
       "<multiply_ui.ui.params.model.PostProcessors at 0x7f89d49c0f60>"
      ]
     },
     "execution_count": 5,
     "metadata": {},
     "output_type": "execute_result"
    }
   ],
   "source": [
    "mui.post_processors"
   ]
  },
  {
   "cell_type": "code",
   "execution_count": 6,
   "metadata": {},
   "outputs": [
    {
     "data": {
      "text/html": [
       "<div><h4>Post Processor Indicators</h4><table><tr><th>Id</th><th>Name</th><th>Units</th><th>Description</th></tr><tr><td>GeoCBI</td><td>Geometrically Structured Composite Burned Index</td><td></td><td>It is a measure of burned severity fire in terms of the level of damage of vegetation and substrate after a wildfire is fully extinguished. GeoCBI is a modified version of CBI that takes into account the fraction of cover of the different vegetation strata used to compute the CBI.</td></tr><tr><td>cvh</td><td>Convex Hull Estimation</td><td></td><td>Volume of functional Space occupied by the Community</td></tr><tr><td>mnnd</td><td>Mean Nearest Neighbor Distance</td><td></td><td>Spread of Trait Distribution, Niche Space Differentiation </td></tr><tr><td>fe</td><td>Functional Evenness</td><td></td><td>Branch length variation of Minimum Spanning Tree of Trait Distance Matrix: Regularity of community across traits space, Resource space optimization</td></tr><tr><td>fdiv</td><td>Functional Divergence</td><td></td><td>Centroid-based Distance Measure: Spread of Trait Distribution, Niche Space Differentiation</td></tr></table></div>"
      ],
      "text/plain": [
       "<multiply_ui.ui.params.model.Variables at 0x7f89d473f160>"
      ]
     },
     "execution_count": 6,
     "metadata": {},
     "output_type": "execute_result"
    }
   ],
   "source": [
    "mui.indicators"
   ]
  }
 ],
 "metadata": {
  "kernelspec": {
   "display_name": "Python 3",
   "language": "python",
   "name": "python3"
  },
  "language_info": {
   "codemirror_mode": {
    "name": "ipython",
    "version": 3
   },
   "file_extension": ".py",
   "mimetype": "text/x-python",
   "name": "python",
   "nbconvert_exporter": "python",
   "pygments_lexer": "ipython3",
   "version": "3.6.7"
  }
 },
 "nbformat": 4,
 "nbformat_minor": 2
}
