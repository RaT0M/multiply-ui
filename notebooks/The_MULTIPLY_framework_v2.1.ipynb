{
 "cells": [
  {
   "cell_type": "markdown",
   "metadata": {},
   "source": [
    "# 1\tIntroduction\n",
    "The MULTIPLY framework is a new toolkit to extract information from remote sensing data. In contrast to other remote sensing software packages, MULTIPLY is designed to consistently use heterogeneous satellite data (coarse vs high, optical vs microwave). Instead of multiple independent process-chains for each individual satellite, MULTIPLY is a single all-in-coupling framework in order to:\n",
    "*\tCreate consistencies between different land surface products (reducing errors in downstream-processing)\n",
    "*\tUtilize the benefits of multiple satellites (including Sentinel-1, Sentinel-2, MODIS, Landsat), such as \n",
    "    * Higher temporal coverage\n",
    "    * Spectral Sensitivity to more land surface variables\n",
    "*\tQuantify errors of output products, depending on input uncertainties.\n",
    "*\tEnable operational service for different end-users, including: \n",
    "    * Remote sensing consultants\n",
    "    *\tRemote sensing experts\n",
    "In order to achieve these goals MULTIPLY uses a data-assimilation framework developed for the ESA (Gómez-Dans et al. 2016; Lewis et al. 2012). In this framework the state-vector (describing the land surface parameters of interest) are coupled to the observations using radiative transfer models. In addition priori-information (obtained from field-measurements databases) are used to constrain the final results. \n"
   ]
  },
  {
   "cell_type": "markdown",
   "metadata": {},
   "source": [
    "# 2\tMULTIPLY Concepts\n",
    "## 2.1\tRadiative transfer models\n",
    "In it’s most basic description, a radiative transfer model is a model  capable of (using a specific state-vector) as an input simulateing the different interactions of radiation (light) from source (sun/clouds/..) to sensor (satellite ), using a specific state-vector as an input.  Within the model the most important absorption/transmission and reflection processes by different objects (soil/leaf/atmosphere) is characterized. In this regard there exist many radiative transfer models exist, depending on the level and detail of which important processes are taken into account. In practice, highly complex radiative radiative transfer models usually have a high number of input parameters (to describe in detail the 3D structure of the land surface and the full land surface heterogeneity), while less complex models employ specific hypotheses (such as land surface homogeneity) to require less input parameters. \n",
    "\n",
    "<img src=\"pics/BasicDescriptionRTM2.png\">\n",
    "Figure 1: Basic description of Radiative Transfer model"
   ]
  },
  {
   "cell_type": "markdown",
   "metadata": {},
   "source": [
    "While this produces a large variety in radiative transfer models, all of these models have at least one common aspect: they can only be run in ‘forward mode’. This is because completely different scenarios can produce similar remote sensing observations. For example, when a land surface has a very low fractional vegetation cover (~0), different chlorophyll levels will produce similar remote sensing observations."
   ]
  },
  {
   "cell_type": "markdown",
   "metadata": {},
   "source": [
    "## 2.2\tData assimilation\n",
    "The most common way to circumvent the shortcoming of radiative transfer models is to ‘guess’ the initial state-vector, run the radiative transfer model using this initial assumption, and compare the output observation against the remote sensing measurement, producing an error. By guessing multiple times,  (for instance by constructing a Look-up-Table (LUT), multiple error-values can be calculated. The lowest error-value than represents our best understanding of the land surface (as long as our initial assumption was close enough to the real land surface description). \n",
    "\n",
    "<img src=\"pics/CreatingLUTs.png\">\n",
    "Figure 2: Creating LUT tables\n",
    "\n",
    "Such an LUT approach has the large disadvantage that it only finds values that were used in the initial guessing; for example if for the Leaf Area Index (LAI) only values [0, 1, 2,.. ,6] were used, this retrieval method will not find the (actual) value of 1.22 m2/m2. \n",
    "The shortcoming of the LUT approach can be greatly to a large part be circumvented if the initial scenarios can be updated on basis of the errors found,  (together with taking into account the sensitivity of the model to the state vector), as illustrated by in Figure 3. Such an iterative approach is in general ‘optimization’ of the radiative transfer model. \n",
    " \n",
    "<img src=\"pics/BasicOptimization.png\">\n",
    "Figure 3: Basic description of Optimization methodology\n",
    "\n",
    "In this approach, it is possible for the state-vector to ‘slowly’ drift away from our prior-value. In addition, the approach is limited to produce only results for when satellite measurements are being performed. In order to solve these shortcomings additional (prior) information can be used within a data-assimilation framework. This is illustrated by Figure 4.\n",
    "\n",
    "<img src=\"pics/DataAssimilation.png\">\n",
    "Figure 4: Data Assimilation of Radiative Transfer Models"
   ]
  },
  {
   "cell_type": "markdown",
   "metadata": {},
   "source": [
    "## 2.3\tPrior Information\n",
    "In such an data-assimilation approach, an additional error (Error value 2) different from the observational error (Error 1) is defined, describing the deviation of the state-vector from our initial assumption. Here the observational error is defined in units of the observation (e.q. reflectances [-] or radiances [W sr^(-1) m^(-2) nm^(-1)]), while the prior-error is defined in units of the state vector (LAI  [m^2  m^(-2)], Leaf Angle Distribition [deg], …). In order to reconcile these two into one cost function the errors are normalized. For the observational error this is performed by considering the observational errors, while for the prior information this is accomplished by considering the prior uncertainty (for example the standard deviation of long-term measurements of the respective land surface parameter). This leads then to one single cost-function defined as:\n",
    "\n",
    "J_tot=(Error_1)/σ_1 +  (Error_2)/σ_2 =J_obs+J_prior\n",
    "\n",
    "This also immediately provides us with a method on synergistically combining different types of observations, as the observational error can simply be expanded to include multiple observations\n",
    "\n",
    "J_obs=J_obs^1+ J_obs^2+ J_obs^3+⋯\n",
    "\n",
    "In short, each of the error-terms corresponds to different pieces of information added to the system. In this case, even more additional information can also be introduced to the system, be considering the temporal evolution and spatial variation of specific land surface parameters. \n"
   ]
  },
  {
   "cell_type": "markdown",
   "metadata": {},
   "source": [
    "# 3\tThe prototype version overview \n",
    "We hereby provide you with a working prototype  version. This prototype  version is a stripped down version of the actual framework focusing primarily on the optical retrieval using both coarse (MODIS) and high resolution (Sentinel-2) observations. An overview of the full framework is provided in Figure 6. Here the specific modules that were not mature to be incorporated in this release, are the SAR preprocessing, SAR integration, Post processing (for biodiversity and fire disturbance monitoring), as well as the visualization component (highlighted by red circles )\n",
    "\n",
    "<img src=\"pics/MultiplyModules.png\">\n",
    "Figure 5: Overview of MULTIPLY framework. Modules highlighted by a red circle are not included in the prototype version"
   ]
  },
  {
   "cell_type": "markdown",
   "metadata": {},
   "source": [
    "In the version you will be able to download al the required earth observation data (using the data-access component), and afterwards retrieve land surface parameters (using the Inference Engine Module) at  20m resolution using a combination of MODIS coarse resolution data (from the Coarse res Preprocessing module) together with high resolution Sentinel-2 observations (from the high res preprocessing module), together with prior information on the land surface (by the Prior Engine module). In the future it is foreseen that multiple Radiative transfer models can be used, specific to the user requirements, however at the moment the only one available (in the forward operator module) is the emulated version of the PROSAIL radiative transfer mode . This limits the retrieval of land surface parameters to a) leaf-traits (Chlorophyll, Carotonoids, Dry matter, Water Content),  b) Vegetation structural parameters (hotspot parameter, LAI, leaf structure), and c some auxiliary soil parameters (Bsoil/Psoil).\n",
    "\n",
    "<img src=\"pics/MultiplyOutput.png\">\n",
    "Figure 6: Overview of state-vector parameters retrievable on basis of the underlying forward operator (radiative transfer model"
   ]
  },
  {
   "cell_type": "markdown",
   "metadata": {},
   "source": [
    "# 4 Usage\n",
    "All the code for the individual modules are is located at https://github.com/multiply-org/. This can be used to setup the MULTIPLY framework on your own computing infrastructure. At present however no deployment setup (in the form of windows-setup-executables, or anaconda package’s) exist. While this is planned further intolater in the project, the focus at this stage is on testing the individual components themselves. Please let us know if you would prefer to install the software yourself on a dedicated computational framework, so that we can investigate how to facilitate this for you. \n",
    "In order to facilitate the testing of the framework itself, we have setup this Virtual Machine on Google Compute Engine, for testing purposes. \n"
   ]
  },
  {
   "cell_type": "markdown",
   "metadata": {},
   "source": [
    "## 4.0 Load internal packages and auxiliary methods"
   ]
  },
  {
   "cell_type": "code",
   "execution_count": 3,
   "metadata": {},
   "outputs": [],
   "source": [
    "from multiply_data_access import DataAccessComponent\n",
    "import datetime\n",
    "import glob"
   ]
  },
  {
   "cell_type": "markdown",
   "metadata": {},
   "source": [
    "## 4.1 Defining the interfaces to work with the MULTIPLY framework\n",
    "First we need to setup interfaces to work and test with the MULTIPLY framework. In actual operation, these auxiliary interfaces are bundled together within a single python class. However as we would like you to test the different modules individually, we provide direct access to these. For more information on how these interfaces are defined, please check the following link: [MULTIPLY Tools](Tools.py). \n"
   ]
  },
  {
   "cell_type": "code",
   "execution_count": 4,
   "metadata": {},
   "outputs": [
    {
     "name": "stderr",
     "output_type": "stream",
     "text": [
      "INFO:root:The config file can be found at /software/prior-engine/multiply_prior_engine/prior_engine_logging.yml\n"
     ]
    },
    {
     "name": "stdout",
     "output_type": "stream",
     "text": [
      "INFO     prior_logger __init__:  69: ------------- Logger initialized. -------------\n",
      "INFO     prior_logger __init__:  70: The log file can be found at /tmp/MULTIPLYPriorEngine/prior_engine.log\n",
      "INFO     __init__ <module>:  30: The temporary directory is set to /tmp/MULTIPLYPriorEngine\n"
     ]
    }
   ],
   "source": [
    "from vm_support.tools import get_static_data, get_dynamic_data"
   ]
  },
  {
   "cell_type": "code",
   "execution_count": 48,
   "metadata": {},
   "outputs": [],
   "source": [
    "from vm_support.tools import preprocess_s2"
   ]
  },
  {
   "cell_type": "code",
   "execution_count": 49,
   "metadata": {},
   "outputs": [],
   "source": [
    "from vm_support.tools import get_priors, get_priors_from_config_file"
   ]
  },
  {
   "cell_type": "code",
   "execution_count": 7,
   "metadata": {},
   "outputs": [],
   "source": [
    "from vm_support.tools import infer, infer_new"
   ]
  },
  {
   "cell_type": "code",
   "execution_count": 8,
   "metadata": {},
   "outputs": [],
   "source": [
    "from vm_support.tools import create_dir, put_data, InvTransformation"
   ]
  },
  {
   "cell_type": "code",
   "execution_count": 9,
   "metadata": {},
   "outputs": [],
   "source": [
    "from vm_support.tools import Plot_SRDS,Plot_PRIORS, Plot_TRAITS,Plot_TRAIT_evolution, Plot_Transformation"
   ]
  },
  {
   "cell_type": "markdown",
   "metadata": {},
   "source": [
    "# 5 Running MULTIPLY\n",
    "Below the actual code is provided for running the MULTIPLY framework.\n",
    "We start with setting earth data authentication. This is required to download the MODIS brdf descriptors which are required for the atmospheric correction of the Sentinel-2 data. You can get credentials when you register at https://urs.earthdata.nasa.gov/profile . Registration and use is free of cost. If you do not register, you can only use the MODIS data which has been downloaded in previous runs of the notebook by other users.\n",
    "Also you will need to set up the data stores so that the data access component is working correctly and finds the pre-configured data stores. Both steps only need to be performed once."
   ]
  },
  {
   "cell_type": "code",
   "execution_count": 10,
   "metadata": {},
   "outputs": [],
   "source": [
    "# from vm_support import set_earth_data_authentication, set_mundi_authentication\n",
    "# username = '' \n",
    "# password = ''\n",
    "# set_earth_data_authentication(username, password) # to download modis data, needs only be done once\n",
    "# access_key_id = ''\n",
    "# secret_access_key = ''\n",
    "# set_mundi_authentication()"
   ]
  },
  {
   "cell_type": "markdown",
   "metadata": {},
   "source": [
    "## 5.1 Parameters\n",
    "Here you can actually set the parameters for the run. The parameters are as follows:\n",
    "* **roi**: A region of interest, given as a Polygon in WKT format. You can use this tool ( https://arthur-e.github.io/Wicket/sandbox-gmaps3.html ) to easily get definitions of the regions you are interested in in WGS84 coordinates.\n",
    "* **roi_grid**: The EPSG-code of the spatial reference system in which the roi is given. If it is set to 'none', it is assumed that the roi is given in WGS84 coordinates.\n",
    "* **destination_grid**: The EPSG-code of the spatial reference system in which the output shall be given. If it is set to 'none', the platform will attempt to derive it from the roi_grid.\n",
    "* **spatial_resolution**: The resolution the output data is supposed to have, must be a non-negative integer number. The resolution is given in meters and is the same for both dimensions.\n",
    "* **start_time**: The start date of the period you are interested in, must be given in the format 'Year-Month-Day' as below.\n",
    "* **end_time**: The end date of the period you are interested in, must be given in the format 'Year-Month-Day' as below.\n",
    "* **time_step**: The temporal resolution the output is supposed to have. Data will be aggregated over the period denoted by this parameter. Must be a non-negative integer value. The unit is days.\n",
    "* **variables**: The list of the biophysical variables that shall be derived. Please do not change this list, as the underlying forward model requires all of them. The parameters are as follows:\n",
    "  * **n**: Structural parameter\n",
    "  * **cab**: Leaf Chlorophyll Content, given in ug/cm²\n",
    "  * **car**: Leaf Carotonoid Content, given in ug/cm²\n",
    "  * **cb**: Leaf senescent material\n",
    "  * **cw**: Leaf Water Content, given in cm\n",
    "  * **cdm**: Leaf Dry Mass, given in g/cm²\n",
    "  * **lai**: Effective Leaf Area Index, given in m²/m²\n",
    "  * **ala**: Average Leaf Angle, given in degrees\n",
    "  * **bsoil**: Soil Brightness Parameter\n",
    "  * **psoil**: Soil Wetness Parameter\n",
    "* **file_mask**: A file that can be used to explicitly state the region you are interested in. You can also use it to mask out single pixels within this region. If this is not 'none', the aforementioned parameters roi_grid, spatial_resolution, and destination_grid are not used.\n",
    "\n",
    "**HINT**: The platform will perform faster the smaller your roi and the larger the spatial resolution is."
   ]
  },
  {
   "cell_type": "markdown",
   "metadata": {},
   "source": [
    "### 5.1.1 Define region of Interest"
   ]
  },
  {
   "cell_type": "code",
   "execution_count": 11,
   "metadata": {},
   "outputs": [],
   "source": [
    "roi_grid = 'EPSG:4326'\n",
    "roi_centroid = [27.3, 58.3]\n",
    "# roi = 'POLYGON((27.1615456795 58.2252523466, ' + \\\n",
    "#                 '27.1720041127 58.3418423196, ' + \\\n",
    "#                 '27.3885799673 58.3362682904, ' + \\\n",
    "#                 '27.3774098023 58.2196966529, ' + \\\n",
    "#                 '27.1615456795 58.2252523466))'\n",
    "#roi = 'POLYGON((27.1615456795 58.2252523466, 27.1720041127 58.3418423196, 27.3885799673 58.3362682904, 27.3774098023 58.2196966529, 27.1615456795 58.2252523466))'\n",
    "roi = 'POLYGON((27.2725456795 58.2252523466, 27.2720041127 58.3418423196, 27.3885799673 58.3362682904, ' + \\\n",
    "    '27.3774098023 58.2196966529, 27.2725456795 58.2252523466))'\n",
    "\n",
    "destination_grid = 'EPSG:3301'                \n",
    "spatial_resolution = 20 # in m"
   ]
  },
  {
   "cell_type": "code",
   "execution_count": 12,
   "metadata": {},
   "outputs": [
    {
     "data": {
      "text/html": [
       "\n",
       "        <iframe\n",
       "            width=\"800\"\n",
       "            height=\"600\"\n",
       "            src=\"http://maps.google.com/maps?q=58.30000+27.30000&ie=UTF8&t=h&z=18&output=embed&z=10\"\n",
       "            frameborder=\"0\"\n",
       "            allowfullscreen\n",
       "        ></iframe>\n",
       "        "
      ],
      "text/plain": [
       "<IPython.lib.display.IFrame at 0x7fe83d527908>"
      ]
     },
     "execution_count": 12,
     "metadata": {},
     "output_type": "execute_result"
    }
   ],
   "source": [
    "from IPython.display import IFrame\n",
    "\n",
    "google_maps_url = \"http://maps.google.com/maps?q=48.184543+11.213&ie=UTF8&t=h&z=18&output=embed&z=17\"\n",
    "google_maps_url = 'http://maps.google.com/maps?q=%7.5f' % roi_centroid[1] + '+%7.5f' % roi_centroid[0] +'&ie=UTF8&t=h&z=18&output=embed&z=10'\n",
    "IFrame(google_maps_url,800,600)\n",
    "\n"
   ]
  },
  {
   "cell_type": "markdown",
   "metadata": {},
   "source": [
    "\n",
    "### 5.1.2 Define temporal frequency and period"
   ]
  },
  {
   "cell_type": "code",
   "execution_count": 13,
   "metadata": {},
   "outputs": [],
   "source": [
    "# start_time_as_string = '2018-05-8'\n",
    "# stop_time_as_string = '2018-05-9'\n",
    "\n",
    "# start_time_as_string = '2018-07-24'\n",
    "# stop_time_as_string = '2018-07-25'\n",
    "\n",
    "start_time_as_string = '2018-05-10'\n",
    "stop_time_as_string = '2018-05-15'\n",
    "\n",
    "time_step = 1 # in days\n",
    "\n",
    "start_time_as_datetime = datetime.datetime.strptime(start_time_as_string, '%Y-%m-%d')\n",
    "stop_time_as_datetime = datetime.datetime.strptime(stop_time_as_string, '%Y-%m-%d')\n",
    "\n",
    "time_step_as_time_delta = datetime.timedelta(days=time_step)\n",
    "variables = {'n', 'cab', 'car', 'cb', 'cw', 'cdm', 'lai', 'ala', 'bsoil', 'psoil'}\n",
    "\n",
    "# file_mask = \"mask.tif\"\n",
    "file_mask = None"
   ]
  },
  {
   "cell_type": "markdown",
   "metadata": {},
   "source": [
    "### 5.1.3 Setting up the working directory\n",
    "For this notebook, you will operate in your own working directory. All data you use will be copied here, all output will be written here."
   ]
  },
  {
   "cell_type": "code",
   "execution_count": 14,
   "metadata": {},
   "outputs": [],
   "source": [
    "from vm_support import get_working_dir\n",
    "name = 'm1'\n",
    "# use previous (non-empty) working directory\n",
    "# working_dir = '/Data/test_user_##/' + name\n",
    "\n",
    "#clear working directory\n",
    "working_dir = get_working_dir(name)\n",
    "\n"
   ]
  },
  {
   "cell_type": "code",
   "execution_count": 15,
   "metadata": {},
   "outputs": [
    {
     "name": "stdout",
     "output_type": "stream",
     "text": [
      "Working directory is /data/working_dirs/m1\n"
     ]
    }
   ],
   "source": [
    "print('Working directory is {}'.format(working_dir))\n",
    "\n",
    "priors_directory = '{}/priors'.format(working_dir)\n",
    "hres_state_dir = '{}/hresstate'.format(working_dir)\n",
    "modis_directory = '{}/modis'.format(working_dir)\n",
    "state_directory = '{}/state'.format(working_dir)\n",
    "cams_directory = '{}/cams'.format(working_dir)\n",
    "s2_l1c_directory = '{}/s2'.format(working_dir)\n",
    "sdrs_directory = '{}/sdrs'.format(working_dir)\n",
    "biophys_output = '{}/biophys'.format(working_dir)\n",
    "emulators_directory = '{}/emulators'.format(working_dir)\n",
    "dem_directory = '{}/dem'.format(working_dir)"
   ]
  },
  {
   "cell_type": "markdown",
   "metadata": {},
   "source": [
    "## 5.2 Acquire Static Data\n",
    "We differentiate between two types of data here: Dynamic and static, meaning: Data which are valid for a certain period of time and data which is valid permanently. The latter is the elevation data of the Digital Elevation Model and the Emulators required for the Atmospheric Correction. We put them in their designated folders before we start our loop through time."
   ]
  },
  {
   "cell_type": "code",
   "execution_count": 16,
   "metadata": {},
   "outputs": [
    {
     "name": "stdout",
     "output_type": "stream",
     "text": [
      "INFO     data_access_component _read_data_stores: 325: Read data store cams\n",
      "INFO     data_access_component _read_data_stores: 325: Read data store cams_tiff\n",
      "INFO     data_access_component _read_data_stores: 325: Read data store emulators\n",
      "INFO     data_access_component _read_data_stores: 325: Read data store wv_emulator\n",
      "INFO     data_access_component _read_data_stores: 325: Read data store aster_dem\n",
      "INFO     data_access_component _read_data_stores: 325: Read data store modis_mcd43a1\n",
      "INFO     data_access_component _read_data_stores: 325: Read data store S2L2\n",
      "INFO     data_access_component _read_data_stores: 325: Read data store Mundi\n",
      "Retrieving emulators ...\n",
      "DEBUG    connectionpool _new_conn: 208: Starting new HTTP connection (1): www2.geog.ucl.ac.uk\n",
      "DEBUG    connectionpool _make_request: 396: http://www2.geog.ucl.ac.uk:80 \"GET /~ucfafyi/emus/ HTTP/1.1\" 200 7702\n"
     ]
    },
    {
     "name": "stderr",
     "output_type": "stream",
     "text": [
      "INFO:ComponentProgress:0\n",
      "INFO:ComponentProgress:0\n",
      "INFO:ComponentProgress:0\n",
      "INFO:ComponentProgress:0\n",
      "INFO:ComponentProgress:0\n"
     ]
    },
    {
     "name": "stdout",
     "output_type": "stream",
     "text": [
      "INFO     data_access_component get_data_urls: 228: 0\n"
     ]
    },
    {
     "name": "stderr",
     "output_type": "stream",
     "text": [
      "INFO:ComponentProgress:8\n",
      "INFO:ComponentProgress:8\n",
      "INFO:ComponentProgress:8\n",
      "INFO:ComponentProgress:8\n",
      "INFO:ComponentProgress:8\n"
     ]
    },
    {
     "name": "stdout",
     "output_type": "stream",
     "text": [
      "INFO     data_access_component get_data_urls: 228: 8\n"
     ]
    },
    {
     "name": "stderr",
     "output_type": "stream",
     "text": [
      "INFO:ComponentProgress:16\n",
      "INFO:ComponentProgress:16\n",
      "INFO:ComponentProgress:16\n",
      "INFO:ComponentProgress:16\n",
      "INFO:ComponentProgress:16\n"
     ]
    },
    {
     "name": "stdout",
     "output_type": "stream",
     "text": [
      "INFO     data_access_component get_data_urls: 228: 16\n"
     ]
    },
    {
     "name": "stderr",
     "output_type": "stream",
     "text": [
      "INFO:ComponentProgress:25\n",
      "INFO:ComponentProgress:25\n",
      "INFO:ComponentProgress:25\n",
      "INFO:ComponentProgress:25\n",
      "INFO:ComponentProgress:25\n"
     ]
    },
    {
     "name": "stdout",
     "output_type": "stream",
     "text": [
      "INFO     data_access_component get_data_urls: 228: 25\n"
     ]
    },
    {
     "name": "stderr",
     "output_type": "stream",
     "text": [
      "INFO:ComponentProgress:33\n",
      "INFO:ComponentProgress:33\n",
      "INFO:ComponentProgress:33\n",
      "INFO:ComponentProgress:33\n",
      "INFO:ComponentProgress:33\n"
     ]
    },
    {
     "name": "stdout",
     "output_type": "stream",
     "text": [
      "INFO     data_access_component get_data_urls: 228: 33\n"
     ]
    },
    {
     "name": "stderr",
     "output_type": "stream",
     "text": [
      "INFO:ComponentProgress:41\n",
      "INFO:ComponentProgress:41\n",
      "INFO:ComponentProgress:41\n",
      "INFO:ComponentProgress:41\n",
      "INFO:ComponentProgress:41\n"
     ]
    },
    {
     "name": "stdout",
     "output_type": "stream",
     "text": [
      "INFO     data_access_component get_data_urls: 228: 41\n"
     ]
    },
    {
     "name": "stderr",
     "output_type": "stream",
     "text": [
      "INFO:ComponentProgress:50\n",
      "INFO:ComponentProgress:50\n",
      "INFO:ComponentProgress:50\n",
      "INFO:ComponentProgress:50\n",
      "INFO:ComponentProgress:50\n"
     ]
    },
    {
     "name": "stdout",
     "output_type": "stream",
     "text": [
      "INFO     data_access_component get_data_urls: 228: 50\n"
     ]
    },
    {
     "name": "stderr",
     "output_type": "stream",
     "text": [
      "INFO:ComponentProgress:58\n",
      "INFO:ComponentProgress:58\n",
      "INFO:ComponentProgress:58\n",
      "INFO:ComponentProgress:58\n",
      "INFO:ComponentProgress:58\n"
     ]
    },
    {
     "name": "stdout",
     "output_type": "stream",
     "text": [
      "INFO     data_access_component get_data_urls: 228: 58\n"
     ]
    },
    {
     "name": "stderr",
     "output_type": "stream",
     "text": [
      "INFO:ComponentProgress:66\n",
      "INFO:ComponentProgress:66\n",
      "INFO:ComponentProgress:66\n",
      "INFO:ComponentProgress:66\n",
      "INFO:ComponentProgress:66\n"
     ]
    },
    {
     "name": "stdout",
     "output_type": "stream",
     "text": [
      "INFO     data_access_component get_data_urls: 228: 66\n"
     ]
    },
    {
     "name": "stderr",
     "output_type": "stream",
     "text": [
      "INFO:ComponentProgress:75\n",
      "INFO:ComponentProgress:75\n",
      "INFO:ComponentProgress:75\n",
      "INFO:ComponentProgress:75\n",
      "INFO:ComponentProgress:75\n"
     ]
    },
    {
     "name": "stdout",
     "output_type": "stream",
     "text": [
      "INFO     data_access_component get_data_urls: 228: 75\n"
     ]
    },
    {
     "name": "stderr",
     "output_type": "stream",
     "text": [
      "INFO:ComponentProgress:83\n",
      "INFO:ComponentProgress:83\n",
      "INFO:ComponentProgress:83\n",
      "INFO:ComponentProgress:83\n",
      "INFO:ComponentProgress:83\n"
     ]
    },
    {
     "name": "stdout",
     "output_type": "stream",
     "text": [
      "INFO     data_access_component get_data_urls: 228: 83\n"
     ]
    },
    {
     "name": "stderr",
     "output_type": "stream",
     "text": [
      "INFO:ComponentProgress:91\n",
      "INFO:ComponentProgress:91\n",
      "INFO:ComponentProgress:91\n",
      "INFO:ComponentProgress:91\n",
      "INFO:ComponentProgress:91\n"
     ]
    },
    {
     "name": "stdout",
     "output_type": "stream",
     "text": [
      "INFO     data_access_component get_data_urls: 228: 91\n"
     ]
    },
    {
     "name": "stderr",
     "output_type": "stream",
     "text": [
      "INFO:ComponentProgress:0\n",
      "INFO:ComponentProgress:0\n",
      "INFO:ComponentProgress:0\n",
      "INFO:ComponentProgress:0\n",
      "INFO:ComponentProgress:0\n"
     ]
    },
    {
     "name": "stdout",
     "output_type": "stream",
     "text": [
      "Retrieving DEM ...\n",
      "INFO     data_access_component get_data_urls: 228: 0\n",
      "Done retrieving static data\n"
     ]
    }
   ],
   "source": [
    "data_access_component = DataAccessComponent()\n",
    "get_static_data(data_access_component=data_access_component, roi=roi,\n",
    "                start_time=start_time_as_string, stop_time=stop_time_as_string, \n",
    "          emulation_directory=emulators_directory, dem_directory=dem_directory, roi_grid=roi_grid)"
   ]
  },
  {
   "cell_type": "markdown",
   "metadata": {},
   "source": [
    "# 6. Infer variables\n",
    "Now we can actually infer the bio-physical variables. For this, we will step though the time grid that we have set up using the start_time, end_time and time_step parameters above.\n",
    "For this stepping, we create a *cursor* that points to the beginning of the time period that we are currently deriving data for.\n",
    "We also define two variables *previous_inference_state* and *updated_inference_state* which will save the state of the inference engine and will ensure that the inference engine can consider the results from its last run.\n",
    "The variable *preprocess_only_region_of_interest* allows to preprocess only the portion of the S2 image that we will consider during the inference. If we process the whole image though, we can save it and use it in later runs."
   ]
  },
  {
   "cell_type": "markdown",
   "metadata": {},
   "source": [
    "Thes stepping of time works as follows: Dedicated directories are set up for the MODIS, CAMS, and S2 data. These data are retrieved and put into these directories. After that, pre-processing will take place either on the whole S2 image or on the region of interest. If it has been performed on the whole region, the result will be permanently saved. Next, priors will be derived for every variable and every day within the current period. Having gathered all these, the inference can finally begin. The state of the inference engine is saved and considered during the next iteration."
   ]
  },
  {
   "cell_type": "markdown",
   "metadata": {},
   "source": [
    "## 6.1 Single Run Test\n",
    "First for explanation, we will perform the inference over a single timestep. During this, we will show all the results to indicate the flow of the processings. "
   ]
  },
  {
   "cell_type": "markdown",
   "metadata": {},
   "source": [
    "### 6.1.1 setting up"
   ]
  },
  {
   "cell_type": "code",
   "execution_count": 18,
   "metadata": {},
   "outputs": [
    {
     "name": "stdout",
     "output_type": "stream",
     "text": [
      "Doing time step starting on 2018-05-10\n"
     ]
    }
   ],
   "source": [
    "cursor = start_time_as_datetime\n",
    "previous_inference_state = None #'none'\n",
    "updated_inference_state = 'none'\n",
    "one_day_step = datetime.timedelta(days=1)\n",
    "preprocess_only_region_of_interest = True\n",
    "\n",
    "date_as_string = datetime.datetime.strftime(cursor, '%Y-%m-%d')\n",
    "print('Doing time step starting on {}'.format(date_as_string))"
   ]
  },
  {
   "cell_type": "code",
   "execution_count": null,
   "metadata": {},
   "outputs": [],
   "source": [
    "cursor += time_step_as_time_delta\n",
    "cursor -= one_day_step\n",
    "if cursor > stop_time_as_datetime:\n",
    "    cursor = stop_time_as_datetime\n",
    "next_date_as_string = datetime.datetime.strftime(cursor, '%Y-%m-%d')\n",
    "cursor += one_day_step\n",
    "cursor_as_string = datetime.datetime.strftime(cursor, '%Y-%m-%d')\n",
    "\n",
    "modis_directory_for_date = '{}/{}'.format(modis_directory, date_as_string)\n",
    "cams_directory_for_date = '{}/{}'.format(cams_directory, date_as_string)\n",
    "s2_l1c_directory_for_date = '{}/{}'.format(s2_l1c_directory, date_as_string)\n",
    "sdrs_directory_for_date = '{}/{}'.format(sdrs_directory, date_as_string)\n",
    "priors_directory_for_date = '{}/{}/'.format(priors_directory, date_as_string)\n",
    "date_as_string"
   ]
  },
  {
   "cell_type": "markdown",
   "metadata": {},
   "source": [
    "### 6.1.2 Preprocessing"
   ]
  },
  {
   "cell_type": "code",
   "execution_count": null,
   "metadata": {},
   "outputs": [],
   "source": [
    "get_dynamic_data(data_access_component, roi, roi_grid, date_as_string, next_date_as_string,\n",
    "                 modis_directory_for_date, cams_directory_for_date, s2_l1c_directory_for_date)\n",
    "preprocess_s2(s2_l1c_directory_for_date, modis_directory_for_date, emulators_directory, cams_directory_for_date, \n",
    "           dem_directory, sdrs_directory_for_date, roi)"
   ]
  },
  {
   "cell_type": "code",
   "execution_count": null,
   "metadata": {},
   "outputs": [],
   "source": [
    "# visualize the atmospheric correction\n",
    "prodnr = 0\n",
    "Plot_SRDS(sdrs_directory)"
   ]
  },
  {
   "cell_type": "code",
   "execution_count": null,
   "metadata": {},
   "outputs": [],
   "source": [
    "Productnr = 1\n",
    "Plot_SRDS(sdrs_directory, Productnr)\n"
   ]
  },
  {
   "cell_type": "markdown",
   "metadata": {},
   "source": [
    "### 6.1.3  Get Priors\n",
    "You can choose to have the system create it's own 'default' configuration file (using the parameter values, specified earlier). Alternatively, one can make user-specific requests. For example, One can alter the Priors that are going to be used in the inference. If you would like to use these more complex metod, in the actual inference you should provide a link to this user configuration file (or uncomment this line, if one prefers the default configuration). \n",
    "\n",
    "Please be aware that new files have to be created in case of user-defined priors, which can take some time (depending on number of 'user-defined' priors, the size of the area and the duration of the time-period). "
   ]
  },
  {
   "cell_type": "code",
   "execution_count": 20,
   "metadata": {},
   "outputs": [],
   "source": [
    "# Setting up the default configuration (of flat priors)\n",
    "config_file = None\n",
    "user_priors = {}\n",
    "user_priors['lai'] = {'mu': 3.0, 'unc': 0.2}\n",
    "# user_priors['cab'] = {'mu': 70.0, 'unc': 70.*0.0001}\n",
    "# user_priors['car'] = {'mu': 0.8, 'unc': 0.8*0.01}\n",
    "# user_priors['cw'] = {'mu': 0.005, 'unc': 0.005*0.01}\n",
    "# user_priors['cdm'] = {'mu': 0.0035, 'unc': 0.0035*0.01}\n",
    "# user_priors['cb'] = {'mu': 0.01, 'unc': 0.01*0.01}\n",
    "# user_priors['n'] = {'mu': 1.6, 'unc': 1.6*0.01}\n",
    "# user_priors['ala'] = {'mu': 70., 'unc': 70*0.01}\n",
    "\n",
    "\n",
    "# link to user-configuration file. Comment out to create  default configuration file\n",
    "# config_file = '/home/test_user_16/config_user.yaml'\n",
    "# Please be aware that the working directory in the configuration file should be the same as the working directory \n",
    "# specified above\n"
   ]
  },
  {
   "cell_type": "code",
   "execution_count": 22,
   "metadata": {},
   "outputs": [],
   "source": [
    "cursor = start_time_as_datetime\n",
    "date_as_string = datetime.datetime.strftime(cursor, '%Y-%m-%d')\n",
    "priors_directory_for_date = '{}/{}/'.format(priors_directory, date_as_string)\n"
   ]
  },
  {
   "cell_type": "code",
   "execution_count": 23,
   "metadata": {},
   "outputs": [
    {
     "name": "stdout",
     "output_type": "stream",
     "text": [
      "INFO     prior_engine __init__:  83: Using config file: /data/working_dirs/m1/config.yaml\n",
      "INFO     prior_engine __init__:  91: Loading sub-engines for variables.\n",
      "INFO     prior_engine __init__:  95: Got following prior_creator_registrations from entry points: [EntryPoint.parse('soil_moisture_prior_creator = multiply_prior_engine:soilmoisture_prior_creator.SoilMoisturePriorCreator'), EntryPoint.parse('vegetation_prior_creator = multiply_prior_engine:vegetation_prior_creator.VegetationPriorCreator')]\n",
      "INFO     prior_engine __init__: 102: Sub-engine for sm: <class 'multiply_prior_engine.soilmoisture_prior_creator.SoilMoisturePriorCreator'>.\n",
      "INFO     prior_engine __init__: 102: Sub-engine for clay_fraction: <class 'multiply_prior_engine.soilmoisture_prior_creator.SoilMoisturePriorCreator'>.\n",
      "INFO     prior_engine __init__: 102: Sub-engine for sand_fraction: <class 'multiply_prior_engine.soilmoisture_prior_creator.SoilMoisturePriorCreator'>.\n",
      "INFO     prior_engine __init__: 102: Sub-engine for sr: <class 'multiply_prior_engine.soilmoisture_prior_creator.SoilMoisturePriorCreator'>.\n",
      "INFO     prior_engine __init__: 102: Sub-engine for lai: <class 'multiply_prior_engine.vegetation_prior_creator.VegetationPriorCreator'>.\n",
      "INFO     prior_engine __init__: 102: Sub-engine for cab: <class 'multiply_prior_engine.vegetation_prior_creator.VegetationPriorCreator'>.\n",
      "INFO     prior_engine __init__: 102: Sub-engine for cb: <class 'multiply_prior_engine.vegetation_prior_creator.VegetationPriorCreator'>.\n",
      "INFO     prior_engine __init__: 102: Sub-engine for car: <class 'multiply_prior_engine.vegetation_prior_creator.VegetationPriorCreator'>.\n",
      "INFO     prior_engine __init__: 102: Sub-engine for cw: <class 'multiply_prior_engine.vegetation_prior_creator.VegetationPriorCreator'>.\n",
      "INFO     prior_engine __init__: 102: Sub-engine for cdm: <class 'multiply_prior_engine.vegetation_prior_creator.VegetationPriorCreator'>.\n",
      "INFO     prior_engine __init__: 102: Sub-engine for n: <class 'multiply_prior_engine.vegetation_prior_creator.VegetationPriorCreator'>.\n",
      "INFO     prior_engine __init__: 102: Sub-engine for ala: <class 'multiply_prior_engine.vegetation_prior_creator.VegetationPriorCreator'>.\n",
      "INFO     prior_engine __init__: 102: Sub-engine for h: <class 'multiply_prior_engine.vegetation_prior_creator.VegetationPriorCreator'>.\n",
      "INFO     prior_engine __init__: 102: Sub-engine for bsoil: <class 'multiply_prior_engine.vegetation_prior_creator.VegetationPriorCreator'>.\n",
      "INFO     prior_engine __init__: 102: Sub-engine for psoil: <class 'multiply_prior_engine.vegetation_prior_creator.VegetationPriorCreator'>.\n",
      "INFO     prior_engine __init__: 104: Got sub-engines for ['sm', 'clay_fraction', 'sand_fraction', 'sr', 'lai', 'cab', 'cb', 'car', 'cw', 'cdm', 'n', 'ala', 'h', 'bsoil', 'psoil'].\n",
      "DEBUG    prior_engine _check: 132: Loaded config:\n",
      "{'General': {'end_time': '2018-05-10', 'roi': 'POLYGON((27.2725456795 58.2252523466, 27.2720041127 58.3418423196, 27.3885799673 58.3362682904, 27.3774098023 58.2196966529, 27.2725456795 58.2252523466))', 'start_time': '2018-05-10', 'time_interval': 1}, 'Prior': {'General': {'directory_data': '/data/auxiliary/priors/Static/Vegetation/'}, 'ala': {'database': {'static_dir': 'same as General directory_data'}}, 'bsoil': {'database': {'static_dir': 'same as General directory_data'}}, 'cab': {'database': {'static_dir': 'same as General directory_data'}}, 'car': {'database': {'static_dir': 'same as General directory_data'}}, 'cb': {'database': {'static_dir': 'same as General directory_data'}}, 'cdm': {'database': {'static_dir': 'same as General directory_data'}}, 'cw': {'database': {'static_dir': 'same as General directory_data'}}, 'lai': {'user': {'mu': 3.0, 'unc': 0.2}}, 'n': {'database': {'static_dir': 'same as General directory_data'}}, 'output_directory': '/data/working_dirs/m1/priors/2018-05-10/', 'psoil': {'database': {'static_dir': 'same as General directory_data'}}}}.\n",
      "INFO     prior_engine __init__: 108: Loaded /data/working_dirs/m1/config.yaml.\n"
     ]
    },
    {
     "name": "stderr",
     "output_type": "stream",
     "text": [
      "INFO:ComponentProgress:0\n",
      "INFO:ComponentProgress:0\n",
      "INFO:ComponentProgress:0\n",
      "INFO:ComponentProgress:0\n",
      "INFO:ComponentProgress:0\n"
     ]
    },
    {
     "name": "stdout",
     "output_type": "stream",
     "text": [
      "INFO     prior_engine get_priors: 150: 0\n",
      "INFO     prior_engine _get_prior: 176: Getting prior for variable *lai*.\n",
      "INFO     prior_engine _get_prior: 193: Initializing <class 'multiply_prior_engine.vegetation_prior_creator.VegetationPriorCreator'> for lai user prior:\n",
      "20.00 50.00\n",
      "INFO     vegetation_prior_creator CombineTiles2Virtualfile:1564: Successfully created /data/working_dirs/m1/priors/2018-05-10/Priors_lai_130_global.vrt.\n"
     ]
    },
    {
     "name": "stderr",
     "output_type": "stream",
     "text": [
      "INFO:ComponentProgress:10\n",
      "INFO:ComponentProgress:10\n",
      "INFO:ComponentProgress:10\n",
      "INFO:ComponentProgress:10\n",
      "INFO:ComponentProgress:10\n"
     ]
    },
    {
     "name": "stdout",
     "output_type": "stream",
     "text": [
      "INFO     prior_engine get_priors: 150: 10\n",
      "INFO     prior_engine _get_prior: 176: Getting prior for variable *bsoil*.\n",
      "INFO     prior_engine _get_prior: 193: Initializing <class 'multiply_prior_engine.vegetation_prior_creator.VegetationPriorCreator'> for bsoil database prior:\n",
      "INFO     vegetation_prior_creator CombineTiles2Virtualfile:1564: Successfully created /data/working_dirs/m1/priors/2018-05-10/Priors_bsoil_130_global.vrt.\n"
     ]
    },
    {
     "name": "stderr",
     "output_type": "stream",
     "text": [
      "INFO:ComponentProgress:20\n",
      "INFO:ComponentProgress:20\n",
      "INFO:ComponentProgress:20\n",
      "INFO:ComponentProgress:20\n",
      "INFO:ComponentProgress:20\n"
     ]
    },
    {
     "name": "stdout",
     "output_type": "stream",
     "text": [
      "INFO     prior_engine get_priors: 150: 20\n",
      "INFO     prior_engine _get_prior: 176: Getting prior for variable *cb*.\n",
      "INFO     prior_engine _get_prior: 193: Initializing <class 'multiply_prior_engine.vegetation_prior_creator.VegetationPriorCreator'> for cb database prior:\n",
      "INFO     vegetation_prior_creator CombineTiles2Virtualfile:1564: Successfully created /data/working_dirs/m1/priors/2018-05-10/Priors_cb_130_global.vrt.\n"
     ]
    },
    {
     "name": "stderr",
     "output_type": "stream",
     "text": [
      "INFO:ComponentProgress:30\n",
      "INFO:ComponentProgress:30\n",
      "INFO:ComponentProgress:30\n",
      "INFO:ComponentProgress:30\n",
      "INFO:ComponentProgress:30\n"
     ]
    },
    {
     "name": "stdout",
     "output_type": "stream",
     "text": [
      "INFO     prior_engine get_priors: 150: 30\n",
      "INFO     prior_engine _get_prior: 176: Getting prior for variable *psoil*.\n",
      "INFO     prior_engine _get_prior: 193: Initializing <class 'multiply_prior_engine.vegetation_prior_creator.VegetationPriorCreator'> for psoil database prior:\n",
      "INFO     vegetation_prior_creator CombineTiles2Virtualfile:1564: Successfully created /data/working_dirs/m1/priors/2018-05-10/Priors_psoil_130_global.vrt.\n"
     ]
    },
    {
     "name": "stderr",
     "output_type": "stream",
     "text": [
      "INFO:ComponentProgress:40\n",
      "INFO:ComponentProgress:40\n",
      "INFO:ComponentProgress:40\n",
      "INFO:ComponentProgress:40\n",
      "INFO:ComponentProgress:40\n"
     ]
    },
    {
     "name": "stdout",
     "output_type": "stream",
     "text": [
      "INFO     prior_engine get_priors: 150: 40\n",
      "INFO     prior_engine _get_prior: 176: Getting prior for variable *ala*.\n",
      "INFO     prior_engine _get_prior: 193: Initializing <class 'multiply_prior_engine.vegetation_prior_creator.VegetationPriorCreator'> for ala database prior:\n",
      "INFO     vegetation_prior_creator CombineTiles2Virtualfile:1564: Successfully created /data/working_dirs/m1/priors/2018-05-10/Priors_ala_130_global.vrt.\n"
     ]
    },
    {
     "name": "stderr",
     "output_type": "stream",
     "text": [
      "INFO:ComponentProgress:50\n",
      "INFO:ComponentProgress:50\n",
      "INFO:ComponentProgress:50\n",
      "INFO:ComponentProgress:50\n",
      "INFO:ComponentProgress:50\n"
     ]
    },
    {
     "name": "stdout",
     "output_type": "stream",
     "text": [
      "INFO     prior_engine get_priors: 150: 50\n",
      "INFO     prior_engine _get_prior: 176: Getting prior for variable *n*.\n",
      "INFO     prior_engine _get_prior: 193: Initializing <class 'multiply_prior_engine.vegetation_prior_creator.VegetationPriorCreator'> for n database prior:\n",
      "INFO     vegetation_prior_creator CombineTiles2Virtualfile:1564: Successfully created /data/working_dirs/m1/priors/2018-05-10/Priors_n_130_global.vrt.\n"
     ]
    },
    {
     "name": "stderr",
     "output_type": "stream",
     "text": [
      "INFO:ComponentProgress:60\n",
      "INFO:ComponentProgress:60\n",
      "INFO:ComponentProgress:60\n",
      "INFO:ComponentProgress:60\n",
      "INFO:ComponentProgress:60\n"
     ]
    },
    {
     "name": "stdout",
     "output_type": "stream",
     "text": [
      "INFO     prior_engine get_priors: 150: 60\n",
      "INFO     prior_engine _get_prior: 176: Getting prior for variable *cw*.\n",
      "INFO     prior_engine _get_prior: 193: Initializing <class 'multiply_prior_engine.vegetation_prior_creator.VegetationPriorCreator'> for cw database prior:\n",
      "INFO     vegetation_prior_creator CombineTiles2Virtualfile:1564: Successfully created /data/working_dirs/m1/priors/2018-05-10/Priors_cw_130_global.vrt.\n"
     ]
    },
    {
     "name": "stderr",
     "output_type": "stream",
     "text": [
      "INFO:ComponentProgress:70\n",
      "INFO:ComponentProgress:70\n",
      "INFO:ComponentProgress:70\n",
      "INFO:ComponentProgress:70\n",
      "INFO:ComponentProgress:70\n"
     ]
    },
    {
     "name": "stdout",
     "output_type": "stream",
     "text": [
      "INFO     prior_engine get_priors: 150: 70\n",
      "INFO     prior_engine _get_prior: 176: Getting prior for variable *car*.\n",
      "INFO     prior_engine _get_prior: 193: Initializing <class 'multiply_prior_engine.vegetation_prior_creator.VegetationPriorCreator'> for car database prior:\n",
      "INFO     vegetation_prior_creator CombineTiles2Virtualfile:1564: Successfully created /data/working_dirs/m1/priors/2018-05-10/Priors_car_130_global.vrt.\n"
     ]
    },
    {
     "name": "stderr",
     "output_type": "stream",
     "text": [
      "INFO:ComponentProgress:80\n",
      "INFO:ComponentProgress:80\n",
      "INFO:ComponentProgress:80\n",
      "INFO:ComponentProgress:80\n",
      "INFO:ComponentProgress:80\n"
     ]
    },
    {
     "name": "stdout",
     "output_type": "stream",
     "text": [
      "INFO     prior_engine get_priors: 150: 80\n",
      "INFO     prior_engine _get_prior: 176: Getting prior for variable *cdm*.\n",
      "INFO     prior_engine _get_prior: 193: Initializing <class 'multiply_prior_engine.vegetation_prior_creator.VegetationPriorCreator'> for cdm database prior:\n",
      "INFO     vegetation_prior_creator CombineTiles2Virtualfile:1564: Successfully created /data/working_dirs/m1/priors/2018-05-10/Priors_cdm_130_global.vrt.\n"
     ]
    },
    {
     "name": "stderr",
     "output_type": "stream",
     "text": [
      "INFO:ComponentProgress:90\n",
      "INFO:ComponentProgress:90\n",
      "INFO:ComponentProgress:90\n",
      "INFO:ComponentProgress:90\n",
      "INFO:ComponentProgress:90\n"
     ]
    },
    {
     "name": "stdout",
     "output_type": "stream",
     "text": [
      "INFO     prior_engine get_priors: 150: 90\n",
      "INFO     prior_engine _get_prior: 176: Getting prior for variable *cab*.\n",
      "INFO     prior_engine _get_prior: 193: Initializing <class 'multiply_prior_engine.vegetation_prior_creator.VegetationPriorCreator'> for cab database prior:\n",
      "INFO     vegetation_prior_creator CombineTiles2Virtualfile:1564: Successfully created /data/working_dirs/m1/priors/2018-05-10/Priors_cab_130_global.vrt.\n"
     ]
    }
   ],
   "source": [
    "if config_file is not None:\n",
    "    get_priors_from_config_file(date_as_string, next_date_as_string, priors_directory_for_date, variables, config_file)\n",
    "else:\n",
    "    get_priors(working_dir, roi, date_as_string, next_date_as_string, time_step, priors_directory_for_date, variables, user_priors)\n",
    "    config_file = working_dir + '/config.yaml'\n",
    "    "
   ]
  },
  {
   "cell_type": "markdown",
   "metadata": {},
   "source": [
    "### 6.1.4  Retrieval"
   ]
  },
  {
   "cell_type": "code",
   "execution_count": null,
   "metadata": {},
   "outputs": [],
   "source": [
    "infer_new(config_file, date_as_string, cursor_as_string, None, priors_directory_for_date, sdrs_directory_for_date, \n",
    "          updated_inference_state, biophys_output,variables, None, spatial_resolution, roi_grid,destination_grid)"
   ]
  },
  {
   "cell_type": "markdown",
   "metadata": {},
   "source": [
    "#### 6.1.4.1  Visualize retrieval"
   ]
  },
  {
   "cell_type": "code",
   "execution_count": 24,
   "metadata": {},
   "outputs": [
    {
     "data": {
      "text/plain": [
       "'2018-05-10'"
      ]
     },
     "execution_count": 24,
     "metadata": {},
     "output_type": "execute_result"
    }
   ],
   "source": [
    "date_as_string"
   ]
  },
  {
   "cell_type": "code",
   "execution_count": 2,
   "metadata": {},
   "outputs": [
    {
     "ename": "NameError",
     "evalue": "name 'biophys_output' is not defined",
     "output_type": "error",
     "traceback": [
      "\u001b[0;31m---------------------------------------------------------------------------\u001b[0m",
      "\u001b[0;31mNameError\u001b[0m                                 Traceback (most recent call last)",
      "\u001b[0;32m<ipython-input-2-47899ccdaf08>\u001b[0m in \u001b[0;36m<module>\u001b[0;34m\u001b[0m\n\u001b[1;32m      4\u001b[0m \u001b[0;32mimport\u001b[0m \u001b[0mglob\u001b[0m\u001b[0;34m\u001b[0m\u001b[0;34m\u001b[0m\u001b[0m\n\u001b[1;32m      5\u001b[0m \u001b[0;34m\u001b[0m\u001b[0m\n\u001b[0;32m----> 6\u001b[0;31m \u001b[0mprint\u001b[0m\u001b[0;34m(\u001b[0m\u001b[0mbiophys_output\u001b[0m\u001b[0;34m)\u001b[0m\u001b[0;34m\u001b[0m\u001b[0;34m\u001b[0m\u001b[0m\n\u001b[0m\u001b[1;32m      7\u001b[0m \u001b[0mvariables_subset\u001b[0m \u001b[0;34m=\u001b[0m \u001b[0mvariables\u001b[0m\u001b[0;34m\u001b[0m\u001b[0;34m\u001b[0m\u001b[0m\n\u001b[1;32m      8\u001b[0m \u001b[0mdate\u001b[0m \u001b[0;34m=\u001b[0m \u001b[0mdate_as_string\u001b[0m\u001b[0;34m\u001b[0m\u001b[0;34m\u001b[0m\u001b[0m\n",
      "\u001b[0;31mNameError\u001b[0m: name 'biophys_output' is not defined"
     ]
    }
   ],
   "source": [
    "import gdal \n",
    "import numpy as np\n",
    "import matplotlib.pyplot as plt\n",
    "import glob\n",
    "\n",
    "print(biophys_output)\n",
    "variables_subset = variables\n",
    "date = date_as_string\n",
    "\n",
    "Plot_TRAITS(biophys_output, date, variables_subset)"
   ]
  },
  {
   "cell_type": "markdown",
   "metadata": {},
   "source": [
    "## 6.2 Inference of Full period"
   ]
  },
  {
   "cell_type": "code",
   "execution_count": 25,
   "metadata": {},
   "outputs": [
    {
     "name": "stdout",
     "output_type": "stream",
     "text": [
      "Doing time step starting on 2018-05-10\n",
      "Retrieving MODIS BRDF descriptors ...\n"
     ]
    },
    {
     "name": "stderr",
     "output_type": "stream",
     "text": [
      "INFO:ComponentProgress:0\n",
      "INFO:ComponentProgress:0\n",
      "INFO:ComponentProgress:0\n",
      "INFO:ComponentProgress:0\n",
      "INFO:ComponentProgress:0\n"
     ]
    },
    {
     "name": "stdout",
     "output_type": "stream",
     "text": [
      "INFO     data_access_component get_data_urls: 228: 0\n"
     ]
    },
    {
     "name": "stderr",
     "output_type": "stream",
     "text": [
      "INFO:ComponentProgress:3\n",
      "INFO:ComponentProgress:3\n",
      "INFO:ComponentProgress:3\n",
      "INFO:ComponentProgress:3\n",
      "INFO:ComponentProgress:3\n"
     ]
    },
    {
     "name": "stdout",
     "output_type": "stream",
     "text": [
      "INFO     data_access_component get_data_urls: 228: 3\n"
     ]
    },
    {
     "name": "stderr",
     "output_type": "stream",
     "text": [
      "INFO:ComponentProgress:6\n",
      "INFO:ComponentProgress:6\n",
      "INFO:ComponentProgress:6\n",
      "INFO:ComponentProgress:6\n",
      "INFO:ComponentProgress:6\n"
     ]
    },
    {
     "name": "stdout",
     "output_type": "stream",
     "text": [
      "INFO     data_access_component get_data_urls: 228: 6\n"
     ]
    },
    {
     "name": "stderr",
     "output_type": "stream",
     "text": [
      "INFO:ComponentProgress:9\n",
      "INFO:ComponentProgress:9\n",
      "INFO:ComponentProgress:9\n",
      "INFO:ComponentProgress:9\n",
      "INFO:ComponentProgress:9\n"
     ]
    },
    {
     "name": "stdout",
     "output_type": "stream",
     "text": [
      "INFO     data_access_component get_data_urls: 228: 9\n"
     ]
    },
    {
     "name": "stderr",
     "output_type": "stream",
     "text": [
      "INFO:ComponentProgress:12\n",
      "INFO:ComponentProgress:12\n",
      "INFO:ComponentProgress:12\n",
      "INFO:ComponentProgress:12\n",
      "INFO:ComponentProgress:12\n"
     ]
    },
    {
     "name": "stdout",
     "output_type": "stream",
     "text": [
      "INFO     data_access_component get_data_urls: 228: 12\n"
     ]
    },
    {
     "name": "stderr",
     "output_type": "stream",
     "text": [
      "INFO:ComponentProgress:15\n",
      "INFO:ComponentProgress:15\n",
      "INFO:ComponentProgress:15\n",
      "INFO:ComponentProgress:15\n",
      "INFO:ComponentProgress:15\n"
     ]
    },
    {
     "name": "stdout",
     "output_type": "stream",
     "text": [
      "INFO     data_access_component get_data_urls: 228: 15\n"
     ]
    },
    {
     "name": "stderr",
     "output_type": "stream",
     "text": [
      "INFO:ComponentProgress:18\n",
      "INFO:ComponentProgress:18\n",
      "INFO:ComponentProgress:18\n",
      "INFO:ComponentProgress:18\n",
      "INFO:ComponentProgress:18\n"
     ]
    },
    {
     "name": "stdout",
     "output_type": "stream",
     "text": [
      "INFO     data_access_component get_data_urls: 228: 18\n"
     ]
    },
    {
     "name": "stderr",
     "output_type": "stream",
     "text": [
      "INFO:ComponentProgress:21\n",
      "INFO:ComponentProgress:21\n",
      "INFO:ComponentProgress:21\n",
      "INFO:ComponentProgress:21\n",
      "INFO:ComponentProgress:21\n"
     ]
    },
    {
     "name": "stdout",
     "output_type": "stream",
     "text": [
      "INFO     data_access_component get_data_urls: 228: 21\n"
     ]
    },
    {
     "name": "stderr",
     "output_type": "stream",
     "text": [
      "INFO:ComponentProgress:24\n",
      "INFO:ComponentProgress:24\n",
      "INFO:ComponentProgress:24\n",
      "INFO:ComponentProgress:24\n",
      "INFO:ComponentProgress:24\n"
     ]
    },
    {
     "name": "stdout",
     "output_type": "stream",
     "text": [
      "INFO     data_access_component get_data_urls: 228: 24\n"
     ]
    },
    {
     "name": "stderr",
     "output_type": "stream",
     "text": [
      "INFO:ComponentProgress:27\n",
      "INFO:ComponentProgress:27\n",
      "INFO:ComponentProgress:27\n",
      "INFO:ComponentProgress:27\n",
      "INFO:ComponentProgress:27\n"
     ]
    },
    {
     "name": "stdout",
     "output_type": "stream",
     "text": [
      "INFO     data_access_component get_data_urls: 228: 27\n"
     ]
    },
    {
     "name": "stderr",
     "output_type": "stream",
     "text": [
      "INFO:ComponentProgress:30\n",
      "INFO:ComponentProgress:30\n",
      "INFO:ComponentProgress:30\n",
      "INFO:ComponentProgress:30\n",
      "INFO:ComponentProgress:30\n"
     ]
    },
    {
     "name": "stdout",
     "output_type": "stream",
     "text": [
      "INFO     data_access_component get_data_urls: 228: 30\n"
     ]
    },
    {
     "name": "stderr",
     "output_type": "stream",
     "text": [
      "INFO:ComponentProgress:33\n",
      "INFO:ComponentProgress:33\n",
      "INFO:ComponentProgress:33\n",
      "INFO:ComponentProgress:33\n",
      "INFO:ComponentProgress:33\n"
     ]
    },
    {
     "name": "stdout",
     "output_type": "stream",
     "text": [
      "INFO     data_access_component get_data_urls: 228: 33\n"
     ]
    },
    {
     "name": "stderr",
     "output_type": "stream",
     "text": [
      "INFO:ComponentProgress:36\n",
      "INFO:ComponentProgress:36\n",
      "INFO:ComponentProgress:36\n",
      "INFO:ComponentProgress:36\n",
      "INFO:ComponentProgress:36\n"
     ]
    },
    {
     "name": "stdout",
     "output_type": "stream",
     "text": [
      "INFO     data_access_component get_data_urls: 228: 36\n"
     ]
    },
    {
     "name": "stderr",
     "output_type": "stream",
     "text": [
      "INFO:ComponentProgress:39\n",
      "INFO:ComponentProgress:39\n",
      "INFO:ComponentProgress:39\n",
      "INFO:ComponentProgress:39\n",
      "INFO:ComponentProgress:39\n"
     ]
    },
    {
     "name": "stdout",
     "output_type": "stream",
     "text": [
      "INFO     data_access_component get_data_urls: 228: 39\n"
     ]
    },
    {
     "name": "stderr",
     "output_type": "stream",
     "text": [
      "INFO:ComponentProgress:42\n",
      "INFO:ComponentProgress:42\n",
      "INFO:ComponentProgress:42\n",
      "INFO:ComponentProgress:42\n",
      "INFO:ComponentProgress:42\n"
     ]
    },
    {
     "name": "stdout",
     "output_type": "stream",
     "text": [
      "INFO     data_access_component get_data_urls: 228: 42\n"
     ]
    },
    {
     "name": "stderr",
     "output_type": "stream",
     "text": [
      "INFO:ComponentProgress:45\n",
      "INFO:ComponentProgress:45\n",
      "INFO:ComponentProgress:45\n",
      "INFO:ComponentProgress:45\n",
      "INFO:ComponentProgress:45\n"
     ]
    },
    {
     "name": "stdout",
     "output_type": "stream",
     "text": [
      "INFO     data_access_component get_data_urls: 228: 45\n"
     ]
    },
    {
     "name": "stderr",
     "output_type": "stream",
     "text": [
      "INFO:ComponentProgress:48\n",
      "INFO:ComponentProgress:48\n",
      "INFO:ComponentProgress:48\n",
      "INFO:ComponentProgress:48\n",
      "INFO:ComponentProgress:48\n"
     ]
    },
    {
     "name": "stdout",
     "output_type": "stream",
     "text": [
      "INFO     data_access_component get_data_urls: 228: 48\n"
     ]
    },
    {
     "name": "stderr",
     "output_type": "stream",
     "text": [
      "INFO:ComponentProgress:51\n",
      "INFO:ComponentProgress:51\n",
      "INFO:ComponentProgress:51\n",
      "INFO:ComponentProgress:51\n",
      "INFO:ComponentProgress:51\n"
     ]
    },
    {
     "name": "stdout",
     "output_type": "stream",
     "text": [
      "INFO     data_access_component get_data_urls: 228: 51\n"
     ]
    },
    {
     "name": "stderr",
     "output_type": "stream",
     "text": [
      "INFO:ComponentProgress:54\n",
      "INFO:ComponentProgress:54\n",
      "INFO:ComponentProgress:54\n",
      "INFO:ComponentProgress:54\n",
      "INFO:ComponentProgress:54\n"
     ]
    },
    {
     "name": "stdout",
     "output_type": "stream",
     "text": [
      "INFO     data_access_component get_data_urls: 228: 54\n"
     ]
    },
    {
     "name": "stderr",
     "output_type": "stream",
     "text": [
      "INFO:ComponentProgress:57\n",
      "INFO:ComponentProgress:57\n",
      "INFO:ComponentProgress:57\n",
      "INFO:ComponentProgress:57\n",
      "INFO:ComponentProgress:57\n"
     ]
    },
    {
     "name": "stdout",
     "output_type": "stream",
     "text": [
      "INFO     data_access_component get_data_urls: 228: 57\n"
     ]
    },
    {
     "name": "stderr",
     "output_type": "stream",
     "text": [
      "INFO:ComponentProgress:60\n",
      "INFO:ComponentProgress:60\n",
      "INFO:ComponentProgress:60\n",
      "INFO:ComponentProgress:60\n",
      "INFO:ComponentProgress:60\n"
     ]
    },
    {
     "name": "stdout",
     "output_type": "stream",
     "text": [
      "INFO     data_access_component get_data_urls: 228: 60\n"
     ]
    },
    {
     "name": "stderr",
     "output_type": "stream",
     "text": [
      "INFO:ComponentProgress:63\n",
      "INFO:ComponentProgress:63\n",
      "INFO:ComponentProgress:63\n",
      "INFO:ComponentProgress:63\n",
      "INFO:ComponentProgress:63\n"
     ]
    },
    {
     "name": "stdout",
     "output_type": "stream",
     "text": [
      "INFO     data_access_component get_data_urls: 228: 63\n"
     ]
    },
    {
     "name": "stderr",
     "output_type": "stream",
     "text": [
      "INFO:ComponentProgress:66\n",
      "INFO:ComponentProgress:66\n",
      "INFO:ComponentProgress:66\n",
      "INFO:ComponentProgress:66\n",
      "INFO:ComponentProgress:66\n"
     ]
    },
    {
     "name": "stdout",
     "output_type": "stream",
     "text": [
      "INFO     data_access_component get_data_urls: 228: 66\n"
     ]
    },
    {
     "name": "stderr",
     "output_type": "stream",
     "text": [
      "INFO:ComponentProgress:69\n",
      "INFO:ComponentProgress:69\n",
      "INFO:ComponentProgress:69\n",
      "INFO:ComponentProgress:69\n",
      "INFO:ComponentProgress:69\n"
     ]
    },
    {
     "name": "stdout",
     "output_type": "stream",
     "text": [
      "INFO     data_access_component get_data_urls: 228: 69\n"
     ]
    },
    {
     "name": "stderr",
     "output_type": "stream",
     "text": [
      "INFO:ComponentProgress:72\n",
      "INFO:ComponentProgress:72\n",
      "INFO:ComponentProgress:72\n",
      "INFO:ComponentProgress:72\n",
      "INFO:ComponentProgress:72\n"
     ]
    },
    {
     "name": "stdout",
     "output_type": "stream",
     "text": [
      "INFO     data_access_component get_data_urls: 228: 72\n"
     ]
    },
    {
     "name": "stderr",
     "output_type": "stream",
     "text": [
      "INFO:ComponentProgress:75\n",
      "INFO:ComponentProgress:75\n",
      "INFO:ComponentProgress:75\n",
      "INFO:ComponentProgress:75\n",
      "INFO:ComponentProgress:75\n"
     ]
    },
    {
     "name": "stdout",
     "output_type": "stream",
     "text": [
      "INFO     data_access_component get_data_urls: 228: 75\n"
     ]
    },
    {
     "name": "stderr",
     "output_type": "stream",
     "text": [
      "INFO:ComponentProgress:78\n",
      "INFO:ComponentProgress:78\n",
      "INFO:ComponentProgress:78\n",
      "INFO:ComponentProgress:78\n",
      "INFO:ComponentProgress:78\n"
     ]
    },
    {
     "name": "stdout",
     "output_type": "stream",
     "text": [
      "INFO     data_access_component get_data_urls: 228: 78\n"
     ]
    },
    {
     "name": "stderr",
     "output_type": "stream",
     "text": [
      "INFO:ComponentProgress:81\n",
      "INFO:ComponentProgress:81\n",
      "INFO:ComponentProgress:81\n",
      "INFO:ComponentProgress:81\n",
      "INFO:ComponentProgress:81\n"
     ]
    },
    {
     "name": "stdout",
     "output_type": "stream",
     "text": [
      "INFO     data_access_component get_data_urls: 228: 81\n"
     ]
    },
    {
     "name": "stderr",
     "output_type": "stream",
     "text": [
      "INFO:ComponentProgress:84\n",
      "INFO:ComponentProgress:84\n",
      "INFO:ComponentProgress:84\n",
      "INFO:ComponentProgress:84\n",
      "INFO:ComponentProgress:84\n"
     ]
    },
    {
     "name": "stdout",
     "output_type": "stream",
     "text": [
      "INFO     data_access_component get_data_urls: 228: 84\n"
     ]
    },
    {
     "name": "stderr",
     "output_type": "stream",
     "text": [
      "INFO:ComponentProgress:87\n",
      "INFO:ComponentProgress:87\n",
      "INFO:ComponentProgress:87\n",
      "INFO:ComponentProgress:87\n",
      "INFO:ComponentProgress:87\n"
     ]
    },
    {
     "name": "stdout",
     "output_type": "stream",
     "text": [
      "INFO     data_access_component get_data_urls: 228: 87\n"
     ]
    },
    {
     "name": "stderr",
     "output_type": "stream",
     "text": [
      "INFO:ComponentProgress:90\n",
      "INFO:ComponentProgress:90\n",
      "INFO:ComponentProgress:90\n",
      "INFO:ComponentProgress:90\n",
      "INFO:ComponentProgress:90\n"
     ]
    },
    {
     "name": "stdout",
     "output_type": "stream",
     "text": [
      "INFO     data_access_component get_data_urls: 228: 90\n"
     ]
    },
    {
     "name": "stderr",
     "output_type": "stream",
     "text": [
      "INFO:ComponentProgress:93\n",
      "INFO:ComponentProgress:93\n",
      "INFO:ComponentProgress:93\n",
      "INFO:ComponentProgress:93\n",
      "INFO:ComponentProgress:93\n"
     ]
    },
    {
     "name": "stdout",
     "output_type": "stream",
     "text": [
      "INFO     data_access_component get_data_urls: 228: 93\n"
     ]
    },
    {
     "name": "stderr",
     "output_type": "stream",
     "text": [
      "INFO:ComponentProgress:96\n",
      "INFO:ComponentProgress:96\n",
      "INFO:ComponentProgress:96\n",
      "INFO:ComponentProgress:96\n",
      "INFO:ComponentProgress:96\n"
     ]
    },
    {
     "name": "stdout",
     "output_type": "stream",
     "text": [
      "INFO     data_access_component get_data_urls: 228: 96\n",
      "Retrieving CAMS data ...\n",
      "DEBUG    connectionpool _new_conn: 208: Starting new HTTP connection (1): www2.geog.ucl.ac.uk\n",
      "DEBUG    connectionpool _make_request: 396: http://www2.geog.ucl.ac.uk:80 \"GET /~ucfafyi/cams/ HTTP/1.1\" 200 None\n"
     ]
    },
    {
     "name": "stderr",
     "output_type": "stream",
     "text": [
      "INFO:ComponentProgress:0\n",
      "INFO:ComponentProgress:0\n",
      "INFO:ComponentProgress:0\n",
      "INFO:ComponentProgress:0\n",
      "INFO:ComponentProgress:0\n"
     ]
    },
    {
     "name": "stdout",
     "output_type": "stream",
     "text": [
      "INFO     data_access_component get_data_urls: 228: 0\n",
      "Retrieving S2 L1C data ...\n",
      "DEBUG    connectionpool _new_conn: 824: Starting new HTTPS connection (1): mundiwebservices.com\n",
      "DEBUG    connectionpool _make_request: 396: https://mundiwebservices.com:443 \"GET /acdc/catalog/proxy/search/Sentinel2/opensearch?q=((sensingStartDate:[2018-05-10T00:00:00Z%20TO%202018-05-10T23:59:59Z]%20AND%20footprint:%22Intersects(POLYGON%20((27.2725456794999985%2058.2252523466000014,%2027.2720041126999995%2058.3418423195999978,%2027.3885799673000001%2058.3362682903999996,%2027.3774098023000008%2058.2196966528999980,%2027.2725456794999985%2058.2252523466000014)))%22)&startIndex=1&maxRecords=10&processingLevel=L1C&instrument=MSI&productType=IMAGE) HTTP/1.1\" 200 None\n",
      "DEBUG    connectionpool _new_conn: 824: Starting new HTTPS connection (1): mundiwebservices.com\n",
      "DEBUG    connectionpool _make_request: 396: https://mundiwebservices.com:443 \"GET /acdc/catalog/proxy/search/Sentinel2/opensearch?q=((sensingStartDate:[2018-05-10T00:00:00Z%20TO%202018-05-10T23:59:59Z]%20AND%20footprint:%22Intersects(POLYGON%20((27.2725456794999985%2058.2252523466000014,%2027.2720041126999995%2058.3418423195999978,%2027.3885799673000001%2058.3362682903999996,%2027.3774098023000008%2058.2196966528999980,%2027.2725456794999985%2058.2252523466000014)))%22)&startIndex=11&maxRecords=10&processingLevel=L1C&instrument=MSI&productType=IMAGE) HTTP/1.1\" 200 None\n"
     ]
    },
    {
     "name": "stderr",
     "output_type": "stream",
     "text": [
      "INFO:ComponentProgress:0\n",
      "INFO:ComponentProgress:0\n",
      "INFO:ComponentProgress:0\n",
      "INFO:ComponentProgress:0\n",
      "INFO:ComponentProgress:0\n"
     ]
    },
    {
     "name": "stdout",
     "output_type": "stream",
     "text": [
      "INFO     data_access_component get_data_urls: 228: 0\n",
      "Done retrieving dynamic data\n",
      "Start pre-processing S2 L1 data from 2018-05-10\n",
      "Finished pre-processing S2 L1 data from 2018-05-10\n",
      "INFO     prior_engine __init__:  83: Using config file: /data/working_dirs/m1/config.yaml\n",
      "INFO     prior_engine __init__:  91: Loading sub-engines for variables.\n",
      "INFO     prior_engine __init__:  95: Got following prior_creator_registrations from entry points: [EntryPoint.parse('soil_moisture_prior_creator = multiply_prior_engine:soilmoisture_prior_creator.SoilMoisturePriorCreator'), EntryPoint.parse('vegetation_prior_creator = multiply_prior_engine:vegetation_prior_creator.VegetationPriorCreator')]\n",
      "INFO     prior_engine __init__: 102: Sub-engine for sm: <class 'multiply_prior_engine.soilmoisture_prior_creator.SoilMoisturePriorCreator'>.\n",
      "INFO     prior_engine __init__: 102: Sub-engine for clay_fraction: <class 'multiply_prior_engine.soilmoisture_prior_creator.SoilMoisturePriorCreator'>.\n",
      "INFO     prior_engine __init__: 102: Sub-engine for sand_fraction: <class 'multiply_prior_engine.soilmoisture_prior_creator.SoilMoisturePriorCreator'>.\n",
      "INFO     prior_engine __init__: 102: Sub-engine for sr: <class 'multiply_prior_engine.soilmoisture_prior_creator.SoilMoisturePriorCreator'>.\n",
      "INFO     prior_engine __init__: 102: Sub-engine for lai: <class 'multiply_prior_engine.vegetation_prior_creator.VegetationPriorCreator'>.\n",
      "INFO     prior_engine __init__: 102: Sub-engine for cab: <class 'multiply_prior_engine.vegetation_prior_creator.VegetationPriorCreator'>.\n",
      "INFO     prior_engine __init__: 102: Sub-engine for cb: <class 'multiply_prior_engine.vegetation_prior_creator.VegetationPriorCreator'>.\n",
      "INFO     prior_engine __init__: 102: Sub-engine for car: <class 'multiply_prior_engine.vegetation_prior_creator.VegetationPriorCreator'>.\n",
      "INFO     prior_engine __init__: 102: Sub-engine for cw: <class 'multiply_prior_engine.vegetation_prior_creator.VegetationPriorCreator'>.\n",
      "INFO     prior_engine __init__: 102: Sub-engine for cdm: <class 'multiply_prior_engine.vegetation_prior_creator.VegetationPriorCreator'>.\n",
      "INFO     prior_engine __init__: 102: Sub-engine for n: <class 'multiply_prior_engine.vegetation_prior_creator.VegetationPriorCreator'>.\n",
      "INFO     prior_engine __init__: 102: Sub-engine for ala: <class 'multiply_prior_engine.vegetation_prior_creator.VegetationPriorCreator'>.\n",
      "INFO     prior_engine __init__: 102: Sub-engine for h: <class 'multiply_prior_engine.vegetation_prior_creator.VegetationPriorCreator'>.\n",
      "INFO     prior_engine __init__: 102: Sub-engine for bsoil: <class 'multiply_prior_engine.vegetation_prior_creator.VegetationPriorCreator'>.\n",
      "INFO     prior_engine __init__: 102: Sub-engine for psoil: <class 'multiply_prior_engine.vegetation_prior_creator.VegetationPriorCreator'>.\n",
      "INFO     prior_engine __init__: 104: Got sub-engines for ['sm', 'clay_fraction', 'sand_fraction', 'sr', 'lai', 'cab', 'cb', 'car', 'cw', 'cdm', 'n', 'ala', 'h', 'bsoil', 'psoil'].\n",
      "DEBUG    prior_engine _check: 132: Loaded config:\n",
      "{'General': {'end_time': '2018-05-10', 'roi': 'POLYGON((27.2725456795 58.2252523466, 27.2720041127 58.3418423196, 27.3885799673 58.3362682904, 27.3774098023 58.2196966529, 27.2725456795 58.2252523466))', 'start_time': '2018-05-10', 'time_interval': 1}, 'Prior': {'General': {'directory_data': '/data/auxiliary/priors/Static/Vegetation/'}, 'ala': {'database': {'static_dir': 'same as General directory_data'}}, 'bsoil': {'database': {'static_dir': 'same as General directory_data'}}, 'cab': {'database': {'static_dir': 'same as General directory_data'}}, 'car': {'database': {'static_dir': 'same as General directory_data'}}, 'cb': {'database': {'static_dir': 'same as General directory_data'}}, 'cdm': {'database': {'static_dir': 'same as General directory_data'}}, 'cw': {'database': {'static_dir': 'same as General directory_data'}}, 'lai': {'user': {'mu': 3.0, 'unc': 0.2}}, 'n': {'database': {'static_dir': 'same as General directory_data'}}, 'output_directory': '/data/working_dirs/m1/priors/2018-05-10/', 'psoil': {'database': {'static_dir': 'same as General directory_data'}}}}.\n",
      "INFO     prior_engine __init__: 108: Loaded /data/working_dirs/m1/config.yaml.\n"
     ]
    },
    {
     "name": "stderr",
     "output_type": "stream",
     "text": [
      "INFO:ComponentProgress:0\n",
      "INFO:ComponentProgress:0\n",
      "INFO:ComponentProgress:0\n",
      "INFO:ComponentProgress:0\n",
      "INFO:ComponentProgress:0\n"
     ]
    },
    {
     "name": "stdout",
     "output_type": "stream",
     "text": [
      "INFO     prior_engine get_priors: 150: 0\n",
      "INFO     prior_engine _get_prior: 176: Getting prior for variable *lai*.\n",
      "INFO     prior_engine _get_prior: 193: Initializing <class 'multiply_prior_engine.vegetation_prior_creator.VegetationPriorCreator'> for lai user prior:\n",
      "20.00 50.00\n",
      "INFO     vegetation_prior_creator CombineTiles2Virtualfile:1564: Successfully created /data/working_dirs/m1/priors/2018-05-10/Priors_lai_130_global.vrt.\n"
     ]
    },
    {
     "name": "stderr",
     "output_type": "stream",
     "text": [
      "INFO:ComponentProgress:10\n",
      "INFO:ComponentProgress:10\n",
      "INFO:ComponentProgress:10\n",
      "INFO:ComponentProgress:10\n",
      "INFO:ComponentProgress:10\n"
     ]
    },
    {
     "name": "stdout",
     "output_type": "stream",
     "text": [
      "INFO     prior_engine get_priors: 150: 10\n",
      "INFO     prior_engine _get_prior: 176: Getting prior for variable *bsoil*.\n",
      "INFO     prior_engine _get_prior: 193: Initializing <class 'multiply_prior_engine.vegetation_prior_creator.VegetationPriorCreator'> for bsoil database prior:\n",
      "INFO     vegetation_prior_creator CombineTiles2Virtualfile:1564: Successfully created /data/working_dirs/m1/priors/2018-05-10/Priors_bsoil_130_global.vrt.\n"
     ]
    },
    {
     "name": "stderr",
     "output_type": "stream",
     "text": [
      "INFO:ComponentProgress:20\n",
      "INFO:ComponentProgress:20\n",
      "INFO:ComponentProgress:20\n",
      "INFO:ComponentProgress:20\n",
      "INFO:ComponentProgress:20\n"
     ]
    },
    {
     "name": "stdout",
     "output_type": "stream",
     "text": [
      "INFO     prior_engine get_priors: 150: 20\n",
      "INFO     prior_engine _get_prior: 176: Getting prior for variable *cb*.\n",
      "INFO     prior_engine _get_prior: 193: Initializing <class 'multiply_prior_engine.vegetation_prior_creator.VegetationPriorCreator'> for cb database prior:\n",
      "INFO     vegetation_prior_creator CombineTiles2Virtualfile:1564: Successfully created /data/working_dirs/m1/priors/2018-05-10/Priors_cb_130_global.vrt.\n"
     ]
    },
    {
     "name": "stderr",
     "output_type": "stream",
     "text": [
      "INFO:ComponentProgress:30\n",
      "INFO:ComponentProgress:30\n",
      "INFO:ComponentProgress:30\n",
      "INFO:ComponentProgress:30\n",
      "INFO:ComponentProgress:30\n"
     ]
    },
    {
     "name": "stdout",
     "output_type": "stream",
     "text": [
      "INFO     prior_engine get_priors: 150: 30\n",
      "INFO     prior_engine _get_prior: 176: Getting prior for variable *psoil*.\n",
      "INFO     prior_engine _get_prior: 193: Initializing <class 'multiply_prior_engine.vegetation_prior_creator.VegetationPriorCreator'> for psoil database prior:\n",
      "INFO     vegetation_prior_creator CombineTiles2Virtualfile:1564: Successfully created /data/working_dirs/m1/priors/2018-05-10/Priors_psoil_130_global.vrt.\n"
     ]
    },
    {
     "name": "stderr",
     "output_type": "stream",
     "text": [
      "INFO:ComponentProgress:40\n",
      "INFO:ComponentProgress:40\n",
      "INFO:ComponentProgress:40\n",
      "INFO:ComponentProgress:40\n",
      "INFO:ComponentProgress:40\n"
     ]
    },
    {
     "name": "stdout",
     "output_type": "stream",
     "text": [
      "INFO     prior_engine get_priors: 150: 40\n",
      "INFO     prior_engine _get_prior: 176: Getting prior for variable *ala*.\n",
      "INFO     prior_engine _get_prior: 193: Initializing <class 'multiply_prior_engine.vegetation_prior_creator.VegetationPriorCreator'> for ala database prior:\n",
      "INFO     vegetation_prior_creator CombineTiles2Virtualfile:1564: Successfully created /data/working_dirs/m1/priors/2018-05-10/Priors_ala_130_global.vrt.\n"
     ]
    },
    {
     "name": "stderr",
     "output_type": "stream",
     "text": [
      "INFO:ComponentProgress:50\n",
      "INFO:ComponentProgress:50\n",
      "INFO:ComponentProgress:50\n",
      "INFO:ComponentProgress:50\n",
      "INFO:ComponentProgress:50\n"
     ]
    },
    {
     "name": "stdout",
     "output_type": "stream",
     "text": [
      "INFO     prior_engine get_priors: 150: 50\n",
      "INFO     prior_engine _get_prior: 176: Getting prior for variable *n*.\n",
      "INFO     prior_engine _get_prior: 193: Initializing <class 'multiply_prior_engine.vegetation_prior_creator.VegetationPriorCreator'> for n database prior:\n",
      "INFO     vegetation_prior_creator CombineTiles2Virtualfile:1564: Successfully created /data/working_dirs/m1/priors/2018-05-10/Priors_n_130_global.vrt.\n"
     ]
    },
    {
     "name": "stderr",
     "output_type": "stream",
     "text": [
      "INFO:ComponentProgress:60\n",
      "INFO:ComponentProgress:60\n",
      "INFO:ComponentProgress:60\n",
      "INFO:ComponentProgress:60\n",
      "INFO:ComponentProgress:60\n"
     ]
    },
    {
     "name": "stdout",
     "output_type": "stream",
     "text": [
      "INFO     prior_engine get_priors: 150: 60\n",
      "INFO     prior_engine _get_prior: 176: Getting prior for variable *cw*.\n",
      "INFO     prior_engine _get_prior: 193: Initializing <class 'multiply_prior_engine.vegetation_prior_creator.VegetationPriorCreator'> for cw database prior:\n",
      "INFO     vegetation_prior_creator CombineTiles2Virtualfile:1564: Successfully created /data/working_dirs/m1/priors/2018-05-10/Priors_cw_130_global.vrt.\n"
     ]
    },
    {
     "name": "stderr",
     "output_type": "stream",
     "text": [
      "INFO:ComponentProgress:70\n",
      "INFO:ComponentProgress:70\n",
      "INFO:ComponentProgress:70\n",
      "INFO:ComponentProgress:70\n",
      "INFO:ComponentProgress:70\n"
     ]
    },
    {
     "name": "stdout",
     "output_type": "stream",
     "text": [
      "INFO     prior_engine get_priors: 150: 70\n",
      "INFO     prior_engine _get_prior: 176: Getting prior for variable *car*.\n",
      "INFO     prior_engine _get_prior: 193: Initializing <class 'multiply_prior_engine.vegetation_prior_creator.VegetationPriorCreator'> for car database prior:\n",
      "INFO     vegetation_prior_creator CombineTiles2Virtualfile:1564: Successfully created /data/working_dirs/m1/priors/2018-05-10/Priors_car_130_global.vrt.\n"
     ]
    },
    {
     "name": "stderr",
     "output_type": "stream",
     "text": [
      "INFO:ComponentProgress:80\n",
      "INFO:ComponentProgress:80\n",
      "INFO:ComponentProgress:80\n",
      "INFO:ComponentProgress:80\n",
      "INFO:ComponentProgress:80\n"
     ]
    },
    {
     "name": "stdout",
     "output_type": "stream",
     "text": [
      "INFO     prior_engine get_priors: 150: 80\n",
      "INFO     prior_engine _get_prior: 176: Getting prior for variable *cdm*.\n",
      "INFO     prior_engine _get_prior: 193: Initializing <class 'multiply_prior_engine.vegetation_prior_creator.VegetationPriorCreator'> for cdm database prior:\n",
      "INFO     vegetation_prior_creator CombineTiles2Virtualfile:1564: Successfully created /data/working_dirs/m1/priors/2018-05-10/Priors_cdm_130_global.vrt.\n"
     ]
    },
    {
     "name": "stderr",
     "output_type": "stream",
     "text": [
      "INFO:ComponentProgress:90\n",
      "INFO:ComponentProgress:90\n",
      "INFO:ComponentProgress:90\n",
      "INFO:ComponentProgress:90\n",
      "INFO:ComponentProgress:90\n"
     ]
    },
    {
     "name": "stdout",
     "output_type": "stream",
     "text": [
      "INFO     prior_engine get_priors: 150: 90\n",
      "INFO     prior_engine _get_prior: 176: Getting prior for variable *cab*.\n",
      "INFO     prior_engine _get_prior: 193: Initializing <class 'multiply_prior_engine.vegetation_prior_creator.VegetationPriorCreator'> for cab database prior:\n",
      "INFO     vegetation_prior_creator CombineTiles2Virtualfile:1564: Successfully created /data/working_dirs/m1/priors/2018-05-10/Priors_cab_130_global.vrt.\n",
      "INFO     inference_engine _infer: 169: Checking for forward model s2_prosail\n",
      "INFO     inference_engine _infer: 172: Forward model s2_prosail found\n",
      "INFO     inference_prior __init__:  59: Using global files to access prior information\n",
      "INFO     inference_engine _get_valid_files:  62: retrieve observations from /data/working_dirs/m1/sdrs/2018-05-10/S2A_MSIL1C_20180510T094031_N0206_R036_T35VNE_20180510T114819-ac\n",
      "INFO     observations create_observations: 224: Set emulator directory to /data/auxiliary/models/s2_prosail\n",
      "INFO     linear_kf __init__:  94: Starting KaFKA run!!!\n",
      "INFO     utils iterate_time_grid:  49: Doing timestep from 2018-05-10 -> 2018-05-11\n",
      "INFO     utils iterate_time_grid:  50: # of Observations: 1\n",
      "INFO     utils iterate_time_grid:  52: \t->2018-05-10\n",
      "INFO     linear_kf assimilate_multiple_bands: 230: Assimilating 2018-05-10...\n"
     ]
    },
    {
     "name": "stderr",
     "output_type": "stream",
     "text": [
      "/software/multiply-core/multiply_core/observations/s2_observations.py:89: RuntimeWarning: divide by zero encountered in true_divide\n",
      "  r_mat_sp.setdiag(1. / (r_mat.ravel()) ** 2)\n",
      "INFO:ComponentProgress:0\n",
      "INFO:ComponentProgress:0\n",
      "INFO:ComponentProgress:0\n",
      "INFO:ComponentProgress:0\n",
      "INFO:ComponentProgress:0\n"
     ]
    },
    {
     "name": "stdout",
     "output_type": "stream",
     "text": [
      "INFO     linear_kf do_all_bands: 262: 0\n",
      "INFO     utils create_prosail_observation_operator: 188: Creating the ObsOp for band 0\n",
      "INFO     utils create_prosail_observation_operator: 201: Running emulators\n",
      "INFO     utils create_prosail_observation_operator: 207: Storing emulators in H matrix\n",
      "INFO     utils create_prosail_observation_operator: 216: \tDone!\n",
      "INFO     utils create_prosail_observation_operator: 188: Creating the ObsOp for band 1\n",
      "INFO     utils create_prosail_observation_operator: 201: Running emulators\n",
      "INFO     utils create_prosail_observation_operator: 207: Storing emulators in H matrix\n",
      "INFO     utils create_prosail_observation_operator: 216: \tDone!\n",
      "INFO     utils create_prosail_observation_operator: 188: Creating the ObsOp for band 2\n",
      "INFO     utils create_prosail_observation_operator: 201: Running emulators\n",
      "INFO     utils create_prosail_observation_operator: 207: Storing emulators in H matrix\n",
      "INFO     utils create_prosail_observation_operator: 216: \tDone!\n",
      "INFO     utils create_prosail_observation_operator: 188: Creating the ObsOp for band 3\n",
      "INFO     utils create_prosail_observation_operator: 201: Running emulators\n",
      "INFO     utils create_prosail_observation_operator: 207: Storing emulators in H matrix\n",
      "INFO     utils create_prosail_observation_operator: 216: \tDone!\n",
      "INFO     utils create_prosail_observation_operator: 188: Creating the ObsOp for band 4\n",
      "INFO     utils create_prosail_observation_operator: 201: Running emulators\n",
      "INFO     utils create_prosail_observation_operator: 207: Storing emulators in H matrix\n",
      "INFO     utils create_prosail_observation_operator: 216: \tDone!\n",
      "INFO     utils create_prosail_observation_operator: 188: Creating the ObsOp for band 5\n",
      "INFO     utils create_prosail_observation_operator: 201: Running emulators\n",
      "INFO     utils create_prosail_observation_operator: 207: Storing emulators in H matrix\n",
      "INFO     utils create_prosail_observation_operator: 216: \tDone!\n",
      "INFO     utils create_prosail_observation_operator: 188: Creating the ObsOp for band 6\n",
      "INFO     utils create_prosail_observation_operator: 201: Running emulators\n",
      "INFO     utils create_prosail_observation_operator: 207: Storing emulators in H matrix\n",
      "INFO     utils create_prosail_observation_operator: 216: \tDone!\n",
      "INFO     utils create_prosail_observation_operator: 188: Creating the ObsOp for band 7\n",
      "INFO     utils create_prosail_observation_operator: 201: Running emulators\n",
      "INFO     utils create_prosail_observation_operator: 207: Storing emulators in H matrix\n",
      "INFO     utils create_prosail_observation_operator: 216: \tDone!\n",
      "INFO     utils create_prosail_observation_operator: 188: Creating the ObsOp for band 8\n",
      "INFO     utils create_prosail_observation_operator: 201: Running emulators\n",
      "INFO     utils create_prosail_observation_operator: 207: Storing emulators in H matrix\n",
      "INFO     utils create_prosail_observation_operator: 216: \tDone!\n",
      "INFO     utils create_prosail_observation_operator: 188: Creating the ObsOp for band 9\n",
      "INFO     utils create_prosail_observation_operator: 201: Running emulators\n",
      "INFO     utils create_prosail_observation_operator: 207: Storing emulators in H matrix\n",
      "INFO     utils create_prosail_observation_operator: 216: \tDone!\n",
      "INFO     solvers variational_kalman_multiband: 124: Solving\n",
      "INFO     linear_kf do_all_bands: 313: Band 9, Iteration # 1, convergence norm: 9.89411e-06\n"
     ]
    },
    {
     "name": "stderr",
     "output_type": "stream",
     "text": [
      "INFO:ComponentProgress:4\n",
      "INFO:ComponentProgress:4\n",
      "INFO:ComponentProgress:4\n",
      "INFO:ComponentProgress:4\n",
      "INFO:ComponentProgress:4\n"
     ]
    },
    {
     "name": "stdout",
     "output_type": "stream",
     "text": [
      "INFO     linear_kf do_all_bands: 262: 4\n",
      "INFO     utils create_prosail_observation_operator: 188: Creating the ObsOp for band 0\n",
      "INFO     utils create_prosail_observation_operator: 201: Running emulators\n",
      "INFO     utils create_prosail_observation_operator: 207: Storing emulators in H matrix\n",
      "INFO     utils create_prosail_observation_operator: 216: \tDone!\n",
      "INFO     utils create_prosail_observation_operator: 188: Creating the ObsOp for band 1\n",
      "INFO     utils create_prosail_observation_operator: 201: Running emulators\n",
      "INFO     utils create_prosail_observation_operator: 207: Storing emulators in H matrix\n",
      "INFO     utils create_prosail_observation_operator: 216: \tDone!\n",
      "INFO     utils create_prosail_observation_operator: 188: Creating the ObsOp for band 2\n",
      "INFO     utils create_prosail_observation_operator: 201: Running emulators\n",
      "INFO     utils create_prosail_observation_operator: 207: Storing emulators in H matrix\n",
      "INFO     utils create_prosail_observation_operator: 216: \tDone!\n",
      "INFO     utils create_prosail_observation_operator: 188: Creating the ObsOp for band 3\n",
      "INFO     utils create_prosail_observation_operator: 201: Running emulators\n",
      "INFO     utils create_prosail_observation_operator: 207: Storing emulators in H matrix\n",
      "INFO     utils create_prosail_observation_operator: 216: \tDone!\n",
      "INFO     utils create_prosail_observation_operator: 188: Creating the ObsOp for band 4\n",
      "INFO     utils create_prosail_observation_operator: 201: Running emulators\n",
      "INFO     utils create_prosail_observation_operator: 207: Storing emulators in H matrix\n",
      "INFO     utils create_prosail_observation_operator: 216: \tDone!\n",
      "INFO     utils create_prosail_observation_operator: 188: Creating the ObsOp for band 5\n",
      "INFO     utils create_prosail_observation_operator: 201: Running emulators\n",
      "INFO     utils create_prosail_observation_operator: 207: Storing emulators in H matrix\n",
      "INFO     utils create_prosail_observation_operator: 216: \tDone!\n",
      "INFO     utils create_prosail_observation_operator: 188: Creating the ObsOp for band 6\n",
      "INFO     utils create_prosail_observation_operator: 201: Running emulators\n",
      "INFO     utils create_prosail_observation_operator: 207: Storing emulators in H matrix\n",
      "INFO     utils create_prosail_observation_operator: 216: \tDone!\n",
      "INFO     utils create_prosail_observation_operator: 188: Creating the ObsOp for band 7\n",
      "INFO     utils create_prosail_observation_operator: 201: Running emulators\n",
      "INFO     utils create_prosail_observation_operator: 207: Storing emulators in H matrix\n",
      "INFO     utils create_prosail_observation_operator: 216: \tDone!\n",
      "INFO     utils create_prosail_observation_operator: 188: Creating the ObsOp for band 8\n",
      "INFO     utils create_prosail_observation_operator: 201: Running emulators\n",
      "INFO     utils create_prosail_observation_operator: 207: Storing emulators in H matrix\n",
      "INFO     utils create_prosail_observation_operator: 216: \tDone!\n",
      "INFO     utils create_prosail_observation_operator: 188: Creating the ObsOp for band 9\n",
      "INFO     utils create_prosail_observation_operator: 201: Running emulators\n",
      "INFO     utils create_prosail_observation_operator: 207: Storing emulators in H matrix\n",
      "INFO     utils create_prosail_observation_operator: 216: \tDone!\n",
      "INFO     solvers variational_kalman_multiband: 124: Solving\n",
      "INFO     linear_kf do_all_bands: 313: Band 9, Iteration # 2, convergence norm: 0.00010134\n",
      "INFO     utils create_prosail_observation_operator: 188: Creating the ObsOp for band 0\n",
      "INFO     utils create_prosail_observation_operator: 201: Running emulators\n",
      "INFO     utils create_prosail_observation_operator: 207: Storing emulators in H matrix\n",
      "INFO     utils create_prosail_observation_operator: 216: \tDone!\n",
      "INFO     utils create_prosail_observation_operator: 188: Creating the ObsOp for band 1\n",
      "INFO     utils create_prosail_observation_operator: 201: Running emulators\n",
      "INFO     utils create_prosail_observation_operator: 207: Storing emulators in H matrix\n",
      "INFO     utils create_prosail_observation_operator: 216: \tDone!\n",
      "INFO     utils create_prosail_observation_operator: 188: Creating the ObsOp for band 2\n",
      "INFO     utils create_prosail_observation_operator: 201: Running emulators\n",
      "INFO     utils create_prosail_observation_operator: 207: Storing emulators in H matrix\n",
      "INFO     utils create_prosail_observation_operator: 216: \tDone!\n",
      "INFO     utils create_prosail_observation_operator: 188: Creating the ObsOp for band 3\n",
      "INFO     utils create_prosail_observation_operator: 201: Running emulators\n",
      "INFO     utils create_prosail_observation_operator: 207: Storing emulators in H matrix\n",
      "INFO     utils create_prosail_observation_operator: 216: \tDone!\n",
      "INFO     utils create_prosail_observation_operator: 188: Creating the ObsOp for band 4\n",
      "INFO     utils create_prosail_observation_operator: 201: Running emulators\n",
      "INFO     utils create_prosail_observation_operator: 207: Storing emulators in H matrix\n",
      "INFO     utils create_prosail_observation_operator: 216: \tDone!\n",
      "INFO     utils create_prosail_observation_operator: 188: Creating the ObsOp for band 5\n",
      "INFO     utils create_prosail_observation_operator: 201: Running emulators\n",
      "INFO     utils create_prosail_observation_operator: 207: Storing emulators in H matrix\n",
      "INFO     utils create_prosail_observation_operator: 216: \tDone!\n",
      "INFO     utils create_prosail_observation_operator: 188: Creating the ObsOp for band 6\n",
      "INFO     utils create_prosail_observation_operator: 201: Running emulators\n",
      "INFO     utils create_prosail_observation_operator: 207: Storing emulators in H matrix\n",
      "INFO     utils create_prosail_observation_operator: 216: \tDone!\n",
      "INFO     utils create_prosail_observation_operator: 188: Creating the ObsOp for band 7\n",
      "INFO     utils create_prosail_observation_operator: 201: Running emulators\n",
      "INFO     utils create_prosail_observation_operator: 207: Storing emulators in H matrix\n",
      "INFO     utils create_prosail_observation_operator: 216: \tDone!\n",
      "INFO     utils create_prosail_observation_operator: 188: Creating the ObsOp for band 8\n",
      "INFO     utils create_prosail_observation_operator: 201: Running emulators\n",
      "INFO     utils create_prosail_observation_operator: 207: Storing emulators in H matrix\n",
      "INFO     utils create_prosail_observation_operator: 216: \tDone!\n",
      "INFO     utils create_prosail_observation_operator: 188: Creating the ObsOp for band 9\n",
      "INFO     utils create_prosail_observation_operator: 201: Running emulators\n",
      "INFO     utils create_prosail_observation_operator: 207: Storing emulators in H matrix\n",
      "INFO     utils create_prosail_observation_operator: 216: \tDone!\n",
      "INFO     linear_kf run: 210: Dumping results to disk\n"
     ]
    },
    {
     "name": "stderr",
     "output_type": "stream",
     "text": [
      "INFO:Writer:Expecting height 696 and width 308 as (696, 308), receiving (696, 308)\n"
     ]
    },
    {
     "name": "stdout",
     "output_type": "stream",
     "text": [
      "INFO     output write: 104: Expecting height 696 and width 308 as (696, 308), receiving (696, 308)\n"
     ]
    },
    {
     "name": "stderr",
     "output_type": "stream",
     "text": [
      "INFO:Writer:Expecting height 696 and width 308 as (696, 308), receiving (696, 308)\n"
     ]
    },
    {
     "name": "stdout",
     "output_type": "stream",
     "text": [
      "INFO     output write: 104: Expecting height 696 and width 308 as (696, 308), receiving (696, 308)\n"
     ]
    },
    {
     "name": "stderr",
     "output_type": "stream",
     "text": [
      "INFO:Writer:Expecting height 696 and width 308 as (696, 308), receiving (696, 308)\n"
     ]
    },
    {
     "name": "stdout",
     "output_type": "stream",
     "text": [
      "INFO     output write: 104: Expecting height 696 and width 308 as (696, 308), receiving (696, 308)\n"
     ]
    },
    {
     "name": "stderr",
     "output_type": "stream",
     "text": [
      "INFO:Writer:Expecting height 696 and width 308 as (696, 308), receiving (696, 308)\n"
     ]
    },
    {
     "name": "stdout",
     "output_type": "stream",
     "text": [
      "INFO     output write: 104: Expecting height 696 and width 308 as (696, 308), receiving (696, 308)\n"
     ]
    },
    {
     "name": "stderr",
     "output_type": "stream",
     "text": [
      "INFO:Writer:Expecting height 696 and width 308 as (696, 308), receiving (696, 308)\n"
     ]
    },
    {
     "name": "stdout",
     "output_type": "stream",
     "text": [
      "INFO     output write: 104: Expecting height 696 and width 308 as (696, 308), receiving (696, 308)\n"
     ]
    },
    {
     "name": "stderr",
     "output_type": "stream",
     "text": [
      "INFO:Writer:Expecting height 696 and width 308 as (696, 308), receiving (696, 308)\n"
     ]
    },
    {
     "name": "stdout",
     "output_type": "stream",
     "text": [
      "INFO     output write: 104: Expecting height 696 and width 308 as (696, 308), receiving (696, 308)\n"
     ]
    },
    {
     "name": "stderr",
     "output_type": "stream",
     "text": [
      "INFO:Writer:Expecting height 696 and width 308 as (696, 308), receiving (696, 308)\n"
     ]
    },
    {
     "name": "stdout",
     "output_type": "stream",
     "text": [
      "INFO     output write: 104: Expecting height 696 and width 308 as (696, 308), receiving (696, 308)\n"
     ]
    },
    {
     "name": "stderr",
     "output_type": "stream",
     "text": [
      "INFO:Writer:Expecting height 696 and width 308 as (696, 308), receiving (696, 308)\n"
     ]
    },
    {
     "name": "stdout",
     "output_type": "stream",
     "text": [
      "INFO     output write: 104: Expecting height 696 and width 308 as (696, 308), receiving (696, 308)\n"
     ]
    },
    {
     "name": "stderr",
     "output_type": "stream",
     "text": [
      "INFO:Writer:Expecting height 696 and width 308 as (696, 308), receiving (696, 308)\n"
     ]
    },
    {
     "name": "stdout",
     "output_type": "stream",
     "text": [
      "INFO     output write: 104: Expecting height 696 and width 308 as (696, 308), receiving (696, 308)\n"
     ]
    },
    {
     "name": "stderr",
     "output_type": "stream",
     "text": [
      "INFO:Writer:Expecting height 696 and width 308 as (696, 308), receiving (696, 308)\n"
     ]
    },
    {
     "name": "stdout",
     "output_type": "stream",
     "text": [
      "INFO     output write: 104: Expecting height 696 and width 308 as (696, 308), receiving (696, 308)\n"
     ]
    },
    {
     "name": "stderr",
     "output_type": "stream",
     "text": [
      "INFO:Writer:Expecting height 696 and width 308 as (696, 308), receiving (696, 308)\n"
     ]
    },
    {
     "name": "stdout",
     "output_type": "stream",
     "text": [
      "INFO     output write: 104: Expecting height 696 and width 308 as (696, 308), receiving (696, 308)\n"
     ]
    },
    {
     "name": "stderr",
     "output_type": "stream",
     "text": [
      "INFO:Writer:Expecting height 696 and width 308 as (696, 308), receiving (696, 308)\n"
     ]
    },
    {
     "name": "stdout",
     "output_type": "stream",
     "text": [
      "INFO     output write: 104: Expecting height 696 and width 308 as (696, 308), receiving (696, 308)\n"
     ]
    },
    {
     "name": "stderr",
     "output_type": "stream",
     "text": [
      "INFO:Writer:Expecting height 696 and width 308 as (696, 308), receiving (696, 308)\n"
     ]
    },
    {
     "name": "stdout",
     "output_type": "stream",
     "text": [
      "INFO     output write: 104: Expecting height 696 and width 308 as (696, 308), receiving (696, 308)\n"
     ]
    },
    {
     "name": "stderr",
     "output_type": "stream",
     "text": [
      "INFO:Writer:Expecting height 696 and width 308 as (696, 308), receiving (696, 308)\n"
     ]
    },
    {
     "name": "stdout",
     "output_type": "stream",
     "text": [
      "INFO     output write: 104: Expecting height 696 and width 308 as (696, 308), receiving (696, 308)\n"
     ]
    },
    {
     "name": "stderr",
     "output_type": "stream",
     "text": [
      "INFO:Writer:Expecting height 696 and width 308 as (696, 308), receiving (696, 308)\n"
     ]
    },
    {
     "name": "stdout",
     "output_type": "stream",
     "text": [
      "INFO     output write: 104: Expecting height 696 and width 308 as (696, 308), receiving (696, 308)\n"
     ]
    },
    {
     "name": "stderr",
     "output_type": "stream",
     "text": [
      "INFO:Writer:Expecting height 696 and width 308 as (696, 308), receiving (696, 308)\n"
     ]
    },
    {
     "name": "stdout",
     "output_type": "stream",
     "text": [
      "INFO     output write: 104: Expecting height 696 and width 308 as (696, 308), receiving (696, 308)\n"
     ]
    },
    {
     "name": "stderr",
     "output_type": "stream",
     "text": [
      "INFO:Writer:Expecting height 696 and width 308 as (696, 308), receiving (696, 308)\n"
     ]
    },
    {
     "name": "stdout",
     "output_type": "stream",
     "text": [
      "INFO     output write: 104: Expecting height 696 and width 308 as (696, 308), receiving (696, 308)\n"
     ]
    },
    {
     "name": "stderr",
     "output_type": "stream",
     "text": [
      "INFO:Writer:Expecting height 696 and width 308 as (696, 308), receiving (696, 308)\n"
     ]
    },
    {
     "name": "stdout",
     "output_type": "stream",
     "text": [
      "INFO     output write: 104: Expecting height 696 and width 308 as (696, 308), receiving (696, 308)\n"
     ]
    },
    {
     "name": "stderr",
     "output_type": "stream",
     "text": [
      "INFO:Writer:Expecting height 696 and width 308 as (696, 308), receiving (696, 308)\n"
     ]
    },
    {
     "name": "stdout",
     "output_type": "stream",
     "text": [
      "INFO     output write: 104: Expecting height 696 and width 308 as (696, 308), receiving (696, 308)\n"
     ]
    },
    {
     "name": "stderr",
     "output_type": "stream",
     "text": [
      "INFO:Writer:Expecting height 696 and width 308 as (696, 308), receiving (696, 308)\n"
     ]
    },
    {
     "name": "stdout",
     "output_type": "stream",
     "text": [
      "INFO     output write: 104: Expecting height 696 and width 308 as (696, 308), receiving (696, 308)\n",
      "INFO     linear_kf run: 212: Advancing state, 2018-05-11\n",
      "INFO     linear_kf advance:  98: Calling state propagator...\n",
      "INFO     linear_kf run: 216: Dumping state to disk\n",
      "Finished Inference of S2 data\n",
      "Doing time step starting on 2018-05-11\n",
      "Retrieving MODIS BRDF descriptors ...\n",
      "INFO     lpdaac_data_access _query_wrapped_meta_info_provider: 117: Found MCD43A1.006 data set for 2018-05-27 00:00:00\n"
     ]
    },
    {
     "name": "stderr",
     "output_type": "stream",
     "text": [
      "INFO:ComponentProgress:0\n",
      "INFO:ComponentProgress:0\n",
      "INFO:ComponentProgress:0\n",
      "INFO:ComponentProgress:0\n",
      "INFO:ComponentProgress:0\n"
     ]
    },
    {
     "name": "stdout",
     "output_type": "stream",
     "text": [
      "INFO     data_access_component get_data_urls: 228: 0\n"
     ]
    },
    {
     "name": "stderr",
     "output_type": "stream",
     "text": [
      "INFO:ComponentProgress:3\n",
      "INFO:ComponentProgress:3\n",
      "INFO:ComponentProgress:3\n",
      "INFO:ComponentProgress:3\n",
      "INFO:ComponentProgress:3\n"
     ]
    },
    {
     "name": "stdout",
     "output_type": "stream",
     "text": [
      "INFO     data_access_component get_data_urls: 228: 3\n"
     ]
    },
    {
     "name": "stderr",
     "output_type": "stream",
     "text": [
      "INFO:ComponentProgress:6\n",
      "INFO:ComponentProgress:6\n",
      "INFO:ComponentProgress:6\n",
      "INFO:ComponentProgress:6\n",
      "INFO:ComponentProgress:6\n"
     ]
    },
    {
     "name": "stdout",
     "output_type": "stream",
     "text": [
      "INFO     data_access_component get_data_urls: 228: 6\n"
     ]
    },
    {
     "name": "stderr",
     "output_type": "stream",
     "text": [
      "INFO:ComponentProgress:9\n",
      "INFO:ComponentProgress:9\n",
      "INFO:ComponentProgress:9\n",
      "INFO:ComponentProgress:9\n",
      "INFO:ComponentProgress:9\n"
     ]
    },
    {
     "name": "stdout",
     "output_type": "stream",
     "text": [
      "INFO     data_access_component get_data_urls: 228: 9\n"
     ]
    },
    {
     "name": "stderr",
     "output_type": "stream",
     "text": [
      "INFO:ComponentProgress:12\n",
      "INFO:ComponentProgress:12\n",
      "INFO:ComponentProgress:12\n",
      "INFO:ComponentProgress:12\n",
      "INFO:ComponentProgress:12\n"
     ]
    },
    {
     "name": "stdout",
     "output_type": "stream",
     "text": [
      "INFO     data_access_component get_data_urls: 228: 12\n"
     ]
    },
    {
     "name": "stderr",
     "output_type": "stream",
     "text": [
      "INFO:ComponentProgress:15\n",
      "INFO:ComponentProgress:15\n",
      "INFO:ComponentProgress:15\n",
      "INFO:ComponentProgress:15\n",
      "INFO:ComponentProgress:15\n"
     ]
    },
    {
     "name": "stdout",
     "output_type": "stream",
     "text": [
      "INFO     data_access_component get_data_urls: 228: 15\n"
     ]
    },
    {
     "name": "stderr",
     "output_type": "stream",
     "text": [
      "INFO:ComponentProgress:18\n",
      "INFO:ComponentProgress:18\n",
      "INFO:ComponentProgress:18\n",
      "INFO:ComponentProgress:18\n",
      "INFO:ComponentProgress:18\n"
     ]
    },
    {
     "name": "stdout",
     "output_type": "stream",
     "text": [
      "INFO     data_access_component get_data_urls: 228: 18\n"
     ]
    },
    {
     "name": "stderr",
     "output_type": "stream",
     "text": [
      "INFO:ComponentProgress:21\n",
      "INFO:ComponentProgress:21\n",
      "INFO:ComponentProgress:21\n",
      "INFO:ComponentProgress:21\n",
      "INFO:ComponentProgress:21\n"
     ]
    },
    {
     "name": "stdout",
     "output_type": "stream",
     "text": [
      "INFO     data_access_component get_data_urls: 228: 21\n"
     ]
    },
    {
     "name": "stderr",
     "output_type": "stream",
     "text": [
      "INFO:ComponentProgress:24\n",
      "INFO:ComponentProgress:24\n",
      "INFO:ComponentProgress:24\n",
      "INFO:ComponentProgress:24\n",
      "INFO:ComponentProgress:24\n"
     ]
    },
    {
     "name": "stdout",
     "output_type": "stream",
     "text": [
      "INFO     data_access_component get_data_urls: 228: 24\n"
     ]
    },
    {
     "name": "stderr",
     "output_type": "stream",
     "text": [
      "INFO:ComponentProgress:27\n",
      "INFO:ComponentProgress:27\n",
      "INFO:ComponentProgress:27\n",
      "INFO:ComponentProgress:27\n",
      "INFO:ComponentProgress:27\n"
     ]
    },
    {
     "name": "stdout",
     "output_type": "stream",
     "text": [
      "INFO     data_access_component get_data_urls: 228: 27\n"
     ]
    },
    {
     "name": "stderr",
     "output_type": "stream",
     "text": [
      "INFO:ComponentProgress:30\n",
      "INFO:ComponentProgress:30\n",
      "INFO:ComponentProgress:30\n",
      "INFO:ComponentProgress:30\n",
      "INFO:ComponentProgress:30\n"
     ]
    },
    {
     "name": "stdout",
     "output_type": "stream",
     "text": [
      "INFO     data_access_component get_data_urls: 228: 30\n"
     ]
    },
    {
     "name": "stderr",
     "output_type": "stream",
     "text": [
      "INFO:ComponentProgress:33\n",
      "INFO:ComponentProgress:33\n",
      "INFO:ComponentProgress:33\n",
      "INFO:ComponentProgress:33\n",
      "INFO:ComponentProgress:33\n"
     ]
    },
    {
     "name": "stdout",
     "output_type": "stream",
     "text": [
      "INFO     data_access_component get_data_urls: 228: 33\n"
     ]
    },
    {
     "name": "stderr",
     "output_type": "stream",
     "text": [
      "INFO:ComponentProgress:36\n",
      "INFO:ComponentProgress:36\n",
      "INFO:ComponentProgress:36\n",
      "INFO:ComponentProgress:36\n",
      "INFO:ComponentProgress:36\n"
     ]
    },
    {
     "name": "stdout",
     "output_type": "stream",
     "text": [
      "INFO     data_access_component get_data_urls: 228: 36\n"
     ]
    },
    {
     "name": "stderr",
     "output_type": "stream",
     "text": [
      "INFO:ComponentProgress:39\n",
      "INFO:ComponentProgress:39\n",
      "INFO:ComponentProgress:39\n",
      "INFO:ComponentProgress:39\n",
      "INFO:ComponentProgress:39\n"
     ]
    },
    {
     "name": "stdout",
     "output_type": "stream",
     "text": [
      "INFO     data_access_component get_data_urls: 228: 39\n"
     ]
    },
    {
     "name": "stderr",
     "output_type": "stream",
     "text": [
      "INFO:ComponentProgress:42\n",
      "INFO:ComponentProgress:42\n",
      "INFO:ComponentProgress:42\n",
      "INFO:ComponentProgress:42\n",
      "INFO:ComponentProgress:42\n"
     ]
    },
    {
     "name": "stdout",
     "output_type": "stream",
     "text": [
      "INFO     data_access_component get_data_urls: 228: 42\n"
     ]
    },
    {
     "name": "stderr",
     "output_type": "stream",
     "text": [
      "INFO:ComponentProgress:45\n",
      "INFO:ComponentProgress:45\n",
      "INFO:ComponentProgress:45\n",
      "INFO:ComponentProgress:45\n",
      "INFO:ComponentProgress:45\n"
     ]
    },
    {
     "name": "stdout",
     "output_type": "stream",
     "text": [
      "INFO     data_access_component get_data_urls: 228: 45\n"
     ]
    },
    {
     "name": "stderr",
     "output_type": "stream",
     "text": [
      "INFO:ComponentProgress:48\n",
      "INFO:ComponentProgress:48\n",
      "INFO:ComponentProgress:48\n",
      "INFO:ComponentProgress:48\n",
      "INFO:ComponentProgress:48\n"
     ]
    },
    {
     "name": "stdout",
     "output_type": "stream",
     "text": [
      "INFO     data_access_component get_data_urls: 228: 48\n"
     ]
    },
    {
     "name": "stderr",
     "output_type": "stream",
     "text": [
      "INFO:ComponentProgress:51\n",
      "INFO:ComponentProgress:51\n",
      "INFO:ComponentProgress:51\n",
      "INFO:ComponentProgress:51\n",
      "INFO:ComponentProgress:51\n"
     ]
    },
    {
     "name": "stdout",
     "output_type": "stream",
     "text": [
      "INFO     data_access_component get_data_urls: 228: 51\n"
     ]
    },
    {
     "name": "stderr",
     "output_type": "stream",
     "text": [
      "INFO:ComponentProgress:54\n",
      "INFO:ComponentProgress:54\n",
      "INFO:ComponentProgress:54\n",
      "INFO:ComponentProgress:54\n",
      "INFO:ComponentProgress:54\n"
     ]
    },
    {
     "name": "stdout",
     "output_type": "stream",
     "text": [
      "INFO     data_access_component get_data_urls: 228: 54\n"
     ]
    },
    {
     "name": "stderr",
     "output_type": "stream",
     "text": [
      "INFO:ComponentProgress:57\n",
      "INFO:ComponentProgress:57\n",
      "INFO:ComponentProgress:57\n",
      "INFO:ComponentProgress:57\n",
      "INFO:ComponentProgress:57\n"
     ]
    },
    {
     "name": "stdout",
     "output_type": "stream",
     "text": [
      "INFO     data_access_component get_data_urls: 228: 57\n"
     ]
    },
    {
     "name": "stderr",
     "output_type": "stream",
     "text": [
      "INFO:ComponentProgress:60\n",
      "INFO:ComponentProgress:60\n",
      "INFO:ComponentProgress:60\n",
      "INFO:ComponentProgress:60\n",
      "INFO:ComponentProgress:60\n"
     ]
    },
    {
     "name": "stdout",
     "output_type": "stream",
     "text": [
      "INFO     data_access_component get_data_urls: 228: 60\n"
     ]
    },
    {
     "name": "stderr",
     "output_type": "stream",
     "text": [
      "INFO:ComponentProgress:63\n",
      "INFO:ComponentProgress:63\n",
      "INFO:ComponentProgress:63\n",
      "INFO:ComponentProgress:63\n",
      "INFO:ComponentProgress:63\n"
     ]
    },
    {
     "name": "stdout",
     "output_type": "stream",
     "text": [
      "INFO     data_access_component get_data_urls: 228: 63\n"
     ]
    },
    {
     "name": "stderr",
     "output_type": "stream",
     "text": [
      "INFO:ComponentProgress:66\n",
      "INFO:ComponentProgress:66\n",
      "INFO:ComponentProgress:66\n",
      "INFO:ComponentProgress:66\n",
      "INFO:ComponentProgress:66\n"
     ]
    },
    {
     "name": "stdout",
     "output_type": "stream",
     "text": [
      "INFO     data_access_component get_data_urls: 228: 66\n"
     ]
    },
    {
     "name": "stderr",
     "output_type": "stream",
     "text": [
      "INFO:ComponentProgress:69\n",
      "INFO:ComponentProgress:69\n",
      "INFO:ComponentProgress:69\n",
      "INFO:ComponentProgress:69\n",
      "INFO:ComponentProgress:69\n"
     ]
    },
    {
     "name": "stdout",
     "output_type": "stream",
     "text": [
      "INFO     data_access_component get_data_urls: 228: 69\n"
     ]
    },
    {
     "name": "stderr",
     "output_type": "stream",
     "text": [
      "INFO:ComponentProgress:72\n",
      "INFO:ComponentProgress:72\n",
      "INFO:ComponentProgress:72\n",
      "INFO:ComponentProgress:72\n",
      "INFO:ComponentProgress:72\n"
     ]
    },
    {
     "name": "stdout",
     "output_type": "stream",
     "text": [
      "INFO     data_access_component get_data_urls: 228: 72\n"
     ]
    },
    {
     "name": "stderr",
     "output_type": "stream",
     "text": [
      "INFO:ComponentProgress:75\n",
      "INFO:ComponentProgress:75\n",
      "INFO:ComponentProgress:75\n",
      "INFO:ComponentProgress:75\n",
      "INFO:ComponentProgress:75\n"
     ]
    },
    {
     "name": "stdout",
     "output_type": "stream",
     "text": [
      "INFO     data_access_component get_data_urls: 228: 75\n"
     ]
    },
    {
     "name": "stderr",
     "output_type": "stream",
     "text": [
      "INFO:ComponentProgress:78\n",
      "INFO:ComponentProgress:78\n",
      "INFO:ComponentProgress:78\n",
      "INFO:ComponentProgress:78\n",
      "INFO:ComponentProgress:78\n"
     ]
    },
    {
     "name": "stdout",
     "output_type": "stream",
     "text": [
      "INFO     data_access_component get_data_urls: 228: 78\n"
     ]
    },
    {
     "name": "stderr",
     "output_type": "stream",
     "text": [
      "INFO:ComponentProgress:81\n",
      "INFO:ComponentProgress:81\n",
      "INFO:ComponentProgress:81\n",
      "INFO:ComponentProgress:81\n",
      "INFO:ComponentProgress:81\n"
     ]
    },
    {
     "name": "stdout",
     "output_type": "stream",
     "text": [
      "INFO     data_access_component get_data_urls: 228: 81\n"
     ]
    },
    {
     "name": "stderr",
     "output_type": "stream",
     "text": [
      "INFO:ComponentProgress:84\n",
      "INFO:ComponentProgress:84\n",
      "INFO:ComponentProgress:84\n",
      "INFO:ComponentProgress:84\n",
      "INFO:ComponentProgress:84\n"
     ]
    },
    {
     "name": "stdout",
     "output_type": "stream",
     "text": [
      "INFO     data_access_component get_data_urls: 228: 84\n"
     ]
    },
    {
     "name": "stderr",
     "output_type": "stream",
     "text": [
      "INFO:ComponentProgress:87\n",
      "INFO:ComponentProgress:87\n",
      "INFO:ComponentProgress:87\n",
      "INFO:ComponentProgress:87\n",
      "INFO:ComponentProgress:87\n"
     ]
    },
    {
     "name": "stdout",
     "output_type": "stream",
     "text": [
      "INFO     data_access_component get_data_urls: 228: 87\n"
     ]
    },
    {
     "name": "stderr",
     "output_type": "stream",
     "text": [
      "INFO:ComponentProgress:90\n",
      "INFO:ComponentProgress:90\n",
      "INFO:ComponentProgress:90\n",
      "INFO:ComponentProgress:90\n",
      "INFO:ComponentProgress:90\n"
     ]
    },
    {
     "name": "stdout",
     "output_type": "stream",
     "text": [
      "INFO     data_access_component get_data_urls: 228: 90\n"
     ]
    },
    {
     "name": "stderr",
     "output_type": "stream",
     "text": [
      "INFO:ComponentProgress:93\n",
      "INFO:ComponentProgress:93\n",
      "INFO:ComponentProgress:93\n",
      "INFO:ComponentProgress:93\n",
      "INFO:ComponentProgress:93\n"
     ]
    },
    {
     "name": "stdout",
     "output_type": "stream",
     "text": [
      "INFO     data_access_component get_data_urls: 228: 93\n"
     ]
    },
    {
     "name": "stderr",
     "output_type": "stream",
     "text": [
      "INFO:ComponentProgress:96\n",
      "INFO:ComponentProgress:96\n",
      "INFO:ComponentProgress:96\n",
      "INFO:ComponentProgress:96\n",
      "INFO:ComponentProgress:96\n"
     ]
    },
    {
     "name": "stdout",
     "output_type": "stream",
     "text": [
      "INFO     data_access_component get_data_urls: 228: 96\n",
      "INFO     lpdaac_data_access _get_from_wrapped: 203: Downloading MCD43A1.A2018147.h19v03.006.2018158180514.hdf\n",
      "100 %INFO     lpdaac_data_access _get_from_wrapped: 219: Downloaded MCD43A1.A2018147.h19v03.006.2018158180514.hdf\n",
      "Retrieving CAMS data ...\n",
      "DEBUG    connectionpool _new_conn: 208: Starting new HTTP connection (1): www2.geog.ucl.ac.uk\n",
      "DEBUG    connectionpool _make_request: 396: http://www2.geog.ucl.ac.uk:80 \"GET /~ucfafyi/cams/ HTTP/1.1\" 200 None\n"
     ]
    },
    {
     "name": "stderr",
     "output_type": "stream",
     "text": [
      "INFO:ComponentProgress:0\n",
      "INFO:ComponentProgress:0\n",
      "INFO:ComponentProgress:0\n",
      "INFO:ComponentProgress:0\n",
      "INFO:ComponentProgress:0\n"
     ]
    },
    {
     "name": "stdout",
     "output_type": "stream",
     "text": [
      "INFO     data_access_component get_data_urls: 228: 0\n",
      "Retrieving S2 L1C data ...\n",
      "DEBUG    connectionpool _new_conn: 824: Starting new HTTPS connection (1): mundiwebservices.com\n",
      "DEBUG    connectionpool _make_request: 396: https://mundiwebservices.com:443 \"GET /acdc/catalog/proxy/search/Sentinel2/opensearch?q=((sensingStartDate:[2018-05-11T00:00:00Z%20TO%202018-05-11T23:59:59Z]%20AND%20footprint:%22Intersects(POLYGON%20((27.2725456794999985%2058.2252523466000014,%2027.2720041126999995%2058.3418423195999978,%2027.3885799673000001%2058.3362682903999996,%2027.3774098023000008%2058.2196966528999980,%2027.2725456794999985%2058.2252523466000014)))%22)&startIndex=1&maxRecords=10&processingLevel=L1C&instrument=MSI&productType=IMAGE) HTTP/1.1\" 200 None\n",
      "Done retrieving dynamic data\n",
      "INFO     prior_engine __init__:  83: Using config file: /data/working_dirs/m1/config.yaml\n",
      "INFO     prior_engine __init__:  91: Loading sub-engines for variables.\n",
      "INFO     prior_engine __init__:  95: Got following prior_creator_registrations from entry points: [EntryPoint.parse('soil_moisture_prior_creator = multiply_prior_engine:soilmoisture_prior_creator.SoilMoisturePriorCreator'), EntryPoint.parse('vegetation_prior_creator = multiply_prior_engine:vegetation_prior_creator.VegetationPriorCreator')]\n",
      "INFO     prior_engine __init__: 102: Sub-engine for sm: <class 'multiply_prior_engine.soilmoisture_prior_creator.SoilMoisturePriorCreator'>.\n",
      "INFO     prior_engine __init__: 102: Sub-engine for clay_fraction: <class 'multiply_prior_engine.soilmoisture_prior_creator.SoilMoisturePriorCreator'>.\n",
      "INFO     prior_engine __init__: 102: Sub-engine for sand_fraction: <class 'multiply_prior_engine.soilmoisture_prior_creator.SoilMoisturePriorCreator'>.\n",
      "INFO     prior_engine __init__: 102: Sub-engine for sr: <class 'multiply_prior_engine.soilmoisture_prior_creator.SoilMoisturePriorCreator'>.\n",
      "INFO     prior_engine __init__: 102: Sub-engine for lai: <class 'multiply_prior_engine.vegetation_prior_creator.VegetationPriorCreator'>.\n",
      "INFO     prior_engine __init__: 102: Sub-engine for cab: <class 'multiply_prior_engine.vegetation_prior_creator.VegetationPriorCreator'>.\n",
      "INFO     prior_engine __init__: 102: Sub-engine for cb: <class 'multiply_prior_engine.vegetation_prior_creator.VegetationPriorCreator'>.\n",
      "INFO     prior_engine __init__: 102: Sub-engine for car: <class 'multiply_prior_engine.vegetation_prior_creator.VegetationPriorCreator'>.\n",
      "INFO     prior_engine __init__: 102: Sub-engine for cw: <class 'multiply_prior_engine.vegetation_prior_creator.VegetationPriorCreator'>.\n",
      "INFO     prior_engine __init__: 102: Sub-engine for cdm: <class 'multiply_prior_engine.vegetation_prior_creator.VegetationPriorCreator'>.\n",
      "INFO     prior_engine __init__: 102: Sub-engine for n: <class 'multiply_prior_engine.vegetation_prior_creator.VegetationPriorCreator'>.\n",
      "INFO     prior_engine __init__: 102: Sub-engine for ala: <class 'multiply_prior_engine.vegetation_prior_creator.VegetationPriorCreator'>.\n",
      "INFO     prior_engine __init__: 102: Sub-engine for h: <class 'multiply_prior_engine.vegetation_prior_creator.VegetationPriorCreator'>.\n",
      "INFO     prior_engine __init__: 102: Sub-engine for bsoil: <class 'multiply_prior_engine.vegetation_prior_creator.VegetationPriorCreator'>.\n",
      "INFO     prior_engine __init__: 102: Sub-engine for psoil: <class 'multiply_prior_engine.vegetation_prior_creator.VegetationPriorCreator'>.\n",
      "INFO     prior_engine __init__: 104: Got sub-engines for ['sm', 'clay_fraction', 'sand_fraction', 'sr', 'lai', 'cab', 'cb', 'car', 'cw', 'cdm', 'n', 'ala', 'h', 'bsoil', 'psoil'].\n",
      "DEBUG    prior_engine _check: 132: Loaded config:\n",
      "{'General': {'end_time': '2018-05-11', 'roi': 'POLYGON((27.2725456795 58.2252523466, 27.2720041127 58.3418423196, 27.3885799673 58.3362682904, 27.3774098023 58.2196966529, 27.2725456795 58.2252523466))', 'start_time': '2018-05-11', 'time_interval': 1}, 'Prior': {'General': {'directory_data': '/data/auxiliary/priors/Static/Vegetation/'}, 'ala': {'database': {'static_dir': 'same as General directory_data'}}, 'bsoil': {'database': {'static_dir': 'same as General directory_data'}}, 'cab': {'database': {'static_dir': 'same as General directory_data'}}, 'car': {'database': {'static_dir': 'same as General directory_data'}}, 'cb': {'database': {'static_dir': 'same as General directory_data'}}, 'cdm': {'database': {'static_dir': 'same as General directory_data'}}, 'cw': {'database': {'static_dir': 'same as General directory_data'}}, 'lai': {'user': {'mu': 3.0, 'unc': 0.2}}, 'n': {'database': {'static_dir': 'same as General directory_data'}}, 'output_directory': '/data/working_dirs/m1/priors/2018-05-11/', 'psoil': {'database': {'static_dir': 'same as General directory_data'}}}}.\n",
      "INFO     prior_engine __init__: 108: Loaded /data/working_dirs/m1/config.yaml.\n"
     ]
    },
    {
     "name": "stderr",
     "output_type": "stream",
     "text": [
      "INFO:ComponentProgress:0\n",
      "INFO:ComponentProgress:0\n",
      "INFO:ComponentProgress:0\n",
      "INFO:ComponentProgress:0\n",
      "INFO:ComponentProgress:0\n"
     ]
    },
    {
     "name": "stdout",
     "output_type": "stream",
     "text": [
      "INFO     prior_engine get_priors: 150: 0\n",
      "INFO     prior_engine _get_prior: 176: Getting prior for variable *lai*.\n",
      "INFO     prior_engine _get_prior: 193: Initializing <class 'multiply_prior_engine.vegetation_prior_creator.VegetationPriorCreator'> for lai user prior:\n",
      "20.00 50.00\n",
      "INFO     vegetation_prior_creator CombineTiles2Virtualfile:1564: Successfully created /data/working_dirs/m1/priors/2018-05-11/Priors_lai_131_global.vrt.\n"
     ]
    },
    {
     "name": "stderr",
     "output_type": "stream",
     "text": [
      "INFO:ComponentProgress:10\n",
      "INFO:ComponentProgress:10\n",
      "INFO:ComponentProgress:10\n",
      "INFO:ComponentProgress:10\n",
      "INFO:ComponentProgress:10\n"
     ]
    },
    {
     "name": "stdout",
     "output_type": "stream",
     "text": [
      "INFO     prior_engine get_priors: 150: 10\n",
      "INFO     prior_engine _get_prior: 176: Getting prior for variable *bsoil*.\n",
      "INFO     prior_engine _get_prior: 193: Initializing <class 'multiply_prior_engine.vegetation_prior_creator.VegetationPriorCreator'> for bsoil database prior:\n",
      "INFO     vegetation_prior_creator CombineTiles2Virtualfile:1564: Successfully created /data/working_dirs/m1/priors/2018-05-11/Priors_bsoil_131_global.vrt.\n"
     ]
    },
    {
     "name": "stderr",
     "output_type": "stream",
     "text": [
      "INFO:ComponentProgress:20\n",
      "INFO:ComponentProgress:20\n",
      "INFO:ComponentProgress:20\n",
      "INFO:ComponentProgress:20\n",
      "INFO:ComponentProgress:20\n"
     ]
    },
    {
     "name": "stdout",
     "output_type": "stream",
     "text": [
      "INFO     prior_engine get_priors: 150: 20\n",
      "INFO     prior_engine _get_prior: 176: Getting prior for variable *cb*.\n",
      "INFO     prior_engine _get_prior: 193: Initializing <class 'multiply_prior_engine.vegetation_prior_creator.VegetationPriorCreator'> for cb database prior:\n",
      "INFO     vegetation_prior_creator CombineTiles2Virtualfile:1564: Successfully created /data/working_dirs/m1/priors/2018-05-11/Priors_cb_131_global.vrt.\n"
     ]
    },
    {
     "name": "stderr",
     "output_type": "stream",
     "text": [
      "INFO:ComponentProgress:30\n",
      "INFO:ComponentProgress:30\n",
      "INFO:ComponentProgress:30\n",
      "INFO:ComponentProgress:30\n",
      "INFO:ComponentProgress:30\n"
     ]
    },
    {
     "name": "stdout",
     "output_type": "stream",
     "text": [
      "INFO     prior_engine get_priors: 150: 30\n",
      "INFO     prior_engine _get_prior: 176: Getting prior for variable *psoil*.\n",
      "INFO     prior_engine _get_prior: 193: Initializing <class 'multiply_prior_engine.vegetation_prior_creator.VegetationPriorCreator'> for psoil database prior:\n",
      "INFO     vegetation_prior_creator CombineTiles2Virtualfile:1564: Successfully created /data/working_dirs/m1/priors/2018-05-11/Priors_psoil_131_global.vrt.\n"
     ]
    },
    {
     "name": "stderr",
     "output_type": "stream",
     "text": [
      "INFO:ComponentProgress:40\n",
      "INFO:ComponentProgress:40\n",
      "INFO:ComponentProgress:40\n",
      "INFO:ComponentProgress:40\n",
      "INFO:ComponentProgress:40\n"
     ]
    },
    {
     "name": "stdout",
     "output_type": "stream",
     "text": [
      "INFO     prior_engine get_priors: 150: 40\n",
      "INFO     prior_engine _get_prior: 176: Getting prior for variable *ala*.\n",
      "INFO     prior_engine _get_prior: 193: Initializing <class 'multiply_prior_engine.vegetation_prior_creator.VegetationPriorCreator'> for ala database prior:\n",
      "INFO     vegetation_prior_creator CombineTiles2Virtualfile:1564: Successfully created /data/working_dirs/m1/priors/2018-05-11/Priors_ala_131_global.vrt.\n"
     ]
    },
    {
     "name": "stderr",
     "output_type": "stream",
     "text": [
      "INFO:ComponentProgress:50\n",
      "INFO:ComponentProgress:50\n",
      "INFO:ComponentProgress:50\n",
      "INFO:ComponentProgress:50\n",
      "INFO:ComponentProgress:50\n"
     ]
    },
    {
     "name": "stdout",
     "output_type": "stream",
     "text": [
      "INFO     prior_engine get_priors: 150: 50\n",
      "INFO     prior_engine _get_prior: 176: Getting prior for variable *n*.\n",
      "INFO     prior_engine _get_prior: 193: Initializing <class 'multiply_prior_engine.vegetation_prior_creator.VegetationPriorCreator'> for n database prior:\n",
      "INFO     vegetation_prior_creator CombineTiles2Virtualfile:1564: Successfully created /data/working_dirs/m1/priors/2018-05-11/Priors_n_131_global.vrt.\n"
     ]
    },
    {
     "name": "stderr",
     "output_type": "stream",
     "text": [
      "INFO:ComponentProgress:60\n",
      "INFO:ComponentProgress:60\n",
      "INFO:ComponentProgress:60\n",
      "INFO:ComponentProgress:60\n",
      "INFO:ComponentProgress:60\n"
     ]
    },
    {
     "name": "stdout",
     "output_type": "stream",
     "text": [
      "INFO     prior_engine get_priors: 150: 60\n",
      "INFO     prior_engine _get_prior: 176: Getting prior for variable *cw*.\n",
      "INFO     prior_engine _get_prior: 193: Initializing <class 'multiply_prior_engine.vegetation_prior_creator.VegetationPriorCreator'> for cw database prior:\n",
      "INFO     vegetation_prior_creator CombineTiles2Virtualfile:1564: Successfully created /data/working_dirs/m1/priors/2018-05-11/Priors_cw_131_global.vrt.\n"
     ]
    },
    {
     "name": "stderr",
     "output_type": "stream",
     "text": [
      "INFO:ComponentProgress:70\n",
      "INFO:ComponentProgress:70\n",
      "INFO:ComponentProgress:70\n",
      "INFO:ComponentProgress:70\n",
      "INFO:ComponentProgress:70\n"
     ]
    },
    {
     "name": "stdout",
     "output_type": "stream",
     "text": [
      "INFO     prior_engine get_priors: 150: 70\n",
      "INFO     prior_engine _get_prior: 176: Getting prior for variable *car*.\n",
      "INFO     prior_engine _get_prior: 193: Initializing <class 'multiply_prior_engine.vegetation_prior_creator.VegetationPriorCreator'> for car database prior:\n",
      "INFO     vegetation_prior_creator CombineTiles2Virtualfile:1564: Successfully created /data/working_dirs/m1/priors/2018-05-11/Priors_car_131_global.vrt.\n"
     ]
    },
    {
     "name": "stderr",
     "output_type": "stream",
     "text": [
      "INFO:ComponentProgress:80\n",
      "INFO:ComponentProgress:80\n",
      "INFO:ComponentProgress:80\n",
      "INFO:ComponentProgress:80\n",
      "INFO:ComponentProgress:80\n"
     ]
    },
    {
     "name": "stdout",
     "output_type": "stream",
     "text": [
      "INFO     prior_engine get_priors: 150: 80\n",
      "INFO     prior_engine _get_prior: 176: Getting prior for variable *cdm*.\n",
      "INFO     prior_engine _get_prior: 193: Initializing <class 'multiply_prior_engine.vegetation_prior_creator.VegetationPriorCreator'> for cdm database prior:\n",
      "INFO     vegetation_prior_creator CombineTiles2Virtualfile:1564: Successfully created /data/working_dirs/m1/priors/2018-05-11/Priors_cdm_131_global.vrt.\n"
     ]
    },
    {
     "name": "stderr",
     "output_type": "stream",
     "text": [
      "INFO:ComponentProgress:90\n",
      "INFO:ComponentProgress:90\n",
      "INFO:ComponentProgress:90\n",
      "INFO:ComponentProgress:90\n",
      "INFO:ComponentProgress:90\n"
     ]
    },
    {
     "name": "stdout",
     "output_type": "stream",
     "text": [
      "INFO     prior_engine get_priors: 150: 90\n",
      "INFO     prior_engine _get_prior: 176: Getting prior for variable *cab*.\n",
      "INFO     prior_engine _get_prior: 193: Initializing <class 'multiply_prior_engine.vegetation_prior_creator.VegetationPriorCreator'> for cab database prior:\n",
      "INFO     vegetation_prior_creator CombineTiles2Virtualfile:1564: Successfully created /data/working_dirs/m1/priors/2018-05-11/Priors_cab_131_global.vrt.\n",
      "INFO     inference_engine _infer: 169: Checking for forward model s2_prosail\n",
      "INFO     inference_engine _infer: 172: Forward model s2_prosail found\n",
      "INFO     inference_prior __init__:  59: Using global files to access prior information\n",
      "INFO     linear_kf __init__:  94: Starting KaFKA run!!!\n",
      "INFO     utils iterate_time_grid:  49: Doing timestep from 2018-05-11 -> 2018-05-12\n",
      "INFO     utils iterate_time_grid:  50: # of Observations: 0\n",
      "INFO     linear_kf run: 199: No observations in this time\n",
      "INFO     linear_kf run: 210: Dumping results to disk\n"
     ]
    },
    {
     "name": "stderr",
     "output_type": "stream",
     "text": [
      "INFO:Writer:Expecting height 696 and width 308 as (696, 308), receiving (696, 308)\n"
     ]
    },
    {
     "name": "stdout",
     "output_type": "stream",
     "text": [
      "INFO     output write: 104: Expecting height 696 and width 308 as (696, 308), receiving (696, 308)\n"
     ]
    },
    {
     "name": "stderr",
     "output_type": "stream",
     "text": [
      "INFO:Writer:Expecting height 696 and width 308 as (696, 308), receiving (696, 308)\n"
     ]
    },
    {
     "name": "stdout",
     "output_type": "stream",
     "text": [
      "INFO     output write: 104: Expecting height 696 and width 308 as (696, 308), receiving (696, 308)\n"
     ]
    },
    {
     "name": "stderr",
     "output_type": "stream",
     "text": [
      "INFO:Writer:Expecting height 696 and width 308 as (696, 308), receiving (696, 308)\n"
     ]
    },
    {
     "name": "stdout",
     "output_type": "stream",
     "text": [
      "INFO     output write: 104: Expecting height 696 and width 308 as (696, 308), receiving (696, 308)\n"
     ]
    },
    {
     "name": "stderr",
     "output_type": "stream",
     "text": [
      "INFO:Writer:Expecting height 696 and width 308 as (696, 308), receiving (696, 308)\n"
     ]
    },
    {
     "name": "stdout",
     "output_type": "stream",
     "text": [
      "INFO     output write: 104: Expecting height 696 and width 308 as (696, 308), receiving (696, 308)\n"
     ]
    },
    {
     "name": "stderr",
     "output_type": "stream",
     "text": [
      "INFO:Writer:Expecting height 696 and width 308 as (696, 308), receiving (696, 308)\n"
     ]
    },
    {
     "name": "stdout",
     "output_type": "stream",
     "text": [
      "INFO     output write: 104: Expecting height 696 and width 308 as (696, 308), receiving (696, 308)\n"
     ]
    },
    {
     "name": "stderr",
     "output_type": "stream",
     "text": [
      "INFO:Writer:Expecting height 696 and width 308 as (696, 308), receiving (696, 308)\n"
     ]
    },
    {
     "name": "stdout",
     "output_type": "stream",
     "text": [
      "INFO     output write: 104: Expecting height 696 and width 308 as (696, 308), receiving (696, 308)\n"
     ]
    },
    {
     "name": "stderr",
     "output_type": "stream",
     "text": [
      "INFO:Writer:Expecting height 696 and width 308 as (696, 308), receiving (696, 308)\n"
     ]
    },
    {
     "name": "stdout",
     "output_type": "stream",
     "text": [
      "INFO     output write: 104: Expecting height 696 and width 308 as (696, 308), receiving (696, 308)\n"
     ]
    },
    {
     "name": "stderr",
     "output_type": "stream",
     "text": [
      "INFO:Writer:Expecting height 696 and width 308 as (696, 308), receiving (696, 308)\n"
     ]
    },
    {
     "name": "stdout",
     "output_type": "stream",
     "text": [
      "INFO     output write: 104: Expecting height 696 and width 308 as (696, 308), receiving (696, 308)\n"
     ]
    },
    {
     "name": "stderr",
     "output_type": "stream",
     "text": [
      "INFO:Writer:Expecting height 696 and width 308 as (696, 308), receiving (696, 308)\n"
     ]
    },
    {
     "name": "stdout",
     "output_type": "stream",
     "text": [
      "INFO     output write: 104: Expecting height 696 and width 308 as (696, 308), receiving (696, 308)\n"
     ]
    },
    {
     "name": "stderr",
     "output_type": "stream",
     "text": [
      "INFO:Writer:Expecting height 696 and width 308 as (696, 308), receiving (696, 308)\n"
     ]
    },
    {
     "name": "stdout",
     "output_type": "stream",
     "text": [
      "INFO     output write: 104: Expecting height 696 and width 308 as (696, 308), receiving (696, 308)\n"
     ]
    },
    {
     "name": "stderr",
     "output_type": "stream",
     "text": [
      "INFO:Writer:Expecting height 696 and width 308 as (696, 308), receiving (696, 308)\n"
     ]
    },
    {
     "name": "stdout",
     "output_type": "stream",
     "text": [
      "INFO     output write: 104: Expecting height 696 and width 308 as (696, 308), receiving (696, 308)\n"
     ]
    },
    {
     "name": "stderr",
     "output_type": "stream",
     "text": [
      "INFO:Writer:Expecting height 696 and width 308 as (696, 308), receiving (696, 308)\n"
     ]
    },
    {
     "name": "stdout",
     "output_type": "stream",
     "text": [
      "INFO     output write: 104: Expecting height 696 and width 308 as (696, 308), receiving (696, 308)\n"
     ]
    },
    {
     "name": "stderr",
     "output_type": "stream",
     "text": [
      "INFO:Writer:Expecting height 696 and width 308 as (696, 308), receiving (696, 308)\n"
     ]
    },
    {
     "name": "stdout",
     "output_type": "stream",
     "text": [
      "INFO     output write: 104: Expecting height 696 and width 308 as (696, 308), receiving (696, 308)\n"
     ]
    },
    {
     "name": "stderr",
     "output_type": "stream",
     "text": [
      "INFO:Writer:Expecting height 696 and width 308 as (696, 308), receiving (696, 308)\n"
     ]
    },
    {
     "name": "stdout",
     "output_type": "stream",
     "text": [
      "INFO     output write: 104: Expecting height 696 and width 308 as (696, 308), receiving (696, 308)\n"
     ]
    },
    {
     "name": "stderr",
     "output_type": "stream",
     "text": [
      "INFO:Writer:Expecting height 696 and width 308 as (696, 308), receiving (696, 308)\n"
     ]
    },
    {
     "name": "stdout",
     "output_type": "stream",
     "text": [
      "INFO     output write: 104: Expecting height 696 and width 308 as (696, 308), receiving (696, 308)\n"
     ]
    },
    {
     "name": "stderr",
     "output_type": "stream",
     "text": [
      "INFO:Writer:Expecting height 696 and width 308 as (696, 308), receiving (696, 308)\n"
     ]
    },
    {
     "name": "stdout",
     "output_type": "stream",
     "text": [
      "INFO     output write: 104: Expecting height 696 and width 308 as (696, 308), receiving (696, 308)\n"
     ]
    },
    {
     "name": "stderr",
     "output_type": "stream",
     "text": [
      "INFO:Writer:Expecting height 696 and width 308 as (696, 308), receiving (696, 308)\n"
     ]
    },
    {
     "name": "stdout",
     "output_type": "stream",
     "text": [
      "INFO     output write: 104: Expecting height 696 and width 308 as (696, 308), receiving (696, 308)\n"
     ]
    },
    {
     "name": "stderr",
     "output_type": "stream",
     "text": [
      "INFO:Writer:Expecting height 696 and width 308 as (696, 308), receiving (696, 308)\n"
     ]
    },
    {
     "name": "stdout",
     "output_type": "stream",
     "text": [
      "INFO     output write: 104: Expecting height 696 and width 308 as (696, 308), receiving (696, 308)\n"
     ]
    },
    {
     "name": "stderr",
     "output_type": "stream",
     "text": [
      "INFO:Writer:Expecting height 696 and width 308 as (696, 308), receiving (696, 308)\n"
     ]
    },
    {
     "name": "stdout",
     "output_type": "stream",
     "text": [
      "INFO     output write: 104: Expecting height 696 and width 308 as (696, 308), receiving (696, 308)\n"
     ]
    },
    {
     "name": "stderr",
     "output_type": "stream",
     "text": [
      "INFO:Writer:Expecting height 696 and width 308 as (696, 308), receiving (696, 308)\n"
     ]
    },
    {
     "name": "stdout",
     "output_type": "stream",
     "text": [
      "INFO     output write: 104: Expecting height 696 and width 308 as (696, 308), receiving (696, 308)\n",
      "INFO     linear_kf run: 212: Advancing state, 2018-05-12\n",
      "INFO     linear_kf advance:  98: Calling state propagator...\n",
      "INFO     linear_kf run: 216: Dumping state to disk\n",
      "Finished Inference of S2 data\n",
      "Doing time step starting on 2018-05-12\n",
      "Retrieving MODIS BRDF descriptors ...\n",
      "INFO     lpdaac_data_access _query_wrapped_meta_info_provider: 117: Found MCD43A1.006 data set for 2018-05-28 00:00:00\n"
     ]
    },
    {
     "name": "stderr",
     "output_type": "stream",
     "text": [
      "INFO:ComponentProgress:0\n",
      "INFO:ComponentProgress:0\n",
      "INFO:ComponentProgress:0\n",
      "INFO:ComponentProgress:0\n",
      "INFO:ComponentProgress:0\n"
     ]
    },
    {
     "name": "stdout",
     "output_type": "stream",
     "text": [
      "INFO     data_access_component get_data_urls: 228: 0\n"
     ]
    },
    {
     "name": "stderr",
     "output_type": "stream",
     "text": [
      "INFO:ComponentProgress:3\n",
      "INFO:ComponentProgress:3\n",
      "INFO:ComponentProgress:3\n",
      "INFO:ComponentProgress:3\n",
      "INFO:ComponentProgress:3\n"
     ]
    },
    {
     "name": "stdout",
     "output_type": "stream",
     "text": [
      "INFO     data_access_component get_data_urls: 228: 3\n"
     ]
    },
    {
     "name": "stderr",
     "output_type": "stream",
     "text": [
      "INFO:ComponentProgress:6\n",
      "INFO:ComponentProgress:6\n",
      "INFO:ComponentProgress:6\n",
      "INFO:ComponentProgress:6\n",
      "INFO:ComponentProgress:6\n"
     ]
    },
    {
     "name": "stdout",
     "output_type": "stream",
     "text": [
      "INFO     data_access_component get_data_urls: 228: 6\n"
     ]
    },
    {
     "name": "stderr",
     "output_type": "stream",
     "text": [
      "INFO:ComponentProgress:9\n",
      "INFO:ComponentProgress:9\n",
      "INFO:ComponentProgress:9\n",
      "INFO:ComponentProgress:9\n",
      "INFO:ComponentProgress:9\n"
     ]
    },
    {
     "name": "stdout",
     "output_type": "stream",
     "text": [
      "INFO     data_access_component get_data_urls: 228: 9\n"
     ]
    },
    {
     "name": "stderr",
     "output_type": "stream",
     "text": [
      "INFO:ComponentProgress:12\n",
      "INFO:ComponentProgress:12\n",
      "INFO:ComponentProgress:12\n",
      "INFO:ComponentProgress:12\n",
      "INFO:ComponentProgress:12\n"
     ]
    },
    {
     "name": "stdout",
     "output_type": "stream",
     "text": [
      "INFO     data_access_component get_data_urls: 228: 12\n"
     ]
    },
    {
     "name": "stderr",
     "output_type": "stream",
     "text": [
      "INFO:ComponentProgress:15\n",
      "INFO:ComponentProgress:15\n",
      "INFO:ComponentProgress:15\n",
      "INFO:ComponentProgress:15\n",
      "INFO:ComponentProgress:15\n"
     ]
    },
    {
     "name": "stdout",
     "output_type": "stream",
     "text": [
      "INFO     data_access_component get_data_urls: 228: 15\n"
     ]
    },
    {
     "name": "stderr",
     "output_type": "stream",
     "text": [
      "INFO:ComponentProgress:18\n",
      "INFO:ComponentProgress:18\n",
      "INFO:ComponentProgress:18\n",
      "INFO:ComponentProgress:18\n",
      "INFO:ComponentProgress:18\n"
     ]
    },
    {
     "name": "stdout",
     "output_type": "stream",
     "text": [
      "INFO     data_access_component get_data_urls: 228: 18\n"
     ]
    },
    {
     "name": "stderr",
     "output_type": "stream",
     "text": [
      "INFO:ComponentProgress:21\n",
      "INFO:ComponentProgress:21\n",
      "INFO:ComponentProgress:21\n",
      "INFO:ComponentProgress:21\n",
      "INFO:ComponentProgress:21\n"
     ]
    },
    {
     "name": "stdout",
     "output_type": "stream",
     "text": [
      "INFO     data_access_component get_data_urls: 228: 21\n"
     ]
    },
    {
     "name": "stderr",
     "output_type": "stream",
     "text": [
      "INFO:ComponentProgress:24\n",
      "INFO:ComponentProgress:24\n",
      "INFO:ComponentProgress:24\n",
      "INFO:ComponentProgress:24\n",
      "INFO:ComponentProgress:24\n"
     ]
    },
    {
     "name": "stdout",
     "output_type": "stream",
     "text": [
      "INFO     data_access_component get_data_urls: 228: 24\n"
     ]
    },
    {
     "name": "stderr",
     "output_type": "stream",
     "text": [
      "INFO:ComponentProgress:27\n",
      "INFO:ComponentProgress:27\n",
      "INFO:ComponentProgress:27\n",
      "INFO:ComponentProgress:27\n",
      "INFO:ComponentProgress:27\n"
     ]
    },
    {
     "name": "stdout",
     "output_type": "stream",
     "text": [
      "INFO     data_access_component get_data_urls: 228: 27\n"
     ]
    },
    {
     "name": "stderr",
     "output_type": "stream",
     "text": [
      "INFO:ComponentProgress:30\n",
      "INFO:ComponentProgress:30\n",
      "INFO:ComponentProgress:30\n",
      "INFO:ComponentProgress:30\n",
      "INFO:ComponentProgress:30\n"
     ]
    },
    {
     "name": "stdout",
     "output_type": "stream",
     "text": [
      "INFO     data_access_component get_data_urls: 228: 30\n"
     ]
    },
    {
     "name": "stderr",
     "output_type": "stream",
     "text": [
      "INFO:ComponentProgress:33\n",
      "INFO:ComponentProgress:33\n",
      "INFO:ComponentProgress:33\n",
      "INFO:ComponentProgress:33\n",
      "INFO:ComponentProgress:33\n"
     ]
    },
    {
     "name": "stdout",
     "output_type": "stream",
     "text": [
      "INFO     data_access_component get_data_urls: 228: 33\n"
     ]
    },
    {
     "name": "stderr",
     "output_type": "stream",
     "text": [
      "INFO:ComponentProgress:36\n",
      "INFO:ComponentProgress:36\n",
      "INFO:ComponentProgress:36\n",
      "INFO:ComponentProgress:36\n",
      "INFO:ComponentProgress:36\n"
     ]
    },
    {
     "name": "stdout",
     "output_type": "stream",
     "text": [
      "INFO     data_access_component get_data_urls: 228: 36\n"
     ]
    },
    {
     "name": "stderr",
     "output_type": "stream",
     "text": [
      "INFO:ComponentProgress:39\n",
      "INFO:ComponentProgress:39\n",
      "INFO:ComponentProgress:39\n",
      "INFO:ComponentProgress:39\n",
      "INFO:ComponentProgress:39\n"
     ]
    },
    {
     "name": "stdout",
     "output_type": "stream",
     "text": [
      "INFO     data_access_component get_data_urls: 228: 39\n"
     ]
    },
    {
     "name": "stderr",
     "output_type": "stream",
     "text": [
      "INFO:ComponentProgress:42\n",
      "INFO:ComponentProgress:42\n",
      "INFO:ComponentProgress:42\n",
      "INFO:ComponentProgress:42\n",
      "INFO:ComponentProgress:42\n"
     ]
    },
    {
     "name": "stdout",
     "output_type": "stream",
     "text": [
      "INFO     data_access_component get_data_urls: 228: 42\n"
     ]
    },
    {
     "name": "stderr",
     "output_type": "stream",
     "text": [
      "INFO:ComponentProgress:45\n",
      "INFO:ComponentProgress:45\n",
      "INFO:ComponentProgress:45\n",
      "INFO:ComponentProgress:45\n",
      "INFO:ComponentProgress:45\n"
     ]
    },
    {
     "name": "stdout",
     "output_type": "stream",
     "text": [
      "INFO     data_access_component get_data_urls: 228: 45\n"
     ]
    },
    {
     "name": "stderr",
     "output_type": "stream",
     "text": [
      "INFO:ComponentProgress:48\n",
      "INFO:ComponentProgress:48\n",
      "INFO:ComponentProgress:48\n",
      "INFO:ComponentProgress:48\n",
      "INFO:ComponentProgress:48\n"
     ]
    },
    {
     "name": "stdout",
     "output_type": "stream",
     "text": [
      "INFO     data_access_component get_data_urls: 228: 48\n"
     ]
    },
    {
     "name": "stderr",
     "output_type": "stream",
     "text": [
      "INFO:ComponentProgress:51\n",
      "INFO:ComponentProgress:51\n",
      "INFO:ComponentProgress:51\n",
      "INFO:ComponentProgress:51\n",
      "INFO:ComponentProgress:51\n"
     ]
    },
    {
     "name": "stdout",
     "output_type": "stream",
     "text": [
      "INFO     data_access_component get_data_urls: 228: 51\n"
     ]
    },
    {
     "name": "stderr",
     "output_type": "stream",
     "text": [
      "INFO:ComponentProgress:54\n",
      "INFO:ComponentProgress:54\n",
      "INFO:ComponentProgress:54\n",
      "INFO:ComponentProgress:54\n",
      "INFO:ComponentProgress:54\n"
     ]
    },
    {
     "name": "stdout",
     "output_type": "stream",
     "text": [
      "INFO     data_access_component get_data_urls: 228: 54\n"
     ]
    },
    {
     "name": "stderr",
     "output_type": "stream",
     "text": [
      "INFO:ComponentProgress:57\n",
      "INFO:ComponentProgress:57\n",
      "INFO:ComponentProgress:57\n",
      "INFO:ComponentProgress:57\n",
      "INFO:ComponentProgress:57\n"
     ]
    },
    {
     "name": "stdout",
     "output_type": "stream",
     "text": [
      "INFO     data_access_component get_data_urls: 228: 57\n"
     ]
    },
    {
     "name": "stderr",
     "output_type": "stream",
     "text": [
      "INFO:ComponentProgress:60\n",
      "INFO:ComponentProgress:60\n",
      "INFO:ComponentProgress:60\n",
      "INFO:ComponentProgress:60\n",
      "INFO:ComponentProgress:60\n"
     ]
    },
    {
     "name": "stdout",
     "output_type": "stream",
     "text": [
      "INFO     data_access_component get_data_urls: 228: 60\n"
     ]
    },
    {
     "name": "stderr",
     "output_type": "stream",
     "text": [
      "INFO:ComponentProgress:63\n",
      "INFO:ComponentProgress:63\n",
      "INFO:ComponentProgress:63\n",
      "INFO:ComponentProgress:63\n",
      "INFO:ComponentProgress:63\n"
     ]
    },
    {
     "name": "stdout",
     "output_type": "stream",
     "text": [
      "INFO     data_access_component get_data_urls: 228: 63\n"
     ]
    },
    {
     "name": "stderr",
     "output_type": "stream",
     "text": [
      "INFO:ComponentProgress:66\n",
      "INFO:ComponentProgress:66\n",
      "INFO:ComponentProgress:66\n",
      "INFO:ComponentProgress:66\n",
      "INFO:ComponentProgress:66\n"
     ]
    },
    {
     "name": "stdout",
     "output_type": "stream",
     "text": [
      "INFO     data_access_component get_data_urls: 228: 66\n"
     ]
    },
    {
     "name": "stderr",
     "output_type": "stream",
     "text": [
      "INFO:ComponentProgress:69\n",
      "INFO:ComponentProgress:69\n",
      "INFO:ComponentProgress:69\n",
      "INFO:ComponentProgress:69\n",
      "INFO:ComponentProgress:69\n"
     ]
    },
    {
     "name": "stdout",
     "output_type": "stream",
     "text": [
      "INFO     data_access_component get_data_urls: 228: 69\n"
     ]
    },
    {
     "name": "stderr",
     "output_type": "stream",
     "text": [
      "INFO:ComponentProgress:72\n",
      "INFO:ComponentProgress:72\n",
      "INFO:ComponentProgress:72\n",
      "INFO:ComponentProgress:72\n",
      "INFO:ComponentProgress:72\n"
     ]
    },
    {
     "name": "stdout",
     "output_type": "stream",
     "text": [
      "INFO     data_access_component get_data_urls: 228: 72\n"
     ]
    },
    {
     "name": "stderr",
     "output_type": "stream",
     "text": [
      "INFO:ComponentProgress:75\n",
      "INFO:ComponentProgress:75\n",
      "INFO:ComponentProgress:75\n",
      "INFO:ComponentProgress:75\n",
      "INFO:ComponentProgress:75\n"
     ]
    },
    {
     "name": "stdout",
     "output_type": "stream",
     "text": [
      "INFO     data_access_component get_data_urls: 228: 75\n"
     ]
    },
    {
     "name": "stderr",
     "output_type": "stream",
     "text": [
      "INFO:ComponentProgress:78\n",
      "INFO:ComponentProgress:78\n",
      "INFO:ComponentProgress:78\n",
      "INFO:ComponentProgress:78\n",
      "INFO:ComponentProgress:78\n"
     ]
    },
    {
     "name": "stdout",
     "output_type": "stream",
     "text": [
      "INFO     data_access_component get_data_urls: 228: 78\n"
     ]
    },
    {
     "name": "stderr",
     "output_type": "stream",
     "text": [
      "INFO:ComponentProgress:81\n",
      "INFO:ComponentProgress:81\n",
      "INFO:ComponentProgress:81\n",
      "INFO:ComponentProgress:81\n",
      "INFO:ComponentProgress:81\n"
     ]
    },
    {
     "name": "stdout",
     "output_type": "stream",
     "text": [
      "INFO     data_access_component get_data_urls: 228: 81\n"
     ]
    },
    {
     "name": "stderr",
     "output_type": "stream",
     "text": [
      "INFO:ComponentProgress:84\n",
      "INFO:ComponentProgress:84\n",
      "INFO:ComponentProgress:84\n",
      "INFO:ComponentProgress:84\n",
      "INFO:ComponentProgress:84\n"
     ]
    },
    {
     "name": "stdout",
     "output_type": "stream",
     "text": [
      "INFO     data_access_component get_data_urls: 228: 84\n"
     ]
    },
    {
     "name": "stderr",
     "output_type": "stream",
     "text": [
      "INFO:ComponentProgress:87\n",
      "INFO:ComponentProgress:87\n",
      "INFO:ComponentProgress:87\n",
      "INFO:ComponentProgress:87\n",
      "INFO:ComponentProgress:87\n"
     ]
    },
    {
     "name": "stdout",
     "output_type": "stream",
     "text": [
      "INFO     data_access_component get_data_urls: 228: 87\n"
     ]
    },
    {
     "name": "stderr",
     "output_type": "stream",
     "text": [
      "INFO:ComponentProgress:90\n",
      "INFO:ComponentProgress:90\n",
      "INFO:ComponentProgress:90\n",
      "INFO:ComponentProgress:90\n",
      "INFO:ComponentProgress:90\n"
     ]
    },
    {
     "name": "stdout",
     "output_type": "stream",
     "text": [
      "INFO     data_access_component get_data_urls: 228: 90\n"
     ]
    },
    {
     "name": "stderr",
     "output_type": "stream",
     "text": [
      "INFO:ComponentProgress:93\n",
      "INFO:ComponentProgress:93\n",
      "INFO:ComponentProgress:93\n",
      "INFO:ComponentProgress:93\n",
      "INFO:ComponentProgress:93\n"
     ]
    },
    {
     "name": "stdout",
     "output_type": "stream",
     "text": [
      "INFO     data_access_component get_data_urls: 228: 93\n"
     ]
    },
    {
     "name": "stderr",
     "output_type": "stream",
     "text": [
      "INFO:ComponentProgress:96\n",
      "INFO:ComponentProgress:96\n",
      "INFO:ComponentProgress:96\n",
      "INFO:ComponentProgress:96\n",
      "INFO:ComponentProgress:96\n"
     ]
    },
    {
     "name": "stdout",
     "output_type": "stream",
     "text": [
      "INFO     data_access_component get_data_urls: 228: 96\n",
      "INFO     lpdaac_data_access _get_from_wrapped: 203: Downloading MCD43A1.A2018148.h19v03.006.2018158181831.hdf\n",
      "99 %INFO     lpdaac_data_access _get_from_wrapped: 219: Downloaded MCD43A1.A2018148.h19v03.006.2018158181831.hdf\n",
      "Retrieving CAMS data ...\n",
      "DEBUG    connectionpool _new_conn: 208: Starting new HTTP connection (1): www2.geog.ucl.ac.uk\n",
      "DEBUG    connectionpool _make_request: 396: http://www2.geog.ucl.ac.uk:80 \"GET /~ucfafyi/cams/ HTTP/1.1\" 200 None\n"
     ]
    },
    {
     "name": "stderr",
     "output_type": "stream",
     "text": [
      "INFO:ComponentProgress:0\n",
      "INFO:ComponentProgress:0\n",
      "INFO:ComponentProgress:0\n",
      "INFO:ComponentProgress:0\n",
      "INFO:ComponentProgress:0\n"
     ]
    },
    {
     "name": "stdout",
     "output_type": "stream",
     "text": [
      "INFO     data_access_component get_data_urls: 228: 0\n",
      "Retrieving S2 L1C data ...\n",
      "DEBUG    connectionpool _new_conn: 824: Starting new HTTPS connection (1): mundiwebservices.com\n",
      "DEBUG    connectionpool _make_request: 396: https://mundiwebservices.com:443 \"GET /acdc/catalog/proxy/search/Sentinel2/opensearch?q=((sensingStartDate:[2018-05-12T00:00:00Z%20TO%202018-05-12T23:59:59Z]%20AND%20footprint:%22Intersects(POLYGON%20((27.2725456794999985%2058.2252523466000014,%2027.2720041126999995%2058.3418423195999978,%2027.3885799673000001%2058.3362682903999996,%2027.3774098023000008%2058.2196966528999980,%2027.2725456794999985%2058.2252523466000014)))%22)&startIndex=1&maxRecords=10&processingLevel=L1C&instrument=MSI&productType=IMAGE) HTTP/1.1\" 200 None\n",
      "DEBUG    connectionpool _new_conn: 824: Starting new HTTPS connection (1): mundiwebservices.com\n",
      "DEBUG    connectionpool _make_request: 396: https://mundiwebservices.com:443 \"GET /acdc/catalog/proxy/search/Sentinel2/opensearch?q=((sensingStartDate:[2018-05-12T00:00:00Z%20TO%202018-05-12T23:59:59Z]%20AND%20footprint:%22Intersects(POLYGON%20((27.2725456794999985%2058.2252523466000014,%2027.2720041126999995%2058.3418423195999978,%2027.3885799673000001%2058.3362682903999996,%2027.3774098023000008%2058.2196966528999980,%2027.2725456794999985%2058.2252523466000014)))%22)&startIndex=11&maxRecords=10&processingLevel=L1C&instrument=MSI&productType=IMAGE) HTTP/1.1\" 200 None\n"
     ]
    },
    {
     "name": "stderr",
     "output_type": "stream",
     "text": [
      "INFO:ComponentProgress:0\n",
      "INFO:ComponentProgress:0\n",
      "INFO:ComponentProgress:0\n",
      "INFO:ComponentProgress:0\n",
      "INFO:ComponentProgress:0\n"
     ]
    },
    {
     "name": "stdout",
     "output_type": "stream",
     "text": [
      "INFO     data_access_component get_data_urls: 228: 0\n",
      "Done retrieving dynamic data\n",
      "Start pre-processing S2 L1 data from 2018-05-12\n",
      "Finished pre-processing S2 L1 data from 2018-05-12\n",
      "INFO     prior_engine __init__:  83: Using config file: /data/working_dirs/m1/config.yaml\n",
      "INFO     prior_engine __init__:  91: Loading sub-engines for variables.\n",
      "INFO     prior_engine __init__:  95: Got following prior_creator_registrations from entry points: [EntryPoint.parse('soil_moisture_prior_creator = multiply_prior_engine:soilmoisture_prior_creator.SoilMoisturePriorCreator'), EntryPoint.parse('vegetation_prior_creator = multiply_prior_engine:vegetation_prior_creator.VegetationPriorCreator')]\n",
      "INFO     prior_engine __init__: 102: Sub-engine for sm: <class 'multiply_prior_engine.soilmoisture_prior_creator.SoilMoisturePriorCreator'>.\n",
      "INFO     prior_engine __init__: 102: Sub-engine for clay_fraction: <class 'multiply_prior_engine.soilmoisture_prior_creator.SoilMoisturePriorCreator'>.\n",
      "INFO     prior_engine __init__: 102: Sub-engine for sand_fraction: <class 'multiply_prior_engine.soilmoisture_prior_creator.SoilMoisturePriorCreator'>.\n",
      "INFO     prior_engine __init__: 102: Sub-engine for sr: <class 'multiply_prior_engine.soilmoisture_prior_creator.SoilMoisturePriorCreator'>.\n",
      "INFO     prior_engine __init__: 102: Sub-engine for lai: <class 'multiply_prior_engine.vegetation_prior_creator.VegetationPriorCreator'>.\n",
      "INFO     prior_engine __init__: 102: Sub-engine for cab: <class 'multiply_prior_engine.vegetation_prior_creator.VegetationPriorCreator'>.\n",
      "INFO     prior_engine __init__: 102: Sub-engine for cb: <class 'multiply_prior_engine.vegetation_prior_creator.VegetationPriorCreator'>.\n",
      "INFO     prior_engine __init__: 102: Sub-engine for car: <class 'multiply_prior_engine.vegetation_prior_creator.VegetationPriorCreator'>.\n",
      "INFO     prior_engine __init__: 102: Sub-engine for cw: <class 'multiply_prior_engine.vegetation_prior_creator.VegetationPriorCreator'>.\n",
      "INFO     prior_engine __init__: 102: Sub-engine for cdm: <class 'multiply_prior_engine.vegetation_prior_creator.VegetationPriorCreator'>.\n",
      "INFO     prior_engine __init__: 102: Sub-engine for n: <class 'multiply_prior_engine.vegetation_prior_creator.VegetationPriorCreator'>.\n",
      "INFO     prior_engine __init__: 102: Sub-engine for ala: <class 'multiply_prior_engine.vegetation_prior_creator.VegetationPriorCreator'>.\n",
      "INFO     prior_engine __init__: 102: Sub-engine for h: <class 'multiply_prior_engine.vegetation_prior_creator.VegetationPriorCreator'>.\n",
      "INFO     prior_engine __init__: 102: Sub-engine for bsoil: <class 'multiply_prior_engine.vegetation_prior_creator.VegetationPriorCreator'>.\n",
      "INFO     prior_engine __init__: 102: Sub-engine for psoil: <class 'multiply_prior_engine.vegetation_prior_creator.VegetationPriorCreator'>.\n",
      "INFO     prior_engine __init__: 104: Got sub-engines for ['sm', 'clay_fraction', 'sand_fraction', 'sr', 'lai', 'cab', 'cb', 'car', 'cw', 'cdm', 'n', 'ala', 'h', 'bsoil', 'psoil'].\n",
      "DEBUG    prior_engine _check: 132: Loaded config:\n",
      "{'General': {'end_time': '2018-05-12', 'roi': 'POLYGON((27.2725456795 58.2252523466, 27.2720041127 58.3418423196, 27.3885799673 58.3362682904, 27.3774098023 58.2196966529, 27.2725456795 58.2252523466))', 'start_time': '2018-05-12', 'time_interval': 1}, 'Prior': {'General': {'directory_data': '/data/auxiliary/priors/Static/Vegetation/'}, 'ala': {'database': {'static_dir': 'same as General directory_data'}}, 'bsoil': {'database': {'static_dir': 'same as General directory_data'}}, 'cab': {'database': {'static_dir': 'same as General directory_data'}}, 'car': {'database': {'static_dir': 'same as General directory_data'}}, 'cb': {'database': {'static_dir': 'same as General directory_data'}}, 'cdm': {'database': {'static_dir': 'same as General directory_data'}}, 'cw': {'database': {'static_dir': 'same as General directory_data'}}, 'lai': {'user': {'mu': 3.0, 'unc': 0.2}}, 'n': {'database': {'static_dir': 'same as General directory_data'}}, 'output_directory': '/data/working_dirs/m1/priors/2018-05-12/', 'psoil': {'database': {'static_dir': 'same as General directory_data'}}}}.\n",
      "INFO     prior_engine __init__: 108: Loaded /data/working_dirs/m1/config.yaml.\n"
     ]
    },
    {
     "name": "stderr",
     "output_type": "stream",
     "text": [
      "INFO:ComponentProgress:0\n",
      "INFO:ComponentProgress:0\n",
      "INFO:ComponentProgress:0\n",
      "INFO:ComponentProgress:0\n",
      "INFO:ComponentProgress:0\n"
     ]
    },
    {
     "name": "stdout",
     "output_type": "stream",
     "text": [
      "INFO     prior_engine get_priors: 150: 0\n",
      "INFO     prior_engine _get_prior: 176: Getting prior for variable *lai*.\n",
      "INFO     prior_engine _get_prior: 193: Initializing <class 'multiply_prior_engine.vegetation_prior_creator.VegetationPriorCreator'> for lai user prior:\n",
      "20.00 50.00\n",
      "INFO     vegetation_prior_creator CombineTiles2Virtualfile:1564: Successfully created /data/working_dirs/m1/priors/2018-05-12/Priors_lai_132_global.vrt.\n"
     ]
    },
    {
     "name": "stderr",
     "output_type": "stream",
     "text": [
      "INFO:ComponentProgress:10\n",
      "INFO:ComponentProgress:10\n",
      "INFO:ComponentProgress:10\n",
      "INFO:ComponentProgress:10\n",
      "INFO:ComponentProgress:10\n"
     ]
    },
    {
     "name": "stdout",
     "output_type": "stream",
     "text": [
      "INFO     prior_engine get_priors: 150: 10\n",
      "INFO     prior_engine _get_prior: 176: Getting prior for variable *bsoil*.\n",
      "INFO     prior_engine _get_prior: 193: Initializing <class 'multiply_prior_engine.vegetation_prior_creator.VegetationPriorCreator'> for bsoil database prior:\n",
      "INFO     vegetation_prior_creator CombineTiles2Virtualfile:1564: Successfully created /data/working_dirs/m1/priors/2018-05-12/Priors_bsoil_132_global.vrt.\n"
     ]
    },
    {
     "name": "stderr",
     "output_type": "stream",
     "text": [
      "INFO:ComponentProgress:20\n",
      "INFO:ComponentProgress:20\n",
      "INFO:ComponentProgress:20\n",
      "INFO:ComponentProgress:20\n",
      "INFO:ComponentProgress:20\n"
     ]
    },
    {
     "name": "stdout",
     "output_type": "stream",
     "text": [
      "INFO     prior_engine get_priors: 150: 20\n",
      "INFO     prior_engine _get_prior: 176: Getting prior for variable *cb*.\n",
      "INFO     prior_engine _get_prior: 193: Initializing <class 'multiply_prior_engine.vegetation_prior_creator.VegetationPriorCreator'> for cb database prior:\n",
      "INFO     vegetation_prior_creator CombineTiles2Virtualfile:1564: Successfully created /data/working_dirs/m1/priors/2018-05-12/Priors_cb_132_global.vrt.\n"
     ]
    },
    {
     "name": "stderr",
     "output_type": "stream",
     "text": [
      "INFO:ComponentProgress:30\n",
      "INFO:ComponentProgress:30\n",
      "INFO:ComponentProgress:30\n",
      "INFO:ComponentProgress:30\n",
      "INFO:ComponentProgress:30\n"
     ]
    },
    {
     "name": "stdout",
     "output_type": "stream",
     "text": [
      "INFO     prior_engine get_priors: 150: 30\n",
      "INFO     prior_engine _get_prior: 176: Getting prior for variable *psoil*.\n",
      "INFO     prior_engine _get_prior: 193: Initializing <class 'multiply_prior_engine.vegetation_prior_creator.VegetationPriorCreator'> for psoil database prior:\n",
      "INFO     vegetation_prior_creator CombineTiles2Virtualfile:1564: Successfully created /data/working_dirs/m1/priors/2018-05-12/Priors_psoil_132_global.vrt.\n"
     ]
    },
    {
     "name": "stderr",
     "output_type": "stream",
     "text": [
      "INFO:ComponentProgress:40\n",
      "INFO:ComponentProgress:40\n",
      "INFO:ComponentProgress:40\n",
      "INFO:ComponentProgress:40\n",
      "INFO:ComponentProgress:40\n"
     ]
    },
    {
     "name": "stdout",
     "output_type": "stream",
     "text": [
      "INFO     prior_engine get_priors: 150: 40\n",
      "INFO     prior_engine _get_prior: 176: Getting prior for variable *ala*.\n",
      "INFO     prior_engine _get_prior: 193: Initializing <class 'multiply_prior_engine.vegetation_prior_creator.VegetationPriorCreator'> for ala database prior:\n",
      "INFO     vegetation_prior_creator CombineTiles2Virtualfile:1564: Successfully created /data/working_dirs/m1/priors/2018-05-12/Priors_ala_132_global.vrt.\n"
     ]
    },
    {
     "name": "stderr",
     "output_type": "stream",
     "text": [
      "INFO:ComponentProgress:50\n",
      "INFO:ComponentProgress:50\n",
      "INFO:ComponentProgress:50\n",
      "INFO:ComponentProgress:50\n",
      "INFO:ComponentProgress:50\n"
     ]
    },
    {
     "name": "stdout",
     "output_type": "stream",
     "text": [
      "INFO     prior_engine get_priors: 150: 50\n",
      "INFO     prior_engine _get_prior: 176: Getting prior for variable *n*.\n",
      "INFO     prior_engine _get_prior: 193: Initializing <class 'multiply_prior_engine.vegetation_prior_creator.VegetationPriorCreator'> for n database prior:\n",
      "INFO     vegetation_prior_creator CombineTiles2Virtualfile:1564: Successfully created /data/working_dirs/m1/priors/2018-05-12/Priors_n_132_global.vrt.\n"
     ]
    },
    {
     "name": "stderr",
     "output_type": "stream",
     "text": [
      "INFO:ComponentProgress:60\n",
      "INFO:ComponentProgress:60\n",
      "INFO:ComponentProgress:60\n",
      "INFO:ComponentProgress:60\n",
      "INFO:ComponentProgress:60\n"
     ]
    },
    {
     "name": "stdout",
     "output_type": "stream",
     "text": [
      "INFO     prior_engine get_priors: 150: 60\n",
      "INFO     prior_engine _get_prior: 176: Getting prior for variable *cw*.\n",
      "INFO     prior_engine _get_prior: 193: Initializing <class 'multiply_prior_engine.vegetation_prior_creator.VegetationPriorCreator'> for cw database prior:\n",
      "INFO     vegetation_prior_creator CombineTiles2Virtualfile:1564: Successfully created /data/working_dirs/m1/priors/2018-05-12/Priors_cw_132_global.vrt.\n"
     ]
    },
    {
     "name": "stderr",
     "output_type": "stream",
     "text": [
      "INFO:ComponentProgress:70\n",
      "INFO:ComponentProgress:70\n",
      "INFO:ComponentProgress:70\n",
      "INFO:ComponentProgress:70\n",
      "INFO:ComponentProgress:70\n"
     ]
    },
    {
     "name": "stdout",
     "output_type": "stream",
     "text": [
      "INFO     prior_engine get_priors: 150: 70\n",
      "INFO     prior_engine _get_prior: 176: Getting prior for variable *car*.\n",
      "INFO     prior_engine _get_prior: 193: Initializing <class 'multiply_prior_engine.vegetation_prior_creator.VegetationPriorCreator'> for car database prior:\n",
      "INFO     vegetation_prior_creator CombineTiles2Virtualfile:1564: Successfully created /data/working_dirs/m1/priors/2018-05-12/Priors_car_132_global.vrt.\n"
     ]
    },
    {
     "name": "stderr",
     "output_type": "stream",
     "text": [
      "INFO:ComponentProgress:80\n",
      "INFO:ComponentProgress:80\n",
      "INFO:ComponentProgress:80\n",
      "INFO:ComponentProgress:80\n",
      "INFO:ComponentProgress:80\n"
     ]
    },
    {
     "name": "stdout",
     "output_type": "stream",
     "text": [
      "INFO     prior_engine get_priors: 150: 80\n",
      "INFO     prior_engine _get_prior: 176: Getting prior for variable *cdm*.\n",
      "INFO     prior_engine _get_prior: 193: Initializing <class 'multiply_prior_engine.vegetation_prior_creator.VegetationPriorCreator'> for cdm database prior:\n",
      "INFO     vegetation_prior_creator CombineTiles2Virtualfile:1564: Successfully created /data/working_dirs/m1/priors/2018-05-12/Priors_cdm_132_global.vrt.\n"
     ]
    },
    {
     "name": "stderr",
     "output_type": "stream",
     "text": [
      "INFO:ComponentProgress:90\n",
      "INFO:ComponentProgress:90\n",
      "INFO:ComponentProgress:90\n",
      "INFO:ComponentProgress:90\n",
      "INFO:ComponentProgress:90\n"
     ]
    },
    {
     "name": "stdout",
     "output_type": "stream",
     "text": [
      "INFO     prior_engine get_priors: 150: 90\n",
      "INFO     prior_engine _get_prior: 176: Getting prior for variable *cab*.\n",
      "INFO     prior_engine _get_prior: 193: Initializing <class 'multiply_prior_engine.vegetation_prior_creator.VegetationPriorCreator'> for cab database prior:\n",
      "INFO     vegetation_prior_creator CombineTiles2Virtualfile:1564: Successfully created /data/working_dirs/m1/priors/2018-05-12/Priors_cab_132_global.vrt.\n",
      "INFO     inference_engine _infer: 169: Checking for forward model s2_prosail\n",
      "INFO     inference_engine _infer: 172: Forward model s2_prosail found\n",
      "INFO     inference_prior __init__:  59: Using global files to access prior information\n",
      "INFO     inference_engine _get_valid_files:  62: retrieve observations from /data/working_dirs/m1/sdrs/2018-05-12/S2B_MSIL1C_20180512T093029_N0206_R136_T35VNE_20180512T131132-ac\n",
      "INFO     observations create_observations: 224: Set emulator directory to /data/auxiliary/models/s2_prosail\n",
      "INFO     mundi_aux_data_provider assure_element_provided:  76: Downloaded from bucket multiply-aux and prefix forward-models/s2/s2_prosail/s2_prosail_005_040_0000.pkl to /data/auxiliary/models/s2_prosail/s2_prosail_005_040_0000.pkl\n",
      "INFO     linear_kf __init__:  94: Starting KaFKA run!!!\n",
      "INFO     utils iterate_time_grid:  49: Doing timestep from 2018-05-12 -> 2018-05-13\n",
      "INFO     utils iterate_time_grid:  50: # of Observations: 1\n",
      "INFO     utils iterate_time_grid:  52: \t->2018-05-12\n",
      "INFO     linear_kf assimilate_multiple_bands: 230: Assimilating 2018-05-12...\n"
     ]
    },
    {
     "name": "stderr",
     "output_type": "stream",
     "text": [
      "INFO:ComponentProgress:0\n",
      "INFO:ComponentProgress:0\n",
      "INFO:ComponentProgress:0\n",
      "INFO:ComponentProgress:0\n",
      "INFO:ComponentProgress:0\n"
     ]
    },
    {
     "name": "stdout",
     "output_type": "stream",
     "text": [
      "INFO     linear_kf do_all_bands: 262: 0\n",
      "INFO     utils create_prosail_observation_operator: 188: Creating the ObsOp for band 0\n",
      "INFO     utils create_prosail_observation_operator: 201: Running emulators\n",
      "INFO     utils create_prosail_observation_operator: 207: Storing emulators in H matrix\n",
      "INFO     utils create_prosail_observation_operator: 216: \tDone!\n",
      "INFO     utils create_prosail_observation_operator: 188: Creating the ObsOp for band 1\n",
      "INFO     utils create_prosail_observation_operator: 201: Running emulators\n",
      "INFO     utils create_prosail_observation_operator: 207: Storing emulators in H matrix\n",
      "INFO     utils create_prosail_observation_operator: 216: \tDone!\n",
      "INFO     utils create_prosail_observation_operator: 188: Creating the ObsOp for band 2\n",
      "INFO     utils create_prosail_observation_operator: 201: Running emulators\n",
      "INFO     utils create_prosail_observation_operator: 207: Storing emulators in H matrix\n",
      "INFO     utils create_prosail_observation_operator: 216: \tDone!\n",
      "INFO     utils create_prosail_observation_operator: 188: Creating the ObsOp for band 3\n",
      "INFO     utils create_prosail_observation_operator: 201: Running emulators\n",
      "INFO     utils create_prosail_observation_operator: 207: Storing emulators in H matrix\n",
      "INFO     utils create_prosail_observation_operator: 216: \tDone!\n",
      "INFO     utils create_prosail_observation_operator: 188: Creating the ObsOp for band 4\n",
      "INFO     utils create_prosail_observation_operator: 201: Running emulators\n",
      "INFO     utils create_prosail_observation_operator: 207: Storing emulators in H matrix\n",
      "INFO     utils create_prosail_observation_operator: 216: \tDone!\n",
      "INFO     utils create_prosail_observation_operator: 188: Creating the ObsOp for band 5\n",
      "INFO     utils create_prosail_observation_operator: 201: Running emulators\n",
      "INFO     utils create_prosail_observation_operator: 207: Storing emulators in H matrix\n",
      "INFO     utils create_prosail_observation_operator: 216: \tDone!\n",
      "INFO     utils create_prosail_observation_operator: 188: Creating the ObsOp for band 6\n",
      "INFO     utils create_prosail_observation_operator: 201: Running emulators\n",
      "INFO     utils create_prosail_observation_operator: 207: Storing emulators in H matrix\n",
      "INFO     utils create_prosail_observation_operator: 216: \tDone!\n",
      "INFO     utils create_prosail_observation_operator: 188: Creating the ObsOp for band 7\n",
      "INFO     utils create_prosail_observation_operator: 201: Running emulators\n",
      "INFO     utils create_prosail_observation_operator: 207: Storing emulators in H matrix\n",
      "INFO     utils create_prosail_observation_operator: 216: \tDone!\n",
      "INFO     utils create_prosail_observation_operator: 188: Creating the ObsOp for band 8\n",
      "INFO     utils create_prosail_observation_operator: 201: Running emulators\n",
      "INFO     utils create_prosail_observation_operator: 207: Storing emulators in H matrix\n",
      "INFO     utils create_prosail_observation_operator: 216: \tDone!\n",
      "INFO     utils create_prosail_observation_operator: 188: Creating the ObsOp for band 9\n",
      "INFO     utils create_prosail_observation_operator: 201: Running emulators\n",
      "INFO     utils create_prosail_observation_operator: 207: Storing emulators in H matrix\n",
      "INFO     utils create_prosail_observation_operator: 216: \tDone!\n",
      "INFO     solvers variational_kalman_multiband: 124: Solving\n",
      "INFO     linear_kf do_all_bands: 313: Band 9, Iteration # 1, convergence norm: 4.37632e-05\n"
     ]
    },
    {
     "name": "stderr",
     "output_type": "stream",
     "text": [
      "INFO:ComponentProgress:4\n",
      "INFO:ComponentProgress:4\n",
      "INFO:ComponentProgress:4\n",
      "INFO:ComponentProgress:4\n",
      "INFO:ComponentProgress:4\n"
     ]
    },
    {
     "name": "stdout",
     "output_type": "stream",
     "text": [
      "INFO     linear_kf do_all_bands: 262: 4\n",
      "INFO     utils create_prosail_observation_operator: 188: Creating the ObsOp for band 0\n",
      "INFO     utils create_prosail_observation_operator: 201: Running emulators\n",
      "INFO     utils create_prosail_observation_operator: 207: Storing emulators in H matrix\n",
      "INFO     utils create_prosail_observation_operator: 216: \tDone!\n",
      "INFO     utils create_prosail_observation_operator: 188: Creating the ObsOp for band 1\n",
      "INFO     utils create_prosail_observation_operator: 201: Running emulators\n",
      "INFO     utils create_prosail_observation_operator: 207: Storing emulators in H matrix\n",
      "INFO     utils create_prosail_observation_operator: 216: \tDone!\n",
      "INFO     utils create_prosail_observation_operator: 188: Creating the ObsOp for band 2\n",
      "INFO     utils create_prosail_observation_operator: 201: Running emulators\n",
      "INFO     utils create_prosail_observation_operator: 207: Storing emulators in H matrix\n",
      "INFO     utils create_prosail_observation_operator: 216: \tDone!\n",
      "INFO     utils create_prosail_observation_operator: 188: Creating the ObsOp for band 3\n",
      "INFO     utils create_prosail_observation_operator: 201: Running emulators\n",
      "INFO     utils create_prosail_observation_operator: 207: Storing emulators in H matrix\n",
      "INFO     utils create_prosail_observation_operator: 216: \tDone!\n",
      "INFO     utils create_prosail_observation_operator: 188: Creating the ObsOp for band 4\n",
      "INFO     utils create_prosail_observation_operator: 201: Running emulators\n",
      "INFO     utils create_prosail_observation_operator: 207: Storing emulators in H matrix\n",
      "INFO     utils create_prosail_observation_operator: 216: \tDone!\n",
      "INFO     utils create_prosail_observation_operator: 188: Creating the ObsOp for band 5\n",
      "INFO     utils create_prosail_observation_operator: 201: Running emulators\n",
      "INFO     utils create_prosail_observation_operator: 207: Storing emulators in H matrix\n",
      "INFO     utils create_prosail_observation_operator: 216: \tDone!\n",
      "INFO     utils create_prosail_observation_operator: 188: Creating the ObsOp for band 6\n",
      "INFO     utils create_prosail_observation_operator: 201: Running emulators\n",
      "INFO     utils create_prosail_observation_operator: 207: Storing emulators in H matrix\n",
      "INFO     utils create_prosail_observation_operator: 216: \tDone!\n",
      "INFO     utils create_prosail_observation_operator: 188: Creating the ObsOp for band 7\n",
      "INFO     utils create_prosail_observation_operator: 201: Running emulators\n",
      "INFO     utils create_prosail_observation_operator: 207: Storing emulators in H matrix\n",
      "INFO     utils create_prosail_observation_operator: 216: \tDone!\n",
      "INFO     utils create_prosail_observation_operator: 188: Creating the ObsOp for band 8\n",
      "INFO     utils create_prosail_observation_operator: 201: Running emulators\n",
      "INFO     utils create_prosail_observation_operator: 207: Storing emulators in H matrix\n",
      "INFO     utils create_prosail_observation_operator: 216: \tDone!\n",
      "INFO     utils create_prosail_observation_operator: 188: Creating the ObsOp for band 9\n",
      "INFO     utils create_prosail_observation_operator: 201: Running emulators\n",
      "INFO     utils create_prosail_observation_operator: 207: Storing emulators in H matrix\n",
      "INFO     utils create_prosail_observation_operator: 216: \tDone!\n",
      "INFO     solvers variational_kalman_multiband: 124: Solving\n",
      "INFO     linear_kf do_all_bands: 313: Band 9, Iteration # 2, convergence norm: 6.98751e-05\n",
      "INFO     utils create_prosail_observation_operator: 188: Creating the ObsOp for band 0\n",
      "INFO     utils create_prosail_observation_operator: 201: Running emulators\n",
      "INFO     utils create_prosail_observation_operator: 207: Storing emulators in H matrix\n",
      "INFO     utils create_prosail_observation_operator: 216: \tDone!\n",
      "INFO     utils create_prosail_observation_operator: 188: Creating the ObsOp for band 1\n",
      "INFO     utils create_prosail_observation_operator: 201: Running emulators\n",
      "INFO     utils create_prosail_observation_operator: 207: Storing emulators in H matrix\n",
      "INFO     utils create_prosail_observation_operator: 216: \tDone!\n",
      "INFO     utils create_prosail_observation_operator: 188: Creating the ObsOp for band 2\n",
      "INFO     utils create_prosail_observation_operator: 201: Running emulators\n",
      "INFO     utils create_prosail_observation_operator: 207: Storing emulators in H matrix\n",
      "INFO     utils create_prosail_observation_operator: 216: \tDone!\n",
      "INFO     utils create_prosail_observation_operator: 188: Creating the ObsOp for band 3\n",
      "INFO     utils create_prosail_observation_operator: 201: Running emulators\n",
      "INFO     utils create_prosail_observation_operator: 207: Storing emulators in H matrix\n",
      "INFO     utils create_prosail_observation_operator: 216: \tDone!\n",
      "INFO     utils create_prosail_observation_operator: 188: Creating the ObsOp for band 4\n",
      "INFO     utils create_prosail_observation_operator: 201: Running emulators\n",
      "INFO     utils create_prosail_observation_operator: 207: Storing emulators in H matrix\n",
      "INFO     utils create_prosail_observation_operator: 216: \tDone!\n",
      "INFO     utils create_prosail_observation_operator: 188: Creating the ObsOp for band 5\n",
      "INFO     utils create_prosail_observation_operator: 201: Running emulators\n",
      "INFO     utils create_prosail_observation_operator: 207: Storing emulators in H matrix\n",
      "INFO     utils create_prosail_observation_operator: 216: \tDone!\n",
      "INFO     utils create_prosail_observation_operator: 188: Creating the ObsOp for band 6\n",
      "INFO     utils create_prosail_observation_operator: 201: Running emulators\n",
      "INFO     utils create_prosail_observation_operator: 207: Storing emulators in H matrix\n",
      "INFO     utils create_prosail_observation_operator: 216: \tDone!\n",
      "INFO     utils create_prosail_observation_operator: 188: Creating the ObsOp for band 7\n",
      "INFO     utils create_prosail_observation_operator: 201: Running emulators\n",
      "INFO     utils create_prosail_observation_operator: 207: Storing emulators in H matrix\n",
      "INFO     utils create_prosail_observation_operator: 216: \tDone!\n",
      "INFO     utils create_prosail_observation_operator: 188: Creating the ObsOp for band 8\n",
      "INFO     utils create_prosail_observation_operator: 201: Running emulators\n",
      "INFO     utils create_prosail_observation_operator: 207: Storing emulators in H matrix\n",
      "INFO     utils create_prosail_observation_operator: 216: \tDone!\n",
      "INFO     utils create_prosail_observation_operator: 188: Creating the ObsOp for band 9\n",
      "INFO     utils create_prosail_observation_operator: 201: Running emulators\n",
      "INFO     utils create_prosail_observation_operator: 207: Storing emulators in H matrix\n",
      "INFO     utils create_prosail_observation_operator: 216: \tDone!\n",
      "INFO     linear_kf run: 210: Dumping results to disk\n"
     ]
    },
    {
     "name": "stderr",
     "output_type": "stream",
     "text": [
      "INFO:Writer:Expecting height 696 and width 308 as (696, 308), receiving (696, 308)\n"
     ]
    },
    {
     "name": "stdout",
     "output_type": "stream",
     "text": [
      "INFO     output write: 104: Expecting height 696 and width 308 as (696, 308), receiving (696, 308)\n"
     ]
    },
    {
     "name": "stderr",
     "output_type": "stream",
     "text": [
      "INFO:Writer:Expecting height 696 and width 308 as (696, 308), receiving (696, 308)\n"
     ]
    },
    {
     "name": "stdout",
     "output_type": "stream",
     "text": [
      "INFO     output write: 104: Expecting height 696 and width 308 as (696, 308), receiving (696, 308)\n"
     ]
    },
    {
     "name": "stderr",
     "output_type": "stream",
     "text": [
      "INFO:Writer:Expecting height 696 and width 308 as (696, 308), receiving (696, 308)\n"
     ]
    },
    {
     "name": "stdout",
     "output_type": "stream",
     "text": [
      "INFO     output write: 104: Expecting height 696 and width 308 as (696, 308), receiving (696, 308)\n"
     ]
    },
    {
     "name": "stderr",
     "output_type": "stream",
     "text": [
      "INFO:Writer:Expecting height 696 and width 308 as (696, 308), receiving (696, 308)\n"
     ]
    },
    {
     "name": "stdout",
     "output_type": "stream",
     "text": [
      "INFO     output write: 104: Expecting height 696 and width 308 as (696, 308), receiving (696, 308)\n"
     ]
    },
    {
     "name": "stderr",
     "output_type": "stream",
     "text": [
      "INFO:Writer:Expecting height 696 and width 308 as (696, 308), receiving (696, 308)\n"
     ]
    },
    {
     "name": "stdout",
     "output_type": "stream",
     "text": [
      "INFO     output write: 104: Expecting height 696 and width 308 as (696, 308), receiving (696, 308)\n"
     ]
    },
    {
     "name": "stderr",
     "output_type": "stream",
     "text": [
      "INFO:Writer:Expecting height 696 and width 308 as (696, 308), receiving (696, 308)\n"
     ]
    },
    {
     "name": "stdout",
     "output_type": "stream",
     "text": [
      "INFO     output write: 104: Expecting height 696 and width 308 as (696, 308), receiving (696, 308)\n"
     ]
    },
    {
     "name": "stderr",
     "output_type": "stream",
     "text": [
      "INFO:Writer:Expecting height 696 and width 308 as (696, 308), receiving (696, 308)\n"
     ]
    },
    {
     "name": "stdout",
     "output_type": "stream",
     "text": [
      "INFO     output write: 104: Expecting height 696 and width 308 as (696, 308), receiving (696, 308)\n"
     ]
    },
    {
     "name": "stderr",
     "output_type": "stream",
     "text": [
      "INFO:Writer:Expecting height 696 and width 308 as (696, 308), receiving (696, 308)\n"
     ]
    },
    {
     "name": "stdout",
     "output_type": "stream",
     "text": [
      "INFO     output write: 104: Expecting height 696 and width 308 as (696, 308), receiving (696, 308)\n"
     ]
    },
    {
     "name": "stderr",
     "output_type": "stream",
     "text": [
      "INFO:Writer:Expecting height 696 and width 308 as (696, 308), receiving (696, 308)\n"
     ]
    },
    {
     "name": "stdout",
     "output_type": "stream",
     "text": [
      "INFO     output write: 104: Expecting height 696 and width 308 as (696, 308), receiving (696, 308)\n"
     ]
    },
    {
     "name": "stderr",
     "output_type": "stream",
     "text": [
      "INFO:Writer:Expecting height 696 and width 308 as (696, 308), receiving (696, 308)\n"
     ]
    },
    {
     "name": "stdout",
     "output_type": "stream",
     "text": [
      "INFO     output write: 104: Expecting height 696 and width 308 as (696, 308), receiving (696, 308)\n"
     ]
    },
    {
     "name": "stderr",
     "output_type": "stream",
     "text": [
      "INFO:Writer:Expecting height 696 and width 308 as (696, 308), receiving (696, 308)\n"
     ]
    },
    {
     "name": "stdout",
     "output_type": "stream",
     "text": [
      "INFO     output write: 104: Expecting height 696 and width 308 as (696, 308), receiving (696, 308)\n"
     ]
    },
    {
     "name": "stderr",
     "output_type": "stream",
     "text": [
      "INFO:Writer:Expecting height 696 and width 308 as (696, 308), receiving (696, 308)\n"
     ]
    },
    {
     "name": "stdout",
     "output_type": "stream",
     "text": [
      "INFO     output write: 104: Expecting height 696 and width 308 as (696, 308), receiving (696, 308)\n"
     ]
    },
    {
     "name": "stderr",
     "output_type": "stream",
     "text": [
      "INFO:Writer:Expecting height 696 and width 308 as (696, 308), receiving (696, 308)\n"
     ]
    },
    {
     "name": "stdout",
     "output_type": "stream",
     "text": [
      "INFO     output write: 104: Expecting height 696 and width 308 as (696, 308), receiving (696, 308)\n"
     ]
    },
    {
     "name": "stderr",
     "output_type": "stream",
     "text": [
      "INFO:Writer:Expecting height 696 and width 308 as (696, 308), receiving (696, 308)\n"
     ]
    },
    {
     "name": "stdout",
     "output_type": "stream",
     "text": [
      "INFO     output write: 104: Expecting height 696 and width 308 as (696, 308), receiving (696, 308)\n"
     ]
    },
    {
     "name": "stderr",
     "output_type": "stream",
     "text": [
      "INFO:Writer:Expecting height 696 and width 308 as (696, 308), receiving (696, 308)\n"
     ]
    },
    {
     "name": "stdout",
     "output_type": "stream",
     "text": [
      "INFO     output write: 104: Expecting height 696 and width 308 as (696, 308), receiving (696, 308)\n"
     ]
    },
    {
     "name": "stderr",
     "output_type": "stream",
     "text": [
      "INFO:Writer:Expecting height 696 and width 308 as (696, 308), receiving (696, 308)\n"
     ]
    },
    {
     "name": "stdout",
     "output_type": "stream",
     "text": [
      "INFO     output write: 104: Expecting height 696 and width 308 as (696, 308), receiving (696, 308)\n"
     ]
    },
    {
     "name": "stderr",
     "output_type": "stream",
     "text": [
      "INFO:Writer:Expecting height 696 and width 308 as (696, 308), receiving (696, 308)\n"
     ]
    },
    {
     "name": "stdout",
     "output_type": "stream",
     "text": [
      "INFO     output write: 104: Expecting height 696 and width 308 as (696, 308), receiving (696, 308)\n"
     ]
    },
    {
     "name": "stderr",
     "output_type": "stream",
     "text": [
      "INFO:Writer:Expecting height 696 and width 308 as (696, 308), receiving (696, 308)\n"
     ]
    },
    {
     "name": "stdout",
     "output_type": "stream",
     "text": [
      "INFO     output write: 104: Expecting height 696 and width 308 as (696, 308), receiving (696, 308)\n"
     ]
    },
    {
     "name": "stderr",
     "output_type": "stream",
     "text": [
      "INFO:Writer:Expecting height 696 and width 308 as (696, 308), receiving (696, 308)\n"
     ]
    },
    {
     "name": "stdout",
     "output_type": "stream",
     "text": [
      "INFO     output write: 104: Expecting height 696 and width 308 as (696, 308), receiving (696, 308)\n"
     ]
    },
    {
     "name": "stderr",
     "output_type": "stream",
     "text": [
      "INFO:Writer:Expecting height 696 and width 308 as (696, 308), receiving (696, 308)\n"
     ]
    },
    {
     "name": "stdout",
     "output_type": "stream",
     "text": [
      "INFO     output write: 104: Expecting height 696 and width 308 as (696, 308), receiving (696, 308)\n",
      "INFO     linear_kf run: 212: Advancing state, 2018-05-13\n",
      "INFO     linear_kf advance:  98: Calling state propagator...\n",
      "INFO     linear_kf run: 216: Dumping state to disk\n",
      "Finished Inference of S2 data\n",
      "Doing time step starting on 2018-05-13\n",
      "Retrieving MODIS BRDF descriptors ...\n",
      "INFO     lpdaac_data_access _query_wrapped_meta_info_provider: 117: Found MCD43A1.006 data set for 2018-05-29 00:00:00\n"
     ]
    },
    {
     "name": "stderr",
     "output_type": "stream",
     "text": [
      "INFO:ComponentProgress:0\n",
      "INFO:ComponentProgress:0\n",
      "INFO:ComponentProgress:0\n",
      "INFO:ComponentProgress:0\n",
      "INFO:ComponentProgress:0\n"
     ]
    },
    {
     "name": "stdout",
     "output_type": "stream",
     "text": [
      "INFO     data_access_component get_data_urls: 228: 0\n"
     ]
    },
    {
     "name": "stderr",
     "output_type": "stream",
     "text": [
      "INFO:ComponentProgress:3\n",
      "INFO:ComponentProgress:3\n",
      "INFO:ComponentProgress:3\n",
      "INFO:ComponentProgress:3\n",
      "INFO:ComponentProgress:3\n"
     ]
    },
    {
     "name": "stdout",
     "output_type": "stream",
     "text": [
      "INFO     data_access_component get_data_urls: 228: 3\n"
     ]
    },
    {
     "name": "stderr",
     "output_type": "stream",
     "text": [
      "INFO:ComponentProgress:6\n",
      "INFO:ComponentProgress:6\n",
      "INFO:ComponentProgress:6\n",
      "INFO:ComponentProgress:6\n",
      "INFO:ComponentProgress:6\n"
     ]
    },
    {
     "name": "stdout",
     "output_type": "stream",
     "text": [
      "INFO     data_access_component get_data_urls: 228: 6\n"
     ]
    },
    {
     "name": "stderr",
     "output_type": "stream",
     "text": [
      "INFO:ComponentProgress:9\n",
      "INFO:ComponentProgress:9\n",
      "INFO:ComponentProgress:9\n",
      "INFO:ComponentProgress:9\n",
      "INFO:ComponentProgress:9\n"
     ]
    },
    {
     "name": "stdout",
     "output_type": "stream",
     "text": [
      "INFO     data_access_component get_data_urls: 228: 9\n"
     ]
    },
    {
     "name": "stderr",
     "output_type": "stream",
     "text": [
      "INFO:ComponentProgress:12\n",
      "INFO:ComponentProgress:12\n",
      "INFO:ComponentProgress:12\n",
      "INFO:ComponentProgress:12\n",
      "INFO:ComponentProgress:12\n"
     ]
    },
    {
     "name": "stdout",
     "output_type": "stream",
     "text": [
      "INFO     data_access_component get_data_urls: 228: 12\n"
     ]
    },
    {
     "name": "stderr",
     "output_type": "stream",
     "text": [
      "INFO:ComponentProgress:15\n",
      "INFO:ComponentProgress:15\n",
      "INFO:ComponentProgress:15\n",
      "INFO:ComponentProgress:15\n",
      "INFO:ComponentProgress:15\n"
     ]
    },
    {
     "name": "stdout",
     "output_type": "stream",
     "text": [
      "INFO     data_access_component get_data_urls: 228: 15\n"
     ]
    },
    {
     "name": "stderr",
     "output_type": "stream",
     "text": [
      "INFO:ComponentProgress:18\n",
      "INFO:ComponentProgress:18\n",
      "INFO:ComponentProgress:18\n",
      "INFO:ComponentProgress:18\n",
      "INFO:ComponentProgress:18\n"
     ]
    },
    {
     "name": "stdout",
     "output_type": "stream",
     "text": [
      "INFO     data_access_component get_data_urls: 228: 18\n"
     ]
    },
    {
     "name": "stderr",
     "output_type": "stream",
     "text": [
      "INFO:ComponentProgress:21\n",
      "INFO:ComponentProgress:21\n",
      "INFO:ComponentProgress:21\n",
      "INFO:ComponentProgress:21\n",
      "INFO:ComponentProgress:21\n"
     ]
    },
    {
     "name": "stdout",
     "output_type": "stream",
     "text": [
      "INFO     data_access_component get_data_urls: 228: 21\n"
     ]
    },
    {
     "name": "stderr",
     "output_type": "stream",
     "text": [
      "INFO:ComponentProgress:24\n",
      "INFO:ComponentProgress:24\n",
      "INFO:ComponentProgress:24\n",
      "INFO:ComponentProgress:24\n",
      "INFO:ComponentProgress:24\n"
     ]
    },
    {
     "name": "stdout",
     "output_type": "stream",
     "text": [
      "INFO     data_access_component get_data_urls: 228: 24\n"
     ]
    },
    {
     "name": "stderr",
     "output_type": "stream",
     "text": [
      "INFO:ComponentProgress:27\n",
      "INFO:ComponentProgress:27\n",
      "INFO:ComponentProgress:27\n",
      "INFO:ComponentProgress:27\n",
      "INFO:ComponentProgress:27\n"
     ]
    },
    {
     "name": "stdout",
     "output_type": "stream",
     "text": [
      "INFO     data_access_component get_data_urls: 228: 27\n"
     ]
    },
    {
     "name": "stderr",
     "output_type": "stream",
     "text": [
      "INFO:ComponentProgress:30\n",
      "INFO:ComponentProgress:30\n",
      "INFO:ComponentProgress:30\n",
      "INFO:ComponentProgress:30\n",
      "INFO:ComponentProgress:30\n"
     ]
    },
    {
     "name": "stdout",
     "output_type": "stream",
     "text": [
      "INFO     data_access_component get_data_urls: 228: 30\n"
     ]
    },
    {
     "name": "stderr",
     "output_type": "stream",
     "text": [
      "INFO:ComponentProgress:33\n",
      "INFO:ComponentProgress:33\n",
      "INFO:ComponentProgress:33\n",
      "INFO:ComponentProgress:33\n",
      "INFO:ComponentProgress:33\n"
     ]
    },
    {
     "name": "stdout",
     "output_type": "stream",
     "text": [
      "INFO     data_access_component get_data_urls: 228: 33\n"
     ]
    },
    {
     "name": "stderr",
     "output_type": "stream",
     "text": [
      "INFO:ComponentProgress:36\n",
      "INFO:ComponentProgress:36\n",
      "INFO:ComponentProgress:36\n",
      "INFO:ComponentProgress:36\n",
      "INFO:ComponentProgress:36\n"
     ]
    },
    {
     "name": "stdout",
     "output_type": "stream",
     "text": [
      "INFO     data_access_component get_data_urls: 228: 36\n"
     ]
    },
    {
     "name": "stderr",
     "output_type": "stream",
     "text": [
      "INFO:ComponentProgress:39\n",
      "INFO:ComponentProgress:39\n",
      "INFO:ComponentProgress:39\n",
      "INFO:ComponentProgress:39\n",
      "INFO:ComponentProgress:39\n"
     ]
    },
    {
     "name": "stdout",
     "output_type": "stream",
     "text": [
      "INFO     data_access_component get_data_urls: 228: 39\n"
     ]
    },
    {
     "name": "stderr",
     "output_type": "stream",
     "text": [
      "INFO:ComponentProgress:42\n",
      "INFO:ComponentProgress:42\n",
      "INFO:ComponentProgress:42\n",
      "INFO:ComponentProgress:42\n",
      "INFO:ComponentProgress:42\n"
     ]
    },
    {
     "name": "stdout",
     "output_type": "stream",
     "text": [
      "INFO     data_access_component get_data_urls: 228: 42\n"
     ]
    },
    {
     "name": "stderr",
     "output_type": "stream",
     "text": [
      "INFO:ComponentProgress:45\n",
      "INFO:ComponentProgress:45\n",
      "INFO:ComponentProgress:45\n",
      "INFO:ComponentProgress:45\n",
      "INFO:ComponentProgress:45\n"
     ]
    },
    {
     "name": "stdout",
     "output_type": "stream",
     "text": [
      "INFO     data_access_component get_data_urls: 228: 45\n"
     ]
    },
    {
     "name": "stderr",
     "output_type": "stream",
     "text": [
      "INFO:ComponentProgress:48\n",
      "INFO:ComponentProgress:48\n",
      "INFO:ComponentProgress:48\n",
      "INFO:ComponentProgress:48\n",
      "INFO:ComponentProgress:48\n"
     ]
    },
    {
     "name": "stdout",
     "output_type": "stream",
     "text": [
      "INFO     data_access_component get_data_urls: 228: 48\n"
     ]
    },
    {
     "name": "stderr",
     "output_type": "stream",
     "text": [
      "INFO:ComponentProgress:51\n",
      "INFO:ComponentProgress:51\n",
      "INFO:ComponentProgress:51\n",
      "INFO:ComponentProgress:51\n",
      "INFO:ComponentProgress:51\n"
     ]
    },
    {
     "name": "stdout",
     "output_type": "stream",
     "text": [
      "INFO     data_access_component get_data_urls: 228: 51\n"
     ]
    },
    {
     "name": "stderr",
     "output_type": "stream",
     "text": [
      "INFO:ComponentProgress:54\n",
      "INFO:ComponentProgress:54\n",
      "INFO:ComponentProgress:54\n",
      "INFO:ComponentProgress:54\n",
      "INFO:ComponentProgress:54\n"
     ]
    },
    {
     "name": "stdout",
     "output_type": "stream",
     "text": [
      "INFO     data_access_component get_data_urls: 228: 54\n"
     ]
    },
    {
     "name": "stderr",
     "output_type": "stream",
     "text": [
      "INFO:ComponentProgress:57\n",
      "INFO:ComponentProgress:57\n",
      "INFO:ComponentProgress:57\n",
      "INFO:ComponentProgress:57\n",
      "INFO:ComponentProgress:57\n"
     ]
    },
    {
     "name": "stdout",
     "output_type": "stream",
     "text": [
      "INFO     data_access_component get_data_urls: 228: 57\n"
     ]
    },
    {
     "name": "stderr",
     "output_type": "stream",
     "text": [
      "INFO:ComponentProgress:60\n",
      "INFO:ComponentProgress:60\n",
      "INFO:ComponentProgress:60\n",
      "INFO:ComponentProgress:60\n",
      "INFO:ComponentProgress:60\n"
     ]
    },
    {
     "name": "stdout",
     "output_type": "stream",
     "text": [
      "INFO     data_access_component get_data_urls: 228: 60\n"
     ]
    },
    {
     "name": "stderr",
     "output_type": "stream",
     "text": [
      "INFO:ComponentProgress:63\n",
      "INFO:ComponentProgress:63\n",
      "INFO:ComponentProgress:63\n",
      "INFO:ComponentProgress:63\n",
      "INFO:ComponentProgress:63\n"
     ]
    },
    {
     "name": "stdout",
     "output_type": "stream",
     "text": [
      "INFO     data_access_component get_data_urls: 228: 63\n"
     ]
    },
    {
     "name": "stderr",
     "output_type": "stream",
     "text": [
      "INFO:ComponentProgress:66\n",
      "INFO:ComponentProgress:66\n",
      "INFO:ComponentProgress:66\n",
      "INFO:ComponentProgress:66\n",
      "INFO:ComponentProgress:66\n"
     ]
    },
    {
     "name": "stdout",
     "output_type": "stream",
     "text": [
      "INFO     data_access_component get_data_urls: 228: 66\n"
     ]
    },
    {
     "name": "stderr",
     "output_type": "stream",
     "text": [
      "INFO:ComponentProgress:69\n",
      "INFO:ComponentProgress:69\n",
      "INFO:ComponentProgress:69\n",
      "INFO:ComponentProgress:69\n",
      "INFO:ComponentProgress:69\n"
     ]
    },
    {
     "name": "stdout",
     "output_type": "stream",
     "text": [
      "INFO     data_access_component get_data_urls: 228: 69\n"
     ]
    },
    {
     "name": "stderr",
     "output_type": "stream",
     "text": [
      "INFO:ComponentProgress:72\n",
      "INFO:ComponentProgress:72\n",
      "INFO:ComponentProgress:72\n",
      "INFO:ComponentProgress:72\n",
      "INFO:ComponentProgress:72\n"
     ]
    },
    {
     "name": "stdout",
     "output_type": "stream",
     "text": [
      "INFO     data_access_component get_data_urls: 228: 72\n"
     ]
    },
    {
     "name": "stderr",
     "output_type": "stream",
     "text": [
      "INFO:ComponentProgress:75\n",
      "INFO:ComponentProgress:75\n",
      "INFO:ComponentProgress:75\n",
      "INFO:ComponentProgress:75\n",
      "INFO:ComponentProgress:75\n"
     ]
    },
    {
     "name": "stdout",
     "output_type": "stream",
     "text": [
      "INFO     data_access_component get_data_urls: 228: 75\n"
     ]
    },
    {
     "name": "stderr",
     "output_type": "stream",
     "text": [
      "INFO:ComponentProgress:78\n",
      "INFO:ComponentProgress:78\n",
      "INFO:ComponentProgress:78\n",
      "INFO:ComponentProgress:78\n",
      "INFO:ComponentProgress:78\n"
     ]
    },
    {
     "name": "stdout",
     "output_type": "stream",
     "text": [
      "INFO     data_access_component get_data_urls: 228: 78\n"
     ]
    },
    {
     "name": "stderr",
     "output_type": "stream",
     "text": [
      "INFO:ComponentProgress:81\n",
      "INFO:ComponentProgress:81\n",
      "INFO:ComponentProgress:81\n",
      "INFO:ComponentProgress:81\n",
      "INFO:ComponentProgress:81\n"
     ]
    },
    {
     "name": "stdout",
     "output_type": "stream",
     "text": [
      "INFO     data_access_component get_data_urls: 228: 81\n"
     ]
    },
    {
     "name": "stderr",
     "output_type": "stream",
     "text": [
      "INFO:ComponentProgress:84\n",
      "INFO:ComponentProgress:84\n",
      "INFO:ComponentProgress:84\n",
      "INFO:ComponentProgress:84\n",
      "INFO:ComponentProgress:84\n"
     ]
    },
    {
     "name": "stdout",
     "output_type": "stream",
     "text": [
      "INFO     data_access_component get_data_urls: 228: 84\n"
     ]
    },
    {
     "name": "stderr",
     "output_type": "stream",
     "text": [
      "INFO:ComponentProgress:87\n",
      "INFO:ComponentProgress:87\n",
      "INFO:ComponentProgress:87\n",
      "INFO:ComponentProgress:87\n",
      "INFO:ComponentProgress:87\n"
     ]
    },
    {
     "name": "stdout",
     "output_type": "stream",
     "text": [
      "INFO     data_access_component get_data_urls: 228: 87\n"
     ]
    },
    {
     "name": "stderr",
     "output_type": "stream",
     "text": [
      "INFO:ComponentProgress:90\n",
      "INFO:ComponentProgress:90\n",
      "INFO:ComponentProgress:90\n",
      "INFO:ComponentProgress:90\n",
      "INFO:ComponentProgress:90\n"
     ]
    },
    {
     "name": "stdout",
     "output_type": "stream",
     "text": [
      "INFO     data_access_component get_data_urls: 228: 90\n"
     ]
    },
    {
     "name": "stderr",
     "output_type": "stream",
     "text": [
      "INFO:ComponentProgress:93\n",
      "INFO:ComponentProgress:93\n",
      "INFO:ComponentProgress:93\n",
      "INFO:ComponentProgress:93\n",
      "INFO:ComponentProgress:93\n"
     ]
    },
    {
     "name": "stdout",
     "output_type": "stream",
     "text": [
      "INFO     data_access_component get_data_urls: 228: 93\n"
     ]
    },
    {
     "name": "stderr",
     "output_type": "stream",
     "text": [
      "INFO:ComponentProgress:96\n",
      "INFO:ComponentProgress:96\n",
      "INFO:ComponentProgress:96\n",
      "INFO:ComponentProgress:96\n",
      "INFO:ComponentProgress:96\n"
     ]
    },
    {
     "name": "stdout",
     "output_type": "stream",
     "text": [
      "INFO     data_access_component get_data_urls: 228: 96\n",
      "INFO     lpdaac_data_access _get_from_wrapped: 203: Downloading MCD43A1.A2018149.h19v03.006.2018158183218.hdf\n",
      "99 %INFO     lpdaac_data_access _get_from_wrapped: 219: Downloaded MCD43A1.A2018149.h19v03.006.2018158183218.hdf\n",
      "Retrieving CAMS data ...\n",
      "DEBUG    connectionpool _new_conn: 208: Starting new HTTP connection (1): www2.geog.ucl.ac.uk\n",
      "DEBUG    connectionpool _make_request: 396: http://www2.geog.ucl.ac.uk:80 \"GET /~ucfafyi/cams/ HTTP/1.1\" 200 None\n"
     ]
    },
    {
     "name": "stderr",
     "output_type": "stream",
     "text": [
      "INFO:ComponentProgress:0\n",
      "INFO:ComponentProgress:0\n",
      "INFO:ComponentProgress:0\n",
      "INFO:ComponentProgress:0\n",
      "INFO:ComponentProgress:0\n"
     ]
    },
    {
     "name": "stdout",
     "output_type": "stream",
     "text": [
      "INFO     data_access_component get_data_urls: 228: 0\n",
      "Retrieving S2 L1C data ...\n",
      "DEBUG    connectionpool _new_conn: 824: Starting new HTTPS connection (1): mundiwebservices.com\n",
      "DEBUG    connectionpool _make_request: 396: https://mundiwebservices.com:443 \"GET /acdc/catalog/proxy/search/Sentinel2/opensearch?q=((sensingStartDate:[2018-05-13T00:00:00Z%20TO%202018-05-13T23:59:59Z]%20AND%20footprint:%22Intersects(POLYGON%20((27.2725456794999985%2058.2252523466000014,%2027.2720041126999995%2058.3418423195999978,%2027.3885799673000001%2058.3362682903999996,%2027.3774098023000008%2058.2196966528999980,%2027.2725456794999985%2058.2252523466000014)))%22)&startIndex=1&maxRecords=10&processingLevel=L1C&instrument=MSI&productType=IMAGE) HTTP/1.1\" 200 None\n",
      "Done retrieving dynamic data\n",
      "INFO     prior_engine __init__:  83: Using config file: /data/working_dirs/m1/config.yaml\n",
      "INFO     prior_engine __init__:  91: Loading sub-engines for variables.\n",
      "INFO     prior_engine __init__:  95: Got following prior_creator_registrations from entry points: [EntryPoint.parse('soil_moisture_prior_creator = multiply_prior_engine:soilmoisture_prior_creator.SoilMoisturePriorCreator'), EntryPoint.parse('vegetation_prior_creator = multiply_prior_engine:vegetation_prior_creator.VegetationPriorCreator')]\n",
      "INFO     prior_engine __init__: 102: Sub-engine for sm: <class 'multiply_prior_engine.soilmoisture_prior_creator.SoilMoisturePriorCreator'>.\n",
      "INFO     prior_engine __init__: 102: Sub-engine for clay_fraction: <class 'multiply_prior_engine.soilmoisture_prior_creator.SoilMoisturePriorCreator'>.\n",
      "INFO     prior_engine __init__: 102: Sub-engine for sand_fraction: <class 'multiply_prior_engine.soilmoisture_prior_creator.SoilMoisturePriorCreator'>.\n",
      "INFO     prior_engine __init__: 102: Sub-engine for sr: <class 'multiply_prior_engine.soilmoisture_prior_creator.SoilMoisturePriorCreator'>.\n",
      "INFO     prior_engine __init__: 102: Sub-engine for lai: <class 'multiply_prior_engine.vegetation_prior_creator.VegetationPriorCreator'>.\n",
      "INFO     prior_engine __init__: 102: Sub-engine for cab: <class 'multiply_prior_engine.vegetation_prior_creator.VegetationPriorCreator'>.\n",
      "INFO     prior_engine __init__: 102: Sub-engine for cb: <class 'multiply_prior_engine.vegetation_prior_creator.VegetationPriorCreator'>.\n",
      "INFO     prior_engine __init__: 102: Sub-engine for car: <class 'multiply_prior_engine.vegetation_prior_creator.VegetationPriorCreator'>.\n",
      "INFO     prior_engine __init__: 102: Sub-engine for cw: <class 'multiply_prior_engine.vegetation_prior_creator.VegetationPriorCreator'>.\n",
      "INFO     prior_engine __init__: 102: Sub-engine for cdm: <class 'multiply_prior_engine.vegetation_prior_creator.VegetationPriorCreator'>.\n",
      "INFO     prior_engine __init__: 102: Sub-engine for n: <class 'multiply_prior_engine.vegetation_prior_creator.VegetationPriorCreator'>.\n",
      "INFO     prior_engine __init__: 102: Sub-engine for ala: <class 'multiply_prior_engine.vegetation_prior_creator.VegetationPriorCreator'>.\n",
      "INFO     prior_engine __init__: 102: Sub-engine for h: <class 'multiply_prior_engine.vegetation_prior_creator.VegetationPriorCreator'>.\n",
      "INFO     prior_engine __init__: 102: Sub-engine for bsoil: <class 'multiply_prior_engine.vegetation_prior_creator.VegetationPriorCreator'>.\n",
      "INFO     prior_engine __init__: 102: Sub-engine for psoil: <class 'multiply_prior_engine.vegetation_prior_creator.VegetationPriorCreator'>.\n",
      "INFO     prior_engine __init__: 104: Got sub-engines for ['sm', 'clay_fraction', 'sand_fraction', 'sr', 'lai', 'cab', 'cb', 'car', 'cw', 'cdm', 'n', 'ala', 'h', 'bsoil', 'psoil'].\n",
      "DEBUG    prior_engine _check: 132: Loaded config:\n",
      "{'General': {'end_time': '2018-05-13', 'roi': 'POLYGON((27.2725456795 58.2252523466, 27.2720041127 58.3418423196, 27.3885799673 58.3362682904, 27.3774098023 58.2196966529, 27.2725456795 58.2252523466))', 'start_time': '2018-05-13', 'time_interval': 1}, 'Prior': {'General': {'directory_data': '/data/auxiliary/priors/Static/Vegetation/'}, 'ala': {'database': {'static_dir': 'same as General directory_data'}}, 'bsoil': {'database': {'static_dir': 'same as General directory_data'}}, 'cab': {'database': {'static_dir': 'same as General directory_data'}}, 'car': {'database': {'static_dir': 'same as General directory_data'}}, 'cb': {'database': {'static_dir': 'same as General directory_data'}}, 'cdm': {'database': {'static_dir': 'same as General directory_data'}}, 'cw': {'database': {'static_dir': 'same as General directory_data'}}, 'lai': {'user': {'mu': 3.0, 'unc': 0.2}}, 'n': {'database': {'static_dir': 'same as General directory_data'}}, 'output_directory': '/data/working_dirs/m1/priors/2018-05-13/', 'psoil': {'database': {'static_dir': 'same as General directory_data'}}}}.\n",
      "INFO     prior_engine __init__: 108: Loaded /data/working_dirs/m1/config.yaml.\n"
     ]
    },
    {
     "name": "stderr",
     "output_type": "stream",
     "text": [
      "INFO:ComponentProgress:0\n",
      "INFO:ComponentProgress:0\n",
      "INFO:ComponentProgress:0\n",
      "INFO:ComponentProgress:0\n",
      "INFO:ComponentProgress:0\n"
     ]
    },
    {
     "name": "stdout",
     "output_type": "stream",
     "text": [
      "INFO     prior_engine get_priors: 150: 0\n",
      "INFO     prior_engine _get_prior: 176: Getting prior for variable *lai*.\n",
      "INFO     prior_engine _get_prior: 193: Initializing <class 'multiply_prior_engine.vegetation_prior_creator.VegetationPriorCreator'> for lai user prior:\n",
      "20.00 50.00\n",
      "INFO     vegetation_prior_creator CombineTiles2Virtualfile:1564: Successfully created /data/working_dirs/m1/priors/2018-05-13/Priors_lai_133_global.vrt.\n"
     ]
    },
    {
     "name": "stderr",
     "output_type": "stream",
     "text": [
      "INFO:ComponentProgress:10\n",
      "INFO:ComponentProgress:10\n",
      "INFO:ComponentProgress:10\n",
      "INFO:ComponentProgress:10\n",
      "INFO:ComponentProgress:10\n"
     ]
    },
    {
     "name": "stdout",
     "output_type": "stream",
     "text": [
      "INFO     prior_engine get_priors: 150: 10\n",
      "INFO     prior_engine _get_prior: 176: Getting prior for variable *bsoil*.\n",
      "INFO     prior_engine _get_prior: 193: Initializing <class 'multiply_prior_engine.vegetation_prior_creator.VegetationPriorCreator'> for bsoil database prior:\n",
      "INFO     vegetation_prior_creator CombineTiles2Virtualfile:1564: Successfully created /data/working_dirs/m1/priors/2018-05-13/Priors_bsoil_133_global.vrt.\n"
     ]
    },
    {
     "name": "stderr",
     "output_type": "stream",
     "text": [
      "INFO:ComponentProgress:20\n",
      "INFO:ComponentProgress:20\n",
      "INFO:ComponentProgress:20\n",
      "INFO:ComponentProgress:20\n",
      "INFO:ComponentProgress:20\n"
     ]
    },
    {
     "name": "stdout",
     "output_type": "stream",
     "text": [
      "INFO     prior_engine get_priors: 150: 20\n",
      "INFO     prior_engine _get_prior: 176: Getting prior for variable *cb*.\n",
      "INFO     prior_engine _get_prior: 193: Initializing <class 'multiply_prior_engine.vegetation_prior_creator.VegetationPriorCreator'> for cb database prior:\n",
      "INFO     vegetation_prior_creator CombineTiles2Virtualfile:1564: Successfully created /data/working_dirs/m1/priors/2018-05-13/Priors_cb_133_global.vrt.\n"
     ]
    },
    {
     "name": "stderr",
     "output_type": "stream",
     "text": [
      "INFO:ComponentProgress:30\n",
      "INFO:ComponentProgress:30\n",
      "INFO:ComponentProgress:30\n",
      "INFO:ComponentProgress:30\n",
      "INFO:ComponentProgress:30\n"
     ]
    },
    {
     "name": "stdout",
     "output_type": "stream",
     "text": [
      "INFO     prior_engine get_priors: 150: 30\n",
      "INFO     prior_engine _get_prior: 176: Getting prior for variable *psoil*.\n",
      "INFO     prior_engine _get_prior: 193: Initializing <class 'multiply_prior_engine.vegetation_prior_creator.VegetationPriorCreator'> for psoil database prior:\n",
      "INFO     vegetation_prior_creator CombineTiles2Virtualfile:1564: Successfully created /data/working_dirs/m1/priors/2018-05-13/Priors_psoil_133_global.vrt.\n"
     ]
    },
    {
     "name": "stderr",
     "output_type": "stream",
     "text": [
      "INFO:ComponentProgress:40\n",
      "INFO:ComponentProgress:40\n",
      "INFO:ComponentProgress:40\n",
      "INFO:ComponentProgress:40\n",
      "INFO:ComponentProgress:40\n"
     ]
    },
    {
     "name": "stdout",
     "output_type": "stream",
     "text": [
      "INFO     prior_engine get_priors: 150: 40\n",
      "INFO     prior_engine _get_prior: 176: Getting prior for variable *ala*.\n",
      "INFO     prior_engine _get_prior: 193: Initializing <class 'multiply_prior_engine.vegetation_prior_creator.VegetationPriorCreator'> for ala database prior:\n",
      "INFO     vegetation_prior_creator CombineTiles2Virtualfile:1564: Successfully created /data/working_dirs/m1/priors/2018-05-13/Priors_ala_133_global.vrt.\n"
     ]
    },
    {
     "name": "stderr",
     "output_type": "stream",
     "text": [
      "INFO:ComponentProgress:50\n",
      "INFO:ComponentProgress:50\n",
      "INFO:ComponentProgress:50\n",
      "INFO:ComponentProgress:50\n",
      "INFO:ComponentProgress:50\n"
     ]
    },
    {
     "name": "stdout",
     "output_type": "stream",
     "text": [
      "INFO     prior_engine get_priors: 150: 50\n",
      "INFO     prior_engine _get_prior: 176: Getting prior for variable *n*.\n",
      "INFO     prior_engine _get_prior: 193: Initializing <class 'multiply_prior_engine.vegetation_prior_creator.VegetationPriorCreator'> for n database prior:\n",
      "INFO     vegetation_prior_creator CombineTiles2Virtualfile:1564: Successfully created /data/working_dirs/m1/priors/2018-05-13/Priors_n_133_global.vrt.\n"
     ]
    },
    {
     "name": "stderr",
     "output_type": "stream",
     "text": [
      "INFO:ComponentProgress:60\n",
      "INFO:ComponentProgress:60\n",
      "INFO:ComponentProgress:60\n",
      "INFO:ComponentProgress:60\n",
      "INFO:ComponentProgress:60\n"
     ]
    },
    {
     "name": "stdout",
     "output_type": "stream",
     "text": [
      "INFO     prior_engine get_priors: 150: 60\n",
      "INFO     prior_engine _get_prior: 176: Getting prior for variable *cw*.\n",
      "INFO     prior_engine _get_prior: 193: Initializing <class 'multiply_prior_engine.vegetation_prior_creator.VegetationPriorCreator'> for cw database prior:\n",
      "INFO     vegetation_prior_creator CombineTiles2Virtualfile:1564: Successfully created /data/working_dirs/m1/priors/2018-05-13/Priors_cw_133_global.vrt.\n"
     ]
    },
    {
     "name": "stderr",
     "output_type": "stream",
     "text": [
      "INFO:ComponentProgress:70\n",
      "INFO:ComponentProgress:70\n",
      "INFO:ComponentProgress:70\n",
      "INFO:ComponentProgress:70\n",
      "INFO:ComponentProgress:70\n"
     ]
    },
    {
     "name": "stdout",
     "output_type": "stream",
     "text": [
      "INFO     prior_engine get_priors: 150: 70\n",
      "INFO     prior_engine _get_prior: 176: Getting prior for variable *car*.\n",
      "INFO     prior_engine _get_prior: 193: Initializing <class 'multiply_prior_engine.vegetation_prior_creator.VegetationPriorCreator'> for car database prior:\n",
      "INFO     vegetation_prior_creator CombineTiles2Virtualfile:1564: Successfully created /data/working_dirs/m1/priors/2018-05-13/Priors_car_133_global.vrt.\n"
     ]
    },
    {
     "name": "stderr",
     "output_type": "stream",
     "text": [
      "INFO:ComponentProgress:80\n",
      "INFO:ComponentProgress:80\n",
      "INFO:ComponentProgress:80\n",
      "INFO:ComponentProgress:80\n",
      "INFO:ComponentProgress:80\n"
     ]
    },
    {
     "name": "stdout",
     "output_type": "stream",
     "text": [
      "INFO     prior_engine get_priors: 150: 80\n",
      "INFO     prior_engine _get_prior: 176: Getting prior for variable *cdm*.\n",
      "INFO     prior_engine _get_prior: 193: Initializing <class 'multiply_prior_engine.vegetation_prior_creator.VegetationPriorCreator'> for cdm database prior:\n",
      "INFO     vegetation_prior_creator CombineTiles2Virtualfile:1564: Successfully created /data/working_dirs/m1/priors/2018-05-13/Priors_cdm_133_global.vrt.\n"
     ]
    },
    {
     "name": "stderr",
     "output_type": "stream",
     "text": [
      "INFO:ComponentProgress:90\n",
      "INFO:ComponentProgress:90\n",
      "INFO:ComponentProgress:90\n",
      "INFO:ComponentProgress:90\n",
      "INFO:ComponentProgress:90\n"
     ]
    },
    {
     "name": "stdout",
     "output_type": "stream",
     "text": [
      "INFO     prior_engine get_priors: 150: 90\n",
      "INFO     prior_engine _get_prior: 176: Getting prior for variable *cab*.\n",
      "INFO     prior_engine _get_prior: 193: Initializing <class 'multiply_prior_engine.vegetation_prior_creator.VegetationPriorCreator'> for cab database prior:\n",
      "INFO     vegetation_prior_creator CombineTiles2Virtualfile:1564: Successfully created /data/working_dirs/m1/priors/2018-05-13/Priors_cab_133_global.vrt.\n",
      "INFO     inference_engine _infer: 169: Checking for forward model s2_prosail\n",
      "INFO     inference_engine _infer: 172: Forward model s2_prosail found\n",
      "INFO     inference_prior __init__:  59: Using global files to access prior information\n",
      "INFO     linear_kf __init__:  94: Starting KaFKA run!!!\n",
      "INFO     utils iterate_time_grid:  49: Doing timestep from 2018-05-13 -> 2018-05-14\n",
      "INFO     utils iterate_time_grid:  50: # of Observations: 0\n",
      "INFO     linear_kf run: 199: No observations in this time\n",
      "INFO     linear_kf run: 210: Dumping results to disk\n"
     ]
    },
    {
     "name": "stderr",
     "output_type": "stream",
     "text": [
      "INFO:Writer:Expecting height 696 and width 308 as (696, 308), receiving (696, 308)\n"
     ]
    },
    {
     "name": "stdout",
     "output_type": "stream",
     "text": [
      "INFO     output write: 104: Expecting height 696 and width 308 as (696, 308), receiving (696, 308)\n"
     ]
    },
    {
     "name": "stderr",
     "output_type": "stream",
     "text": [
      "INFO:Writer:Expecting height 696 and width 308 as (696, 308), receiving (696, 308)\n"
     ]
    },
    {
     "name": "stdout",
     "output_type": "stream",
     "text": [
      "INFO     output write: 104: Expecting height 696 and width 308 as (696, 308), receiving (696, 308)\n"
     ]
    },
    {
     "name": "stderr",
     "output_type": "stream",
     "text": [
      "INFO:Writer:Expecting height 696 and width 308 as (696, 308), receiving (696, 308)\n"
     ]
    },
    {
     "name": "stdout",
     "output_type": "stream",
     "text": [
      "INFO     output write: 104: Expecting height 696 and width 308 as (696, 308), receiving (696, 308)\n"
     ]
    },
    {
     "name": "stderr",
     "output_type": "stream",
     "text": [
      "INFO:Writer:Expecting height 696 and width 308 as (696, 308), receiving (696, 308)\n"
     ]
    },
    {
     "name": "stdout",
     "output_type": "stream",
     "text": [
      "INFO     output write: 104: Expecting height 696 and width 308 as (696, 308), receiving (696, 308)\n"
     ]
    },
    {
     "name": "stderr",
     "output_type": "stream",
     "text": [
      "INFO:Writer:Expecting height 696 and width 308 as (696, 308), receiving (696, 308)\n"
     ]
    },
    {
     "name": "stdout",
     "output_type": "stream",
     "text": [
      "INFO     output write: 104: Expecting height 696 and width 308 as (696, 308), receiving (696, 308)\n"
     ]
    },
    {
     "name": "stderr",
     "output_type": "stream",
     "text": [
      "INFO:Writer:Expecting height 696 and width 308 as (696, 308), receiving (696, 308)\n"
     ]
    },
    {
     "name": "stdout",
     "output_type": "stream",
     "text": [
      "INFO     output write: 104: Expecting height 696 and width 308 as (696, 308), receiving (696, 308)\n"
     ]
    },
    {
     "name": "stderr",
     "output_type": "stream",
     "text": [
      "INFO:Writer:Expecting height 696 and width 308 as (696, 308), receiving (696, 308)\n"
     ]
    },
    {
     "name": "stdout",
     "output_type": "stream",
     "text": [
      "INFO     output write: 104: Expecting height 696 and width 308 as (696, 308), receiving (696, 308)\n"
     ]
    },
    {
     "name": "stderr",
     "output_type": "stream",
     "text": [
      "INFO:Writer:Expecting height 696 and width 308 as (696, 308), receiving (696, 308)\n"
     ]
    },
    {
     "name": "stdout",
     "output_type": "stream",
     "text": [
      "INFO     output write: 104: Expecting height 696 and width 308 as (696, 308), receiving (696, 308)\n"
     ]
    },
    {
     "name": "stderr",
     "output_type": "stream",
     "text": [
      "INFO:Writer:Expecting height 696 and width 308 as (696, 308), receiving (696, 308)\n"
     ]
    },
    {
     "name": "stdout",
     "output_type": "stream",
     "text": [
      "INFO     output write: 104: Expecting height 696 and width 308 as (696, 308), receiving (696, 308)\n"
     ]
    },
    {
     "name": "stderr",
     "output_type": "stream",
     "text": [
      "INFO:Writer:Expecting height 696 and width 308 as (696, 308), receiving (696, 308)\n"
     ]
    },
    {
     "name": "stdout",
     "output_type": "stream",
     "text": [
      "INFO     output write: 104: Expecting height 696 and width 308 as (696, 308), receiving (696, 308)\n"
     ]
    },
    {
     "name": "stderr",
     "output_type": "stream",
     "text": [
      "INFO:Writer:Expecting height 696 and width 308 as (696, 308), receiving (696, 308)\n"
     ]
    },
    {
     "name": "stdout",
     "output_type": "stream",
     "text": [
      "INFO     output write: 104: Expecting height 696 and width 308 as (696, 308), receiving (696, 308)\n"
     ]
    },
    {
     "name": "stderr",
     "output_type": "stream",
     "text": [
      "INFO:Writer:Expecting height 696 and width 308 as (696, 308), receiving (696, 308)\n"
     ]
    },
    {
     "name": "stdout",
     "output_type": "stream",
     "text": [
      "INFO     output write: 104: Expecting height 696 and width 308 as (696, 308), receiving (696, 308)\n"
     ]
    },
    {
     "name": "stderr",
     "output_type": "stream",
     "text": [
      "INFO:Writer:Expecting height 696 and width 308 as (696, 308), receiving (696, 308)\n"
     ]
    },
    {
     "name": "stdout",
     "output_type": "stream",
     "text": [
      "INFO     output write: 104: Expecting height 696 and width 308 as (696, 308), receiving (696, 308)\n"
     ]
    },
    {
     "name": "stderr",
     "output_type": "stream",
     "text": [
      "INFO:Writer:Expecting height 696 and width 308 as (696, 308), receiving (696, 308)\n"
     ]
    },
    {
     "name": "stdout",
     "output_type": "stream",
     "text": [
      "INFO     output write: 104: Expecting height 696 and width 308 as (696, 308), receiving (696, 308)\n"
     ]
    },
    {
     "name": "stderr",
     "output_type": "stream",
     "text": [
      "INFO:Writer:Expecting height 696 and width 308 as (696, 308), receiving (696, 308)\n"
     ]
    },
    {
     "name": "stdout",
     "output_type": "stream",
     "text": [
      "INFO     output write: 104: Expecting height 696 and width 308 as (696, 308), receiving (696, 308)\n"
     ]
    },
    {
     "name": "stderr",
     "output_type": "stream",
     "text": [
      "INFO:Writer:Expecting height 696 and width 308 as (696, 308), receiving (696, 308)\n"
     ]
    },
    {
     "name": "stdout",
     "output_type": "stream",
     "text": [
      "INFO     output write: 104: Expecting height 696 and width 308 as (696, 308), receiving (696, 308)\n"
     ]
    },
    {
     "name": "stderr",
     "output_type": "stream",
     "text": [
      "INFO:Writer:Expecting height 696 and width 308 as (696, 308), receiving (696, 308)\n"
     ]
    },
    {
     "name": "stdout",
     "output_type": "stream",
     "text": [
      "INFO     output write: 104: Expecting height 696 and width 308 as (696, 308), receiving (696, 308)\n"
     ]
    },
    {
     "name": "stderr",
     "output_type": "stream",
     "text": [
      "INFO:Writer:Expecting height 696 and width 308 as (696, 308), receiving (696, 308)\n"
     ]
    },
    {
     "name": "stdout",
     "output_type": "stream",
     "text": [
      "INFO     output write: 104: Expecting height 696 and width 308 as (696, 308), receiving (696, 308)\n"
     ]
    },
    {
     "name": "stderr",
     "output_type": "stream",
     "text": [
      "INFO:Writer:Expecting height 696 and width 308 as (696, 308), receiving (696, 308)\n"
     ]
    },
    {
     "name": "stdout",
     "output_type": "stream",
     "text": [
      "INFO     output write: 104: Expecting height 696 and width 308 as (696, 308), receiving (696, 308)\n"
     ]
    },
    {
     "name": "stderr",
     "output_type": "stream",
     "text": [
      "INFO:Writer:Expecting height 696 and width 308 as (696, 308), receiving (696, 308)\n"
     ]
    },
    {
     "name": "stdout",
     "output_type": "stream",
     "text": [
      "INFO     output write: 104: Expecting height 696 and width 308 as (696, 308), receiving (696, 308)\n",
      "INFO     linear_kf run: 212: Advancing state, 2018-05-14\n",
      "INFO     linear_kf advance:  98: Calling state propagator...\n",
      "INFO     linear_kf run: 216: Dumping state to disk\n",
      "Finished Inference of S2 data\n",
      "Doing time step starting on 2018-05-14\n",
      "Retrieving MODIS BRDF descriptors ...\n",
      "INFO     lpdaac_data_access _query_wrapped_meta_info_provider: 117: Found MCD43A1.006 data set for 2018-05-30 00:00:00\n"
     ]
    },
    {
     "name": "stderr",
     "output_type": "stream",
     "text": [
      "INFO:ComponentProgress:0\n",
      "INFO:ComponentProgress:0\n",
      "INFO:ComponentProgress:0\n",
      "INFO:ComponentProgress:0\n",
      "INFO:ComponentProgress:0\n"
     ]
    },
    {
     "name": "stdout",
     "output_type": "stream",
     "text": [
      "INFO     data_access_component get_data_urls: 228: 0\n"
     ]
    },
    {
     "name": "stderr",
     "output_type": "stream",
     "text": [
      "INFO:ComponentProgress:3\n",
      "INFO:ComponentProgress:3\n",
      "INFO:ComponentProgress:3\n",
      "INFO:ComponentProgress:3\n",
      "INFO:ComponentProgress:3\n"
     ]
    },
    {
     "name": "stdout",
     "output_type": "stream",
     "text": [
      "INFO     data_access_component get_data_urls: 228: 3\n"
     ]
    },
    {
     "name": "stderr",
     "output_type": "stream",
     "text": [
      "INFO:ComponentProgress:6\n",
      "INFO:ComponentProgress:6\n",
      "INFO:ComponentProgress:6\n",
      "INFO:ComponentProgress:6\n",
      "INFO:ComponentProgress:6\n"
     ]
    },
    {
     "name": "stdout",
     "output_type": "stream",
     "text": [
      "INFO     data_access_component get_data_urls: 228: 6\n"
     ]
    },
    {
     "name": "stderr",
     "output_type": "stream",
     "text": [
      "INFO:ComponentProgress:9\n",
      "INFO:ComponentProgress:9\n",
      "INFO:ComponentProgress:9\n",
      "INFO:ComponentProgress:9\n",
      "INFO:ComponentProgress:9\n"
     ]
    },
    {
     "name": "stdout",
     "output_type": "stream",
     "text": [
      "INFO     data_access_component get_data_urls: 228: 9\n"
     ]
    },
    {
     "name": "stderr",
     "output_type": "stream",
     "text": [
      "INFO:ComponentProgress:12\n",
      "INFO:ComponentProgress:12\n",
      "INFO:ComponentProgress:12\n",
      "INFO:ComponentProgress:12\n",
      "INFO:ComponentProgress:12\n"
     ]
    },
    {
     "name": "stdout",
     "output_type": "stream",
     "text": [
      "INFO     data_access_component get_data_urls: 228: 12\n"
     ]
    },
    {
     "name": "stderr",
     "output_type": "stream",
     "text": [
      "INFO:ComponentProgress:15\n",
      "INFO:ComponentProgress:15\n",
      "INFO:ComponentProgress:15\n",
      "INFO:ComponentProgress:15\n",
      "INFO:ComponentProgress:15\n"
     ]
    },
    {
     "name": "stdout",
     "output_type": "stream",
     "text": [
      "INFO     data_access_component get_data_urls: 228: 15\n"
     ]
    },
    {
     "name": "stderr",
     "output_type": "stream",
     "text": [
      "INFO:ComponentProgress:18\n",
      "INFO:ComponentProgress:18\n",
      "INFO:ComponentProgress:18\n",
      "INFO:ComponentProgress:18\n",
      "INFO:ComponentProgress:18\n"
     ]
    },
    {
     "name": "stdout",
     "output_type": "stream",
     "text": [
      "INFO     data_access_component get_data_urls: 228: 18\n"
     ]
    },
    {
     "name": "stderr",
     "output_type": "stream",
     "text": [
      "INFO:ComponentProgress:21\n",
      "INFO:ComponentProgress:21\n",
      "INFO:ComponentProgress:21\n",
      "INFO:ComponentProgress:21\n",
      "INFO:ComponentProgress:21\n"
     ]
    },
    {
     "name": "stdout",
     "output_type": "stream",
     "text": [
      "INFO     data_access_component get_data_urls: 228: 21\n"
     ]
    },
    {
     "name": "stderr",
     "output_type": "stream",
     "text": [
      "INFO:ComponentProgress:24\n",
      "INFO:ComponentProgress:24\n",
      "INFO:ComponentProgress:24\n",
      "INFO:ComponentProgress:24\n",
      "INFO:ComponentProgress:24\n"
     ]
    },
    {
     "name": "stdout",
     "output_type": "stream",
     "text": [
      "INFO     data_access_component get_data_urls: 228: 24\n"
     ]
    },
    {
     "name": "stderr",
     "output_type": "stream",
     "text": [
      "INFO:ComponentProgress:27\n",
      "INFO:ComponentProgress:27\n",
      "INFO:ComponentProgress:27\n",
      "INFO:ComponentProgress:27\n",
      "INFO:ComponentProgress:27\n"
     ]
    },
    {
     "name": "stdout",
     "output_type": "stream",
     "text": [
      "INFO     data_access_component get_data_urls: 228: 27\n"
     ]
    },
    {
     "name": "stderr",
     "output_type": "stream",
     "text": [
      "INFO:ComponentProgress:30\n",
      "INFO:ComponentProgress:30\n",
      "INFO:ComponentProgress:30\n",
      "INFO:ComponentProgress:30\n",
      "INFO:ComponentProgress:30\n"
     ]
    },
    {
     "name": "stdout",
     "output_type": "stream",
     "text": [
      "INFO     data_access_component get_data_urls: 228: 30\n"
     ]
    },
    {
     "name": "stderr",
     "output_type": "stream",
     "text": [
      "INFO:ComponentProgress:33\n",
      "INFO:ComponentProgress:33\n",
      "INFO:ComponentProgress:33\n",
      "INFO:ComponentProgress:33\n",
      "INFO:ComponentProgress:33\n"
     ]
    },
    {
     "name": "stdout",
     "output_type": "stream",
     "text": [
      "INFO     data_access_component get_data_urls: 228: 33\n"
     ]
    },
    {
     "name": "stderr",
     "output_type": "stream",
     "text": [
      "INFO:ComponentProgress:36\n",
      "INFO:ComponentProgress:36\n",
      "INFO:ComponentProgress:36\n",
      "INFO:ComponentProgress:36\n",
      "INFO:ComponentProgress:36\n"
     ]
    },
    {
     "name": "stdout",
     "output_type": "stream",
     "text": [
      "INFO     data_access_component get_data_urls: 228: 36\n"
     ]
    },
    {
     "name": "stderr",
     "output_type": "stream",
     "text": [
      "INFO:ComponentProgress:39\n",
      "INFO:ComponentProgress:39\n",
      "INFO:ComponentProgress:39\n",
      "INFO:ComponentProgress:39\n",
      "INFO:ComponentProgress:39\n"
     ]
    },
    {
     "name": "stdout",
     "output_type": "stream",
     "text": [
      "INFO     data_access_component get_data_urls: 228: 39\n"
     ]
    },
    {
     "name": "stderr",
     "output_type": "stream",
     "text": [
      "INFO:ComponentProgress:42\n",
      "INFO:ComponentProgress:42\n",
      "INFO:ComponentProgress:42\n",
      "INFO:ComponentProgress:42\n",
      "INFO:ComponentProgress:42\n"
     ]
    },
    {
     "name": "stdout",
     "output_type": "stream",
     "text": [
      "INFO     data_access_component get_data_urls: 228: 42\n"
     ]
    },
    {
     "name": "stderr",
     "output_type": "stream",
     "text": [
      "INFO:ComponentProgress:45\n",
      "INFO:ComponentProgress:45\n",
      "INFO:ComponentProgress:45\n",
      "INFO:ComponentProgress:45\n",
      "INFO:ComponentProgress:45\n"
     ]
    },
    {
     "name": "stdout",
     "output_type": "stream",
     "text": [
      "INFO     data_access_component get_data_urls: 228: 45\n"
     ]
    },
    {
     "name": "stderr",
     "output_type": "stream",
     "text": [
      "INFO:ComponentProgress:48\n",
      "INFO:ComponentProgress:48\n",
      "INFO:ComponentProgress:48\n",
      "INFO:ComponentProgress:48\n",
      "INFO:ComponentProgress:48\n"
     ]
    },
    {
     "name": "stdout",
     "output_type": "stream",
     "text": [
      "INFO     data_access_component get_data_urls: 228: 48\n"
     ]
    },
    {
     "name": "stderr",
     "output_type": "stream",
     "text": [
      "INFO:ComponentProgress:51\n",
      "INFO:ComponentProgress:51\n",
      "INFO:ComponentProgress:51\n",
      "INFO:ComponentProgress:51\n",
      "INFO:ComponentProgress:51\n"
     ]
    },
    {
     "name": "stdout",
     "output_type": "stream",
     "text": [
      "INFO     data_access_component get_data_urls: 228: 51\n"
     ]
    },
    {
     "name": "stderr",
     "output_type": "stream",
     "text": [
      "INFO:ComponentProgress:54\n",
      "INFO:ComponentProgress:54\n",
      "INFO:ComponentProgress:54\n",
      "INFO:ComponentProgress:54\n",
      "INFO:ComponentProgress:54\n"
     ]
    },
    {
     "name": "stdout",
     "output_type": "stream",
     "text": [
      "INFO     data_access_component get_data_urls: 228: 54\n"
     ]
    },
    {
     "name": "stderr",
     "output_type": "stream",
     "text": [
      "INFO:ComponentProgress:57\n",
      "INFO:ComponentProgress:57\n",
      "INFO:ComponentProgress:57\n",
      "INFO:ComponentProgress:57\n",
      "INFO:ComponentProgress:57\n"
     ]
    },
    {
     "name": "stdout",
     "output_type": "stream",
     "text": [
      "INFO     data_access_component get_data_urls: 228: 57\n"
     ]
    },
    {
     "name": "stderr",
     "output_type": "stream",
     "text": [
      "INFO:ComponentProgress:60\n",
      "INFO:ComponentProgress:60\n",
      "INFO:ComponentProgress:60\n",
      "INFO:ComponentProgress:60\n",
      "INFO:ComponentProgress:60\n"
     ]
    },
    {
     "name": "stdout",
     "output_type": "stream",
     "text": [
      "INFO     data_access_component get_data_urls: 228: 60\n"
     ]
    },
    {
     "name": "stderr",
     "output_type": "stream",
     "text": [
      "INFO:ComponentProgress:63\n",
      "INFO:ComponentProgress:63\n",
      "INFO:ComponentProgress:63\n",
      "INFO:ComponentProgress:63\n",
      "INFO:ComponentProgress:63\n"
     ]
    },
    {
     "name": "stdout",
     "output_type": "stream",
     "text": [
      "INFO     data_access_component get_data_urls: 228: 63\n"
     ]
    },
    {
     "name": "stderr",
     "output_type": "stream",
     "text": [
      "INFO:ComponentProgress:66\n",
      "INFO:ComponentProgress:66\n",
      "INFO:ComponentProgress:66\n",
      "INFO:ComponentProgress:66\n",
      "INFO:ComponentProgress:66\n"
     ]
    },
    {
     "name": "stdout",
     "output_type": "stream",
     "text": [
      "INFO     data_access_component get_data_urls: 228: 66\n"
     ]
    },
    {
     "name": "stderr",
     "output_type": "stream",
     "text": [
      "INFO:ComponentProgress:69\n",
      "INFO:ComponentProgress:69\n",
      "INFO:ComponentProgress:69\n",
      "INFO:ComponentProgress:69\n",
      "INFO:ComponentProgress:69\n"
     ]
    },
    {
     "name": "stdout",
     "output_type": "stream",
     "text": [
      "INFO     data_access_component get_data_urls: 228: 69\n"
     ]
    },
    {
     "name": "stderr",
     "output_type": "stream",
     "text": [
      "INFO:ComponentProgress:72\n",
      "INFO:ComponentProgress:72\n",
      "INFO:ComponentProgress:72\n",
      "INFO:ComponentProgress:72\n",
      "INFO:ComponentProgress:72\n"
     ]
    },
    {
     "name": "stdout",
     "output_type": "stream",
     "text": [
      "INFO     data_access_component get_data_urls: 228: 72\n"
     ]
    },
    {
     "name": "stderr",
     "output_type": "stream",
     "text": [
      "INFO:ComponentProgress:75\n",
      "INFO:ComponentProgress:75\n",
      "INFO:ComponentProgress:75\n",
      "INFO:ComponentProgress:75\n",
      "INFO:ComponentProgress:75\n"
     ]
    },
    {
     "name": "stdout",
     "output_type": "stream",
     "text": [
      "INFO     data_access_component get_data_urls: 228: 75\n"
     ]
    },
    {
     "name": "stderr",
     "output_type": "stream",
     "text": [
      "INFO:ComponentProgress:78\n",
      "INFO:ComponentProgress:78\n",
      "INFO:ComponentProgress:78\n",
      "INFO:ComponentProgress:78\n",
      "INFO:ComponentProgress:78\n"
     ]
    },
    {
     "name": "stdout",
     "output_type": "stream",
     "text": [
      "INFO     data_access_component get_data_urls: 228: 78\n"
     ]
    },
    {
     "name": "stderr",
     "output_type": "stream",
     "text": [
      "INFO:ComponentProgress:81\n",
      "INFO:ComponentProgress:81\n",
      "INFO:ComponentProgress:81\n",
      "INFO:ComponentProgress:81\n",
      "INFO:ComponentProgress:81\n"
     ]
    },
    {
     "name": "stdout",
     "output_type": "stream",
     "text": [
      "INFO     data_access_component get_data_urls: 228: 81\n"
     ]
    },
    {
     "name": "stderr",
     "output_type": "stream",
     "text": [
      "INFO:ComponentProgress:84\n",
      "INFO:ComponentProgress:84\n",
      "INFO:ComponentProgress:84\n",
      "INFO:ComponentProgress:84\n",
      "INFO:ComponentProgress:84\n"
     ]
    },
    {
     "name": "stdout",
     "output_type": "stream",
     "text": [
      "INFO     data_access_component get_data_urls: 228: 84\n"
     ]
    },
    {
     "name": "stderr",
     "output_type": "stream",
     "text": [
      "INFO:ComponentProgress:87\n",
      "INFO:ComponentProgress:87\n",
      "INFO:ComponentProgress:87\n",
      "INFO:ComponentProgress:87\n",
      "INFO:ComponentProgress:87\n"
     ]
    },
    {
     "name": "stdout",
     "output_type": "stream",
     "text": [
      "INFO     data_access_component get_data_urls: 228: 87\n"
     ]
    },
    {
     "name": "stderr",
     "output_type": "stream",
     "text": [
      "INFO:ComponentProgress:90\n",
      "INFO:ComponentProgress:90\n",
      "INFO:ComponentProgress:90\n",
      "INFO:ComponentProgress:90\n",
      "INFO:ComponentProgress:90\n"
     ]
    },
    {
     "name": "stdout",
     "output_type": "stream",
     "text": [
      "INFO     data_access_component get_data_urls: 228: 90\n"
     ]
    },
    {
     "name": "stderr",
     "output_type": "stream",
     "text": [
      "INFO:ComponentProgress:93\n",
      "INFO:ComponentProgress:93\n",
      "INFO:ComponentProgress:93\n",
      "INFO:ComponentProgress:93\n",
      "INFO:ComponentProgress:93\n"
     ]
    },
    {
     "name": "stdout",
     "output_type": "stream",
     "text": [
      "INFO     data_access_component get_data_urls: 228: 93\n"
     ]
    },
    {
     "name": "stderr",
     "output_type": "stream",
     "text": [
      "INFO:ComponentProgress:96\n",
      "INFO:ComponentProgress:96\n",
      "INFO:ComponentProgress:96\n",
      "INFO:ComponentProgress:96\n",
      "INFO:ComponentProgress:96\n"
     ]
    },
    {
     "name": "stdout",
     "output_type": "stream",
     "text": [
      "INFO     data_access_component get_data_urls: 228: 96\n",
      "INFO     lpdaac_data_access _get_from_wrapped: 203: Downloading MCD43A1.A2018150.h19v03.006.2018159035402.hdf\n",
      "99 %INFO     lpdaac_data_access _get_from_wrapped: 219: Downloaded MCD43A1.A2018150.h19v03.006.2018159035402.hdf\n",
      "Retrieving CAMS data ...\n",
      "DEBUG    connectionpool _new_conn: 208: Starting new HTTP connection (1): www2.geog.ucl.ac.uk\n",
      "DEBUG    connectionpool _make_request: 396: http://www2.geog.ucl.ac.uk:80 \"GET /~ucfafyi/cams/ HTTP/1.1\" 200 None\n"
     ]
    },
    {
     "name": "stderr",
     "output_type": "stream",
     "text": [
      "INFO:ComponentProgress:0\n",
      "INFO:ComponentProgress:0\n",
      "INFO:ComponentProgress:0\n",
      "INFO:ComponentProgress:0\n",
      "INFO:ComponentProgress:0\n"
     ]
    },
    {
     "name": "stdout",
     "output_type": "stream",
     "text": [
      "INFO     data_access_component get_data_urls: 228: 0\n",
      "Retrieving S2 L1C data ...\n",
      "DEBUG    connectionpool _new_conn: 824: Starting new HTTPS connection (1): mundiwebservices.com\n",
      "DEBUG    connectionpool _make_request: 396: https://mundiwebservices.com:443 \"GET /acdc/catalog/proxy/search/Sentinel2/opensearch?q=((sensingStartDate:[2018-05-14T00:00:00Z%20TO%202018-05-14T23:59:59Z]%20AND%20footprint:%22Intersects(POLYGON%20((27.2725456794999985%2058.2252523466000014,%2027.2720041126999995%2058.3418423195999978,%2027.3885799673000001%2058.3362682903999996,%2027.3774098023000008%2058.2196966528999980,%2027.2725456794999985%2058.2252523466000014)))%22)&startIndex=1&maxRecords=10&processingLevel=L1C&instrument=MSI&productType=IMAGE) HTTP/1.1\" 200 None\n",
      "Done retrieving dynamic data\n",
      "INFO     prior_engine __init__:  83: Using config file: /data/working_dirs/m1/config.yaml\n",
      "INFO     prior_engine __init__:  91: Loading sub-engines for variables.\n",
      "INFO     prior_engine __init__:  95: Got following prior_creator_registrations from entry points: [EntryPoint.parse('soil_moisture_prior_creator = multiply_prior_engine:soilmoisture_prior_creator.SoilMoisturePriorCreator'), EntryPoint.parse('vegetation_prior_creator = multiply_prior_engine:vegetation_prior_creator.VegetationPriorCreator')]\n",
      "INFO     prior_engine __init__: 102: Sub-engine for sm: <class 'multiply_prior_engine.soilmoisture_prior_creator.SoilMoisturePriorCreator'>.\n",
      "INFO     prior_engine __init__: 102: Sub-engine for clay_fraction: <class 'multiply_prior_engine.soilmoisture_prior_creator.SoilMoisturePriorCreator'>.\n",
      "INFO     prior_engine __init__: 102: Sub-engine for sand_fraction: <class 'multiply_prior_engine.soilmoisture_prior_creator.SoilMoisturePriorCreator'>.\n",
      "INFO     prior_engine __init__: 102: Sub-engine for sr: <class 'multiply_prior_engine.soilmoisture_prior_creator.SoilMoisturePriorCreator'>.\n",
      "INFO     prior_engine __init__: 102: Sub-engine for lai: <class 'multiply_prior_engine.vegetation_prior_creator.VegetationPriorCreator'>.\n",
      "INFO     prior_engine __init__: 102: Sub-engine for cab: <class 'multiply_prior_engine.vegetation_prior_creator.VegetationPriorCreator'>.\n",
      "INFO     prior_engine __init__: 102: Sub-engine for cb: <class 'multiply_prior_engine.vegetation_prior_creator.VegetationPriorCreator'>.\n",
      "INFO     prior_engine __init__: 102: Sub-engine for car: <class 'multiply_prior_engine.vegetation_prior_creator.VegetationPriorCreator'>.\n",
      "INFO     prior_engine __init__: 102: Sub-engine for cw: <class 'multiply_prior_engine.vegetation_prior_creator.VegetationPriorCreator'>.\n",
      "INFO     prior_engine __init__: 102: Sub-engine for cdm: <class 'multiply_prior_engine.vegetation_prior_creator.VegetationPriorCreator'>.\n",
      "INFO     prior_engine __init__: 102: Sub-engine for n: <class 'multiply_prior_engine.vegetation_prior_creator.VegetationPriorCreator'>.\n",
      "INFO     prior_engine __init__: 102: Sub-engine for ala: <class 'multiply_prior_engine.vegetation_prior_creator.VegetationPriorCreator'>.\n",
      "INFO     prior_engine __init__: 102: Sub-engine for h: <class 'multiply_prior_engine.vegetation_prior_creator.VegetationPriorCreator'>.\n",
      "INFO     prior_engine __init__: 102: Sub-engine for bsoil: <class 'multiply_prior_engine.vegetation_prior_creator.VegetationPriorCreator'>.\n",
      "INFO     prior_engine __init__: 102: Sub-engine for psoil: <class 'multiply_prior_engine.vegetation_prior_creator.VegetationPriorCreator'>.\n",
      "INFO     prior_engine __init__: 104: Got sub-engines for ['sm', 'clay_fraction', 'sand_fraction', 'sr', 'lai', 'cab', 'cb', 'car', 'cw', 'cdm', 'n', 'ala', 'h', 'bsoil', 'psoil'].\n",
      "DEBUG    prior_engine _check: 132: Loaded config:\n",
      "{'General': {'end_time': '2018-05-14', 'roi': 'POLYGON((27.2725456795 58.2252523466, 27.2720041127 58.3418423196, 27.3885799673 58.3362682904, 27.3774098023 58.2196966529, 27.2725456795 58.2252523466))', 'start_time': '2018-05-14', 'time_interval': 1}, 'Prior': {'General': {'directory_data': '/data/auxiliary/priors/Static/Vegetation/'}, 'ala': {'database': {'static_dir': 'same as General directory_data'}}, 'bsoil': {'database': {'static_dir': 'same as General directory_data'}}, 'cab': {'database': {'static_dir': 'same as General directory_data'}}, 'car': {'database': {'static_dir': 'same as General directory_data'}}, 'cb': {'database': {'static_dir': 'same as General directory_data'}}, 'cdm': {'database': {'static_dir': 'same as General directory_data'}}, 'cw': {'database': {'static_dir': 'same as General directory_data'}}, 'lai': {'user': {'mu': 3.0, 'unc': 0.2}}, 'n': {'database': {'static_dir': 'same as General directory_data'}}, 'output_directory': '/data/working_dirs/m1/priors/2018-05-14/', 'psoil': {'database': {'static_dir': 'same as General directory_data'}}}}.\n",
      "INFO     prior_engine __init__: 108: Loaded /data/working_dirs/m1/config.yaml.\n"
     ]
    },
    {
     "name": "stderr",
     "output_type": "stream",
     "text": [
      "INFO:ComponentProgress:0\n",
      "INFO:ComponentProgress:0\n",
      "INFO:ComponentProgress:0\n",
      "INFO:ComponentProgress:0\n",
      "INFO:ComponentProgress:0\n"
     ]
    },
    {
     "name": "stdout",
     "output_type": "stream",
     "text": [
      "INFO     prior_engine get_priors: 150: 0\n",
      "INFO     prior_engine _get_prior: 176: Getting prior for variable *lai*.\n",
      "INFO     prior_engine _get_prior: 193: Initializing <class 'multiply_prior_engine.vegetation_prior_creator.VegetationPriorCreator'> for lai user prior:\n",
      "20.00 50.00\n",
      "INFO     vegetation_prior_creator CombineTiles2Virtualfile:1564: Successfully created /data/working_dirs/m1/priors/2018-05-14/Priors_lai_134_global.vrt.\n"
     ]
    },
    {
     "name": "stderr",
     "output_type": "stream",
     "text": [
      "INFO:ComponentProgress:10\n",
      "INFO:ComponentProgress:10\n",
      "INFO:ComponentProgress:10\n",
      "INFO:ComponentProgress:10\n",
      "INFO:ComponentProgress:10\n"
     ]
    },
    {
     "name": "stdout",
     "output_type": "stream",
     "text": [
      "INFO     prior_engine get_priors: 150: 10\n",
      "INFO     prior_engine _get_prior: 176: Getting prior for variable *bsoil*.\n",
      "INFO     prior_engine _get_prior: 193: Initializing <class 'multiply_prior_engine.vegetation_prior_creator.VegetationPriorCreator'> for bsoil database prior:\n",
      "INFO     vegetation_prior_creator CombineTiles2Virtualfile:1564: Successfully created /data/working_dirs/m1/priors/2018-05-14/Priors_bsoil_134_global.vrt.\n"
     ]
    },
    {
     "name": "stderr",
     "output_type": "stream",
     "text": [
      "INFO:ComponentProgress:20\n",
      "INFO:ComponentProgress:20\n",
      "INFO:ComponentProgress:20\n",
      "INFO:ComponentProgress:20\n",
      "INFO:ComponentProgress:20\n"
     ]
    },
    {
     "name": "stdout",
     "output_type": "stream",
     "text": [
      "INFO     prior_engine get_priors: 150: 20\n",
      "INFO     prior_engine _get_prior: 176: Getting prior for variable *cb*.\n",
      "INFO     prior_engine _get_prior: 193: Initializing <class 'multiply_prior_engine.vegetation_prior_creator.VegetationPriorCreator'> for cb database prior:\n",
      "INFO     vegetation_prior_creator CombineTiles2Virtualfile:1564: Successfully created /data/working_dirs/m1/priors/2018-05-14/Priors_cb_134_global.vrt.\n"
     ]
    },
    {
     "name": "stderr",
     "output_type": "stream",
     "text": [
      "INFO:ComponentProgress:30\n",
      "INFO:ComponentProgress:30\n",
      "INFO:ComponentProgress:30\n",
      "INFO:ComponentProgress:30\n",
      "INFO:ComponentProgress:30\n"
     ]
    },
    {
     "name": "stdout",
     "output_type": "stream",
     "text": [
      "INFO     prior_engine get_priors: 150: 30\n",
      "INFO     prior_engine _get_prior: 176: Getting prior for variable *psoil*.\n",
      "INFO     prior_engine _get_prior: 193: Initializing <class 'multiply_prior_engine.vegetation_prior_creator.VegetationPriorCreator'> for psoil database prior:\n",
      "INFO     vegetation_prior_creator CombineTiles2Virtualfile:1564: Successfully created /data/working_dirs/m1/priors/2018-05-14/Priors_psoil_134_global.vrt.\n"
     ]
    },
    {
     "name": "stderr",
     "output_type": "stream",
     "text": [
      "INFO:ComponentProgress:40\n",
      "INFO:ComponentProgress:40\n",
      "INFO:ComponentProgress:40\n",
      "INFO:ComponentProgress:40\n",
      "INFO:ComponentProgress:40\n"
     ]
    },
    {
     "name": "stdout",
     "output_type": "stream",
     "text": [
      "INFO     prior_engine get_priors: 150: 40\n",
      "INFO     prior_engine _get_prior: 176: Getting prior for variable *ala*.\n",
      "INFO     prior_engine _get_prior: 193: Initializing <class 'multiply_prior_engine.vegetation_prior_creator.VegetationPriorCreator'> for ala database prior:\n",
      "INFO     vegetation_prior_creator CombineTiles2Virtualfile:1564: Successfully created /data/working_dirs/m1/priors/2018-05-14/Priors_ala_134_global.vrt.\n"
     ]
    },
    {
     "name": "stderr",
     "output_type": "stream",
     "text": [
      "INFO:ComponentProgress:50\n",
      "INFO:ComponentProgress:50\n",
      "INFO:ComponentProgress:50\n",
      "INFO:ComponentProgress:50\n",
      "INFO:ComponentProgress:50\n"
     ]
    },
    {
     "name": "stdout",
     "output_type": "stream",
     "text": [
      "INFO     prior_engine get_priors: 150: 50\n",
      "INFO     prior_engine _get_prior: 176: Getting prior for variable *n*.\n",
      "INFO     prior_engine _get_prior: 193: Initializing <class 'multiply_prior_engine.vegetation_prior_creator.VegetationPriorCreator'> for n database prior:\n",
      "INFO     vegetation_prior_creator CombineTiles2Virtualfile:1564: Successfully created /data/working_dirs/m1/priors/2018-05-14/Priors_n_134_global.vrt.\n"
     ]
    },
    {
     "name": "stderr",
     "output_type": "stream",
     "text": [
      "INFO:ComponentProgress:60\n",
      "INFO:ComponentProgress:60\n",
      "INFO:ComponentProgress:60\n",
      "INFO:ComponentProgress:60\n",
      "INFO:ComponentProgress:60\n"
     ]
    },
    {
     "name": "stdout",
     "output_type": "stream",
     "text": [
      "INFO     prior_engine get_priors: 150: 60\n",
      "INFO     prior_engine _get_prior: 176: Getting prior for variable *cw*.\n",
      "INFO     prior_engine _get_prior: 193: Initializing <class 'multiply_prior_engine.vegetation_prior_creator.VegetationPriorCreator'> for cw database prior:\n",
      "INFO     vegetation_prior_creator CombineTiles2Virtualfile:1564: Successfully created /data/working_dirs/m1/priors/2018-05-14/Priors_cw_134_global.vrt.\n"
     ]
    },
    {
     "name": "stderr",
     "output_type": "stream",
     "text": [
      "INFO:ComponentProgress:70\n",
      "INFO:ComponentProgress:70\n",
      "INFO:ComponentProgress:70\n",
      "INFO:ComponentProgress:70\n",
      "INFO:ComponentProgress:70\n"
     ]
    },
    {
     "name": "stdout",
     "output_type": "stream",
     "text": [
      "INFO     prior_engine get_priors: 150: 70\n",
      "INFO     prior_engine _get_prior: 176: Getting prior for variable *car*.\n",
      "INFO     prior_engine _get_prior: 193: Initializing <class 'multiply_prior_engine.vegetation_prior_creator.VegetationPriorCreator'> for car database prior:\n",
      "INFO     vegetation_prior_creator CombineTiles2Virtualfile:1564: Successfully created /data/working_dirs/m1/priors/2018-05-14/Priors_car_134_global.vrt.\n"
     ]
    },
    {
     "name": "stderr",
     "output_type": "stream",
     "text": [
      "INFO:ComponentProgress:80\n",
      "INFO:ComponentProgress:80\n",
      "INFO:ComponentProgress:80\n",
      "INFO:ComponentProgress:80\n",
      "INFO:ComponentProgress:80\n"
     ]
    },
    {
     "name": "stdout",
     "output_type": "stream",
     "text": [
      "INFO     prior_engine get_priors: 150: 80\n",
      "INFO     prior_engine _get_prior: 176: Getting prior for variable *cdm*.\n",
      "INFO     prior_engine _get_prior: 193: Initializing <class 'multiply_prior_engine.vegetation_prior_creator.VegetationPriorCreator'> for cdm database prior:\n",
      "INFO     vegetation_prior_creator CombineTiles2Virtualfile:1564: Successfully created /data/working_dirs/m1/priors/2018-05-14/Priors_cdm_134_global.vrt.\n"
     ]
    },
    {
     "name": "stderr",
     "output_type": "stream",
     "text": [
      "INFO:ComponentProgress:90\n",
      "INFO:ComponentProgress:90\n",
      "INFO:ComponentProgress:90\n",
      "INFO:ComponentProgress:90\n",
      "INFO:ComponentProgress:90\n"
     ]
    },
    {
     "name": "stdout",
     "output_type": "stream",
     "text": [
      "INFO     prior_engine get_priors: 150: 90\n",
      "INFO     prior_engine _get_prior: 176: Getting prior for variable *cab*.\n",
      "INFO     prior_engine _get_prior: 193: Initializing <class 'multiply_prior_engine.vegetation_prior_creator.VegetationPriorCreator'> for cab database prior:\n",
      "INFO     vegetation_prior_creator CombineTiles2Virtualfile:1564: Successfully created /data/working_dirs/m1/priors/2018-05-14/Priors_cab_134_global.vrt.\n",
      "INFO     inference_engine _infer: 169: Checking for forward model s2_prosail\n",
      "INFO     inference_engine _infer: 172: Forward model s2_prosail found\n",
      "INFO     inference_prior __init__:  59: Using global files to access prior information\n",
      "INFO     linear_kf __init__:  94: Starting KaFKA run!!!\n",
      "INFO     utils iterate_time_grid:  49: Doing timestep from 2018-05-14 -> 2018-05-15\n",
      "INFO     utils iterate_time_grid:  50: # of Observations: 0\n",
      "INFO     linear_kf run: 199: No observations in this time\n",
      "INFO     linear_kf run: 210: Dumping results to disk\n"
     ]
    },
    {
     "name": "stderr",
     "output_type": "stream",
     "text": [
      "INFO:Writer:Expecting height 696 and width 308 as (696, 308), receiving (696, 308)\n"
     ]
    },
    {
     "name": "stdout",
     "output_type": "stream",
     "text": [
      "INFO     output write: 104: Expecting height 696 and width 308 as (696, 308), receiving (696, 308)\n"
     ]
    },
    {
     "name": "stderr",
     "output_type": "stream",
     "text": [
      "INFO:Writer:Expecting height 696 and width 308 as (696, 308), receiving (696, 308)\n"
     ]
    },
    {
     "name": "stdout",
     "output_type": "stream",
     "text": [
      "INFO     output write: 104: Expecting height 696 and width 308 as (696, 308), receiving (696, 308)\n"
     ]
    },
    {
     "name": "stderr",
     "output_type": "stream",
     "text": [
      "INFO:Writer:Expecting height 696 and width 308 as (696, 308), receiving (696, 308)\n"
     ]
    },
    {
     "name": "stdout",
     "output_type": "stream",
     "text": [
      "INFO     output write: 104: Expecting height 696 and width 308 as (696, 308), receiving (696, 308)\n"
     ]
    },
    {
     "name": "stderr",
     "output_type": "stream",
     "text": [
      "INFO:Writer:Expecting height 696 and width 308 as (696, 308), receiving (696, 308)\n"
     ]
    },
    {
     "name": "stdout",
     "output_type": "stream",
     "text": [
      "INFO     output write: 104: Expecting height 696 and width 308 as (696, 308), receiving (696, 308)\n"
     ]
    },
    {
     "name": "stderr",
     "output_type": "stream",
     "text": [
      "INFO:Writer:Expecting height 696 and width 308 as (696, 308), receiving (696, 308)\n"
     ]
    },
    {
     "name": "stdout",
     "output_type": "stream",
     "text": [
      "INFO     output write: 104: Expecting height 696 and width 308 as (696, 308), receiving (696, 308)\n"
     ]
    },
    {
     "name": "stderr",
     "output_type": "stream",
     "text": [
      "INFO:Writer:Expecting height 696 and width 308 as (696, 308), receiving (696, 308)\n"
     ]
    },
    {
     "name": "stdout",
     "output_type": "stream",
     "text": [
      "INFO     output write: 104: Expecting height 696 and width 308 as (696, 308), receiving (696, 308)\n"
     ]
    },
    {
     "name": "stderr",
     "output_type": "stream",
     "text": [
      "INFO:Writer:Expecting height 696 and width 308 as (696, 308), receiving (696, 308)\n"
     ]
    },
    {
     "name": "stdout",
     "output_type": "stream",
     "text": [
      "INFO     output write: 104: Expecting height 696 and width 308 as (696, 308), receiving (696, 308)\n"
     ]
    },
    {
     "name": "stderr",
     "output_type": "stream",
     "text": [
      "INFO:Writer:Expecting height 696 and width 308 as (696, 308), receiving (696, 308)\n"
     ]
    },
    {
     "name": "stdout",
     "output_type": "stream",
     "text": [
      "INFO     output write: 104: Expecting height 696 and width 308 as (696, 308), receiving (696, 308)\n"
     ]
    },
    {
     "name": "stderr",
     "output_type": "stream",
     "text": [
      "INFO:Writer:Expecting height 696 and width 308 as (696, 308), receiving (696, 308)\n"
     ]
    },
    {
     "name": "stdout",
     "output_type": "stream",
     "text": [
      "INFO     output write: 104: Expecting height 696 and width 308 as (696, 308), receiving (696, 308)\n"
     ]
    },
    {
     "name": "stderr",
     "output_type": "stream",
     "text": [
      "INFO:Writer:Expecting height 696 and width 308 as (696, 308), receiving (696, 308)\n"
     ]
    },
    {
     "name": "stdout",
     "output_type": "stream",
     "text": [
      "INFO     output write: 104: Expecting height 696 and width 308 as (696, 308), receiving (696, 308)\n"
     ]
    },
    {
     "name": "stderr",
     "output_type": "stream",
     "text": [
      "INFO:Writer:Expecting height 696 and width 308 as (696, 308), receiving (696, 308)\n"
     ]
    },
    {
     "name": "stdout",
     "output_type": "stream",
     "text": [
      "INFO     output write: 104: Expecting height 696 and width 308 as (696, 308), receiving (696, 308)\n"
     ]
    },
    {
     "name": "stderr",
     "output_type": "stream",
     "text": [
      "INFO:Writer:Expecting height 696 and width 308 as (696, 308), receiving (696, 308)\n"
     ]
    },
    {
     "name": "stdout",
     "output_type": "stream",
     "text": [
      "INFO     output write: 104: Expecting height 696 and width 308 as (696, 308), receiving (696, 308)\n"
     ]
    },
    {
     "name": "stderr",
     "output_type": "stream",
     "text": [
      "INFO:Writer:Expecting height 696 and width 308 as (696, 308), receiving (696, 308)\n"
     ]
    },
    {
     "name": "stdout",
     "output_type": "stream",
     "text": [
      "INFO     output write: 104: Expecting height 696 and width 308 as (696, 308), receiving (696, 308)\n"
     ]
    },
    {
     "name": "stderr",
     "output_type": "stream",
     "text": [
      "INFO:Writer:Expecting height 696 and width 308 as (696, 308), receiving (696, 308)\n"
     ]
    },
    {
     "name": "stdout",
     "output_type": "stream",
     "text": [
      "INFO     output write: 104: Expecting height 696 and width 308 as (696, 308), receiving (696, 308)\n"
     ]
    },
    {
     "name": "stderr",
     "output_type": "stream",
     "text": [
      "INFO:Writer:Expecting height 696 and width 308 as (696, 308), receiving (696, 308)\n"
     ]
    },
    {
     "name": "stdout",
     "output_type": "stream",
     "text": [
      "INFO     output write: 104: Expecting height 696 and width 308 as (696, 308), receiving (696, 308)\n"
     ]
    },
    {
     "name": "stderr",
     "output_type": "stream",
     "text": [
      "INFO:Writer:Expecting height 696 and width 308 as (696, 308), receiving (696, 308)\n"
     ]
    },
    {
     "name": "stdout",
     "output_type": "stream",
     "text": [
      "INFO     output write: 104: Expecting height 696 and width 308 as (696, 308), receiving (696, 308)\n"
     ]
    },
    {
     "name": "stderr",
     "output_type": "stream",
     "text": [
      "INFO:Writer:Expecting height 696 and width 308 as (696, 308), receiving (696, 308)\n"
     ]
    },
    {
     "name": "stdout",
     "output_type": "stream",
     "text": [
      "INFO     output write: 104: Expecting height 696 and width 308 as (696, 308), receiving (696, 308)\n"
     ]
    },
    {
     "name": "stderr",
     "output_type": "stream",
     "text": [
      "INFO:Writer:Expecting height 696 and width 308 as (696, 308), receiving (696, 308)\n"
     ]
    },
    {
     "name": "stdout",
     "output_type": "stream",
     "text": [
      "INFO     output write: 104: Expecting height 696 and width 308 as (696, 308), receiving (696, 308)\n"
     ]
    },
    {
     "name": "stderr",
     "output_type": "stream",
     "text": [
      "INFO:Writer:Expecting height 696 and width 308 as (696, 308), receiving (696, 308)\n"
     ]
    },
    {
     "name": "stdout",
     "output_type": "stream",
     "text": [
      "INFO     output write: 104: Expecting height 696 and width 308 as (696, 308), receiving (696, 308)\n"
     ]
    },
    {
     "name": "stderr",
     "output_type": "stream",
     "text": [
      "INFO:Writer:Expecting height 696 and width 308 as (696, 308), receiving (696, 308)\n"
     ]
    },
    {
     "name": "stdout",
     "output_type": "stream",
     "text": [
      "INFO     output write: 104: Expecting height 696 and width 308 as (696, 308), receiving (696, 308)\n",
      "INFO     linear_kf run: 212: Advancing state, 2018-05-15\n",
      "INFO     linear_kf advance:  98: Calling state propagator...\n",
      "INFO     linear_kf run: 216: Dumping state to disk\n",
      "Finished Inference of S2 data\n",
      "Doing time step starting on 2018-05-15\n",
      "Retrieving MODIS BRDF descriptors ...\n",
      "INFO     lpdaac_data_access _query_wrapped_meta_info_provider: 117: Found MCD43A1.006 data set for 2018-05-31 00:00:00\n"
     ]
    },
    {
     "name": "stderr",
     "output_type": "stream",
     "text": [
      "INFO:ComponentProgress:0\n",
      "INFO:ComponentProgress:0\n",
      "INFO:ComponentProgress:0\n",
      "INFO:ComponentProgress:0\n",
      "INFO:ComponentProgress:0\n"
     ]
    },
    {
     "name": "stdout",
     "output_type": "stream",
     "text": [
      "INFO     data_access_component get_data_urls: 228: 0\n"
     ]
    },
    {
     "name": "stderr",
     "output_type": "stream",
     "text": [
      "INFO:ComponentProgress:3\n",
      "INFO:ComponentProgress:3\n",
      "INFO:ComponentProgress:3\n",
      "INFO:ComponentProgress:3\n",
      "INFO:ComponentProgress:3\n"
     ]
    },
    {
     "name": "stdout",
     "output_type": "stream",
     "text": [
      "INFO     data_access_component get_data_urls: 228: 3\n"
     ]
    },
    {
     "name": "stderr",
     "output_type": "stream",
     "text": [
      "INFO:ComponentProgress:6\n",
      "INFO:ComponentProgress:6\n",
      "INFO:ComponentProgress:6\n",
      "INFO:ComponentProgress:6\n",
      "INFO:ComponentProgress:6\n"
     ]
    },
    {
     "name": "stdout",
     "output_type": "stream",
     "text": [
      "INFO     data_access_component get_data_urls: 228: 6\n"
     ]
    },
    {
     "name": "stderr",
     "output_type": "stream",
     "text": [
      "INFO:ComponentProgress:9\n",
      "INFO:ComponentProgress:9\n",
      "INFO:ComponentProgress:9\n",
      "INFO:ComponentProgress:9\n",
      "INFO:ComponentProgress:9\n"
     ]
    },
    {
     "name": "stdout",
     "output_type": "stream",
     "text": [
      "INFO     data_access_component get_data_urls: 228: 9\n"
     ]
    },
    {
     "name": "stderr",
     "output_type": "stream",
     "text": [
      "INFO:ComponentProgress:12\n",
      "INFO:ComponentProgress:12\n",
      "INFO:ComponentProgress:12\n",
      "INFO:ComponentProgress:12\n",
      "INFO:ComponentProgress:12\n"
     ]
    },
    {
     "name": "stdout",
     "output_type": "stream",
     "text": [
      "INFO     data_access_component get_data_urls: 228: 12\n"
     ]
    },
    {
     "name": "stderr",
     "output_type": "stream",
     "text": [
      "INFO:ComponentProgress:15\n",
      "INFO:ComponentProgress:15\n",
      "INFO:ComponentProgress:15\n",
      "INFO:ComponentProgress:15\n",
      "INFO:ComponentProgress:15\n"
     ]
    },
    {
     "name": "stdout",
     "output_type": "stream",
     "text": [
      "INFO     data_access_component get_data_urls: 228: 15\n"
     ]
    },
    {
     "name": "stderr",
     "output_type": "stream",
     "text": [
      "INFO:ComponentProgress:18\n",
      "INFO:ComponentProgress:18\n",
      "INFO:ComponentProgress:18\n",
      "INFO:ComponentProgress:18\n",
      "INFO:ComponentProgress:18\n"
     ]
    },
    {
     "name": "stdout",
     "output_type": "stream",
     "text": [
      "INFO     data_access_component get_data_urls: 228: 18\n"
     ]
    },
    {
     "name": "stderr",
     "output_type": "stream",
     "text": [
      "INFO:ComponentProgress:21\n",
      "INFO:ComponentProgress:21\n",
      "INFO:ComponentProgress:21\n",
      "INFO:ComponentProgress:21\n",
      "INFO:ComponentProgress:21\n"
     ]
    },
    {
     "name": "stdout",
     "output_type": "stream",
     "text": [
      "INFO     data_access_component get_data_urls: 228: 21\n"
     ]
    },
    {
     "name": "stderr",
     "output_type": "stream",
     "text": [
      "INFO:ComponentProgress:24\n",
      "INFO:ComponentProgress:24\n",
      "INFO:ComponentProgress:24\n",
      "INFO:ComponentProgress:24\n",
      "INFO:ComponentProgress:24\n"
     ]
    },
    {
     "name": "stdout",
     "output_type": "stream",
     "text": [
      "INFO     data_access_component get_data_urls: 228: 24\n"
     ]
    },
    {
     "name": "stderr",
     "output_type": "stream",
     "text": [
      "INFO:ComponentProgress:27\n",
      "INFO:ComponentProgress:27\n",
      "INFO:ComponentProgress:27\n",
      "INFO:ComponentProgress:27\n",
      "INFO:ComponentProgress:27\n"
     ]
    },
    {
     "name": "stdout",
     "output_type": "stream",
     "text": [
      "INFO     data_access_component get_data_urls: 228: 27\n"
     ]
    },
    {
     "name": "stderr",
     "output_type": "stream",
     "text": [
      "INFO:ComponentProgress:30\n",
      "INFO:ComponentProgress:30\n",
      "INFO:ComponentProgress:30\n",
      "INFO:ComponentProgress:30\n",
      "INFO:ComponentProgress:30\n"
     ]
    },
    {
     "name": "stdout",
     "output_type": "stream",
     "text": [
      "INFO     data_access_component get_data_urls: 228: 30\n"
     ]
    },
    {
     "name": "stderr",
     "output_type": "stream",
     "text": [
      "INFO:ComponentProgress:33\n",
      "INFO:ComponentProgress:33\n",
      "INFO:ComponentProgress:33\n",
      "INFO:ComponentProgress:33\n",
      "INFO:ComponentProgress:33\n"
     ]
    },
    {
     "name": "stdout",
     "output_type": "stream",
     "text": [
      "INFO     data_access_component get_data_urls: 228: 33\n"
     ]
    },
    {
     "name": "stderr",
     "output_type": "stream",
     "text": [
      "INFO:ComponentProgress:36\n",
      "INFO:ComponentProgress:36\n",
      "INFO:ComponentProgress:36\n",
      "INFO:ComponentProgress:36\n",
      "INFO:ComponentProgress:36\n"
     ]
    },
    {
     "name": "stdout",
     "output_type": "stream",
     "text": [
      "INFO     data_access_component get_data_urls: 228: 36\n"
     ]
    },
    {
     "name": "stderr",
     "output_type": "stream",
     "text": [
      "INFO:ComponentProgress:39\n",
      "INFO:ComponentProgress:39\n",
      "INFO:ComponentProgress:39\n",
      "INFO:ComponentProgress:39\n",
      "INFO:ComponentProgress:39\n"
     ]
    },
    {
     "name": "stdout",
     "output_type": "stream",
     "text": [
      "INFO     data_access_component get_data_urls: 228: 39\n"
     ]
    },
    {
     "name": "stderr",
     "output_type": "stream",
     "text": [
      "INFO:ComponentProgress:42\n",
      "INFO:ComponentProgress:42\n",
      "INFO:ComponentProgress:42\n",
      "INFO:ComponentProgress:42\n",
      "INFO:ComponentProgress:42\n"
     ]
    },
    {
     "name": "stdout",
     "output_type": "stream",
     "text": [
      "INFO     data_access_component get_data_urls: 228: 42\n"
     ]
    },
    {
     "name": "stderr",
     "output_type": "stream",
     "text": [
      "INFO:ComponentProgress:45\n",
      "INFO:ComponentProgress:45\n",
      "INFO:ComponentProgress:45\n",
      "INFO:ComponentProgress:45\n",
      "INFO:ComponentProgress:45\n"
     ]
    },
    {
     "name": "stdout",
     "output_type": "stream",
     "text": [
      "INFO     data_access_component get_data_urls: 228: 45\n"
     ]
    },
    {
     "name": "stderr",
     "output_type": "stream",
     "text": [
      "INFO:ComponentProgress:48\n",
      "INFO:ComponentProgress:48\n",
      "INFO:ComponentProgress:48\n",
      "INFO:ComponentProgress:48\n",
      "INFO:ComponentProgress:48\n"
     ]
    },
    {
     "name": "stdout",
     "output_type": "stream",
     "text": [
      "INFO     data_access_component get_data_urls: 228: 48\n"
     ]
    },
    {
     "name": "stderr",
     "output_type": "stream",
     "text": [
      "INFO:ComponentProgress:51\n",
      "INFO:ComponentProgress:51\n",
      "INFO:ComponentProgress:51\n",
      "INFO:ComponentProgress:51\n",
      "INFO:ComponentProgress:51\n"
     ]
    },
    {
     "name": "stdout",
     "output_type": "stream",
     "text": [
      "INFO     data_access_component get_data_urls: 228: 51\n"
     ]
    },
    {
     "name": "stderr",
     "output_type": "stream",
     "text": [
      "INFO:ComponentProgress:54\n",
      "INFO:ComponentProgress:54\n",
      "INFO:ComponentProgress:54\n",
      "INFO:ComponentProgress:54\n",
      "INFO:ComponentProgress:54\n"
     ]
    },
    {
     "name": "stdout",
     "output_type": "stream",
     "text": [
      "INFO     data_access_component get_data_urls: 228: 54\n"
     ]
    },
    {
     "name": "stderr",
     "output_type": "stream",
     "text": [
      "INFO:ComponentProgress:57\n",
      "INFO:ComponentProgress:57\n",
      "INFO:ComponentProgress:57\n",
      "INFO:ComponentProgress:57\n",
      "INFO:ComponentProgress:57\n"
     ]
    },
    {
     "name": "stdout",
     "output_type": "stream",
     "text": [
      "INFO     data_access_component get_data_urls: 228: 57\n"
     ]
    },
    {
     "name": "stderr",
     "output_type": "stream",
     "text": [
      "INFO:ComponentProgress:60\n",
      "INFO:ComponentProgress:60\n",
      "INFO:ComponentProgress:60\n",
      "INFO:ComponentProgress:60\n",
      "INFO:ComponentProgress:60\n"
     ]
    },
    {
     "name": "stdout",
     "output_type": "stream",
     "text": [
      "INFO     data_access_component get_data_urls: 228: 60\n"
     ]
    },
    {
     "name": "stderr",
     "output_type": "stream",
     "text": [
      "INFO:ComponentProgress:63\n",
      "INFO:ComponentProgress:63\n",
      "INFO:ComponentProgress:63\n",
      "INFO:ComponentProgress:63\n",
      "INFO:ComponentProgress:63\n"
     ]
    },
    {
     "name": "stdout",
     "output_type": "stream",
     "text": [
      "INFO     data_access_component get_data_urls: 228: 63\n"
     ]
    },
    {
     "name": "stderr",
     "output_type": "stream",
     "text": [
      "INFO:ComponentProgress:66\n",
      "INFO:ComponentProgress:66\n",
      "INFO:ComponentProgress:66\n",
      "INFO:ComponentProgress:66\n",
      "INFO:ComponentProgress:66\n"
     ]
    },
    {
     "name": "stdout",
     "output_type": "stream",
     "text": [
      "INFO     data_access_component get_data_urls: 228: 66\n"
     ]
    },
    {
     "name": "stderr",
     "output_type": "stream",
     "text": [
      "INFO:ComponentProgress:69\n",
      "INFO:ComponentProgress:69\n",
      "INFO:ComponentProgress:69\n",
      "INFO:ComponentProgress:69\n",
      "INFO:ComponentProgress:69\n"
     ]
    },
    {
     "name": "stdout",
     "output_type": "stream",
     "text": [
      "INFO     data_access_component get_data_urls: 228: 69\n"
     ]
    },
    {
     "name": "stderr",
     "output_type": "stream",
     "text": [
      "INFO:ComponentProgress:72\n",
      "INFO:ComponentProgress:72\n",
      "INFO:ComponentProgress:72\n",
      "INFO:ComponentProgress:72\n",
      "INFO:ComponentProgress:72\n"
     ]
    },
    {
     "name": "stdout",
     "output_type": "stream",
     "text": [
      "INFO     data_access_component get_data_urls: 228: 72\n"
     ]
    },
    {
     "name": "stderr",
     "output_type": "stream",
     "text": [
      "INFO:ComponentProgress:75\n",
      "INFO:ComponentProgress:75\n",
      "INFO:ComponentProgress:75\n",
      "INFO:ComponentProgress:75\n",
      "INFO:ComponentProgress:75\n"
     ]
    },
    {
     "name": "stdout",
     "output_type": "stream",
     "text": [
      "INFO     data_access_component get_data_urls: 228: 75\n"
     ]
    },
    {
     "name": "stderr",
     "output_type": "stream",
     "text": [
      "INFO:ComponentProgress:78\n",
      "INFO:ComponentProgress:78\n",
      "INFO:ComponentProgress:78\n",
      "INFO:ComponentProgress:78\n",
      "INFO:ComponentProgress:78\n"
     ]
    },
    {
     "name": "stdout",
     "output_type": "stream",
     "text": [
      "INFO     data_access_component get_data_urls: 228: 78\n"
     ]
    },
    {
     "name": "stderr",
     "output_type": "stream",
     "text": [
      "INFO:ComponentProgress:81\n",
      "INFO:ComponentProgress:81\n",
      "INFO:ComponentProgress:81\n",
      "INFO:ComponentProgress:81\n",
      "INFO:ComponentProgress:81\n"
     ]
    },
    {
     "name": "stdout",
     "output_type": "stream",
     "text": [
      "INFO     data_access_component get_data_urls: 228: 81\n"
     ]
    },
    {
     "name": "stderr",
     "output_type": "stream",
     "text": [
      "INFO:ComponentProgress:84\n",
      "INFO:ComponentProgress:84\n",
      "INFO:ComponentProgress:84\n",
      "INFO:ComponentProgress:84\n",
      "INFO:ComponentProgress:84\n"
     ]
    },
    {
     "name": "stdout",
     "output_type": "stream",
     "text": [
      "INFO     data_access_component get_data_urls: 228: 84\n"
     ]
    },
    {
     "name": "stderr",
     "output_type": "stream",
     "text": [
      "INFO:ComponentProgress:87\n",
      "INFO:ComponentProgress:87\n",
      "INFO:ComponentProgress:87\n",
      "INFO:ComponentProgress:87\n",
      "INFO:ComponentProgress:87\n"
     ]
    },
    {
     "name": "stdout",
     "output_type": "stream",
     "text": [
      "INFO     data_access_component get_data_urls: 228: 87\n"
     ]
    },
    {
     "name": "stderr",
     "output_type": "stream",
     "text": [
      "INFO:ComponentProgress:90\n",
      "INFO:ComponentProgress:90\n",
      "INFO:ComponentProgress:90\n",
      "INFO:ComponentProgress:90\n",
      "INFO:ComponentProgress:90\n"
     ]
    },
    {
     "name": "stdout",
     "output_type": "stream",
     "text": [
      "INFO     data_access_component get_data_urls: 228: 90\n"
     ]
    },
    {
     "name": "stderr",
     "output_type": "stream",
     "text": [
      "INFO:ComponentProgress:93\n",
      "INFO:ComponentProgress:93\n",
      "INFO:ComponentProgress:93\n",
      "INFO:ComponentProgress:93\n",
      "INFO:ComponentProgress:93\n"
     ]
    },
    {
     "name": "stdout",
     "output_type": "stream",
     "text": [
      "INFO     data_access_component get_data_urls: 228: 93\n"
     ]
    },
    {
     "name": "stderr",
     "output_type": "stream",
     "text": [
      "INFO:ComponentProgress:96\n",
      "INFO:ComponentProgress:96\n",
      "INFO:ComponentProgress:96\n",
      "INFO:ComponentProgress:96\n",
      "INFO:ComponentProgress:96\n"
     ]
    },
    {
     "name": "stdout",
     "output_type": "stream",
     "text": [
      "INFO     data_access_component get_data_urls: 228: 96\n",
      "INFO     lpdaac_data_access _get_from_wrapped: 203: Downloading MCD43A1.A2018151.h19v03.006.2018160034614.hdf\n",
      "100 %INFO     lpdaac_data_access _get_from_wrapped: 219: Downloaded MCD43A1.A2018151.h19v03.006.2018160034614.hdf\n",
      "Retrieving CAMS data ...\n",
      "DEBUG    connectionpool _new_conn: 208: Starting new HTTP connection (1): www2.geog.ucl.ac.uk\n",
      "DEBUG    connectionpool _make_request: 396: http://www2.geog.ucl.ac.uk:80 \"GET /~ucfafyi/cams/ HTTP/1.1\" 200 None\n"
     ]
    },
    {
     "name": "stderr",
     "output_type": "stream",
     "text": [
      "INFO:ComponentProgress:0\n",
      "INFO:ComponentProgress:0\n",
      "INFO:ComponentProgress:0\n",
      "INFO:ComponentProgress:0\n",
      "INFO:ComponentProgress:0\n"
     ]
    },
    {
     "name": "stdout",
     "output_type": "stream",
     "text": [
      "INFO     data_access_component get_data_urls: 228: 0\n",
      "Retrieving S2 L1C data ...\n",
      "DEBUG    connectionpool _new_conn: 824: Starting new HTTPS connection (1): mundiwebservices.com\n",
      "DEBUG    connectionpool _make_request: 396: https://mundiwebservices.com:443 \"GET /acdc/catalog/proxy/search/Sentinel2/opensearch?q=((sensingStartDate:[2018-05-15T00:00:00Z%20TO%202018-05-15T23:59:59Z]%20AND%20footprint:%22Intersects(POLYGON%20((27.2725456794999985%2058.2252523466000014,%2027.2720041126999995%2058.3418423195999978,%2027.3885799673000001%2058.3362682903999996,%2027.3774098023000008%2058.2196966528999980,%2027.2725456794999985%2058.2252523466000014)))%22)&startIndex=1&maxRecords=10&processingLevel=L1C&instrument=MSI&productType=IMAGE) HTTP/1.1\" 200 None\n",
      "DEBUG    connectionpool _new_conn: 824: Starting new HTTPS connection (1): mundiwebservices.com\n",
      "DEBUG    connectionpool _make_request: 396: https://mundiwebservices.com:443 \"GET /acdc/catalog/proxy/search/Sentinel2/opensearch?q=((sensingStartDate:[2018-05-15T00:00:00Z%20TO%202018-05-15T23:59:59Z]%20AND%20footprint:%22Intersects(POLYGON%20((27.2725456794999985%2058.2252523466000014,%2027.2720041126999995%2058.3418423195999978,%2027.3885799673000001%2058.3362682903999996,%2027.3774098023000008%2058.2196966528999980,%2027.2725456794999985%2058.2252523466000014)))%22)&startIndex=11&maxRecords=10&processingLevel=L1C&instrument=MSI&productType=IMAGE) HTTP/1.1\" 200 None\n"
     ]
    },
    {
     "name": "stderr",
     "output_type": "stream",
     "text": [
      "INFO:ComponentProgress:0\n",
      "INFO:ComponentProgress:0\n",
      "INFO:ComponentProgress:0\n",
      "INFO:ComponentProgress:0\n",
      "INFO:ComponentProgress:0\n"
     ]
    },
    {
     "name": "stdout",
     "output_type": "stream",
     "text": [
      "INFO     data_access_component get_data_urls: 228: 0\n",
      "Done retrieving dynamic data\n",
      "Start pre-processing S2 L1 data from 2018-05-15\n",
      "Finished pre-processing S2 L1 data from 2018-05-15\n",
      "INFO     prior_engine __init__:  83: Using config file: /data/working_dirs/m1/config.yaml\n",
      "INFO     prior_engine __init__:  91: Loading sub-engines for variables.\n",
      "INFO     prior_engine __init__:  95: Got following prior_creator_registrations from entry points: [EntryPoint.parse('soil_moisture_prior_creator = multiply_prior_engine:soilmoisture_prior_creator.SoilMoisturePriorCreator'), EntryPoint.parse('vegetation_prior_creator = multiply_prior_engine:vegetation_prior_creator.VegetationPriorCreator')]\n",
      "INFO     prior_engine __init__: 102: Sub-engine for sm: <class 'multiply_prior_engine.soilmoisture_prior_creator.SoilMoisturePriorCreator'>.\n",
      "INFO     prior_engine __init__: 102: Sub-engine for clay_fraction: <class 'multiply_prior_engine.soilmoisture_prior_creator.SoilMoisturePriorCreator'>.\n",
      "INFO     prior_engine __init__: 102: Sub-engine for sand_fraction: <class 'multiply_prior_engine.soilmoisture_prior_creator.SoilMoisturePriorCreator'>.\n",
      "INFO     prior_engine __init__: 102: Sub-engine for sr: <class 'multiply_prior_engine.soilmoisture_prior_creator.SoilMoisturePriorCreator'>.\n",
      "INFO     prior_engine __init__: 102: Sub-engine for lai: <class 'multiply_prior_engine.vegetation_prior_creator.VegetationPriorCreator'>.\n",
      "INFO     prior_engine __init__: 102: Sub-engine for cab: <class 'multiply_prior_engine.vegetation_prior_creator.VegetationPriorCreator'>.\n",
      "INFO     prior_engine __init__: 102: Sub-engine for cb: <class 'multiply_prior_engine.vegetation_prior_creator.VegetationPriorCreator'>.\n",
      "INFO     prior_engine __init__: 102: Sub-engine for car: <class 'multiply_prior_engine.vegetation_prior_creator.VegetationPriorCreator'>.\n",
      "INFO     prior_engine __init__: 102: Sub-engine for cw: <class 'multiply_prior_engine.vegetation_prior_creator.VegetationPriorCreator'>.\n",
      "INFO     prior_engine __init__: 102: Sub-engine for cdm: <class 'multiply_prior_engine.vegetation_prior_creator.VegetationPriorCreator'>.\n",
      "INFO     prior_engine __init__: 102: Sub-engine for n: <class 'multiply_prior_engine.vegetation_prior_creator.VegetationPriorCreator'>.\n",
      "INFO     prior_engine __init__: 102: Sub-engine for ala: <class 'multiply_prior_engine.vegetation_prior_creator.VegetationPriorCreator'>.\n",
      "INFO     prior_engine __init__: 102: Sub-engine for h: <class 'multiply_prior_engine.vegetation_prior_creator.VegetationPriorCreator'>.\n",
      "INFO     prior_engine __init__: 102: Sub-engine for bsoil: <class 'multiply_prior_engine.vegetation_prior_creator.VegetationPriorCreator'>.\n",
      "INFO     prior_engine __init__: 102: Sub-engine for psoil: <class 'multiply_prior_engine.vegetation_prior_creator.VegetationPriorCreator'>.\n",
      "INFO     prior_engine __init__: 104: Got sub-engines for ['sm', 'clay_fraction', 'sand_fraction', 'sr', 'lai', 'cab', 'cb', 'car', 'cw', 'cdm', 'n', 'ala', 'h', 'bsoil', 'psoil'].\n",
      "DEBUG    prior_engine _check: 132: Loaded config:\n",
      "{'General': {'end_time': '2018-05-15', 'roi': 'POLYGON((27.2725456795 58.2252523466, 27.2720041127 58.3418423196, 27.3885799673 58.3362682904, 27.3774098023 58.2196966529, 27.2725456795 58.2252523466))', 'start_time': '2018-05-15', 'time_interval': 1}, 'Prior': {'General': {'directory_data': '/data/auxiliary/priors/Static/Vegetation/'}, 'ala': {'database': {'static_dir': 'same as General directory_data'}}, 'bsoil': {'database': {'static_dir': 'same as General directory_data'}}, 'cab': {'database': {'static_dir': 'same as General directory_data'}}, 'car': {'database': {'static_dir': 'same as General directory_data'}}, 'cb': {'database': {'static_dir': 'same as General directory_data'}}, 'cdm': {'database': {'static_dir': 'same as General directory_data'}}, 'cw': {'database': {'static_dir': 'same as General directory_data'}}, 'lai': {'user': {'mu': 3.0, 'unc': 0.2}}, 'n': {'database': {'static_dir': 'same as General directory_data'}}, 'output_directory': '/data/working_dirs/m1/priors/2018-05-15/', 'psoil': {'database': {'static_dir': 'same as General directory_data'}}}}.\n",
      "INFO     prior_engine __init__: 108: Loaded /data/working_dirs/m1/config.yaml.\n"
     ]
    },
    {
     "name": "stderr",
     "output_type": "stream",
     "text": [
      "INFO:ComponentProgress:0\n",
      "INFO:ComponentProgress:0\n",
      "INFO:ComponentProgress:0\n",
      "INFO:ComponentProgress:0\n",
      "INFO:ComponentProgress:0\n"
     ]
    },
    {
     "name": "stdout",
     "output_type": "stream",
     "text": [
      "INFO     prior_engine get_priors: 150: 0\n",
      "INFO     prior_engine _get_prior: 176: Getting prior for variable *lai*.\n",
      "INFO     prior_engine _get_prior: 193: Initializing <class 'multiply_prior_engine.vegetation_prior_creator.VegetationPriorCreator'> for lai user prior:\n",
      "20.00 50.00\n",
      "INFO     vegetation_prior_creator CombineTiles2Virtualfile:1564: Successfully created /data/working_dirs/m1/priors/2018-05-15/Priors_lai_135_global.vrt.\n"
     ]
    },
    {
     "name": "stderr",
     "output_type": "stream",
     "text": [
      "INFO:ComponentProgress:10\n",
      "INFO:ComponentProgress:10\n",
      "INFO:ComponentProgress:10\n",
      "INFO:ComponentProgress:10\n",
      "INFO:ComponentProgress:10\n"
     ]
    },
    {
     "name": "stdout",
     "output_type": "stream",
     "text": [
      "INFO     prior_engine get_priors: 150: 10\n",
      "INFO     prior_engine _get_prior: 176: Getting prior for variable *bsoil*.\n",
      "INFO     prior_engine _get_prior: 193: Initializing <class 'multiply_prior_engine.vegetation_prior_creator.VegetationPriorCreator'> for bsoil database prior:\n",
      "INFO     vegetation_prior_creator CombineTiles2Virtualfile:1564: Successfully created /data/working_dirs/m1/priors/2018-05-15/Priors_bsoil_135_global.vrt.\n"
     ]
    },
    {
     "name": "stderr",
     "output_type": "stream",
     "text": [
      "INFO:ComponentProgress:20\n",
      "INFO:ComponentProgress:20\n",
      "INFO:ComponentProgress:20\n",
      "INFO:ComponentProgress:20\n",
      "INFO:ComponentProgress:20\n"
     ]
    },
    {
     "name": "stdout",
     "output_type": "stream",
     "text": [
      "INFO     prior_engine get_priors: 150: 20\n",
      "INFO     prior_engine _get_prior: 176: Getting prior for variable *cb*.\n",
      "INFO     prior_engine _get_prior: 193: Initializing <class 'multiply_prior_engine.vegetation_prior_creator.VegetationPriorCreator'> for cb database prior:\n",
      "INFO     vegetation_prior_creator CombineTiles2Virtualfile:1564: Successfully created /data/working_dirs/m1/priors/2018-05-15/Priors_cb_135_global.vrt.\n"
     ]
    },
    {
     "name": "stderr",
     "output_type": "stream",
     "text": [
      "INFO:ComponentProgress:30\n",
      "INFO:ComponentProgress:30\n",
      "INFO:ComponentProgress:30\n",
      "INFO:ComponentProgress:30\n",
      "INFO:ComponentProgress:30\n"
     ]
    },
    {
     "name": "stdout",
     "output_type": "stream",
     "text": [
      "INFO     prior_engine get_priors: 150: 30\n",
      "INFO     prior_engine _get_prior: 176: Getting prior for variable *psoil*.\n",
      "INFO     prior_engine _get_prior: 193: Initializing <class 'multiply_prior_engine.vegetation_prior_creator.VegetationPriorCreator'> for psoil database prior:\n",
      "INFO     vegetation_prior_creator CombineTiles2Virtualfile:1564: Successfully created /data/working_dirs/m1/priors/2018-05-15/Priors_psoil_135_global.vrt.\n"
     ]
    },
    {
     "name": "stderr",
     "output_type": "stream",
     "text": [
      "INFO:ComponentProgress:40\n",
      "INFO:ComponentProgress:40\n",
      "INFO:ComponentProgress:40\n",
      "INFO:ComponentProgress:40\n",
      "INFO:ComponentProgress:40\n"
     ]
    },
    {
     "name": "stdout",
     "output_type": "stream",
     "text": [
      "INFO     prior_engine get_priors: 150: 40\n",
      "INFO     prior_engine _get_prior: 176: Getting prior for variable *ala*.\n",
      "INFO     prior_engine _get_prior: 193: Initializing <class 'multiply_prior_engine.vegetation_prior_creator.VegetationPriorCreator'> for ala database prior:\n",
      "INFO     vegetation_prior_creator CombineTiles2Virtualfile:1564: Successfully created /data/working_dirs/m1/priors/2018-05-15/Priors_ala_135_global.vrt.\n"
     ]
    },
    {
     "name": "stderr",
     "output_type": "stream",
     "text": [
      "INFO:ComponentProgress:50\n",
      "INFO:ComponentProgress:50\n",
      "INFO:ComponentProgress:50\n",
      "INFO:ComponentProgress:50\n",
      "INFO:ComponentProgress:50\n"
     ]
    },
    {
     "name": "stdout",
     "output_type": "stream",
     "text": [
      "INFO     prior_engine get_priors: 150: 50\n",
      "INFO     prior_engine _get_prior: 176: Getting prior for variable *n*.\n",
      "INFO     prior_engine _get_prior: 193: Initializing <class 'multiply_prior_engine.vegetation_prior_creator.VegetationPriorCreator'> for n database prior:\n",
      "INFO     vegetation_prior_creator CombineTiles2Virtualfile:1564: Successfully created /data/working_dirs/m1/priors/2018-05-15/Priors_n_135_global.vrt.\n"
     ]
    },
    {
     "name": "stderr",
     "output_type": "stream",
     "text": [
      "INFO:ComponentProgress:60\n",
      "INFO:ComponentProgress:60\n",
      "INFO:ComponentProgress:60\n",
      "INFO:ComponentProgress:60\n",
      "INFO:ComponentProgress:60\n"
     ]
    },
    {
     "name": "stdout",
     "output_type": "stream",
     "text": [
      "INFO     prior_engine get_priors: 150: 60\n",
      "INFO     prior_engine _get_prior: 176: Getting prior for variable *cw*.\n",
      "INFO     prior_engine _get_prior: 193: Initializing <class 'multiply_prior_engine.vegetation_prior_creator.VegetationPriorCreator'> for cw database prior:\n",
      "INFO     vegetation_prior_creator CombineTiles2Virtualfile:1564: Successfully created /data/working_dirs/m1/priors/2018-05-15/Priors_cw_135_global.vrt.\n"
     ]
    },
    {
     "name": "stderr",
     "output_type": "stream",
     "text": [
      "INFO:ComponentProgress:70\n",
      "INFO:ComponentProgress:70\n",
      "INFO:ComponentProgress:70\n",
      "INFO:ComponentProgress:70\n",
      "INFO:ComponentProgress:70\n"
     ]
    },
    {
     "name": "stdout",
     "output_type": "stream",
     "text": [
      "INFO     prior_engine get_priors: 150: 70\n",
      "INFO     prior_engine _get_prior: 176: Getting prior for variable *car*.\n",
      "INFO     prior_engine _get_prior: 193: Initializing <class 'multiply_prior_engine.vegetation_prior_creator.VegetationPriorCreator'> for car database prior:\n",
      "INFO     vegetation_prior_creator CombineTiles2Virtualfile:1564: Successfully created /data/working_dirs/m1/priors/2018-05-15/Priors_car_135_global.vrt.\n"
     ]
    },
    {
     "name": "stderr",
     "output_type": "stream",
     "text": [
      "INFO:ComponentProgress:80\n",
      "INFO:ComponentProgress:80\n",
      "INFO:ComponentProgress:80\n",
      "INFO:ComponentProgress:80\n",
      "INFO:ComponentProgress:80\n"
     ]
    },
    {
     "name": "stdout",
     "output_type": "stream",
     "text": [
      "INFO     prior_engine get_priors: 150: 80\n",
      "INFO     prior_engine _get_prior: 176: Getting prior for variable *cdm*.\n",
      "INFO     prior_engine _get_prior: 193: Initializing <class 'multiply_prior_engine.vegetation_prior_creator.VegetationPriorCreator'> for cdm database prior:\n",
      "INFO     vegetation_prior_creator CombineTiles2Virtualfile:1564: Successfully created /data/working_dirs/m1/priors/2018-05-15/Priors_cdm_135_global.vrt.\n"
     ]
    },
    {
     "name": "stderr",
     "output_type": "stream",
     "text": [
      "INFO:ComponentProgress:90\n",
      "INFO:ComponentProgress:90\n",
      "INFO:ComponentProgress:90\n",
      "INFO:ComponentProgress:90\n",
      "INFO:ComponentProgress:90\n"
     ]
    },
    {
     "name": "stdout",
     "output_type": "stream",
     "text": [
      "INFO     prior_engine get_priors: 150: 90\n",
      "INFO     prior_engine _get_prior: 176: Getting prior for variable *cab*.\n",
      "INFO     prior_engine _get_prior: 193: Initializing <class 'multiply_prior_engine.vegetation_prior_creator.VegetationPriorCreator'> for cab database prior:\n",
      "INFO     vegetation_prior_creator CombineTiles2Virtualfile:1564: Successfully created /data/working_dirs/m1/priors/2018-05-15/Priors_cab_135_global.vrt.\n",
      "INFO     inference_engine _infer: 169: Checking for forward model s2_prosail\n",
      "INFO     inference_engine _infer: 172: Forward model s2_prosail found\n",
      "INFO     inference_prior __init__:  59: Using global files to access prior information\n",
      "INFO     inference_engine _get_valid_files:  62: retrieve observations from /data/working_dirs/m1/sdrs/2018-05-15/S2B_MSIL1C_20180515T094029_N0206_R036_T35VNE_20180515T114639-ac\n",
      "INFO     observations create_observations: 224: Set emulator directory to /data/auxiliary/models/s2_prosail\n",
      "INFO     linear_kf __init__:  94: Starting KaFKA run!!!\n",
      "INFO     utils iterate_time_grid:  49: Doing timestep from 2018-05-15 -> 2018-05-16\n",
      "INFO     utils iterate_time_grid:  50: # of Observations: 1\n",
      "INFO     utils iterate_time_grid:  52: \t->2018-05-15\n",
      "INFO     linear_kf assimilate_multiple_bands: 230: Assimilating 2018-05-15...\n"
     ]
    },
    {
     "name": "stderr",
     "output_type": "stream",
     "text": [
      "INFO:ComponentProgress:0\n",
      "INFO:ComponentProgress:0\n",
      "INFO:ComponentProgress:0\n",
      "INFO:ComponentProgress:0\n",
      "INFO:ComponentProgress:0\n"
     ]
    },
    {
     "name": "stdout",
     "output_type": "stream",
     "text": [
      "INFO     linear_kf do_all_bands: 262: 0\n",
      "INFO     utils create_prosail_observation_operator: 188: Creating the ObsOp for band 0\n",
      "INFO     utils create_prosail_observation_operator: 201: Running emulators\n",
      "INFO     utils create_prosail_observation_operator: 207: Storing emulators in H matrix\n",
      "INFO     utils create_prosail_observation_operator: 216: \tDone!\n",
      "INFO     utils create_prosail_observation_operator: 188: Creating the ObsOp for band 1\n",
      "INFO     utils create_prosail_observation_operator: 201: Running emulators\n",
      "INFO     utils create_prosail_observation_operator: 207: Storing emulators in H matrix\n",
      "INFO     utils create_prosail_observation_operator: 216: \tDone!\n",
      "INFO     utils create_prosail_observation_operator: 188: Creating the ObsOp for band 2\n",
      "INFO     utils create_prosail_observation_operator: 201: Running emulators\n",
      "INFO     utils create_prosail_observation_operator: 207: Storing emulators in H matrix\n",
      "INFO     utils create_prosail_observation_operator: 216: \tDone!\n",
      "INFO     utils create_prosail_observation_operator: 188: Creating the ObsOp for band 3\n",
      "INFO     utils create_prosail_observation_operator: 201: Running emulators\n",
      "INFO     utils create_prosail_observation_operator: 207: Storing emulators in H matrix\n",
      "INFO     utils create_prosail_observation_operator: 216: \tDone!\n",
      "INFO     utils create_prosail_observation_operator: 188: Creating the ObsOp for band 4\n",
      "INFO     utils create_prosail_observation_operator: 201: Running emulators\n",
      "INFO     utils create_prosail_observation_operator: 207: Storing emulators in H matrix\n",
      "INFO     utils create_prosail_observation_operator: 216: \tDone!\n",
      "INFO     utils create_prosail_observation_operator: 188: Creating the ObsOp for band 5\n",
      "INFO     utils create_prosail_observation_operator: 201: Running emulators\n",
      "INFO     utils create_prosail_observation_operator: 207: Storing emulators in H matrix\n",
      "INFO     utils create_prosail_observation_operator: 216: \tDone!\n",
      "INFO     utils create_prosail_observation_operator: 188: Creating the ObsOp for band 6\n",
      "INFO     utils create_prosail_observation_operator: 201: Running emulators\n",
      "INFO     utils create_prosail_observation_operator: 207: Storing emulators in H matrix\n",
      "INFO     utils create_prosail_observation_operator: 216: \tDone!\n",
      "INFO     utils create_prosail_observation_operator: 188: Creating the ObsOp for band 7\n",
      "INFO     utils create_prosail_observation_operator: 201: Running emulators\n",
      "INFO     utils create_prosail_observation_operator: 207: Storing emulators in H matrix\n",
      "INFO     utils create_prosail_observation_operator: 216: \tDone!\n",
      "INFO     utils create_prosail_observation_operator: 188: Creating the ObsOp for band 8\n",
      "INFO     utils create_prosail_observation_operator: 201: Running emulators\n",
      "INFO     utils create_prosail_observation_operator: 207: Storing emulators in H matrix\n",
      "INFO     utils create_prosail_observation_operator: 216: \tDone!\n",
      "INFO     utils create_prosail_observation_operator: 188: Creating the ObsOp for band 9\n",
      "INFO     utils create_prosail_observation_operator: 201: Running emulators\n",
      "INFO     utils create_prosail_observation_operator: 207: Storing emulators in H matrix\n",
      "INFO     utils create_prosail_observation_operator: 216: \tDone!\n",
      "INFO     solvers variational_kalman_multiband: 124: Solving\n",
      "INFO     linear_kf do_all_bands: 313: Band 9, Iteration # 1, convergence norm: 2.49624e-05\n"
     ]
    },
    {
     "name": "stderr",
     "output_type": "stream",
     "text": [
      "INFO:ComponentProgress:4\n",
      "INFO:ComponentProgress:4\n",
      "INFO:ComponentProgress:4\n",
      "INFO:ComponentProgress:4\n",
      "INFO:ComponentProgress:4\n"
     ]
    },
    {
     "name": "stdout",
     "output_type": "stream",
     "text": [
      "INFO     linear_kf do_all_bands: 262: 4\n",
      "INFO     utils create_prosail_observation_operator: 188: Creating the ObsOp for band 0\n",
      "INFO     utils create_prosail_observation_operator: 201: Running emulators\n",
      "INFO     utils create_prosail_observation_operator: 207: Storing emulators in H matrix\n",
      "INFO     utils create_prosail_observation_operator: 216: \tDone!\n",
      "INFO     utils create_prosail_observation_operator: 188: Creating the ObsOp for band 1\n",
      "INFO     utils create_prosail_observation_operator: 201: Running emulators\n",
      "INFO     utils create_prosail_observation_operator: 207: Storing emulators in H matrix\n",
      "INFO     utils create_prosail_observation_operator: 216: \tDone!\n",
      "INFO     utils create_prosail_observation_operator: 188: Creating the ObsOp for band 2\n",
      "INFO     utils create_prosail_observation_operator: 201: Running emulators\n",
      "INFO     utils create_prosail_observation_operator: 207: Storing emulators in H matrix\n",
      "INFO     utils create_prosail_observation_operator: 216: \tDone!\n",
      "INFO     utils create_prosail_observation_operator: 188: Creating the ObsOp for band 3\n",
      "INFO     utils create_prosail_observation_operator: 201: Running emulators\n",
      "INFO     utils create_prosail_observation_operator: 207: Storing emulators in H matrix\n",
      "INFO     utils create_prosail_observation_operator: 216: \tDone!\n",
      "INFO     utils create_prosail_observation_operator: 188: Creating the ObsOp for band 4\n",
      "INFO     utils create_prosail_observation_operator: 201: Running emulators\n",
      "INFO     utils create_prosail_observation_operator: 207: Storing emulators in H matrix\n",
      "INFO     utils create_prosail_observation_operator: 216: \tDone!\n",
      "INFO     utils create_prosail_observation_operator: 188: Creating the ObsOp for band 5\n",
      "INFO     utils create_prosail_observation_operator: 201: Running emulators\n",
      "INFO     utils create_prosail_observation_operator: 207: Storing emulators in H matrix\n",
      "INFO     utils create_prosail_observation_operator: 216: \tDone!\n",
      "INFO     utils create_prosail_observation_operator: 188: Creating the ObsOp for band 6\n",
      "INFO     utils create_prosail_observation_operator: 201: Running emulators\n",
      "INFO     utils create_prosail_observation_operator: 207: Storing emulators in H matrix\n",
      "INFO     utils create_prosail_observation_operator: 216: \tDone!\n",
      "INFO     utils create_prosail_observation_operator: 188: Creating the ObsOp for band 7\n",
      "INFO     utils create_prosail_observation_operator: 201: Running emulators\n",
      "INFO     utils create_prosail_observation_operator: 207: Storing emulators in H matrix\n",
      "INFO     utils create_prosail_observation_operator: 216: \tDone!\n",
      "INFO     utils create_prosail_observation_operator: 188: Creating the ObsOp for band 8\n",
      "INFO     utils create_prosail_observation_operator: 201: Running emulators\n",
      "INFO     utils create_prosail_observation_operator: 207: Storing emulators in H matrix\n",
      "INFO     utils create_prosail_observation_operator: 216: \tDone!\n",
      "INFO     utils create_prosail_observation_operator: 188: Creating the ObsOp for band 9\n",
      "INFO     utils create_prosail_observation_operator: 201: Running emulators\n",
      "INFO     utils create_prosail_observation_operator: 207: Storing emulators in H matrix\n",
      "INFO     utils create_prosail_observation_operator: 216: \tDone!\n",
      "INFO     solvers variational_kalman_multiband: 124: Solving\n",
      "INFO     linear_kf do_all_bands: 313: Band 9, Iteration # 2, convergence norm: 5.81795e-05\n",
      "INFO     utils create_prosail_observation_operator: 188: Creating the ObsOp for band 0\n",
      "INFO     utils create_prosail_observation_operator: 201: Running emulators\n",
      "INFO     utils create_prosail_observation_operator: 207: Storing emulators in H matrix\n",
      "INFO     utils create_prosail_observation_operator: 216: \tDone!\n",
      "INFO     utils create_prosail_observation_operator: 188: Creating the ObsOp for band 1\n",
      "INFO     utils create_prosail_observation_operator: 201: Running emulators\n",
      "INFO     utils create_prosail_observation_operator: 207: Storing emulators in H matrix\n",
      "INFO     utils create_prosail_observation_operator: 216: \tDone!\n",
      "INFO     utils create_prosail_observation_operator: 188: Creating the ObsOp for band 2\n",
      "INFO     utils create_prosail_observation_operator: 201: Running emulators\n",
      "INFO     utils create_prosail_observation_operator: 207: Storing emulators in H matrix\n",
      "INFO     utils create_prosail_observation_operator: 216: \tDone!\n",
      "INFO     utils create_prosail_observation_operator: 188: Creating the ObsOp for band 3\n",
      "INFO     utils create_prosail_observation_operator: 201: Running emulators\n",
      "INFO     utils create_prosail_observation_operator: 207: Storing emulators in H matrix\n",
      "INFO     utils create_prosail_observation_operator: 216: \tDone!\n",
      "INFO     utils create_prosail_observation_operator: 188: Creating the ObsOp for band 4\n",
      "INFO     utils create_prosail_observation_operator: 201: Running emulators\n",
      "INFO     utils create_prosail_observation_operator: 207: Storing emulators in H matrix\n",
      "INFO     utils create_prosail_observation_operator: 216: \tDone!\n",
      "INFO     utils create_prosail_observation_operator: 188: Creating the ObsOp for band 5\n",
      "INFO     utils create_prosail_observation_operator: 201: Running emulators\n",
      "INFO     utils create_prosail_observation_operator: 207: Storing emulators in H matrix\n",
      "INFO     utils create_prosail_observation_operator: 216: \tDone!\n",
      "INFO     utils create_prosail_observation_operator: 188: Creating the ObsOp for band 6\n",
      "INFO     utils create_prosail_observation_operator: 201: Running emulators\n",
      "INFO     utils create_prosail_observation_operator: 207: Storing emulators in H matrix\n",
      "INFO     utils create_prosail_observation_operator: 216: \tDone!\n",
      "INFO     utils create_prosail_observation_operator: 188: Creating the ObsOp for band 7\n",
      "INFO     utils create_prosail_observation_operator: 201: Running emulators\n",
      "INFO     utils create_prosail_observation_operator: 207: Storing emulators in H matrix\n",
      "INFO     utils create_prosail_observation_operator: 216: \tDone!\n",
      "INFO     utils create_prosail_observation_operator: 188: Creating the ObsOp for band 8\n",
      "INFO     utils create_prosail_observation_operator: 201: Running emulators\n",
      "INFO     utils create_prosail_observation_operator: 207: Storing emulators in H matrix\n",
      "INFO     utils create_prosail_observation_operator: 216: \tDone!\n",
      "INFO     utils create_prosail_observation_operator: 188: Creating the ObsOp for band 9\n",
      "INFO     utils create_prosail_observation_operator: 201: Running emulators\n",
      "INFO     utils create_prosail_observation_operator: 207: Storing emulators in H matrix\n",
      "INFO     utils create_prosail_observation_operator: 216: \tDone!\n",
      "INFO     linear_kf run: 210: Dumping results to disk\n"
     ]
    },
    {
     "name": "stderr",
     "output_type": "stream",
     "text": [
      "INFO:Writer:Expecting height 696 and width 308 as (696, 308), receiving (696, 308)\n"
     ]
    },
    {
     "name": "stdout",
     "output_type": "stream",
     "text": [
      "INFO     output write: 104: Expecting height 696 and width 308 as (696, 308), receiving (696, 308)\n"
     ]
    },
    {
     "name": "stderr",
     "output_type": "stream",
     "text": [
      "INFO:Writer:Expecting height 696 and width 308 as (696, 308), receiving (696, 308)\n"
     ]
    },
    {
     "name": "stdout",
     "output_type": "stream",
     "text": [
      "INFO     output write: 104: Expecting height 696 and width 308 as (696, 308), receiving (696, 308)\n"
     ]
    },
    {
     "name": "stderr",
     "output_type": "stream",
     "text": [
      "INFO:Writer:Expecting height 696 and width 308 as (696, 308), receiving (696, 308)\n"
     ]
    },
    {
     "name": "stdout",
     "output_type": "stream",
     "text": [
      "INFO     output write: 104: Expecting height 696 and width 308 as (696, 308), receiving (696, 308)\n"
     ]
    },
    {
     "name": "stderr",
     "output_type": "stream",
     "text": [
      "INFO:Writer:Expecting height 696 and width 308 as (696, 308), receiving (696, 308)\n"
     ]
    },
    {
     "name": "stdout",
     "output_type": "stream",
     "text": [
      "INFO     output write: 104: Expecting height 696 and width 308 as (696, 308), receiving (696, 308)\n"
     ]
    },
    {
     "name": "stderr",
     "output_type": "stream",
     "text": [
      "INFO:Writer:Expecting height 696 and width 308 as (696, 308), receiving (696, 308)\n"
     ]
    },
    {
     "name": "stdout",
     "output_type": "stream",
     "text": [
      "INFO     output write: 104: Expecting height 696 and width 308 as (696, 308), receiving (696, 308)\n"
     ]
    },
    {
     "name": "stderr",
     "output_type": "stream",
     "text": [
      "INFO:Writer:Expecting height 696 and width 308 as (696, 308), receiving (696, 308)\n"
     ]
    },
    {
     "name": "stdout",
     "output_type": "stream",
     "text": [
      "INFO     output write: 104: Expecting height 696 and width 308 as (696, 308), receiving (696, 308)\n"
     ]
    },
    {
     "name": "stderr",
     "output_type": "stream",
     "text": [
      "INFO:Writer:Expecting height 696 and width 308 as (696, 308), receiving (696, 308)\n"
     ]
    },
    {
     "name": "stdout",
     "output_type": "stream",
     "text": [
      "INFO     output write: 104: Expecting height 696 and width 308 as (696, 308), receiving (696, 308)\n"
     ]
    },
    {
     "name": "stderr",
     "output_type": "stream",
     "text": [
      "INFO:Writer:Expecting height 696 and width 308 as (696, 308), receiving (696, 308)\n"
     ]
    },
    {
     "name": "stdout",
     "output_type": "stream",
     "text": [
      "INFO     output write: 104: Expecting height 696 and width 308 as (696, 308), receiving (696, 308)\n"
     ]
    },
    {
     "name": "stderr",
     "output_type": "stream",
     "text": [
      "INFO:Writer:Expecting height 696 and width 308 as (696, 308), receiving (696, 308)\n"
     ]
    },
    {
     "name": "stdout",
     "output_type": "stream",
     "text": [
      "INFO     output write: 104: Expecting height 696 and width 308 as (696, 308), receiving (696, 308)\n"
     ]
    },
    {
     "name": "stderr",
     "output_type": "stream",
     "text": [
      "INFO:Writer:Expecting height 696 and width 308 as (696, 308), receiving (696, 308)\n"
     ]
    },
    {
     "name": "stdout",
     "output_type": "stream",
     "text": [
      "INFO     output write: 104: Expecting height 696 and width 308 as (696, 308), receiving (696, 308)\n"
     ]
    },
    {
     "name": "stderr",
     "output_type": "stream",
     "text": [
      "INFO:Writer:Expecting height 696 and width 308 as (696, 308), receiving (696, 308)\n"
     ]
    },
    {
     "name": "stdout",
     "output_type": "stream",
     "text": [
      "INFO     output write: 104: Expecting height 696 and width 308 as (696, 308), receiving (696, 308)\n"
     ]
    },
    {
     "name": "stderr",
     "output_type": "stream",
     "text": [
      "INFO:Writer:Expecting height 696 and width 308 as (696, 308), receiving (696, 308)\n"
     ]
    },
    {
     "name": "stdout",
     "output_type": "stream",
     "text": [
      "INFO     output write: 104: Expecting height 696 and width 308 as (696, 308), receiving (696, 308)\n"
     ]
    },
    {
     "name": "stderr",
     "output_type": "stream",
     "text": [
      "INFO:Writer:Expecting height 696 and width 308 as (696, 308), receiving (696, 308)\n"
     ]
    },
    {
     "name": "stdout",
     "output_type": "stream",
     "text": [
      "INFO     output write: 104: Expecting height 696 and width 308 as (696, 308), receiving (696, 308)\n"
     ]
    },
    {
     "name": "stderr",
     "output_type": "stream",
     "text": [
      "INFO:Writer:Expecting height 696 and width 308 as (696, 308), receiving (696, 308)\n"
     ]
    },
    {
     "name": "stdout",
     "output_type": "stream",
     "text": [
      "INFO     output write: 104: Expecting height 696 and width 308 as (696, 308), receiving (696, 308)\n"
     ]
    },
    {
     "name": "stderr",
     "output_type": "stream",
     "text": [
      "INFO:Writer:Expecting height 696 and width 308 as (696, 308), receiving (696, 308)\n"
     ]
    },
    {
     "name": "stdout",
     "output_type": "stream",
     "text": [
      "INFO     output write: 104: Expecting height 696 and width 308 as (696, 308), receiving (696, 308)\n"
     ]
    },
    {
     "name": "stderr",
     "output_type": "stream",
     "text": [
      "INFO:Writer:Expecting height 696 and width 308 as (696, 308), receiving (696, 308)\n"
     ]
    },
    {
     "name": "stdout",
     "output_type": "stream",
     "text": [
      "INFO     output write: 104: Expecting height 696 and width 308 as (696, 308), receiving (696, 308)\n"
     ]
    },
    {
     "name": "stderr",
     "output_type": "stream",
     "text": [
      "INFO:Writer:Expecting height 696 and width 308 as (696, 308), receiving (696, 308)\n"
     ]
    },
    {
     "name": "stdout",
     "output_type": "stream",
     "text": [
      "INFO     output write: 104: Expecting height 696 and width 308 as (696, 308), receiving (696, 308)\n"
     ]
    },
    {
     "name": "stderr",
     "output_type": "stream",
     "text": [
      "INFO:Writer:Expecting height 696 and width 308 as (696, 308), receiving (696, 308)\n"
     ]
    },
    {
     "name": "stdout",
     "output_type": "stream",
     "text": [
      "INFO     output write: 104: Expecting height 696 and width 308 as (696, 308), receiving (696, 308)\n"
     ]
    },
    {
     "name": "stderr",
     "output_type": "stream",
     "text": [
      "INFO:Writer:Expecting height 696 and width 308 as (696, 308), receiving (696, 308)\n"
     ]
    },
    {
     "name": "stdout",
     "output_type": "stream",
     "text": [
      "INFO     output write: 104: Expecting height 696 and width 308 as (696, 308), receiving (696, 308)\n"
     ]
    },
    {
     "name": "stderr",
     "output_type": "stream",
     "text": [
      "INFO:Writer:Expecting height 696 and width 308 as (696, 308), receiving (696, 308)\n"
     ]
    },
    {
     "name": "stdout",
     "output_type": "stream",
     "text": [
      "INFO     output write: 104: Expecting height 696 and width 308 as (696, 308), receiving (696, 308)\n",
      "INFO     linear_kf run: 212: Advancing state, 2018-05-16\n",
      "INFO     linear_kf advance:  98: Calling state propagator...\n",
      "INFO     linear_kf run: 216: Dumping state to disk\n",
      "Finished Inference of S2 data\n",
      "DONE!\n"
     ]
    }
   ],
   "source": [
    "previous_inference_state = None\n",
    "cursor = start_time_as_datetime\n",
    "date_as_string = datetime.datetime.strftime(cursor, '%Y-%m-%d')\n",
    "priors_directory_for_date = '{}/{}/'.format(priors_directory, date_as_string)\n",
    "\n",
    "\n",
    "while cursor <= stop_time_as_datetime:\n",
    "    # define parameters\n",
    "    date_as_string = datetime.datetime.strftime(cursor, '%Y-%m-%d')\n",
    "    print('Doing time step starting on {}'.format(date_as_string))\n",
    "    cursor += time_step_as_time_delta\n",
    "    cursor -= one_day_step\n",
    "    if cursor > stop_time_as_datetime:\n",
    "        cursor = stop_time_as_datetime\n",
    "    next_date_as_string = datetime.datetime.strftime(cursor, '%Y-%m-%d')\n",
    "    cursor += one_day_step\n",
    "    cursor_as_string = datetime.datetime.strftime(cursor, '%Y-%m-%d')\n",
    "\n",
    "    modis_directory_for_date = '{}/{}'.format(modis_directory, date_as_string)\n",
    "    cams_directory_for_date = '{}/{}'.format(cams_directory, date_as_string)\n",
    "    s2_l1c_directory_for_date = '{}/{}'.format(s2_l1c_directory, date_as_string)\n",
    "    sdrs_directory_for_date = '{}/{}'.format(sdrs_directory, date_as_string)\n",
    "    priors_directory_for_date = '{}/{}/'.format(priors_directory, date_as_string)\n",
    "    \n",
    "    # Preprocessing\n",
    "    get_dynamic_data(data_access_component, roi, roi_grid, date_as_string, next_date_as_string,\n",
    "                     modis_directory_for_date, cams_directory_for_date, s2_l1c_directory_for_date)    \n",
    "    if preprocess_only_region_of_interest:\n",
    "        preprocess_s2(s2_l1c_directory_for_date, modis_directory_for_date, emulators_directory, cams_directory_for_date, \n",
    "                      dem_directory, sdrs_directory_for_date, roi)        \n",
    "    else:\n",
    "        preprocess_s2(s2_l1c_directory_for_date, modis_directory_for_date, emulators_directory, cams_directory_for_date, \n",
    "                      dem_directory, sdrs_directory_for_date, 'none')\n",
    "        \n",
    "        put_data(data_access_component, sdrs_directory_for_date)\n",
    "    \n",
    "    get_priors(working_dir, roi, date_as_string, next_date_as_string, time_step, priors_directory_for_date, variables, user_priors)\n",
    "\n",
    "    updated_inference_state = '{}/{}'.format(hres_state_dir, date_as_string)\n",
    "    \n",
    "    infer_new(config_file, date_as_string, cursor_as_string, previous_inference_state, priors_directory_for_date, \n",
    "              sdrs_directory_for_date, updated_inference_state, biophys_output,variables, file_mask, spatial_resolution, \n",
    "              roi_grid,destination_grid)\n",
    "        \n",
    "    previous_inference_state = updated_inference_state\n",
    "print('DONE!')"
   ]
  },
  {
   "cell_type": "markdown",
   "metadata": {},
   "source": [
    "# 7 Results\n",
    "please select the variable of interest"
   ]
  },
  {
   "cell_type": "code",
   "execution_count": 26,
   "metadata": {},
   "outputs": [],
   "source": [
    "# parameter of interest to be plotted\n",
    "variable_of_interest = 'lai'\n"
   ]
  },
  {
   "cell_type": "markdown",
   "metadata": {},
   "source": [
    "## 7.1 Read Data \n",
    "All the variables are stored within the user directory. However for visualisation purposes we here only provide you to investigate a 'single variable of interest. Please find all the output files located at the following directory:"
   ]
  },
  {
   "cell_type": "code",
   "execution_count": 27,
   "metadata": {},
   "outputs": [
    {
     "name": "stdout",
     "output_type": "stream",
     "text": [
      "/data/working_dirs/m1/biophys\n"
     ]
    }
   ],
   "source": [
    "print(biophys_output)"
   ]
  },
  {
   "cell_type": "code",
   "execution_count": 28,
   "metadata": {},
   "outputs": [
    {
     "name": "stdout",
     "output_type": "stream",
     "text": [
      "reading lai files into memory\n",
      "Finished reading all lai files\n"
     ]
    },
    {
     "name": "stderr",
     "output_type": "stream",
     "text": [
      "/software/miniconda/envs/multiply-platform-dev/lib/python3.6/site-packages/ipykernel_launcher.py:14: RuntimeWarning: invalid value encountered in greater\n",
      "  \n"
     ]
    },
    {
     "data": {
      "text/plain": [
       "{'/data/working_dirs/m1/biophys/lai_A2018130.tif',\n",
       " '/data/working_dirs/m1/biophys/lai_A2018131.tif',\n",
       " '/data/working_dirs/m1/biophys/lai_A2018132.tif',\n",
       " '/data/working_dirs/m1/biophys/lai_A2018133.tif',\n",
       " '/data/working_dirs/m1/biophys/lai_A2018134.tif',\n",
       " '/data/working_dirs/m1/biophys/lai_A2018135.tif'}"
      ]
     },
     "execution_count": 28,
     "metadata": {},
     "output_type": "execute_result"
    }
   ],
   "source": [
    "import gdal\n",
    "import numpy as np\n",
    "\n",
    "data_files = set(glob.glob(biophys_output + '/*' + variable_of_interest + '*')) - \\\n",
    "            set(glob.glob(biophys_output + '/*unc*'))\n",
    "num_of_data_sets = len(data_files)\n",
    "\n",
    "Data = []\n",
    "print('reading %s files into memory' % variable_of_interest)\n",
    "for data_file in data_files:\n",
    "    data_set = gdal.Open(data_file)\n",
    "    data = data_set.ReadAsArray(0)\n",
    "    data[np.where(data<1e-8)]=np.NaN\n",
    "    data[np.where(data>0.99)]=np.NaN\n",
    "    \n",
    "    Data.append(data)    \n",
    "print('Finished reading all %s files' % variable_of_interest)    \n",
    "\n",
    "data_files"
   ]
  },
  {
   "cell_type": "markdown",
   "metadata": {},
   "source": [
    "## 7.2 Process Data\n",
    "Within MULTIPLY we use transformation on some of the variables in order to (approximately) linearize the  radiative transfer model. In this sense, LAI within the state-vector is corrected for the exponential extinction of radiation that occurs witin the canopy. \n",
    "\n",
    "LAI = exp(LAI/-2.0)\n",
    "\n",
    "This linearisation speeds-up the inference and also allows us to propagate the uncertainties better. However it comes at the expense that the output results of the inference are not in real-units (for LAI -> [m2/m2]). Instead they are in transformed space, ranging from 0.0 (for dense vegetation) - 1.0 (for bare soil). This is highlighted below. \n",
    "\n",
    "Please also note that for LAI we use  relatively coarse resolution prior information. Therefore for retrievals over short time periods (particular locations with high cloud cover), this coarse resolution will be apparant.\n"
   ]
  },
  {
   "cell_type": "markdown",
   "metadata": {},
   "source": [
    "LAI is not the only variable within the state-vector that are defined in transformed equivalents. The other transformed parameters are: leaf chlorophyll content (cab),leaf  water content (cw), leaf dry matter (cdm), and leaf average angle.\n",
    "\n",
    "\\begin{equation*}\n",
    "    cab_{real}    = (-100.0)* ln( cab_{t} )\n",
    "\\end{equation*}\n",
    "\n",
    "\\begin{equation*}\n",
    "    cw_{real}    = (-1/50.0)* log( data )\n",
    "\\end{equation*}\n",
    "\n",
    "\\begin{equation*}    \n",
    "    cdm_{real}    = (-1/100.0)* log( cdm_{t} )\n",
    "\\end{equation*}\n",
    "\n",
    "\\begin{equation*}    \n",
    "    LAI_{real}    = -2.0* log( LAI_{t} )\n",
    "\\end{equation*}\n",
    "\n",
    "\\begin{equation*}    \n",
    "    ALA_{real}    = 90.0 * ALA_{t}\n",
    "\\end{equation*}\n",
    "\n",
    "A Inverse Transformation module is provided within Tools.py to facilitate the retrieval of the actual values. "
   ]
  },
  {
   "cell_type": "code",
   "execution_count": 38,
   "metadata": {},
   "outputs": [
    {
     "data": {
      "text/plain": [
       "(6, 696, 308)"
      ]
     },
     "execution_count": 38,
     "metadata": {},
     "output_type": "execute_result"
    },
    {
     "data": {
      "image/png": "[encoded data removed]",
      "text/plain": [
       "<Figure size 1440x720 with 4 Axes>"
      ]
     },
     "metadata": {
      "needs_background": "light"
     },
     "output_type": "display_data"
    }
   ],
   "source": [
    "Data_t = InvTransformation(variable_of_interest,Data)\n",
    "\n",
    "Plot_Transformation(Data,Data_t)\n",
    "\n",
    "Data_t.shape"
   ]
  },
  {
   "cell_type": "markdown",
   "metadata": {},
   "source": [
    "## 7.3 Plot Temporal evolution"
   ]
  },
  {
   "cell_type": "code",
   "execution_count": 47,
   "metadata": {},
   "outputs": [
    {
     "data": {
      "image/png": "[encoded data removed]",
      "text/plain": [
       "<Figure size 1440x864 with 12 Axes>"
      ]
     },
     "metadata": {
      "needs_background": "light"
     },
     "output_type": "display_data"
    }
   ],
   "source": [
    "Plot_TRAIT_evolution(Data_t,variable_of_interest)    "
   ]
  },
  {
   "cell_type": "markdown",
   "metadata": {},
   "source": [
    "# 8 Download the Data\n",
    "We first need to compile all the biophysical parameters into a single zip file."
   ]
  },
  {
   "cell_type": "code",
   "execution_count": 31,
   "metadata": {},
   "outputs": [
    {
     "data": {
      "text/plain": [
       "0"
      ]
     },
     "execution_count": 31,
     "metadata": {},
     "output_type": "execute_result"
    }
   ],
   "source": [
    "import os\n",
    "download_dir = os.path.join(working_dir, 'download')\n",
    "create_dir(download_dir)\n",
    "os.system(f'tar -cvf {download_dir}/biophys_download.zip {biophys_output}')"
   ]
  },
  {
   "cell_type": "code",
   "execution_count": 32,
   "metadata": {},
   "outputs": [
    {
     "data": {
      "text/plain": [
       "'/data/working_dirs/m1/biophys'"
      ]
     },
     "execution_count": 32,
     "metadata": {},
     "output_type": "execute_result"
    }
   ],
   "source": [
    "biophys_output"
   ]
  },
  {
   "cell_type": "code",
   "execution_count": 33,
   "metadata": {},
   "outputs": [
    {
     "data": {
      "text/html": [
       "/data/working_dirs/m1/download/<br>\n",
       "&nbsp;&nbsp;<a href='/data/working_dirs/m1/download/biophys_download.zip' target='_blank'>biophys_download.zip</a><br>"
      ],
      "text/plain": [
       "/data/working_dirs/m1/download/\n",
       "  biophys_download.zip"
      ]
     },
     "execution_count": 33,
     "metadata": {},
     "output_type": "execute_result"
    }
   ],
   "source": [
    "from IPython.display import FileLink, FileLinks\n",
    "FileLinks(download_dir)\n"
   ]
  },
  {
   "cell_type": "markdown",
   "metadata": {},
   "source": [
    "# the Contributing team\n",
    "<img src=\"pics/Logos.png\">\n"
   ]
  }
 ],
 "metadata": {
  "kernelspec": {
   "display_name": "Python 3",
   "language": "python",
   "name": "python3"
  },
  "language_info": {
   "codemirror_mode": {
    "name": "ipython",
    "version": 3
   },
   "file_extension": ".py",
   "mimetype": "text/x-python",
   "name": "python",
   "nbconvert_exporter": "python",
   "pygments_lexer": "ipython3",
   "version": "3.6.7"
  }
 },
 "nbformat": 4,
 "nbformat_minor": 2
}
