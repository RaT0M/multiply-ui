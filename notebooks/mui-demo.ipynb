{
 "cells": [
  {
   "cell_type": "markdown",
   "metadata": {},
   "source": [
    "# multiply-ui\n",
    "\n",
    "A GUI mock for the [Multiply](https://github.com/multiply-org) project based on\n",
    "[Jupyter Widgets](https://ipywidgets.readthedocs.io) and [Bokeh](https://bokeh.pydata.org).\n",
    "\n",
    "**Note**, you'll have to start the server first:\n",
    "        \n",
    "```\n",
    "$ source activate multiply-ui\n",
    "$ mui-server\n",
    "```\n"
   ]
  },
  {
   "cell_type": "markdown",
   "metadata": {},
   "source": [
    "Import the Multiply user interface components, called *mui* from now on"
   ]
  },
  {
   "cell_type": "code",
   "execution_count": 1,
   "metadata": {},
   "outputs": [],
   "source": [
    "from multiply_ui import mui"
   ]
  },
  {
   "cell_type": "code",
   "execution_count": 2,
   "metadata": {},
   "outputs": [
    {
     "data": {
      "text/html": [
       "<div>\n",
       "<h4>Variables</h4>\n",
       "<table>\n",
       "<tr><th>Id</th><th>Name</th><th>Units</th><th>Description</th></tr>\n",
       "<tr><td>lai</td>\n",
       "<td>Effective Leaf Area Index</td>\n",
       "<td>m2/m2</td>\n",
       "<td>Effective Leaf Area Index</td></tr><tr><td>cab</td>\n",
       "<td>Leaf Chlorophyll Content</td>\n",
       "<td>ug/cm2</td>\n",
       "<td>Leaf Chlorophyll Content</td></tr><tr><td>cb</td>\n",
       "<td>Leaf Senescent Material</td>\n",
       "<td></td>\n",
       "<td>Leaf Senescent Material</td></tr><tr><td>car</td>\n",
       "<td>Leaf Carotonoid Content</td>\n",
       "<td>ug/cm2</td>\n",
       "<td>Leaf Carotonoid Content</td></tr><tr><td>cw</td>\n",
       "<td>Leaf Water Content</td>\n",
       "<td>cm</td>\n",
       "<td>Leaf Water Content</td></tr><tr><td>cdm</td>\n",
       "<td>Leaf Dry Mass</td>\n",
       "<td>g/cm2</td>\n",
       "<td>Leaf Dry Mass</td></tr><tr><td>n</td>\n",
       "<td>Leaf Structure Parameter</td>\n",
       "<td></td>\n",
       "<td>Leaf Structure Parameter</td></tr><tr><td>ala</td>\n",
       "<td>Average Leaf Angle</td>\n",
       "<td>degrees</td>\n",
       "<td>Average Leaf Angle</td></tr><tr><td>bsoil</td>\n",
       "<td>Soil Brightness</td>\n",
       "<td></td>\n",
       "<td>Soil Brightness Parameter</td></tr><tr><td>psoil</td>\n",
       "<td>Soil Wetness</td>\n",
       "<td></td>\n",
       "<td>Soil Wetness Parameter</td></tr><tr><td>GeoCBI</td>\n",
       "<td>Geometrically Structured Composite Burned Index</td>\n",
       "<td></td>\n",
       "<td>It is a measure of burned severity fire in terms of the level of damage of vegetation and substrate after a wildfire is fully extinguished. GeoCBI is a modified version of CBI that takes into account the fraction of cover of the different vegetation strata used to compute the CBI.</td></tr></table>\n",
       "</div>"
      ],
      "text/plain": [
       "<multiply_ui.ui.procparams.Variables at 0x173f842d358>"
      ]
     },
     "execution_count": 2,
     "metadata": {},
     "output_type": "execute_result"
    }
   ],
   "source": [
    "mui.vars"
   ]
  },
  {
   "cell_type": "code",
   "execution_count": 3,
   "metadata": {},
   "outputs": [
    {
     "data": {
      "text/html": [
       "<div>\n",
       "<h4>Forward Models</h4>\n",
       "<table>\n",
       "<tr><th>Id</th><th>Name</th><th>Description</th><th>Author(s)</th><th></th></tr>\n",
       "<tr><td>s2_prosail</td>\n",
       "<td>PROSAIL for Sentinel-2</td>\n",
       "<td>Coupling of PROSPECT leaf optical properties model and SAIL canopy bidirectional reflectance model. It links the spectral variation of canopy reflectance, which is mainly related to leaf biochemical contents, with its directional variation, which is primarily related to canopy architecture and soil/vegetation contrast.</td>\n",
       "<td></td>\n",
       "<td><a href=\"http://teledetection.ipgp.jussieu.fr/prosail/\">More...</a></td></tr></table>\n",
       "</div>"
      ],
      "text/plain": [
       "<multiply_ui.ui.procparams.ForwardModels at 0x173f842d080>"
      ]
     },
     "execution_count": 3,
     "metadata": {},
     "output_type": "execute_result"
    }
   ],
   "source": [
    "mui.models"
   ]
  },
  {
   "cell_type": "code",
   "execution_count": 4,
   "metadata": {},
   "outputs": [
    {
     "data": {
      "text/html": [
       "<div>\n",
       "<h4>Input Types</h4>\n",
       "<table>\n",
       "<tr><th>Id</th><th>Name</th><th>Time Range</th></tr>\n",
       "<tr><td>S2_L1C</td>\n",
       "<td>Sentinel-2 MSI L1C</td>\n",
       "<td>('06-23-2015', None)</td></tr></table>\n",
       "</div>"
      ],
      "text/plain": [
       "<multiply_ui.ui.procparams.InputTypes at 0x173f83b7470>"
      ]
     },
     "execution_count": 4,
     "metadata": {},
     "output_type": "execute_result"
    }
   ],
   "source": [
    "mui.itypes"
   ]
  },
  {
   "cell_type": "code",
   "execution_count": 6,
   "metadata": {},
   "outputs": [
    {
     "data": {
      "application/vnd.jupyter.widget-view+json": {
       "model_id": "146727d830124bbba27a992c90b28033",
       "version_major": 2,
       "version_minor": 0
      },
      "text/plain": [
       "Box(children=(Box(children=(Label(value='Output variables'),), layout=Layout(display='flex', flex_flow='row', …"
      ]
     },
     "metadata": {},
     "output_type": "display_data"
    }
   ],
   "source": [
    "mui.inputs()"
   ]
  },
  {
   "cell_type": "code",
   "execution_count": 10,
   "metadata": {},
   "outputs": [
    {
     "ename": "AttributeError",
     "evalue": "'MultiplyUI' object has no attribute 'input_data'",
     "output_type": "error",
     "traceback": [
      "\u001b[1;31m---------------------------------------------------------------------------\u001b[0m",
      "\u001b[1;31mAttributeError\u001b[0m                            Traceback (most recent call last)",
      "\u001b[1;32m<ipython-input-10-a7442797bc00>\u001b[0m in \u001b[0;36m<module>\u001b[1;34m\u001b[0m\n\u001b[1;32m----> 1\u001b[1;33m \u001b[0mmui\u001b[0m\u001b[1;33m.\u001b[0m\u001b[0minput_data\u001b[0m\u001b[1;33m(\u001b[0m\u001b[1;33m)\u001b[0m\u001b[1;33m\u001b[0m\u001b[1;33m\u001b[0m\u001b[0m\n\u001b[0m",
      "\u001b[1;31mAttributeError\u001b[0m: 'MultiplyUI' object has no attribute 'input_data'"
     ]
    }
   ],
   "source": [
    "pr1.edit()"
   ]
  },
  {
   "cell_type": "code",
   "execution_count": null,
   "metadata": {},
   "outputs": [],
   "source": [
    "job = pr1.submit()\n",
    "job"
   ]
  },
  {
   "cell_type": "code",
   "execution_count": null,
   "metadata": {},
   "outputs": [],
   "source": [
    "pr1.submit()"
   ]
  },
  {
   "cell_type": "markdown",
   "metadata": {},
   "source": [
    "Job Id: **7816-23af-e273**\n",
    "\n",
    "Progress: \n",
    "- Fetching data: ------30%_____\n",
    "- Atmo. Corr.:   not started\n",
    "- Priors Retrieval: not started\n",
    "- Inference: not started\n"
   ]
  },
  {
   "cell_type": "markdown",
   "metadata": {},
   "source": [
    "Job Id: **7816-23af-e273**\n",
    "\n",
    "Progress: \n",
    "- Fetching data: ------34%_____\n",
    "- Atmo. Corr.:   not started\n",
    "- Priors Retrieval: not started\n",
    "- Inference: not started"
   ]
  },
  {
   "cell_type": "code",
   "execution_count": null,
   "metadata": {},
   "outputs": [],
   "source": [
    "mui.jobs"
   ]
  },
  {
   "cell_type": "markdown",
   "metadata": {},
   "source": [
    "JobID         |Status\n",
    "--------------|-------\n",
    "7816-23af-e273|5 %\n",
    "6445-5drg-5hr5|74 %\n"
   ]
  },
  {
   "cell_type": "code",
   "execution_count": 9,
   "metadata": {},
   "outputs": [
    {
     "ename": "AttributeError",
     "evalue": "'MultiplyUI' object has no attribute 'job'",
     "output_type": "error",
     "traceback": [
      "\u001b[1;31m---------------------------------------------------------------------------\u001b[0m",
      "\u001b[1;31mAttributeError\u001b[0m                            Traceback (most recent call last)",
      "\u001b[1;32m<ipython-input-9-7376a86f0dc4>\u001b[0m in \u001b[0;36m<module>\u001b[1;34m\u001b[0m\n\u001b[1;32m----> 1\u001b[1;33m \u001b[0mjob\u001b[0m \u001b[1;33m=\u001b[0m \u001b[0mmui\u001b[0m\u001b[1;33m.\u001b[0m\u001b[0mjob\u001b[0m\u001b[1;33m(\u001b[0m\u001b[1;34m'7816-23af-e273'\u001b[0m\u001b[1;33m)\u001b[0m\u001b[1;33m\u001b[0m\u001b[1;33m\u001b[0m\u001b[0m\n\u001b[0m\u001b[0;32m      2\u001b[0m \u001b[0mjob\u001b[0m\u001b[1;33m.\u001b[0m\u001b[0mcancel\u001b[0m\u001b[1;33m(\u001b[0m\u001b[1;33m)\u001b[0m\u001b[1;33m\u001b[0m\u001b[1;33m\u001b[0m\u001b[0m\n",
      "\u001b[1;31mAttributeError\u001b[0m: 'MultiplyUI' object has no attribute 'job'"
     ]
    }
   ],
   "source": [
    "job = mui.job('7816-23af-e273')\n",
    "job.cancel()"
   ]
  },
  {
   "cell_type": "code",
   "execution_count": 10,
   "metadata": {},
   "outputs": [
    {
     "ename": "AttributeError",
     "evalue": "'MultiplyUI' object has no attribute 'job'",
     "output_type": "error",
     "traceback": [
      "\u001b[1;31m---------------------------------------------------------------------------\u001b[0m",
      "\u001b[1;31mAttributeError\u001b[0m                            Traceback (most recent call last)",
      "\u001b[1;32m<ipython-input-10-67c003623ab4>\u001b[0m in \u001b[0;36m<module>\u001b[1;34m\u001b[0m\n\u001b[1;32m----> 1\u001b[1;33m \u001b[0mjob\u001b[0m \u001b[1;33m=\u001b[0m \u001b[0mmui\u001b[0m\u001b[1;33m.\u001b[0m\u001b[0mjob\u001b[0m\u001b[1;33m(\u001b[0m\u001b[1;34m'6445-5drg-5hr5'\u001b[0m\u001b[1;33m)\u001b[0m\u001b[1;33m\u001b[0m\u001b[1;33m\u001b[0m\u001b[0m\n\u001b[0m\u001b[0;32m      2\u001b[0m \u001b[0mjob\u001b[0m\u001b[1;33m.\u001b[0m\u001b[0mresults\u001b[0m\u001b[1;33m\u001b[0m\u001b[1;33m\u001b[0m\u001b[0m\n",
      "\u001b[1;31mAttributeError\u001b[0m: 'MultiplyUI' object has no attribute 'job'"
     ]
    }
   ],
   "source": [
    "job = mui.job('6445-5drg-5hr5')\n",
    "job.results"
   ]
  },
  {
   "cell_type": "markdown",
   "metadata": {},
   "source": [
    "Render results with id"
   ]
  },
  {
   "cell_type": "code",
   "execution_count": null,
   "metadata": {},
   "outputs": [],
   "source": [
    "ds = job.result.open()\n"
   ]
  },
  {
   "cell_type": "markdown",
   "metadata": {},
   "source": [
    "Show map of LAI"
   ]
  },
  {
   "cell_type": "code",
   "execution_count": 11,
   "metadata": {},
   "outputs": [
    {
     "ename": "NameError",
     "evalue": "name 'ds' is not defined",
     "output_type": "error",
     "traceback": [
      "\u001b[1;31m---------------------------------------------------------------------------\u001b[0m",
      "\u001b[1;31mNameError\u001b[0m                                 Traceback (most recent call last)",
      "\u001b[1;32m<ipython-input-11-a65c7dd0004c>\u001b[0m in \u001b[0;36m<module>\u001b[1;34m\u001b[0m\n\u001b[1;32m----> 1\u001b[1;33m \u001b[0mds\u001b[0m\u001b[1;33m.\u001b[0m\u001b[0mlai\u001b[0m\u001b[1;33m.\u001b[0m\u001b[0msel\u001b[0m\u001b[1;33m(\u001b[0m\u001b[0mtime\u001b[0m\u001b[1;33m=\u001b[0m\u001b[1;34m'2010-01-01'\u001b[0m\u001b[1;33m,\u001b[0m \u001b[0mmethod\u001b[0m\u001b[1;33m=\u001b[0m\u001b[1;34m'nearest'\u001b[0m\u001b[1;33m)\u001b[0m\u001b[1;33m.\u001b[0m\u001b[0mplot\u001b[0m\u001b[1;33m.\u001b[0m\u001b[0mimshow\u001b[0m\u001b[1;33m(\u001b[0m\u001b[1;33m)\u001b[0m\u001b[1;33m\u001b[0m\u001b[1;33m\u001b[0m\u001b[0m\n\u001b[0m",
      "\u001b[1;31mNameError\u001b[0m: name 'ds' is not defined"
     ]
    }
   ],
   "source": [
    "ds.lai.sel(time='2010-01-01', method='nearest').plot.imshow()"
   ]
  },
  {
   "cell_type": "markdown",
   "metadata": {},
   "source": [
    "Show time-series of LAI"
   ]
  },
  {
   "cell_type": "code",
   "execution_count": null,
   "metadata": {},
   "outputs": [],
   "source": [
    "ds.lai.sel(lon=10.2,lat=51.2, method='nearest').plot()"
   ]
  }
 ],
 "metadata": {
  "kernelspec": {
   "display_name": "Python 3",
   "language": "python",
   "name": "python3"
  },
  "language_info": {
   "codemirror_mode": {
    "name": "ipython",
    "version": 3
   },
   "file_extension": ".py",
   "mimetype": "text/x-python",
   "name": "python",
   "nbconvert_exporter": "python",
   "pygments_lexer": "ipython3",
   "version": "3.7.2"
  }
 },
 "nbformat": 4,
 "nbformat_minor": 2
}
