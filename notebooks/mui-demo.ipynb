{
 "cells": [
  {
   "cell_type": "markdown",
   "metadata": {},
   "source": [
    "# multiply-ui\n",
    "\n",
    "A GUI mock for the [Multiply](https://github.com/multiply-org) project based on\n",
    "[Jupyter Widgets](https://ipywidgets.readthedocs.io) and [Bokeh](https://bokeh.pydata.org).\n",
    "\n",
    "**Note**, you'll have to start the server first:\n",
    "        \n",
    "```\n",
    "$ source activate multiply-ui\n",
    "$ mui-server\n",
    "```\n"
   ]
  },
  {
   "cell_type": "markdown",
   "metadata": {},
   "source": [
    "Import the Multiply user interface components, called *mui* from now on"
   ]
  },
  {
   "cell_type": "code",
   "execution_count": 1,
   "metadata": {},
   "outputs": [],
   "source": [
    "from multiply_ui import mui"
   ]
  },
  {
   "cell_type": "code",
   "execution_count": 2,
   "metadata": {},
   "outputs": [
    {
     "data": {
      "text/html": [
       "<div><h4>Variables</h4><table><tr><th>Id</th><th>Name</th><th>Units</th><th>Description</th></tr><tr><td>lai</td><td>Effective Leaf Area Index</td><td>m2/m2</td><td>Effective Leaf Area Index</td></tr><tr><td>cab</td><td>Leaf Chlorophyll Content</td><td>ug/cm2</td><td>Leaf Chlorophyll Content</td></tr><tr><td>cb</td><td>Leaf Senescent Material</td><td></td><td>Leaf Senescent Material</td></tr><tr><td>car</td><td>Leaf Carotonoid Content</td><td>ug/cm2</td><td>Leaf Carotonoid Content</td></tr><tr><td>cw</td><td>Leaf Water Content</td><td>cm</td><td>Leaf Water Content</td></tr><tr><td>cdm</td><td>Leaf Dry Mass</td><td>g/cm2</td><td>Leaf Dry Mass</td></tr><tr><td>n</td><td>Leaf Structure Parameter</td><td></td><td>Leaf Structure Parameter</td></tr><tr><td>ala</td><td>Average Leaf Angle</td><td>degrees</td><td>Average Leaf Angle</td></tr><tr><td>bsoil</td><td>Soil Brightness</td><td></td><td>Soil Brightness Parameter</td></tr><tr><td>psoil</td><td>Soil Wetness</td><td></td><td>Soil Wetness Parameter</td></tr><tr><td>GeoCBI</td><td>Geometrically Structured Composite Burned Index</td><td></td><td>It is a measure of burned severity fire in terms of the level of damage of vegetation and substrate after a wildfire is fully extinguished. GeoCBI is a modified version of CBI that takes into account the fraction of cover of the different vegetation strata used to compute the CBI.</td></tr></table></div>"
      ],
      "text/plain": [
       "<multiply_ui.ui.params.model.Variables at 0x1ef2e51f630>"
      ]
     },
     "execution_count": 2,
     "metadata": {},
     "output_type": "execute_result"
    }
   ],
   "source": [
    "mui.vars"
   ]
  },
  {
   "cell_type": "code",
   "execution_count": 3,
   "metadata": {},
   "outputs": [
    {
     "data": {
      "text/html": [
       "<div><h4>Forward Models</h4><table><tr><th>Id</th><th>Name</th><th>Description</th><th>Author(s)</th><th></th></tr><tr><td>s2_prosail</td><td>PROSAIL for Sentinel-2</td><td>Coupling of PROSPECT leaf optical properties model and SAIL canopy bidirectional reflectance model. It links the spectral variation of canopy reflectance, which is mainly related to leaf biochemical contents, with its directional variation, which is primarily related to canopy architecture and soil/vegetation contrast.</td><td></td><td><a href=\"http://teledetection.ipgp.jussieu.fr/prosail/\">More...</a></td></tr></table></div>"
      ],
      "text/plain": [
       "<multiply_ui.ui.params.model.ForwardModels at 0x1ef2e51f358>"
      ]
     },
     "execution_count": 3,
     "metadata": {},
     "output_type": "execute_result"
    }
   ],
   "source": [
    "mui.models"
   ]
  },
  {
   "cell_type": "code",
   "execution_count": 4,
   "metadata": {},
   "outputs": [
    {
     "data": {
      "text/html": [
       "<div><h4>Input Types</h4><table><tr><th>Id</th><th>Name</th><th>Time Range</th></tr><tr><td>S2_L1C</td><td>Sentinel-2 MSI L1C</td><td>('06-23-2015', None)</td></tr></table></div>"
      ],
      "text/plain": [
       "<multiply_ui.ui.params.model.InputTypes at 0x1ef2e51f2e8>"
      ]
     },
     "execution_count": 4,
     "metadata": {},
     "output_type": "execute_result"
    }
   ],
   "source": [
    "mui.itypes"
   ]
  },
  {
   "cell_type": "code",
   "execution_count": 5,
   "metadata": {},
   "outputs": [
    {
     "data": {
      "application/vnd.jupyter.widget-view+json": {
       "model_id": "25d5b20a905546b6bde76cfbcfd3e0cb",
       "version_major": 2,
       "version_minor": 0
      },
      "text/plain": [
       "Box(children=(Box(children=(Label(value='Output variables'),), layout=Layout(display='flex', flex_flow='row', …"
      ]
     },
     "metadata": {},
     "output_type": "display_data"
    }
   ],
   "source": [
    "import ipywidgets as widgets\n",
    "debug_view = widgets.Output(layout={'border': '2px solid red'})\n",
    "from multiply_ui.ui.req.model import ProcessingRequest\n",
    "\n",
    "@debug_view.capture(clear_output=True)\n",
    "def fetch_inputs(input_request, apply_func):\n",
    "    #display(input_request)\n",
    "    input_identifiers = {input_type: [f'iid-{i}' for i in range(10)] for input_type in input_request.input_types}\n",
    "    #display(input_identifiers)\n",
    "    proc_request_data = input_request.as_dict()\n",
    "    proc_request_data.update(dict(inputIdentifiers=input_identifiers))\n",
    "    #display(proc_request_data)\n",
    "    proc_request = ProcessingRequest(proc_request_data)\n",
    "    #display(widgets.HTML(proc_request._repr_html_()))\n",
    "    apply_func(proc_request)\n",
    "\n",
    "\n",
    "mui.sel_params(fetch_inputs_func=fetch_inputs)"
   ]
  },
  {
   "cell_type": "code",
   "execution_count": 18,
   "metadata": {},
   "outputs": [
    {
     "data": {
      "application/vnd.jupyter.widget-view+json": {
       "model_id": "0161ffff2d544554b731c47e35f20e32",
       "version_major": 2,
       "version_minor": 0
      },
      "text/plain": [
       "Output(layout=Layout(border='2px solid red'))"
      ]
     },
     "metadata": {},
     "output_type": "display_data"
    }
   ],
   "source": [
    "debug_view"
   ]
  },
  {
   "cell_type": "code",
   "execution_count": 19,
   "metadata": {},
   "outputs": [
    {
     "ename": "NameError",
     "evalue": "name 'req' is not defined",
     "output_type": "error",
     "traceback": [
      "\u001b[1;31m---------------------------------------------------------------------------\u001b[0m",
      "\u001b[1;31mNameError\u001b[0m                                 Traceback (most recent call last)",
      "\u001b[1;32m<ipython-input-19-08e3c2863a46>\u001b[0m in \u001b[0;36m<module>\u001b[1;34m\u001b[0m\n\u001b[1;32m----> 1\u001b[1;33m \u001b[0mreq\u001b[0m\u001b[1;33m\u001b[0m\u001b[1;33m\u001b[0m\u001b[0m\n\u001b[0m",
      "\u001b[1;31mNameError\u001b[0m: name 'req' is not defined"
     ]
    }
   ],
   "source": [
    "req"
   ]
  },
  {
   "cell_type": "code",
   "execution_count": null,
   "metadata": {},
   "outputs": [],
   "source": [
    "job1.req, job1.result, job1.status"
   ]
  },
  {
   "cell_type": "code",
   "execution_count": null,
   "metadata": {},
   "outputs": [],
   "source": [
    "pr1.submit()"
   ]
  },
  {
   "cell_type": "markdown",
   "metadata": {},
   "source": [
    "Job Id: **7816-23af-e273**\n",
    "\n",
    "Progress: \n",
    "- Fetching data: ------30%_____\n",
    "- Atmo. Corr.:   not started\n",
    "- Priors Retrieval: not started\n",
    "- Inference: not started"
   ]
  },
  {
   "cell_type": "code",
   "execution_count": null,
   "metadata": {},
   "outputs": [],
   "source": [
    "mui.sel_params(pr1)"
   ]
  },
  {
   "cell_type": "code",
   "execution_count": null,
   "metadata": {},
   "outputs": [],
   "source": [
    "pr2"
   ]
  },
  {
   "cell_type": "markdown",
   "metadata": {},
   "source": [
    "*Brings up same dialog as above, but this time we edit `pr1` instead*"
   ]
  },
  {
   "cell_type": "code",
   "execution_count": null,
   "metadata": {},
   "outputs": [],
   "source": [
    "job2 = pr2.submit()\n",
    "job2"
   ]
  },
  {
   "cell_type": "markdown",
   "metadata": {},
   "source": [
    "Job Id: **6445-5drg-5hr5**\n",
    "\n",
    "Progress: \n",
    "- Fetching data: ------34%_____\n",
    "- Atmo. Corr.:   not started\n",
    "- Priors Retrieval: not started\n",
    "- Inference: not started"
   ]
  },
  {
   "cell_type": "code",
   "execution_count": null,
   "metadata": {},
   "outputs": [],
   "source": [
    "job2.status"
   ]
  },
  {
   "cell_type": "code",
   "execution_count": null,
   "metadata": {},
   "outputs": [],
   "source": [
    "mui.jobs"
   ]
  },
  {
   "cell_type": "markdown",
   "metadata": {},
   "source": [
    "JobID         |Status\n",
    "--------------|-------\n",
    "7816-23af-e273|5 %\n",
    "6445-5drg-5hr5|74 %\n"
   ]
  },
  {
   "cell_type": "code",
   "execution_count": null,
   "metadata": {},
   "outputs": [],
   "source": [
    "job = mui.job('7816-23af-e273')\n",
    "job.cancel()"
   ]
  },
  {
   "cell_type": "code",
   "execution_count": null,
   "metadata": {},
   "outputs": [],
   "source": [
    "job = mui.job('6445-5drg-5hr5')\n",
    "job.result"
   ]
  },
  {
   "cell_type": "markdown",
   "metadata": {},
   "source": [
    "*Render all results here...*"
   ]
  },
  {
   "cell_type": "code",
   "execution_count": null,
   "metadata": {},
   "outputs": [],
   "source": [
    "# Open xarray dataset from result\n",
    "ds = job.result.open()"
   ]
  },
  {
   "cell_type": "markdown",
   "metadata": {},
   "source": [
    "Show map of LAI"
   ]
  },
  {
   "cell_type": "code",
   "execution_count": null,
   "metadata": {},
   "outputs": [],
   "source": [
    "ds.lai.sel(time='2010-01-01', method='nearest').plot.imshow()"
   ]
  },
  {
   "cell_type": "markdown",
   "metadata": {},
   "source": [
    "Show time-series of LAI"
   ]
  },
  {
   "cell_type": "code",
   "execution_count": null,
   "metadata": {},
   "outputs": [],
   "source": [
    "ds.lai.sel(lon=10.2,lat=51.2, method='nearest').plot()"
   ]
  },
  {
   "cell_type": "code",
   "execution_count": null,
   "metadata": {},
   "outputs": [],
   "source": []
  },
  {
   "cell_type": "code",
   "execution_count": null,
   "metadata": {},
   "outputs": [],
   "source": []
  },
  {
   "cell_type": "code",
   "execution_count": null,
   "metadata": {},
   "outputs": [],
   "source": []
  },
  {
   "cell_type": "code",
   "execution_count": null,
   "metadata": {},
   "outputs": [],
   "source": []
  },
  {
   "cell_type": "code",
   "execution_count": null,
   "metadata": {},
   "outputs": [],
   "source": []
  }
 ],
 "metadata": {
  "kernelspec": {
   "display_name": "Python 3",
   "language": "python",
   "name": "python3"
  },
  "language_info": {
   "codemirror_mode": {
    "name": "ipython",
    "version": 3
   },
   "file_extension": ".py",
   "mimetype": "text/x-python",
   "name": "python",
   "nbconvert_exporter": "python",
   "pygments_lexer": "ipython3",
   "version": "3.7.2"
  }
 },
 "nbformat": 4,
 "nbformat_minor": 2
}
