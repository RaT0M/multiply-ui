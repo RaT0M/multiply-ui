{
 "cells": [
  {
   "cell_type": "markdown",
   "metadata": {},
   "source": [
    "# multiply-ui\n",
    "\n",
    "A GUI mock for the [Multiply](https://github.com/multiply-org) project based on\n",
    "[Jupyter Widgets](https://ipywidgets.readthedocs.io) and [Bokeh](https://bokeh.pydata.org).\n",
    "\n",
    "**Note**, you'll have to start the server first:\n",
    "        \n",
    "```\n",
    "$ source activate multiply-ui\n",
    "$ mui-server\n",
    "```\n",
    "\n",
    "Note for developers: the variable `debug_view` contains a snapshot of the Python function traceback recorded during the last encountered exception.\n"
   ]
  },
  {
   "cell_type": "markdown",
   "metadata": {},
   "source": [
    "Import the Multiply user interface components, called *mui* from now on"
   ]
  },
  {
   "cell_type": "code",
   "execution_count": 1,
   "metadata": {},
   "outputs": [],
   "source": [
    "from multiply_ui.ui import mui"
   ]
  },
  {
   "cell_type": "markdown",
   "metadata": {},
   "source": [
    "Inspect all variables that Multiply can generate:"
   ]
  },
  {
   "cell_type": "code",
   "execution_count": 2,
   "metadata": {},
   "outputs": [
    {
     "data": {
      "text/html": [
       "<div><h4>Variables</h4><table><tr><th>Id</th><th>Name</th><th>Units</th><th>Description</th></tr><tr><td>lai</td><td>Effective Leaf Area Index</td><td>m2/m2</td><td>Effective Leaf Area Index</td></tr><tr><td>cab</td><td>Leaf Chlorophyll Content</td><td>ug/cm2</td><td>Leaf Chlorophyll Content</td></tr><tr><td>cb</td><td>Leaf Senescent Material</td><td></td><td>Leaf Senescent Material</td></tr><tr><td>car</td><td>Leaf Carotonoid Content</td><td>ug/cm2</td><td>Leaf Carotonoid Content</td></tr><tr><td>cw</td><td>Leaf Water Content</td><td>cm</td><td>Leaf Water Content</td></tr><tr><td>cdm</td><td>Leaf Dry Mass</td><td>g/cm2</td><td>Leaf Dry Mass</td></tr><tr><td>n</td><td>Leaf Structure Parameter</td><td></td><td>Leaf Structure Parameter</td></tr><tr><td>ala</td><td>Average Leaf Angle</td><td>degrees</td><td>Average Leaf Angle</td></tr><tr><td>bsoil</td><td>Soil Brightness</td><td></td><td>Soil Brightness Parameter</td></tr><tr><td>psoil</td><td>Soil Wetness</td><td></td><td>Soil Wetness Parameter</td></tr><tr><td>GeoCBI</td><td>Geometrically Structured Composite Burned Index</td><td></td><td>It is a measure of burned severity fire in terms of the level of damage of vegetation and substrate after a wildfire is fully extinguished. GeoCBI is a modified version of CBI that takes into account the fraction of cover of the different vegetation strata used to compute the CBI.</td></tr></table></div>"
      ],
      "text/plain": [
       "<multiply_ui.ui.params.model.Variables at 0x1c48d5793c8>"
      ]
     },
     "execution_count": 2,
     "metadata": {},
     "output_type": "execute_result"
    }
   ],
   "source": [
    "mui.vars"
   ]
  },
  {
   "cell_type": "markdown",
   "metadata": {},
   "source": [
    "Inspect all forward models that Multiply provides:"
   ]
  },
  {
   "cell_type": "code",
   "execution_count": 3,
   "metadata": {},
   "outputs": [
    {
     "data": {
      "text/html": [
       "<div><h4>Forward Models</h4><table><tr><th>Id</th><th>Name</th><th>Description</th><th>Author(s)</th><th></th></tr><tr><td>s2_prosail</td><td>PROSAIL for Sentinel-2</td><td>Coupling of PROSPECT leaf optical properties model and SAIL canopy bidirectional reflectance model. It links the spectral variation of canopy reflectance, which is mainly related to leaf biochemical contents, with its directional variation, which is primarily related to canopy architecture and soil/vegetation contrast.</td><td></td><td><a href=\"http://teledetection.ipgp.jussieu.fr/prosail/\">More...</a></td></tr></table></div>"
      ],
      "text/plain": [
       "<multiply_ui.ui.params.model.ForwardModels at 0x1c48d5790f0>"
      ]
     },
     "execution_count": 3,
     "metadata": {},
     "output_type": "execute_result"
    }
   ],
   "source": [
    "mui.models"
   ]
  },
  {
   "cell_type": "markdown",
   "metadata": {},
   "source": [
    "Inspect all input types that Multiply knows about:"
   ]
  },
  {
   "cell_type": "code",
   "execution_count": 4,
   "metadata": {},
   "outputs": [
    {
     "data": {
      "text/html": [
       "<div><h4>Input Types</h4><table><tr><th>Id</th><th>Name</th><th>Time Range</th></tr><tr><td>S2_L1C</td><td>Sentinel-2 MSI L1C</td><td>('06-23-2015', None)</td></tr></table></div>"
      ],
      "text/plain": [
       "<multiply_ui.ui.params.model.InputTypes at 0x1c48d579080>"
      ]
     },
     "execution_count": 4,
     "metadata": {},
     "output_type": "execute_result"
    }
   ],
   "source": [
    "mui.itypes"
   ]
  },
  {
   "cell_type": "markdown",
   "metadata": {},
   "source": [
    "The entry point function `mui.sel_params()` brings up the main GUI form that can generate processing requests or submit processing requests directly. (We currently use a mock interface rather than the server. If you don't want that, set `mock=False` or omit the argument.)\n",
    "\n",
    "In the following UI form, press *New Request*"
   ]
  },
  {
   "cell_type": "code",
   "execution_count": 5,
   "metadata": {},
   "outputs": [
    {
     "data": {
      "application/vnd.jupyter.widget-view+json": {
       "model_id": "aa30b33e965d4905910beb929becab44",
       "version_major": 2,
       "version_minor": 0
      },
      "text/plain": [
       "Box(children=(Box(children=(Label(value='Output variables'),), layout=Layout(display='flex', flex_flow='row', …"
      ]
     },
     "metadata": {},
     "output_type": "display_data"
    }
   ],
   "source": [
    "mui.sel_params(identifier='req', name='my_request',mock=True)"
   ]
  },
  {
   "cell_type": "code",
   "execution_count": 6,
   "metadata": {},
   "outputs": [
    {
     "data": {
      "text/html": [
       "<div><p>Name: my_request<br/>Time range: (datetime.datetime(2010, 1, 1, 0, 0), datetime.datetime(2019, 1, 1, 0, 0))<br/>Region box: (0.0, 0.0, 360.0, 180.0)<br/>Input types: S2_L1C</p><div><h4>Inputs</h4><table><tr><th>Type</th><th>Identifier</th></tr><tr><td>S2_L1C</td><td>iid-0</td></tr><tr><td>S2_L1C</td><td>iid-1</td></tr><tr><td>S2_L1C</td><td>iid-2</td></tr><tr><td>S2_L1C</td><td>iid-3</td></tr><tr><td>S2_L1C</td><td>iid-4</td></tr><tr><td>S2_L1C</td><td>iid-5</td></tr><tr><td>S2_L1C</td><td>iid-6</td></tr><tr><td>S2_L1C</td><td>iid-7</td></tr><tr><td>S2_L1C</td><td>iid-8</td></tr><tr><td>S2_L1C</td><td>iid-9</td></tr></table></div></div>"
      ],
      "text/plain": [
       "<multiply_ui.ui.req.model.ProcessingRequest at 0x1c48d624550>"
      ]
     },
     "execution_count": 6,
     "metadata": {},
     "output_type": "execute_result"
    }
   ],
   "source": [
    "req"
   ]
  },
  {
   "cell_type": "markdown",
   "metadata": {},
   "source": [
    "We can now submit the request using the processing request's `submit` method. It takes a single argument that determines the name of the variable that will receive the job proxy object once the job execution has been accepted."
   ]
  },
  {
   "cell_type": "code",
   "execution_count": 7,
   "metadata": {},
   "outputs": [],
   "source": [
    "req.submit('my_job', mock=True)"
   ]
  },
  {
   "cell_type": "markdown",
   "metadata": {},
   "source": [
    "Let's look at the resulting job:"
   ]
  },
  {
   "cell_type": "code",
   "execution_count": 8,
   "metadata": {},
   "outputs": [
    {
     "data": {
      "text/html": [
       "<div><h4>Job 2346-2d34-6f54-34ea</h4><table><tr><td>Name:</td><td>my_request</td></tr><tr><td>Status:</td><td>running</td></tr><tr><td>Progress:</td><td>2</td></tr></table></div>"
      ],
      "text/plain": [
       "<multiply_ui.ui.job.model.Job at 0x1c48d624860>"
      ]
     },
     "execution_count": 8,
     "metadata": {},
     "output_type": "execute_result"
    }
   ],
   "source": [
    "my_job"
   ]
  },
  {
   "cell_type": "markdown",
   "metadata": {},
   "source": [
    "We may also submit a processing request directly from the UI. Bring up the same form as above, but press *Submit Request* this time."
   ]
  },
  {
   "cell_type": "code",
   "execution_count": 9,
   "metadata": {},
   "outputs": [
    {
     "data": {
      "application/vnd.jupyter.widget-view+json": {
       "model_id": "0147d23718f3480e883bd1737773197c",
       "version_major": 2,
       "version_minor": 0
      },
      "text/plain": [
       "Box(children=(Box(children=(Label(value='Output variables'),), layout=Layout(display='flex', flex_flow='row', …"
      ]
     },
     "metadata": {},
     "output_type": "display_data"
    }
   ],
   "source": [
    "mui.sel_params(identifier='my_other_job', name='my_other job\\'s name', mock=True)"
   ]
  },
  {
   "cell_type": "code",
   "execution_count": 10,
   "metadata": {},
   "outputs": [
    {
     "data": {
      "text/html": [
       "<div><h4>Job 2346-2d34-6f54-34ea</h4><table><tr><td>Name:</td><td>my_other job's name</td></tr><tr><td>Status:</td><td>running</td></tr><tr><td>Progress:</td><td>2</td></tr></table></div>"
      ],
      "text/plain": [
       "<multiply_ui.ui.job.model.Job at 0x1c48d651908>"
      ]
     },
     "execution_count": 10,
     "metadata": {},
     "output_type": "execute_result"
    }
   ],
   "source": [
    "my_other_job"
   ]
  },
  {
   "cell_type": "code",
   "execution_count": 14,
   "metadata": {},
   "outputs": [
    {
     "ename": "AttributeError",
     "evalue": "'Job' object has no attribute 'req'",
     "output_type": "error",
     "traceback": [
      "\u001b[1;31m---------------------------------------------------------------------------\u001b[0m",
      "\u001b[1;31mAttributeError\u001b[0m                            Traceback (most recent call last)",
      "\u001b[1;32m<ipython-input-14-8812871dd3df>\u001b[0m in \u001b[0;36m<module>\u001b[1;34m\u001b[0m\n\u001b[1;32m----> 1\u001b[1;33m \u001b[0mmy_job\u001b[0m\u001b[1;33m.\u001b[0m\u001b[0mreq\u001b[0m\u001b[1;33m,\u001b[0m \u001b[0mmy_job\u001b[0m\u001b[1;33m.\u001b[0m\u001b[0mresult\u001b[0m\u001b[1;33m,\u001b[0m \u001b[0mmy_job\u001b[0m\u001b[1;33m.\u001b[0m\u001b[0mstatus\u001b[0m\u001b[1;33m\u001b[0m\u001b[1;33m\u001b[0m\u001b[0m\n\u001b[0m",
      "\u001b[1;31mAttributeError\u001b[0m: 'Job' object has no attribute 'req'"
     ]
    }
   ],
   "source": [
    "my_job.req, my_job.result, my_job.status"
   ]
  },
  {
   "cell_type": "markdown",
   "metadata": {},
   "source": [
    "The form can also be opened with values from a formerly stored processing request:"
   ]
  },
  {
   "cell_type": "code",
   "execution_count": null,
   "metadata": {},
   "outputs": [],
   "source": [
    "mui.sel_params(my_job.req)"
   ]
  },
  {
   "cell_type": "markdown",
   "metadata": {},
   "source": [
    "Show job summary"
   ]
  },
  {
   "cell_type": "code",
   "execution_count": 15,
   "metadata": {},
   "outputs": [
    {
     "ename": "AttributeError",
     "evalue": "'MultiplyUI' object has no attribute 'jobs'",
     "output_type": "error",
     "traceback": [
      "\u001b[1;31m---------------------------------------------------------------------------\u001b[0m",
      "\u001b[1;31mAttributeError\u001b[0m                            Traceback (most recent call last)",
      "\u001b[1;32m<ipython-input-15-337b9c216933>\u001b[0m in \u001b[0;36m<module>\u001b[1;34m\u001b[0m\n\u001b[1;32m----> 1\u001b[1;33m \u001b[0mmui\u001b[0m\u001b[1;33m.\u001b[0m\u001b[0mjobs\u001b[0m\u001b[1;33m(\u001b[0m\u001b[1;33m)\u001b[0m\u001b[1;33m\u001b[0m\u001b[1;33m\u001b[0m\u001b[0m\n\u001b[0m",
      "\u001b[1;31mAttributeError\u001b[0m: 'MultiplyUI' object has no attribute 'jobs'"
     ]
    }
   ],
   "source": [
    "mui.jobs()"
   ]
  },
  {
   "cell_type": "markdown",
   "metadata": {},
   "source": [
    "JobID         |Status\n",
    "--------------|-------\n",
    "7816-23af-e273|5 %\n",
    "6445-5drg-5hr5|74 %\n"
   ]
  },
  {
   "cell_type": "code",
   "execution_count": 16,
   "metadata": {},
   "outputs": [
    {
     "ename": "AttributeError",
     "evalue": "'MultiplyUI' object has no attribute 'job'",
     "output_type": "error",
     "traceback": [
      "\u001b[1;31m---------------------------------------------------------------------------\u001b[0m",
      "\u001b[1;31mAttributeError\u001b[0m                            Traceback (most recent call last)",
      "\u001b[1;32m<ipython-input-16-7376a86f0dc4>\u001b[0m in \u001b[0;36m<module>\u001b[1;34m\u001b[0m\n\u001b[1;32m----> 1\u001b[1;33m \u001b[0mjob\u001b[0m \u001b[1;33m=\u001b[0m \u001b[0mmui\u001b[0m\u001b[1;33m.\u001b[0m\u001b[0mjob\u001b[0m\u001b[1;33m(\u001b[0m\u001b[1;34m'7816-23af-e273'\u001b[0m\u001b[1;33m)\u001b[0m\u001b[1;33m\u001b[0m\u001b[1;33m\u001b[0m\u001b[0m\n\u001b[0m\u001b[0;32m      2\u001b[0m \u001b[0mjob\u001b[0m\u001b[1;33m.\u001b[0m\u001b[0mcancel\u001b[0m\u001b[1;33m(\u001b[0m\u001b[1;33m)\u001b[0m\u001b[1;33m\u001b[0m\u001b[1;33m\u001b[0m\u001b[0m\n",
      "\u001b[1;31mAttributeError\u001b[0m: 'MultiplyUI' object has no attribute 'job'"
     ]
    }
   ],
   "source": [
    "job = mui.job('7816-23af-e273')\n",
    "job.cancel()"
   ]
  },
  {
   "cell_type": "code",
   "execution_count": null,
   "metadata": {},
   "outputs": [],
   "source": [
    "job = mui.job('6445-5drg-5hr5')\n",
    "job.result"
   ]
  },
  {
   "cell_type": "markdown",
   "metadata": {},
   "source": [
    "*Render all results here...*"
   ]
  },
  {
   "cell_type": "code",
   "execution_count": null,
   "metadata": {},
   "outputs": [],
   "source": [
    "# Open xarray dataset from result\n",
    "ds = job.result.open()"
   ]
  },
  {
   "cell_type": "markdown",
   "metadata": {},
   "source": [
    "Show map of LAI"
   ]
  },
  {
   "cell_type": "code",
   "execution_count": null,
   "metadata": {},
   "outputs": [],
   "source": [
    "ds.lai.sel(time='2010-01-01', method='nearest').plot.imshow()"
   ]
  },
  {
   "cell_type": "markdown",
   "metadata": {},
   "source": [
    "Show time-series of LAI"
   ]
  },
  {
   "cell_type": "code",
   "execution_count": null,
   "metadata": {},
   "outputs": [],
   "source": [
    "ds.lai.sel(lon=10.2,lat=51.2, method='nearest').plot()"
   ]
  },
  {
   "cell_type": "code",
   "execution_count": null,
   "metadata": {},
   "outputs": [],
   "source": []
  },
  {
   "cell_type": "code",
   "execution_count": null,
   "metadata": {},
   "outputs": [],
   "source": []
  },
  {
   "cell_type": "code",
   "execution_count": null,
   "metadata": {},
   "outputs": [],
   "source": []
  },
  {
   "cell_type": "code",
   "execution_count": null,
   "metadata": {},
   "outputs": [],
   "source": []
  },
  {
   "cell_type": "code",
   "execution_count": null,
   "metadata": {},
   "outputs": [],
   "source": []
  }
 ],
 "metadata": {
  "kernelspec": {
   "display_name": "Python 3",
   "language": "python",
   "name": "python3"
  },
  "language_info": {
   "codemirror_mode": {
    "name": "ipython",
    "version": 3
   },
   "file_extension": ".py",
   "mimetype": "text/x-python",
   "name": "python",
   "nbconvert_exporter": "python",
   "pygments_lexer": "ipython3",
   "version": "3.6.7"
  }
 },
 "nbformat": 4,
 "nbformat_minor": 2
}
