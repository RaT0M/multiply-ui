{
 "cells": [
  {
   "cell_type": "markdown",
   "metadata": {},
   "source": [
    "# multiply-ui\n",
    "\n",
    "A GUI mock for the [Multiply](https://github.com/multiply-org) project based on\n",
    "[Jupyter Widgets](https://ipywidgets.readthedocs.io) and [Bokeh](https://bokeh.pydata.org).\n",
    "\n",
    "**Note**, you'll have to start the server first:\n",
    "        \n",
    "```\n",
    "$ source activate multiply-ui\n",
    "$ mui-server\n",
    "```\n"
   ]
  },
  {
   "cell_type": "markdown",
   "metadata": {},
   "source": [
    "Import the Multiply user interface components, called *mui* from now on"
   ]
  },
  {
   "cell_type": "code",
   "execution_count": 1,
   "metadata": {},
   "outputs": [],
   "source": [
    "from multiply_ui import mui"
   ]
  },
  {
   "cell_type": "code",
   "execution_count": 2,
   "metadata": {},
   "outputs": [
    {
     "data": {
      "text/html": [
       "<div>\n",
       "<h4>Variables</h4>\n",
       "<table>\n",
       "<tr><th>Id</th><th>Name</th><th>Units</th><th>Description</th></tr>\n",
       "<tr><td>lai</td>\n",
       "<td>Effective Leaf Area Index</td>\n",
       "<td>m2/m2</td>\n",
       "<td>Effective Leaf Area Index</td></tr><tr><td>cab</td>\n",
       "<td>Leaf Chlorophyll Content</td>\n",
       "<td>ug/cm2</td>\n",
       "<td>Leaf Chlorophyll Content</td></tr><tr><td>cb</td>\n",
       "<td>Leaf Senescent Material</td>\n",
       "<td></td>\n",
       "<td>Leaf Senescent Material</td></tr><tr><td>car</td>\n",
       "<td>Leaf Carotonoid Content</td>\n",
       "<td>ug/cm2</td>\n",
       "<td>Leaf Carotonoid Content</td></tr><tr><td>cw</td>\n",
       "<td>Leaf Water Content</td>\n",
       "<td>cm</td>\n",
       "<td>Leaf Water Content</td></tr><tr><td>cdm</td>\n",
       "<td>Leaf Dry Mass</td>\n",
       "<td>g/cm2</td>\n",
       "<td>Leaf Dry Mass</td></tr><tr><td>n</td>\n",
       "<td>Leaf Structure Parameter</td>\n",
       "<td></td>\n",
       "<td>Leaf Structure Parameter</td></tr><tr><td>ala</td>\n",
       "<td>Average Leaf Angle</td>\n",
       "<td>degrees</td>\n",
       "<td>Average Leaf Angle</td></tr><tr><td>bsoil</td>\n",
       "<td>Soil Brightness</td>\n",
       "<td></td>\n",
       "<td>Soil Brightness Parameter</td></tr><tr><td>psoil</td>\n",
       "<td>Soil Wetness</td>\n",
       "<td></td>\n",
       "<td>Soil Wetness Parameter</td></tr><tr><td>GeoCBI</td>\n",
       "<td>Geometrically Structured Composite Burned Index</td>\n",
       "<td></td>\n",
       "<td>It is a measure of burned severity fire in terms of the level of damage of vegetation and substrate after a wildfire is fully extinguished. GeoCBI is a modified version of CBI that takes into account the fraction of cover of the different vegetation strata used to compute the CBI.</td></tr></table>\n",
       "</div>"
      ],
      "text/plain": [
       "<multiply_ui.ui.procparams.Variables at 0x20b90f94e48>"
      ]
     },
     "execution_count": 2,
     "metadata": {},
     "output_type": "execute_result"
    }
   ],
   "source": [
    "mui.vars"
   ]
  },
  {
   "cell_type": "code",
   "execution_count": 3,
   "metadata": {},
   "outputs": [
    {
     "data": {
      "text/html": [
       "<div>\n",
       "<h4>Forward Models</h4>\n",
       "<table>\n",
       "<tr><th>Id</th><th>Name</th><th>Description</th><th>Author(s)</th><th></th></tr>\n",
       "<tr><td>s2_prosail</td>\n",
       "<td>PROSAIL for Sentinel-2</td>\n",
       "<td>Coupling of PROSPECT leaf optical properties model and SAIL canopy bidirectional reflectance model. It links the spectral variation of canopy reflectance, which is mainly related to leaf biochemical contents, with its directional variation, which is primarily related to canopy architecture and soil/vegetation contrast.</td>\n",
       "<td></td>\n",
       "<td><a href=\"http://teledetection.ipgp.jussieu.fr/prosail/\">More...</a></td></tr></table>\n",
       "</div>"
      ],
      "text/plain": [
       "<multiply_ui.ui.procparams.ForwardModels at 0x20b90f94b70>"
      ]
     },
     "execution_count": 3,
     "metadata": {},
     "output_type": "execute_result"
    }
   ],
   "source": [
    "mui.models"
   ]
  },
  {
   "cell_type": "code",
   "execution_count": 4,
   "metadata": {},
   "outputs": [
    {
     "data": {
      "text/html": [
       "<div>\n",
       "<h4>Input Types</h4>\n",
       "<table>\n",
       "<tr><th>Id</th><th>Name</th><th>Time Range</th></tr>\n",
       "<tr><td>S2_L1C</td>\n",
       "<td>Sentinel-2 MSI L1C</td>\n",
       "<td>('06-23-2015', None)</td></tr></table>\n",
       "</div>"
      ],
      "text/plain": [
       "<multiply_ui.ui.procparams.InputTypes at 0x20b90f94b00>"
      ]
     },
     "execution_count": 4,
     "metadata": {},
     "output_type": "execute_result"
    }
   ],
   "source": [
    "mui.itypes"
   ]
  },
  {
   "cell_type": "code",
   "execution_count": null,
   "metadata": {},
   "outputs": [],
   "source": []
  }
 ],
 "metadata": {
  "kernelspec": {
   "display_name": "Python 3",
   "language": "python",
   "name": "python3"
  },
  "language_info": {
   "codemirror_mode": {
    "name": "ipython",
    "version": 3
   },
   "file_extension": ".py",
   "mimetype": "text/x-python",
   "name": "python",
   "nbconvert_exporter": "python",
   "pygments_lexer": "ipython3",
   "version": "3.7.2"
  }
 },
 "nbformat": 4,
 "nbformat_minor": 2
}
