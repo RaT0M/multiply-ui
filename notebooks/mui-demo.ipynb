{
 "cells": [
  {
   "cell_type": "markdown",
   "metadata": {},
   "source": [
    "# multiply-ui\n",
    "\n",
    "A GUI mock for the [Multiply](https://github.com/multiply-org) project based on\n",
    "[Jupyter Widgets](https://ipywidgets.readthedocs.io) and [Bokeh](https://bokeh.pydata.org).\n",
    "\n",
    "**Note**, you'll have to start the server first:\n",
    "        \n",
    "```\n",
    "$ source activate multiply-ui\n",
    "$ mui-server\n",
    "```\n",
    "\n",
    "Note for developers: the variable `debug_view` contains a snapshot of the Python function traceback recorded during the last encountered exception.\n"
   ]
  },
  {
   "cell_type": "markdown",
   "metadata": {},
   "source": [
    "Import the Multiply user interface components, called *mui* from now on"
   ]
  },
  {
   "cell_type": "code",
   "execution_count": 1,
   "metadata": {},
   "outputs": [],
   "source": [
    "from multiply_ui.ui import mui"
   ]
  },
  {
   "cell_type": "markdown",
   "metadata": {},
   "source": [
    "Inspect all variables that Multiply can generate:"
   ]
  },
  {
   "cell_type": "code",
   "execution_count": 2,
   "metadata": {},
   "outputs": [
    {
     "data": {
      "text/html": [
       "<div><h4>Variables</h4><table><tr><th>Id</th><th>Name</th><th>Units</th><th>Description</th></tr><tr><td>lai</td><td>Effective Leaf Area Index</td><td>m2/m2</td><td>Effective Leaf Area Index</td></tr><tr><td>cab</td><td>Leaf Chlorophyll Content</td><td>ug/cm2</td><td>Leaf Chlorophyll Content</td></tr><tr><td>cb</td><td>Leaf Senescent material</td><td></td><td>Leaf Senescent material</td></tr><tr><td>car</td><td>Leaf Carotonoid Content</td><td>ug/cm2</td><td>Leaf Carotonoid Content</td></tr><tr><td>cw</td><td>Leaf Water Content</td><td>cm</td><td>Leaf Water Content</td></tr><tr><td>cdm</td><td>Leaf Dry Mass</td><td>g/cm2</td><td>Leaf Dry Mass</td></tr><tr><td>n</td><td>Structural Parameter</td><td></td><td>Structural Parameter</td></tr><tr><td>ala</td><td>Average Leaf Angle</td><td>degrees</td><td>Average Leaf Angle</td></tr><tr><td>h</td><td>hotspot parameter</td><td></td><td>hotspot parameter</td></tr><tr><td>bsoil</td><td>Soil Brightness parameter</td><td></td><td>Soil Brightness parameter</td></tr><tr><td>psoil</td><td>Soil Wetness parameter</td><td></td><td>Soil Wetness parameter</td></tr></table></div>"
      ],
      "text/plain": [
       "<multiply_ui.ui.params.model.Variables at 0x7f34c9ab2978>"
      ]
     },
     "execution_count": 2,
     "metadata": {},
     "output_type": "execute_result"
    }
   ],
   "source": [
    "mui.vars"
   ]
  },
  {
   "cell_type": "markdown",
   "metadata": {},
   "source": [
    "Inspect all forward models that Multiply provides:"
   ]
  },
  {
   "cell_type": "code",
   "execution_count": 3,
   "metadata": {},
   "outputs": [
    {
     "data": {
      "text/html": [
       "<div><h4>Forward Models</h4><table><tr><th>Id</th><th>Name</th><th>Description</th><th>Author(s)</th><th></th></tr><tr><td>s2_prosail</td><td>PROSAIL for Sentinel-2</td><td>Coupling of PROSPECT leaf optical properties model and SAIL canopy bidirectional reflectance model. It links the spectral variation of canopy reflectance, which is mainly related to leaf biochemical contents, with its directional variation, which is primarily related to canopy architecture and soil/vegetation contrast.</td><td></td><td><a href=\"http://teledetection.ipgp.jussieu.fr/prosail/\">More...</a></td></tr></table></div>"
      ],
      "text/plain": [
       "<multiply_ui.ui.params.model.ForwardModels at 0x7f34c9ab26a0>"
      ]
     },
     "execution_count": 3,
     "metadata": {},
     "output_type": "execute_result"
    }
   ],
   "source": [
    "mui.models"
   ]
  },
  {
   "cell_type": "markdown",
   "metadata": {},
   "source": [
    "Inspect all input types that Multiply knows about:"
   ]
  },
  {
   "cell_type": "code",
   "execution_count": 4,
   "metadata": {},
   "outputs": [
    {
     "data": {
      "text/html": [
       "<div><h4>Input Types</h4><table><tr><th>Id</th><th>Name</th><th>Time Range</th></tr><tr><td>Sentinel-1</td><td>Sentinel-1 Single Look Complex (SLC)</td><td>('04-03-2014', '')</td></tr><tr><td>Sentinel-2</td><td>Sentinel-2 MSI L1C</td><td>('06-23-2015', '')</td></tr></table></div>"
      ],
      "text/plain": [
       "<multiply_ui.ui.params.model.InputTypes at 0x7f34c9ab25f8>"
      ]
     },
     "execution_count": 4,
     "metadata": {},
     "output_type": "execute_result"
    }
   ],
   "source": [
    "mui.itypes"
   ]
  },
  {
   "cell_type": "markdown",
   "metadata": {},
   "source": [
    "The entry point function `mui.sel_params()` brings up the main GUI form that can generate processing requests or submit processing requests directly. (We currently use a mock interface rather than the server. If you don't want that, set `mock=False` or omit the argument.)\n",
    "\n",
    "In the following UI form, press *New Request*"
   ]
  },
  {
   "cell_type": "code",
   "execution_count": 5,
   "metadata": {},
   "outputs": [
    {
     "data": {
      "text/plain": [
       "Box(children=(Box(children=(HTML(value='<h2>Output Variables</h2>'),), layout=Layout(display='flex', flex_flow…"
      ]
     },
     "metadata": {},
     "output_type": "display_data"
    }
   ],
   "source": [
    "mui.sel_params(identifier='req', name='my_request', mock=False)"
   ]
  },
  {
   "cell_type": "code",
   "execution_count": 9,
   "metadata": {},
   "outputs": [
    {
     "data": {
      "text/html": [
       "<div><p>Name: my_request<br/>Time range: ('2018-06-01', '2018-06-10')<br/>Time step: 5 days<br/>Region box: (-2.199472, 38.997788, -2.019409, 39.062862)<br/>Spatial resolution in m: 100<br/>Input types: Sentinel-2<br/>Parameters: n, cab, car, cb, cw, cdm, lai, ala, bsoil, psoil</p><div><h4>Inputs</h4><table><tr><th>Type</th><th>Identifier</th></tr><tr><td>Sentinel-2</td><td>S2A_MSIL1C_20180603T110041_N0206_R094_T30SWJ_20180603T112351</td></tr><tr><td>Sentinel-2</td><td>S2B_MSIL1C_20180605T105029_N0206_R051_T30SWJ_20180605T132156</td></tr><tr><td>Sentinel-2</td><td>S2B_MSIL1C_20180608T105649_N0206_R094_T30SWJ_20180608T120643</td></tr><tr><td>Sentinel-2</td><td>S2A_MSIL1C_20180610T105031_N0206_R051_T30SWJ_20180610T125919</td></tr></table></div></div>"
      ],
      "text/plain": [
       "<multiply_ui.ui.req.model.ProcessingRequest at 0x7f34c96853c8>"
      ]
     },
     "execution_count": 9,
     "metadata": {},
     "output_type": "execute_result"
    }
   ],
   "source": [
    "req"
   ]
  },
  {
   "cell_type": "markdown",
   "metadata": {},
   "source": [
    "We can now submit the request using the processing request's `submit` method. It takes a single argument that determines the name of the variable that will receive the job proxy object once the job execution has been accepted."
   ]
  },
  {
   "cell_type": "code",
   "execution_count": 10,
   "metadata": {},
   "outputs": [
    {
     "name": "stdout",
     "output_type": "stream",
     "text": [
      "Job is being executed and a job proxy object has been assigned to variable my_job.\n"
     ]
    }
   ],
   "source": [
    "req.submit('my_job', mock=False)"
   ]
  },
  {
   "cell_type": "markdown",
   "metadata": {},
   "source": [
    "Let's look at the resulting job:"
   ]
  },
  {
   "cell_type": "code",
   "execution_count": 11,
   "metadata": {},
   "outputs": [
    {
     "data": {
      "text/html": [
       "<div><div><h4>Job my_request</h4><table><tr><td>Name:</td><td>my_request</td></tr><tr><td>Status:</td><td>running</td></tr><tr><td>Progress:</td><td>50</td></tr></table></div><div><h4>Tasks</h4><table><tr><th>Name</th><th>Progress</th><th>Status</th></tr><tr><td>data_access_get_dynamic.py /home/tonio-bc/.multiply/multiply/my_request/my_request.json 2018-06-01 2018-06-05  /home/tonio-bc/.multiply/multiply/my_request/modis/2018-06-01 /home/tonio-bc/.multiply/multiply/my_request/cams/2018-06-01 /home/tonio-bc/.multiply/multiply/my_request/s2/2018-06-01</td><td>0</td><td>running</td></tr><tr><td>data_access_get_dynamic.py /home/tonio-bc/.multiply/multiply/my_request/my_request.json 2018-06-06 2018-06-10  /home/tonio-bc/.multiply/multiply/my_request/modis/2018-06-06 /home/tonio-bc/.multiply/multiply/my_request/cams/2018-06-06 /home/tonio-bc/.multiply/multiply/my_request/s2/2018-06-06</td><td>0</td><td>running</td></tr><tr><td>data_access_get_static.py /home/tonio-bc/.multiply/multiply/my_request/my_request.json 2018-06-01 2018-06-10  /home/tonio-bc/.multiply/multiply/my_request/emus /home/tonio-bc/.multiply/multiply/my_request/dem</td><td>100</td><td>succeeded</td></tr><tr><td>data_access_get_dynamic.py /home/tonio-bc/.multiply/multiply/my_request/my_request.json 2018-06-01 2018-06-10  /home/tonio-bc/.multiply/multiply/my_request/modis/2018-06-01 /home/tonio-bc/.multiply/multiply/my_request/cams/2018-06-01 /home/tonio-bc/.multiply/multiply/my_request/s2/2018-06-01</td><td>100</td><td>succeeded</td></tr></table></div></div>"
      ],
      "text/plain": [
       "<multiply_ui.ui.job.model.Job at 0x7f34c9685be0>"
      ]
     },
     "execution_count": 11,
     "metadata": {},
     "output_type": "execute_result"
    }
   ],
   "source": [
    "my_job"
   ]
  },
  {
   "cell_type": "markdown",
   "metadata": {},
   "source": [
    "Look at only the tasks ..."
   ]
  },
  {
   "cell_type": "code",
   "execution_count": null,
   "metadata": {},
   "outputs": [],
   "source": [
    "my_job.tasks"
   ]
  },
  {
   "cell_type": "markdown",
   "metadata": {},
   "source": [
    "... or only a specific task."
   ]
  },
  {
   "cell_type": "code",
   "execution_count": null,
   "metadata": {},
   "outputs": [],
   "source": [
    "my_job.tasks.get('Collecting static Data')"
   ]
  },
  {
   "cell_type": "markdown",
   "metadata": {},
   "source": [
    "Now, let's monitor the progress of the job, using a dedicated UI form:"
   ]
  },
  {
   "cell_type": "code",
   "execution_count": null,
   "metadata": {},
   "outputs": [],
   "source": [
    "mui.obs_job(my_job, mock=True)"
   ]
  },
  {
   "cell_type": "markdown",
   "metadata": {},
   "source": [
    "We may also submit a processing request directly from the UI. Bring up the same form as in cell 6, but press *Submit Request* this time."
   ]
  },
  {
   "cell_type": "code",
   "execution_count": null,
   "metadata": {},
   "outputs": [],
   "source": [
    "mui.sel_params(identifier='my_other_job', name='my_other job\\'s name', mock=True)"
   ]
  },
  {
   "cell_type": "code",
   "execution_count": null,
   "metadata": {},
   "outputs": [],
   "source": [
    "my_other_job"
   ]
  },
  {
   "cell_type": "markdown",
   "metadata": {},
   "source": [
    "Now that we have more than one job, we want to see te progresses of both of them. To this end, bring up the Jobs Observation UI form. This form shows all jobs that are registered in the MULTIPLY platform, along with their states. In this form, you have the option to cancel a job."
   ]
  },
  {
   "cell_type": "code",
   "execution_count": null,
   "metadata": {},
   "outputs": [],
   "source": [
    "mui.obs_jobs(mock=True)"
   ]
  },
  {
   "cell_type": "markdown",
   "metadata": {},
   "source": [
    "Jobs can also be canceled via their `cancel` method."
   ]
  },
  {
   "cell_type": "code",
   "execution_count": null,
   "metadata": {},
   "outputs": [],
   "source": [
    "my_job.cancel(mock=True)"
   ]
  }
 ],
 "metadata": {
  "kernelspec": {
   "display_name": "Python 3",
   "language": "python",
   "name": "python3"
  },
  "language_info": {
   "codemirror_mode": {
    "name": "ipython",
    "version": 3
   },
   "file_extension": ".py",
   "mimetype": "text/x-python",
   "name": "python",
   "nbconvert_exporter": "python",
   "pygments_lexer": "ipython3",
   "version": "3.6.7"
  }
 },
 "nbformat": 4,
 "nbformat_minor": 2
}
